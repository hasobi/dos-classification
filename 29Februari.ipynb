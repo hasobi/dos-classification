{
  "nbformat": 4,
  "nbformat_minor": 0,
  "metadata": {
    "colab": {
      "name": "29Februari.ipynb",
      "provenance": [],
      "collapsed_sections": [],
      "toc_visible": true,
      "mount_file_id": "1PcPmsldvrM8rV38gH8slMuj6viSpHIA4",
      "authorship_tag": "ABX9TyPjchiPl27QLteST/iCjViw",
      "include_colab_link": true
    },
    "kernelspec": {
      "name": "python3",
      "display_name": "Python 3"
    },
    "accelerator": "GPU"
  },
  "cells": [
    {
      "cell_type": "markdown",
      "metadata": {
        "id": "view-in-github",
        "colab_type": "text"
      },
      "source": [
        "<a href=\"https://colab.research.google.com/github/hasobi/dos-classification/blob/master/29Februari.ipynb\" target=\"_parent\"><img src=\"https://colab.research.google.com/assets/colab-badge.svg\" alt=\"Open In Colab\"/></a>"
      ]
    },
    {
      "cell_type": "code",
      "metadata": {
        "id": "4FQ6kuk2Fxa2",
        "colab_type": "code",
        "outputId": "44c12b12-783e-46d8-f608-cf664759b7ee",
        "colab": {
          "base_uri": "https://localhost:8080/",
          "height": 71
        }
      },
      "source": [
        "import pandas as pd\n",
        "import numpy as np\n",
        "from sklearn.preprocessing import StandardScaler\n",
        "from matplotlib import*\n",
        "import matplotlib.pyplot as plt\n",
        "from matplotlib.cm import register_cmap\n",
        "from scipy import stats\n",
        "\n",
        "import seaborn as sns\n",
        "\n",
        "from sklearn.decomposition import PCA\n",
        "from sklearn.preprocessing import MinMaxScaler\n",
        "\n",
        "import statsmodels.api as sm\n",
        "%matplotlib inline\n",
        "from sklearn.model_selection import train_test_split\n",
        "from sklearn.linear_model import LinearRegression\n",
        "from sklearn.feature_selection import RFE\n",
        "from sklearn.linear_model import RidgeCV, LassoCV, Ridge, Lasso\n",
        "\n",
        "from scipy.stats import zscore\n",
        "\n",
        "from sklearn.ensemble import ExtraTreesClassifier\n",
        "import time\n",
        "\n",
        "from sklearn.model_selection import train_test_split\n",
        "from sklearn.metrics import accuracy_score\n",
        "\n",
        "from sklearn.model_selection import cross_validate\n",
        "from sklearn.metrics import accuracy_score, make_scorer\n",
        "from sklearn.model_selection import cross_validate, ShuffleSplit\n",
        "\n",
        "from sklearn.model_selection import KFold\n",
        "\n",
        "from sklearn.neural_network import MLPClassifier\n",
        "\n",
        "from sklearn.externals import joblib "
      ],
      "execution_count": 1,
      "outputs": [
        {
          "output_type": "stream",
          "text": [
            "/usr/local/lib/python3.6/dist-packages/sklearn/externals/joblib/__init__.py:15: FutureWarning: sklearn.externals.joblib is deprecated in 0.21 and will be removed in 0.23. Please import this functionality directly from joblib, which can be installed with: pip install joblib. If this warning is raised when loading pickled models, you may need to re-serialize those models with scikit-learn 0.21+.\n",
            "  warnings.warn(msg, category=FutureWarning)\n"
          ],
          "name": "stderr"
        }
      ]
    },
    {
      "cell_type": "markdown",
      "metadata": {
        "id": "cg8BYbQDF3AP",
        "colab_type": "text"
      },
      "source": [
        "# Data Biasa / Original"
      ]
    },
    {
      "cell_type": "code",
      "metadata": {
        "id": "z_NZCuxYF6hp",
        "colab_type": "code",
        "colab": {}
      },
      "source": [
        "df = pd.read_csv('/content/drive/My Drive/Tugas Akhir a.k.a SKRIPSI/Tugas Akhir - UPDATE JANUARI 2020/dataset/KDDTrain_Test.csv')"
      ],
      "execution_count": 0,
      "outputs": []
    },
    {
      "cell_type": "code",
      "metadata": {
        "id": "cXNt3D6HGJFa",
        "colab_type": "code",
        "colab": {}
      },
      "source": [
        "# dicitionary untuk merubah tipe serangan menjadi lebih umum seperti Normal, DoS, Probe, U2R, dan R2L\n",
        "\n",
        "attack_dict={ #DOS\n",
        "    'back' : 'dos',\n",
        "    'land' : 'dos',\n",
        "    'neptune' : 'dos',\n",
        "    'pod' : 'dos',\n",
        "    'smurf' : 'dos',\n",
        "    'teardrop' : 'dos',\n",
        "    'apache2' : 'dos',\n",
        "    'udpstorm' : 'dos',\n",
        "    'processtable' : 'dos',\n",
        "    'worm' : 'dos',\n",
        "    'mailbomb' : 'dos',\n",
        "    \n",
        "    #probe\n",
        "    'satan' : 'probe',\n",
        "    'ipsweep' : 'probe',\n",
        "    'nmap' : 'probe',\n",
        "    'portsweep' : 'probe',\n",
        "    'mscan' : 'probe',\n",
        "    'saint' : 'probe',\n",
        "    \n",
        "    #R2L\n",
        "    'guess_passwd' : 'r2l',\n",
        "    'ftp_write' : 'r2l',\n",
        "    'imap' : 'r2l',\n",
        "    'phf' : 'r2l',\n",
        "    'multihop' : 'r2l',\n",
        "    'warezmaster' : 'r2l',\n",
        "    'warezclient' : 'r2l',\n",
        "    'spy' : 'r2l',\n",
        "    'xlock' : 'r2l',\n",
        "    'xsnoop': 'r2l',\n",
        "    'snmpguess' : 'r2l',\n",
        "    'snmpgetattack' : 'r2l',\n",
        "    'httptunnel' : 'r2l',\n",
        "    'sendmail' : 'r2l',\n",
        "    'named' : 'r2l',\n",
        "    \n",
        "    #U2R\n",
        "    'buffer_overflow' : 'u2r',\n",
        "    'loadmodule' : 'u2r',\n",
        "    'rootkit' : 'u2r',\n",
        "    'perl' : 'u2r',\n",
        "    'sqlattack' : 'u2r',\n",
        "    'xterm' : 'u2r',\n",
        "    'ps' : 'u2r'\n",
        "}\n",
        "\n",
        "protocol_dict ={\n",
        "    \"udp\" : 0,\n",
        "    \"tcp\" : 1,\n",
        "    \"icmp\": 2\n",
        "}\n",
        "\n",
        "service_dict={\n",
        "    \"Z39_50\" : 0,\n",
        "    \"X11\" : 1,\n",
        "    \"whois\" : 2,\n",
        "    \"vmnet\" : 3,\n",
        "    \"uucp_path\" : 4,\n",
        "    \"uucp\" : 5,\n",
        "    \"urp_i\" : 6,\n",
        "    \"urh_i\" : 7,\n",
        "    \"time\" : 8,\n",
        "    \"tim_i\" : 9,\n",
        "    \"tftp_u\" : 10,\n",
        "    \"telnet\" : 11,\n",
        "    \"systat\" : 12,\n",
        "    \"supdup\" : 13,\n",
        "    \"sunrpc\" : 14,\n",
        "    \"ssh\" : 15,\n",
        "    \"sql_net\" : 16,\n",
        "    \"smtp\" : 17,\n",
        "    \"shell\" : 18,\n",
        "    \"rje\" : 19,\n",
        "    \"remote_job\" : 20,\n",
        "    \"red_i\" : 21,\n",
        "    \"private\" : 22,\n",
        "    \"printer\" : 23,\n",
        "    \"pop_3\" : 24,\n",
        "    \"pop_2\" : 25,\n",
        "    \"pm_dump\" : 26,\n",
        "    \"other\" : 27,\n",
        "    \"ntp_u\" : 28,\n",
        "    \"nntp\" : 29,\n",
        "    \"nnsp\" : 30,\n",
        "    \"netstat\" : 31,\n",
        "    \"netbios_ssn\" : 32,\n",
        "    \"netbios_ns\" : 33,\n",
        "    \"netbios_dgm\" : 34,\n",
        "    \"name\" : 35,\n",
        "    \"mtp\" : 36,\n",
        "    \"login\" : 37,\n",
        "    \"link\" : 38,\n",
        "    \"ldap\" : 39,\n",
        "    \"kshell\" : 40,\n",
        "    \"klogin\" : 41,\n",
        "    \"iso_tsap\" : 42,\n",
        "    \"IRC\" : 43,\n",
        "    \"imap4\" : 44,\n",
        "    \"http_8001\" : 45,\n",
        "    \"http_443\" : 46,\n",
        "    \"http_2784\" : 47,\n",
        "    \"http\" : 48,\n",
        "    \"hostnames\" : 49,\n",
        "    \"harvest\" : 50,\n",
        "    \"gopher\" : 51,\n",
        "    \"ftp_data\" : 52,\n",
        "    \"ftp\" : 53,\n",
        "    \"finger\" :  54,\n",
        "    \"exec\" : 55,\n",
        "    \"efs\" : 56,\n",
        "    \"ecr_i\" : 57,\n",
        "    \"eco_i\" : 58,\n",
        "    \"echo\" : 59,\n",
        "    \"domain_u\" : 60,\n",
        "    \"domain\" : 61,\n",
        "    \"discard\" : 62,\n",
        "    \"daytime\" : 63,\n",
        "    \"ctf\" : 64,\n",
        "    \"csnet_ns\" : 65,\n",
        "    \"courier\" : 66,\n",
        "    \"bgp\" : 67,\n",
        "    \"auth\" : 68,\n",
        "    \"aol\" : 69\n",
        "\n",
        "}\n",
        "\n",
        "flag_dict={\n",
        "    \"SH\" : 0,\n",
        "    \"SF\" : 1,\n",
        "    \"S3\" : 2,\n",
        "    \"S2\" : 3,\n",
        "    \"S1\" : 4,\n",
        "    \"S0\" : 5,\n",
        "    \"RSTR\" : 6,\n",
        "    \"RSTOS0\" : 7,\n",
        "    \"RSTO\" : 8,\n",
        "    \"REJ\" : 9,\n",
        "    \"OTH\" : 10\n",
        "\n",
        "}\n",
        "\n",
        "\n",
        "\n",
        "df.replace(flag_dict, inplace = True)\n",
        "df.replace(service_dict, inplace = True)\n",
        "df.replace(protocol_dict, inplace = True)\n",
        "df.replace(attack_dict, inplace = True)"
      ],
      "execution_count": 0,
      "outputs": []
    },
    {
      "cell_type": "code",
      "metadata": {
        "id": "XhLL6hccGLmK",
        "colab_type": "code",
        "outputId": "c94350fc-251c-4002-95a7-6cc5b2c984d4",
        "colab": {
          "base_uri": "https://localhost:8080/",
          "height": 34
        }
      },
      "source": [
        "data_normaldos = df.loc[df['type_attack'].isin(['normal','dos'])]\n",
        "data_normaldos.shape"
      ],
      "execution_count": 4,
      "outputs": [
        {
          "output_type": "execute_result",
          "data": {
            "text/plain": [
              "(130440, 43)"
            ]
          },
          "metadata": {
            "tags": []
          },
          "execution_count": 4
        }
      ]
    },
    {
      "cell_type": "code",
      "metadata": {
        "id": "IR2y5e_X7cY4",
        "colab_type": "code",
        "colab": {
          "base_uri": "https://localhost:8080/",
          "height": 34
        },
        "outputId": "f1185560-1708-477d-8058-d623f02dfc06"
      },
      "source": [
        "nrml = data_normaldos.loc[data_normaldos['type_attack'].isin(['normal'])]\n",
        "nrml.shape"
      ],
      "execution_count": 5,
      "outputs": [
        {
          "output_type": "execute_result",
          "data": {
            "text/plain": [
              "(77053, 43)"
            ]
          },
          "metadata": {
            "tags": []
          },
          "execution_count": 5
        }
      ]
    },
    {
      "cell_type": "code",
      "metadata": {
        "id": "g9C4hDy17eZh",
        "colab_type": "code",
        "colab": {
          "base_uri": "https://localhost:8080/",
          "height": 34
        },
        "outputId": "942d2920-3de1-4b2e-eb4b-4c14f87dd27a"
      },
      "source": [
        "doss = data_normaldos.loc[data_normaldos['type_attack'].isin(['dos'])]\n",
        "doss.shape"
      ],
      "execution_count": 6,
      "outputs": [
        {
          "output_type": "execute_result",
          "data": {
            "text/plain": [
              "(53387, 43)"
            ]
          },
          "metadata": {
            "tags": []
          },
          "execution_count": 6
        }
      ]
    },
    {
      "cell_type": "code",
      "metadata": {
        "id": "9gRpCKgSGQoB",
        "colab_type": "code",
        "colab": {}
      },
      "source": [
        "X = data_normaldos.loc[:, :'dst_host_srv_rerror_rate']\n",
        "y = data_normaldos.loc[:, 'type_attack']\n",
        "\n",
        "y = y.astype(str)\n",
        "\n",
        "temp = set(y)\n",
        "\n",
        "X_train, X_test, y_train, y_test = train_test_split(X, y, test_size=0.3, train_size =0.7, random_state=5)\n",
        "\n",
        "clf = MLPClassifier(random_state = 5)"
      ],
      "execution_count": 0,
      "outputs": []
    },
    {
      "cell_type": "code",
      "metadata": {
        "id": "qnFOuyijGUAZ",
        "colab_type": "code",
        "colab": {}
      },
      "source": [
        "dataTrain = pd.concat([X_train,y_train], axis = 1)"
      ],
      "execution_count": 0,
      "outputs": []
    },
    {
      "cell_type": "code",
      "metadata": {
        "id": "m2hpCHu9GZr4",
        "colab_type": "code",
        "colab": {}
      },
      "source": [
        "# Convert data training ke CSV\n",
        "dataTrain.to_csv('dataTrain.csv',index=False)"
      ],
      "execution_count": 0,
      "outputs": []
    },
    {
      "cell_type": "code",
      "metadata": {
        "id": "e2cLscPLGdRy",
        "colab_type": "code",
        "outputId": "4e2feed8-75ce-4afd-940c-b00f86fad85e",
        "colab": {
          "base_uri": "https://localhost:8080/",
          "height": 71
        }
      },
      "source": [
        "start = time.time()\n",
        "\n",
        "clf.fit(X_train, y_train)\n",
        "\n",
        "stop = time.time()"
      ],
      "execution_count": 10,
      "outputs": [
        {
          "output_type": "stream",
          "text": [
            "/usr/local/lib/python3.6/dist-packages/sklearn/neural_network/_multilayer_perceptron.py:571: ConvergenceWarning: Stochastic Optimizer: Maximum iterations (200) reached and the optimization hasn't converged yet.\n",
            "  % self.max_iter, ConvergenceWarning)\n"
          ],
          "name": "stderr"
        }
      ]
    },
    {
      "cell_type": "code",
      "metadata": {
        "id": "t_gyG2OjGhlu",
        "colab_type": "code",
        "outputId": "04565cf5-2133-4371-9b9e-aee92b82bc59",
        "colab": {
          "base_uri": "https://localhost:8080/",
          "height": 34
        }
      },
      "source": [
        "print(f\"training time : {stop - start}s\")"
      ],
      "execution_count": 11,
      "outputs": [
        {
          "output_type": "stream",
          "text": [
            "training time : 133.5416612625122s\n"
          ],
          "name": "stdout"
        }
      ]
    },
    {
      "cell_type": "code",
      "metadata": {
        "id": "2VkmqBCAGjxT",
        "colab_type": "code",
        "outputId": "e25d8986-174e-4b4c-c3a6-f7ba412cae61",
        "colab": {
          "base_uri": "https://localhost:8080/",
          "height": 34
        }
      },
      "source": [
        "joblib.dump(clf, 'dataBiasa.pkl') "
      ],
      "execution_count": 12,
      "outputs": [
        {
          "output_type": "execute_result",
          "data": {
            "text/plain": [
              "['dataBiasa.pkl']"
            ]
          },
          "metadata": {
            "tags": []
          },
          "execution_count": 12
        }
      ]
    },
    {
      "cell_type": "code",
      "metadata": {
        "id": "vjEn5SI8Gn5a",
        "colab_type": "code",
        "colab": {}
      },
      "source": [
        "start = time.time()\n",
        "\n",
        "pred = clf.predict(X_test)\n",
        "\n",
        "stop= time.time()"
      ],
      "execution_count": 0,
      "outputs": []
    },
    {
      "cell_type": "code",
      "metadata": {
        "id": "-TofT5imZW1p",
        "colab_type": "code",
        "outputId": "ac72346b-62c6-45e5-db31-0ed465c964fb",
        "colab": {
          "base_uri": "https://localhost:8080/",
          "height": 34
        }
      },
      "source": [
        "print(f\"predict time : {stop - start}s\")"
      ],
      "execution_count": 14,
      "outputs": [
        {
          "output_type": "stream",
          "text": [
            "predict time : 0.1274552345275879s\n"
          ],
          "name": "stdout"
        }
      ]
    },
    {
      "cell_type": "code",
      "metadata": {
        "id": "3UCpgzXXZg8S",
        "colab_type": "code",
        "outputId": "84b83080-f901-4d4a-818c-1470bf4095fd",
        "colab": {
          "base_uri": "https://localhost:8080/",
          "height": 34
        }
      },
      "source": [
        "accuracy_score(y_test,pred)"
      ],
      "execution_count": 15,
      "outputs": [
        {
          "output_type": "execute_result",
          "data": {
            "text/plain": [
              "0.9916181130532556"
            ]
          },
          "metadata": {
            "tags": []
          },
          "execution_count": 15
        }
      ]
    },
    {
      "cell_type": "code",
      "metadata": {
        "id": "Kt-ZcRwnGqIC",
        "colab_type": "code",
        "colab": {}
      },
      "source": [
        "clf = MLPClassifier(random_state = 5)\n",
        "scoring = {'accuracy': make_scorer(accuracy_score)}\n",
        "cv = ShuffleSplit(n_splits=3, test_size=0.3,train_size = 0.7, random_state=5)"
      ],
      "execution_count": 0,
      "outputs": []
    },
    {
      "cell_type": "code",
      "metadata": {
        "id": "PbLSNRZrGsT4",
        "colab_type": "code",
        "outputId": "638db36a-ffb3-4792-e98f-319f6e5704ea",
        "colab": {
          "base_uri": "https://localhost:8080/",
          "height": 139
        }
      },
      "source": [
        "start = time.time()\n",
        "\n",
        "scores = cross_validate(clf, X, y, cv=cv, scoring=scoring, return_train_score=True)\n",
        "\n",
        "stop = time.time()"
      ],
      "execution_count": 17,
      "outputs": [
        {
          "output_type": "stream",
          "text": [
            "/usr/local/lib/python3.6/dist-packages/sklearn/neural_network/_multilayer_perceptron.py:571: ConvergenceWarning: Stochastic Optimizer: Maximum iterations (200) reached and the optimization hasn't converged yet.\n",
            "  % self.max_iter, ConvergenceWarning)\n",
            "/usr/local/lib/python3.6/dist-packages/sklearn/neural_network/_multilayer_perceptron.py:571: ConvergenceWarning: Stochastic Optimizer: Maximum iterations (200) reached and the optimization hasn't converged yet.\n",
            "  % self.max_iter, ConvergenceWarning)\n",
            "/usr/local/lib/python3.6/dist-packages/sklearn/neural_network/_multilayer_perceptron.py:571: ConvergenceWarning: Stochastic Optimizer: Maximum iterations (200) reached and the optimization hasn't converged yet.\n",
            "  % self.max_iter, ConvergenceWarning)\n"
          ],
          "name": "stderr"
        }
      ]
    },
    {
      "cell_type": "code",
      "metadata": {
        "id": "Isbo5RZ4Gv-m",
        "colab_type": "code",
        "outputId": "b5505098-ab3a-4093-bfae-a63a500c94a8",
        "colab": {
          "base_uri": "https://localhost:8080/",
          "height": 34
        }
      },
      "source": [
        "print(f\"cross validation time : {stop - start}s\")"
      ],
      "execution_count": 18,
      "outputs": [
        {
          "output_type": "stream",
          "text": [
            "cross validation time : 404.4206235408783s\n"
          ],
          "name": "stdout"
        }
      ]
    },
    {
      "cell_type": "code",
      "metadata": {
        "id": "IPy7YwM4Gw-o",
        "colab_type": "code",
        "outputId": "fd0fa8f3-dfa4-4121-b510-e0b9f8ab02e2",
        "colab": {
          "base_uri": "https://localhost:8080/",
          "height": 54
        }
      },
      "source": [
        "print(scores)"
      ],
      "execution_count": 19,
      "outputs": [
        {
          "output_type": "stream",
          "text": [
            "{'fit_time': array([134.68708754, 134.07594347, 133.22607613]), 'score_time': array([0.29570413, 0.23127174, 0.24705505]), 'test_accuracy': array([0.99161811, 0.99882449, 0.99805786]), 'train_accuracy': array([0.99150129, 0.99853244, 0.99832435])}\n"
          ],
          "name": "stdout"
        }
      ]
    },
    {
      "cell_type": "markdown",
      "metadata": {
        "id": "3AiO94q9G0AX",
        "colab_type": "text"
      },
      "source": [
        "# Data Biasa - PCA"
      ]
    },
    {
      "cell_type": "code",
      "metadata": {
        "id": "W80J4jT2G3e-",
        "colab_type": "code",
        "colab": {}
      },
      "source": [
        "df_pca = pd.read_csv('/content/drive/My Drive/Tugas Akhir a.k.a SKRIPSI/Tugas Akhir - UPDATE JANUARI 2020/dataset/KDDTrain_Test.csv')"
      ],
      "execution_count": 0,
      "outputs": []
    },
    {
      "cell_type": "code",
      "metadata": {
        "id": "yW8a8AjiHBnG",
        "colab_type": "code",
        "colab": {}
      },
      "source": [
        "df_pca = pd.read_csv('/content/drive/My Drive/Tugas Akhir a.k.a SKRIPSI/Tugas Akhir - UPDATE JANUARI 2020/dataset/KDDTrain_Test.csv')\n",
        "\n",
        "# dicitionary untuk merubah tipe serangan menjadi lebih umum seperti Normal, DoS, Probe, U2R, dan R2L\n",
        "\n",
        "attack_dict={ #DOS\n",
        "    'back' : 'dos',\n",
        "    'land' : 'dos',\n",
        "    'neptune' : 'dos',\n",
        "    'pod' : 'dos',\n",
        "    'smurf' : 'dos',\n",
        "    'teardrop' : 'dos',\n",
        "    'apache2' : 'dos',\n",
        "    'udpstorm' : 'dos',\n",
        "    'processtable' : 'dos',\n",
        "    'worm' : 'dos',\n",
        "    'mailbomb' : 'dos',\n",
        "    \n",
        "    #probe\n",
        "    'satan' : 'probe',\n",
        "    'ipsweep' : 'probe',\n",
        "    'nmap' : 'probe',\n",
        "    'portsweep' : 'probe',\n",
        "    'mscan' : 'probe',\n",
        "    'saint' : 'probe',\n",
        "    \n",
        "    #R2L\n",
        "    'guess_passwd' : 'r2l',\n",
        "    'ftp_write' : 'r2l',\n",
        "    'imap' : 'r2l',\n",
        "    'phf' : 'r2l',\n",
        "    'multihop' : 'r2l',\n",
        "    'warezmaster' : 'r2l',\n",
        "    'warezclient' : 'r2l',\n",
        "    'spy' : 'r2l',\n",
        "    'xlock' : 'r2l',\n",
        "    'xsnoop': 'r2l',\n",
        "    'snmpguess' : 'r2l',\n",
        "    'snmpgetattack' : 'r2l',\n",
        "    'httptunnel' : 'r2l',\n",
        "    'sendmail' : 'r2l',\n",
        "    'named' : 'r2l',\n",
        "    \n",
        "    #U2R\n",
        "    'buffer_overflow' : 'u2r',\n",
        "    'loadmodule' : 'u2r',\n",
        "    'rootkit' : 'u2r',\n",
        "    'perl' : 'u2r',\n",
        "    'sqlattack' : 'u2r',\n",
        "    'xterm' : 'u2r',\n",
        "    'ps' : 'u2r'\n",
        "}\n",
        "\n",
        "protocol_dict ={\n",
        "    \"udp\" : 0,\n",
        "    \"tcp\" : 1,\n",
        "    \"icmp\": 2\n",
        "}\n",
        "\n",
        "service_dict={\n",
        "    \"Z39_50\" : 0,\n",
        "    \"X11\" : 1,\n",
        "    \"whois\" : 2,\n",
        "    \"vmnet\" : 3,\n",
        "    \"uucp_path\" : 4,\n",
        "    \"uucp\" : 5,\n",
        "    \"urp_i\" : 6,\n",
        "    \"urh_i\" : 7,\n",
        "    \"time\" : 8,\n",
        "    \"tim_i\" : 9,\n",
        "    \"tftp_u\" : 10,\n",
        "    \"telnet\" : 11,\n",
        "    \"systat\" : 12,\n",
        "    \"supdup\" : 13,\n",
        "    \"sunrpc\" : 14,\n",
        "    \"ssh\" : 15,\n",
        "    \"sql_net\" : 16,\n",
        "    \"smtp\" : 17,\n",
        "    \"shell\" : 18,\n",
        "    \"rje\" : 19,\n",
        "    \"remote_job\" : 20,\n",
        "    \"red_i\" : 21,\n",
        "    \"private\" : 22,\n",
        "    \"printer\" : 23,\n",
        "    \"pop_3\" : 24,\n",
        "    \"pop_2\" : 25,\n",
        "    \"pm_dump\" : 26,\n",
        "    \"other\" : 27,\n",
        "    \"ntp_u\" : 28,\n",
        "    \"nntp\" : 29,\n",
        "    \"nnsp\" : 30,\n",
        "    \"netstat\" : 31,\n",
        "    \"netbios_ssn\" : 32,\n",
        "    \"netbios_ns\" : 33,\n",
        "    \"netbios_dgm\" : 34,\n",
        "    \"name\" : 35,\n",
        "    \"mtp\" : 36,\n",
        "    \"login\" : 37,\n",
        "    \"link\" : 38,\n",
        "    \"ldap\" : 39,\n",
        "    \"kshell\" : 40,\n",
        "    \"klogin\" : 41,\n",
        "    \"iso_tsap\" : 42,\n",
        "    \"IRC\" : 43,\n",
        "    \"imap4\" : 44,\n",
        "    \"http_8001\" : 45,\n",
        "    \"http_443\" : 46,\n",
        "    \"http_2784\" : 47,\n",
        "    \"http\" : 48,\n",
        "    \"hostnames\" : 49,\n",
        "    \"harvest\" : 50,\n",
        "    \"gopher\" : 51,\n",
        "    \"ftp_data\" : 52,\n",
        "    \"ftp\" : 53,\n",
        "    \"finger\" :  54,\n",
        "    \"exec\" : 55,\n",
        "    \"efs\" : 56,\n",
        "    \"ecr_i\" : 57,\n",
        "    \"eco_i\" : 58,\n",
        "    \"echo\" : 59,\n",
        "    \"domain_u\" : 60,\n",
        "    \"domain\" : 61,\n",
        "    \"discard\" : 62,\n",
        "    \"daytime\" : 63,\n",
        "    \"ctf\" : 64,\n",
        "    \"csnet_ns\" : 65,\n",
        "    \"courier\" : 66,\n",
        "    \"bgp\" : 67,\n",
        "    \"auth\" : 68,\n",
        "    \"aol\" : 69\n",
        "\n",
        "}\n",
        "\n",
        "flag_dict={\n",
        "    \"SH\" : 0,\n",
        "    \"SF\" : 1,\n",
        "    \"S3\" : 2,\n",
        "    \"S2\" : 3,\n",
        "    \"S1\" : 4,\n",
        "    \"S0\" : 5,\n",
        "    \"RSTR\" : 6,\n",
        "    \"RSTOS0\" : 7,\n",
        "    \"RSTO\" : 8,\n",
        "    \"REJ\" : 9,\n",
        "    \"OTH\" : 10\n",
        "\n",
        "}\n",
        "\n",
        "\n",
        "\n",
        "df_pca.replace(flag_dict, inplace = True)\n",
        "df_pca.replace(service_dict, inplace = True)\n",
        "df_pca.replace(protocol_dict, inplace = True)\n",
        "df_pca.replace(attack_dict, inplace = True)"
      ],
      "execution_count": 0,
      "outputs": []
    },
    {
      "cell_type": "code",
      "metadata": {
        "id": "sbya9r9gHSpb",
        "colab_type": "code",
        "colab": {}
      },
      "source": [
        "# ambil normal & dos aja\n",
        "data_pca = df_pca.drop(columns=['num_packet','type_attack'])"
      ],
      "execution_count": 0,
      "outputs": []
    },
    {
      "cell_type": "code",
      "metadata": {
        "id": "2lf6VdEcHYnK",
        "colab_type": "code",
        "outputId": "992230c7-e3a1-40f8-d5ad-c1b10e97a905",
        "colab": {
          "base_uri": "https://localhost:8080/",
          "height": 621
        }
      },
      "source": [
        "## MULAI PCA\n",
        "\n",
        "scaler = MinMaxScaler(feature_range=[0, 1])\n",
        "data_rescaled = scaler.fit_transform(data_pca.iloc[:,:])\n",
        "\n",
        "#Fitting the PCA algorithm with our Data\n",
        "pca = PCA().fit(data_rescaled)\n",
        "#Plotting the Cumulative Summation of the Explained Variance\n",
        "# plt.figure()\n",
        "plt.figure(figsize=(20,10)) \n",
        "\n",
        "plt.plot(np.cumsum(pca.explained_variance_ratio_))\n",
        "plt.xlabel('Number of Components')\n",
        "plt.ylabel('Variance (%)') #for each component\n",
        "plt.title('Pulsar Dataset Explained Variance')\n",
        "plt.show()"
      ],
      "execution_count": 23,
      "outputs": [
        {
          "output_type": "display_data",
          "data": {
            "image/png": "[encoded data removed]",
            "text/plain": [
              "<Figure size 1440x720 with 1 Axes>"
            ]
          },
          "metadata": {
            "tags": []
          }
        }
      ]
    },
    {
      "cell_type": "code",
      "metadata": {
        "id": "uxDTILxgHeCw",
        "colab_type": "code",
        "outputId": "d84eb910-785f-49b7-e091-3af9e90166d9",
        "colab": {
          "base_uri": "https://localhost:8080/",
          "height": 626
        }
      },
      "source": [
        "pca = PCA(n_components=41)\n",
        "dataset = pca.fit_transform(data_rescaled)\n",
        "\n",
        "df_pca2=pd.DataFrame(data=dataset[0:,0:], index=[i for i in range(dataset.shape[0])], columns=['column '+str(i) for i in range(dataset.shape[1])])\n",
        "df_pca2"
      ],
      "execution_count": 24,
      "outputs": [
        {
          "output_type": "execute_result",
          "data": {
            "text/html": [
              "<div>\n",
              "<style scoped>\n",
              "    .dataframe tbody tr th:only-of-type {\n",
              "        vertical-align: middle;\n",
              "    }\n",
              "\n",
              "    .dataframe tbody tr th {\n",
              "        vertical-align: top;\n",
              "    }\n",
              "\n",
              "    .dataframe thead th {\n",
              "        text-align: right;\n",
              "    }\n",
              "</style>\n",
              "<table border=\"1\" class=\"dataframe\">\n",
              "  <thead>\n",
              "    <tr style=\"text-align: right;\">\n",
              "      <th></th>\n",
              "      <th>column 0</th>\n",
              "      <th>column 1</th>\n",
              "      <th>column 2</th>\n",
              "      <th>column 3</th>\n",
              "      <th>column 4</th>\n",
              "      <th>column 5</th>\n",
              "      <th>column 6</th>\n",
              "      <th>column 7</th>\n",
              "      <th>column 8</th>\n",
              "      <th>column 9</th>\n",
              "      <th>column 10</th>\n",
              "      <th>column 11</th>\n",
              "      <th>column 12</th>\n",
              "      <th>column 13</th>\n",
              "      <th>column 14</th>\n",
              "      <th>column 15</th>\n",
              "      <th>column 16</th>\n",
              "      <th>column 17</th>\n",
              "      <th>column 18</th>\n",
              "      <th>column 19</th>\n",
              "      <th>column 20</th>\n",
              "      <th>column 21</th>\n",
              "      <th>column 22</th>\n",
              "      <th>column 23</th>\n",
              "      <th>column 24</th>\n",
              "      <th>column 25</th>\n",
              "      <th>column 26</th>\n",
              "      <th>column 27</th>\n",
              "      <th>column 28</th>\n",
              "      <th>column 29</th>\n",
              "      <th>column 30</th>\n",
              "      <th>column 31</th>\n",
              "      <th>column 32</th>\n",
              "      <th>column 33</th>\n",
              "      <th>column 34</th>\n",
              "      <th>column 35</th>\n",
              "      <th>column 36</th>\n",
              "      <th>column 37</th>\n",
              "      <th>column 38</th>\n",
              "      <th>column 39</th>\n",
              "      <th>column 40</th>\n",
              "    </tr>\n",
              "  </thead>\n",
              "  <tbody>\n",
              "    <tr>\n",
              "      <th>0</th>\n",
              "      <td>-0.210454</td>\n",
              "      <td>0.109517</td>\n",
              "      <td>0.558613</td>\n",
              "      <td>-0.210847</td>\n",
              "      <td>0.410863</td>\n",
              "      <td>-0.182544</td>\n",
              "      <td>-0.269973</td>\n",
              "      <td>-0.061005</td>\n",
              "      <td>-0.463782</td>\n",
              "      <td>-0.041845</td>\n",
              "      <td>-0.016257</td>\n",
              "      <td>0.219600</td>\n",
              "      <td>0.057659</td>\n",
              "      <td>-0.134752</td>\n",
              "      <td>-0.017798</td>\n",
              "      <td>0.076811</td>\n",
              "      <td>-0.002909</td>\n",
              "      <td>-0.089396</td>\n",
              "      <td>-0.032376</td>\n",
              "      <td>0.006620</td>\n",
              "      <td>0.081705</td>\n",
              "      <td>-0.051989</td>\n",
              "      <td>-0.001722</td>\n",
              "      <td>-0.003106</td>\n",
              "      <td>-0.015040</td>\n",
              "      <td>-0.018264</td>\n",
              "      <td>-0.001643</td>\n",
              "      <td>-0.000989</td>\n",
              "      <td>-0.000149</td>\n",
              "      <td>-0.006964</td>\n",
              "      <td>-0.004533</td>\n",
              "      <td>-0.000210</td>\n",
              "      <td>-0.000157</td>\n",
              "      <td>-5.451047e-07</td>\n",
              "      <td>-0.000445</td>\n",
              "      <td>0.000052</td>\n",
              "      <td>-0.000139</td>\n",
              "      <td>-4.760363e-05</td>\n",
              "      <td>0.000003</td>\n",
              "      <td>-0.000011</td>\n",
              "      <td>-9.558075e-18</td>\n",
              "    </tr>\n",
              "    <tr>\n",
              "      <th>1</th>\n",
              "      <td>0.295173</td>\n",
              "      <td>0.354357</td>\n",
              "      <td>0.747835</td>\n",
              "      <td>-0.551986</td>\n",
              "      <td>0.892921</td>\n",
              "      <td>-0.064741</td>\n",
              "      <td>0.035088</td>\n",
              "      <td>0.275928</td>\n",
              "      <td>0.288845</td>\n",
              "      <td>0.207347</td>\n",
              "      <td>-0.411123</td>\n",
              "      <td>-0.394146</td>\n",
              "      <td>0.136762</td>\n",
              "      <td>-0.166930</td>\n",
              "      <td>0.005222</td>\n",
              "      <td>-0.232558</td>\n",
              "      <td>0.092964</td>\n",
              "      <td>-0.091796</td>\n",
              "      <td>-0.014189</td>\n",
              "      <td>0.026604</td>\n",
              "      <td>-0.183462</td>\n",
              "      <td>0.084000</td>\n",
              "      <td>0.043852</td>\n",
              "      <td>-0.001883</td>\n",
              "      <td>0.038448</td>\n",
              "      <td>-0.001640</td>\n",
              "      <td>0.005272</td>\n",
              "      <td>0.002423</td>\n",
              "      <td>0.003426</td>\n",
              "      <td>0.001434</td>\n",
              "      <td>0.002474</td>\n",
              "      <td>-0.000742</td>\n",
              "      <td>-0.000084</td>\n",
              "      <td>-4.248704e-04</td>\n",
              "      <td>0.000462</td>\n",
              "      <td>0.000704</td>\n",
              "      <td>0.000158</td>\n",
              "      <td>-4.170726e-05</td>\n",
              "      <td>0.000036</td>\n",
              "      <td>-0.000007</td>\n",
              "      <td>1.162525e-17</td>\n",
              "    </tr>\n",
              "    <tr>\n",
              "      <th>2</th>\n",
              "      <td>1.730388</td>\n",
              "      <td>-0.587896</td>\n",
              "      <td>-0.089366</td>\n",
              "      <td>0.074590</td>\n",
              "      <td>-0.067424</td>\n",
              "      <td>0.029835</td>\n",
              "      <td>-0.051773</td>\n",
              "      <td>-0.014232</td>\n",
              "      <td>0.111595</td>\n",
              "      <td>-0.045301</td>\n",
              "      <td>-0.100270</td>\n",
              "      <td>0.022367</td>\n",
              "      <td>0.014328</td>\n",
              "      <td>0.002643</td>\n",
              "      <td>0.023151</td>\n",
              "      <td>-0.013676</td>\n",
              "      <td>-0.007915</td>\n",
              "      <td>-0.002653</td>\n",
              "      <td>0.009050</td>\n",
              "      <td>0.000282</td>\n",
              "      <td>-0.049915</td>\n",
              "      <td>0.021489</td>\n",
              "      <td>0.005059</td>\n",
              "      <td>0.000722</td>\n",
              "      <td>0.001802</td>\n",
              "      <td>0.003486</td>\n",
              "      <td>0.001287</td>\n",
              "      <td>-0.000146</td>\n",
              "      <td>-0.000418</td>\n",
              "      <td>-0.000488</td>\n",
              "      <td>-0.000203</td>\n",
              "      <td>0.000069</td>\n",
              "      <td>-0.000072</td>\n",
              "      <td>5.659334e-06</td>\n",
              "      <td>0.000053</td>\n",
              "      <td>-0.000078</td>\n",
              "      <td>0.000012</td>\n",
              "      <td>-3.587490e-07</td>\n",
              "      <td>0.000009</td>\n",
              "      <td>0.000003</td>\n",
              "      <td>4.430353e-17</td>\n",
              "    </tr>\n",
              "    <tr>\n",
              "      <th>3</th>\n",
              "      <td>-1.010287</td>\n",
              "      <td>-0.469081</td>\n",
              "      <td>-0.215443</td>\n",
              "      <td>0.414567</td>\n",
              "      <td>-0.202224</td>\n",
              "      <td>-0.275664</td>\n",
              "      <td>0.018488</td>\n",
              "      <td>0.132578</td>\n",
              "      <td>0.049882</td>\n",
              "      <td>0.011953</td>\n",
              "      <td>0.045059</td>\n",
              "      <td>0.015433</td>\n",
              "      <td>0.037350</td>\n",
              "      <td>-0.063787</td>\n",
              "      <td>0.047175</td>\n",
              "      <td>0.056267</td>\n",
              "      <td>0.133808</td>\n",
              "      <td>-0.015194</td>\n",
              "      <td>-0.013705</td>\n",
              "      <td>0.011873</td>\n",
              "      <td>-0.003863</td>\n",
              "      <td>-0.003856</td>\n",
              "      <td>-0.072162</td>\n",
              "      <td>-0.012212</td>\n",
              "      <td>0.017498</td>\n",
              "      <td>-0.007879</td>\n",
              "      <td>0.012113</td>\n",
              "      <td>0.000448</td>\n",
              "      <td>-0.000886</td>\n",
              "      <td>0.000483</td>\n",
              "      <td>-0.000328</td>\n",
              "      <td>0.000054</td>\n",
              "      <td>0.000162</td>\n",
              "      <td>-4.609370e-06</td>\n",
              "      <td>0.000486</td>\n",
              "      <td>0.000420</td>\n",
              "      <td>-0.000098</td>\n",
              "      <td>-6.105354e-05</td>\n",
              "      <td>-0.000010</td>\n",
              "      <td>-0.000002</td>\n",
              "      <td>-5.469062e-17</td>\n",
              "    </tr>\n",
              "    <tr>\n",
              "      <th>4</th>\n",
              "      <td>-0.999356</td>\n",
              "      <td>-0.337932</td>\n",
              "      <td>-0.496051</td>\n",
              "      <td>-0.226706</td>\n",
              "      <td>0.023366</td>\n",
              "      <td>0.139347</td>\n",
              "      <td>0.131672</td>\n",
              "      <td>-0.138722</td>\n",
              "      <td>0.036212</td>\n",
              "      <td>0.066413</td>\n",
              "      <td>-0.031553</td>\n",
              "      <td>0.017770</td>\n",
              "      <td>0.016677</td>\n",
              "      <td>0.040106</td>\n",
              "      <td>-0.049254</td>\n",
              "      <td>-0.015651</td>\n",
              "      <td>0.009156</td>\n",
              "      <td>0.005715</td>\n",
              "      <td>-0.002939</td>\n",
              "      <td>-0.002169</td>\n",
              "      <td>-0.002592</td>\n",
              "      <td>0.004965</td>\n",
              "      <td>0.010204</td>\n",
              "      <td>-0.001057</td>\n",
              "      <td>0.001141</td>\n",
              "      <td>0.003586</td>\n",
              "      <td>-0.002123</td>\n",
              "      <td>0.000204</td>\n",
              "      <td>0.000300</td>\n",
              "      <td>0.000462</td>\n",
              "      <td>-0.000583</td>\n",
              "      <td>-0.000145</td>\n",
              "      <td>-0.000953</td>\n",
              "      <td>2.989296e-05</td>\n",
              "      <td>-0.000055</td>\n",
              "      <td>-0.000002</td>\n",
              "      <td>0.000041</td>\n",
              "      <td>8.627449e-05</td>\n",
              "      <td>-0.000002</td>\n",
              "      <td>0.000007</td>\n",
              "      <td>-5.792824e-19</td>\n",
              "    </tr>\n",
              "    <tr>\n",
              "      <th>...</th>\n",
              "      <td>...</td>\n",
              "      <td>...</td>\n",
              "      <td>...</td>\n",
              "      <td>...</td>\n",
              "      <td>...</td>\n",
              "      <td>...</td>\n",
              "      <td>...</td>\n",
              "      <td>...</td>\n",
              "      <td>...</td>\n",
              "      <td>...</td>\n",
              "      <td>...</td>\n",
              "      <td>...</td>\n",
              "      <td>...</td>\n",
              "      <td>...</td>\n",
              "      <td>...</td>\n",
              "      <td>...</td>\n",
              "      <td>...</td>\n",
              "      <td>...</td>\n",
              "      <td>...</td>\n",
              "      <td>...</td>\n",
              "      <td>...</td>\n",
              "      <td>...</td>\n",
              "      <td>...</td>\n",
              "      <td>...</td>\n",
              "      <td>...</td>\n",
              "      <td>...</td>\n",
              "      <td>...</td>\n",
              "      <td>...</td>\n",
              "      <td>...</td>\n",
              "      <td>...</td>\n",
              "      <td>...</td>\n",
              "      <td>...</td>\n",
              "      <td>...</td>\n",
              "      <td>...</td>\n",
              "      <td>...</td>\n",
              "      <td>...</td>\n",
              "      <td>...</td>\n",
              "      <td>...</td>\n",
              "      <td>...</td>\n",
              "      <td>...</td>\n",
              "      <td>...</td>\n",
              "    </tr>\n",
              "    <tr>\n",
              "      <th>148511</th>\n",
              "      <td>-0.828475</td>\n",
              "      <td>-0.226192</td>\n",
              "      <td>-0.170238</td>\n",
              "      <td>0.320094</td>\n",
              "      <td>0.390840</td>\n",
              "      <td>-0.140440</td>\n",
              "      <td>-0.092445</td>\n",
              "      <td>0.016003</td>\n",
              "      <td>0.132751</td>\n",
              "      <td>-0.274037</td>\n",
              "      <td>0.017808</td>\n",
              "      <td>0.076274</td>\n",
              "      <td>-0.019840</td>\n",
              "      <td>0.029050</td>\n",
              "      <td>-0.046854</td>\n",
              "      <td>-0.007740</td>\n",
              "      <td>0.002475</td>\n",
              "      <td>-0.028750</td>\n",
              "      <td>-0.003083</td>\n",
              "      <td>0.004940</td>\n",
              "      <td>-0.004040</td>\n",
              "      <td>-0.006299</td>\n",
              "      <td>0.005721</td>\n",
              "      <td>-0.010642</td>\n",
              "      <td>-0.000314</td>\n",
              "      <td>0.000212</td>\n",
              "      <td>-0.000513</td>\n",
              "      <td>-0.000696</td>\n",
              "      <td>-0.000264</td>\n",
              "      <td>-0.002796</td>\n",
              "      <td>-0.003126</td>\n",
              "      <td>-0.000364</td>\n",
              "      <td>-0.000913</td>\n",
              "      <td>-2.476098e-04</td>\n",
              "      <td>-0.000432</td>\n",
              "      <td>-0.000363</td>\n",
              "      <td>-0.000053</td>\n",
              "      <td>-7.250437e-05</td>\n",
              "      <td>0.000015</td>\n",
              "      <td>0.000005</td>\n",
              "      <td>-9.667916e-20</td>\n",
              "    </tr>\n",
              "    <tr>\n",
              "      <th>148512</th>\n",
              "      <td>-1.049307</td>\n",
              "      <td>-0.351544</td>\n",
              "      <td>-0.396084</td>\n",
              "      <td>-0.037051</td>\n",
              "      <td>-0.019923</td>\n",
              "      <td>0.134743</td>\n",
              "      <td>0.058345</td>\n",
              "      <td>-0.062198</td>\n",
              "      <td>0.027576</td>\n",
              "      <td>0.074528</td>\n",
              "      <td>-0.027545</td>\n",
              "      <td>0.004143</td>\n",
              "      <td>0.027366</td>\n",
              "      <td>-0.000850</td>\n",
              "      <td>-0.024062</td>\n",
              "      <td>-0.017013</td>\n",
              "      <td>-0.002245</td>\n",
              "      <td>-0.000539</td>\n",
              "      <td>-0.006954</td>\n",
              "      <td>-0.009786</td>\n",
              "      <td>-0.005166</td>\n",
              "      <td>0.004367</td>\n",
              "      <td>0.005394</td>\n",
              "      <td>-0.001198</td>\n",
              "      <td>0.003874</td>\n",
              "      <td>0.004011</td>\n",
              "      <td>-0.000313</td>\n",
              "      <td>0.000200</td>\n",
              "      <td>0.000334</td>\n",
              "      <td>0.000344</td>\n",
              "      <td>-0.000387</td>\n",
              "      <td>-0.000128</td>\n",
              "      <td>-0.000864</td>\n",
              "      <td>2.449742e-05</td>\n",
              "      <td>0.000001</td>\n",
              "      <td>-0.000018</td>\n",
              "      <td>0.000019</td>\n",
              "      <td>6.562754e-05</td>\n",
              "      <td>0.000001</td>\n",
              "      <td>0.000005</td>\n",
              "      <td>-5.535031e-19</td>\n",
              "    </tr>\n",
              "    <tr>\n",
              "      <th>148513</th>\n",
              "      <td>-1.005687</td>\n",
              "      <td>-0.286393</td>\n",
              "      <td>-0.491145</td>\n",
              "      <td>-0.172798</td>\n",
              "      <td>0.005716</td>\n",
              "      <td>0.231617</td>\n",
              "      <td>0.079806</td>\n",
              "      <td>-0.155350</td>\n",
              "      <td>0.040089</td>\n",
              "      <td>0.106986</td>\n",
              "      <td>-0.038570</td>\n",
              "      <td>-0.008078</td>\n",
              "      <td>0.062296</td>\n",
              "      <td>0.051919</td>\n",
              "      <td>-0.035847</td>\n",
              "      <td>0.015813</td>\n",
              "      <td>0.006642</td>\n",
              "      <td>-0.001734</td>\n",
              "      <td>0.022999</td>\n",
              "      <td>-0.044650</td>\n",
              "      <td>0.012901</td>\n",
              "      <td>0.016726</td>\n",
              "      <td>0.014883</td>\n",
              "      <td>-0.001526</td>\n",
              "      <td>0.003433</td>\n",
              "      <td>0.000489</td>\n",
              "      <td>-0.003242</td>\n",
              "      <td>-0.000932</td>\n",
              "      <td>-0.002881</td>\n",
              "      <td>-0.010429</td>\n",
              "      <td>0.015689</td>\n",
              "      <td>-0.000320</td>\n",
              "      <td>-0.001084</td>\n",
              "      <td>-1.077986e-04</td>\n",
              "      <td>-0.000460</td>\n",
              "      <td>-0.001058</td>\n",
              "      <td>0.000144</td>\n",
              "      <td>1.671449e-04</td>\n",
              "      <td>-0.000012</td>\n",
              "      <td>-0.000085</td>\n",
              "      <td>-5.755410e-19</td>\n",
              "    </tr>\n",
              "    <tr>\n",
              "      <th>148514</th>\n",
              "      <td>-0.721211</td>\n",
              "      <td>-0.169021</td>\n",
              "      <td>0.034085</td>\n",
              "      <td>-0.753098</td>\n",
              "      <td>-0.332777</td>\n",
              "      <td>0.191829</td>\n",
              "      <td>-0.507982</td>\n",
              "      <td>0.133428</td>\n",
              "      <td>-0.089508</td>\n",
              "      <td>0.241641</td>\n",
              "      <td>-0.063088</td>\n",
              "      <td>-0.051173</td>\n",
              "      <td>0.040629</td>\n",
              "      <td>0.009112</td>\n",
              "      <td>-0.003332</td>\n",
              "      <td>-0.066052</td>\n",
              "      <td>0.000119</td>\n",
              "      <td>-0.044890</td>\n",
              "      <td>-0.007787</td>\n",
              "      <td>-0.019953</td>\n",
              "      <td>0.061221</td>\n",
              "      <td>-0.013790</td>\n",
              "      <td>-0.012245</td>\n",
              "      <td>0.004629</td>\n",
              "      <td>0.002838</td>\n",
              "      <td>-0.006727</td>\n",
              "      <td>-0.000629</td>\n",
              "      <td>0.000395</td>\n",
              "      <td>-0.001380</td>\n",
              "      <td>-0.003629</td>\n",
              "      <td>-0.002035</td>\n",
              "      <td>0.000371</td>\n",
              "      <td>-0.000321</td>\n",
              "      <td>3.091193e-04</td>\n",
              "      <td>0.000544</td>\n",
              "      <td>0.000437</td>\n",
              "      <td>0.000012</td>\n",
              "      <td>8.544016e-05</td>\n",
              "      <td>0.000019</td>\n",
              "      <td>0.000002</td>\n",
              "      <td>-2.092787e-19</td>\n",
              "    </tr>\n",
              "    <tr>\n",
              "      <th>148515</th>\n",
              "      <td>0.478899</td>\n",
              "      <td>1.842409</td>\n",
              "      <td>-0.079338</td>\n",
              "      <td>0.242659</td>\n",
              "      <td>0.064270</td>\n",
              "      <td>1.031615</td>\n",
              "      <td>-0.268565</td>\n",
              "      <td>0.379281</td>\n",
              "      <td>0.143348</td>\n",
              "      <td>0.230508</td>\n",
              "      <td>-0.107717</td>\n",
              "      <td>0.326262</td>\n",
              "      <td>-0.593581</td>\n",
              "      <td>-0.057428</td>\n",
              "      <td>0.110808</td>\n",
              "      <td>0.183701</td>\n",
              "      <td>0.029853</td>\n",
              "      <td>0.071603</td>\n",
              "      <td>0.062821</td>\n",
              "      <td>-0.011776</td>\n",
              "      <td>-0.023916</td>\n",
              "      <td>0.066455</td>\n",
              "      <td>0.038046</td>\n",
              "      <td>-0.000432</td>\n",
              "      <td>0.016452</td>\n",
              "      <td>0.012383</td>\n",
              "      <td>-0.017161</td>\n",
              "      <td>-0.000885</td>\n",
              "      <td>-0.001626</td>\n",
              "      <td>0.002726</td>\n",
              "      <td>-0.002535</td>\n",
              "      <td>0.000493</td>\n",
              "      <td>-0.000015</td>\n",
              "      <td>1.066330e-04</td>\n",
              "      <td>-0.000107</td>\n",
              "      <td>0.000081</td>\n",
              "      <td>-0.000513</td>\n",
              "      <td>7.189436e-05</td>\n",
              "      <td>0.000032</td>\n",
              "      <td>0.000002</td>\n",
              "      <td>1.868003e-19</td>\n",
              "    </tr>\n",
              "  </tbody>\n",
              "</table>\n",
              "<p>148516 rows × 41 columns</p>\n",
              "</div>"
            ],
            "text/plain": [
              "        column 0  column 1  column 2  ...  column 38  column 39     column 40\n",
              "0      -0.210454  0.109517  0.558613  ...   0.000003  -0.000011 -9.558075e-18\n",
              "1       0.295173  0.354357  0.747835  ...   0.000036  -0.000007  1.162525e-17\n",
              "2       1.730388 -0.587896 -0.089366  ...   0.000009   0.000003  4.430353e-17\n",
              "3      -1.010287 -0.469081 -0.215443  ...  -0.000010  -0.000002 -5.469062e-17\n",
              "4      -0.999356 -0.337932 -0.496051  ...  -0.000002   0.000007 -5.792824e-19\n",
              "...          ...       ...       ...  ...        ...        ...           ...\n",
              "148511 -0.828475 -0.226192 -0.170238  ...   0.000015   0.000005 -9.667916e-20\n",
              "148512 -1.049307 -0.351544 -0.396084  ...   0.000001   0.000005 -5.535031e-19\n",
              "148513 -1.005687 -0.286393 -0.491145  ...  -0.000012  -0.000085 -5.755410e-19\n",
              "148514 -0.721211 -0.169021  0.034085  ...   0.000019   0.000002 -2.092787e-19\n",
              "148515  0.478899  1.842409 -0.079338  ...   0.000032   0.000002  1.868003e-19\n",
              "\n",
              "[148516 rows x 41 columns]"
            ]
          },
          "metadata": {
            "tags": []
          },
          "execution_count": 24
        }
      ]
    },
    {
      "cell_type": "code",
      "metadata": {
        "id": "WT92UUfNHoiU",
        "colab_type": "code",
        "outputId": "8b18d4ce-815e-4ef0-979e-cba76ec194a4",
        "colab": {
          "base_uri": "https://localhost:8080/",
          "height": 221
        }
      },
      "source": [
        "dataAttack = df_pca['type_attack']\n",
        "dataAttack"
      ],
      "execution_count": 25,
      "outputs": [
        {
          "output_type": "execute_result",
          "data": {
            "text/plain": [
              "0         normal\n",
              "1         normal\n",
              "2            dos\n",
              "3         normal\n",
              "4         normal\n",
              "           ...  \n",
              "148511    normal\n",
              "148512    normal\n",
              "148513       dos\n",
              "148514    normal\n",
              "148515     probe\n",
              "Name: type_attack, Length: 148516, dtype: object"
            ]
          },
          "metadata": {
            "tags": []
          },
          "execution_count": 25
        }
      ]
    },
    {
      "cell_type": "code",
      "metadata": {
        "id": "sipqmamwHuOX",
        "colab_type": "code",
        "outputId": "f6130dad-cf18-4727-e86a-655a6a00b6c6",
        "colab": {
          "base_uri": "https://localhost:8080/",
          "height": 626
        }
      },
      "source": [
        "dataPCA = pd.concat([df_pca2,dataAttack], axis = 1)\n",
        "dataPCA"
      ],
      "execution_count": 26,
      "outputs": [
        {
          "output_type": "execute_result",
          "data": {
            "text/html": [
              "<div>\n",
              "<style scoped>\n",
              "    .dataframe tbody tr th:only-of-type {\n",
              "        vertical-align: middle;\n",
              "    }\n",
              "\n",
              "    .dataframe tbody tr th {\n",
              "        vertical-align: top;\n",
              "    }\n",
              "\n",
              "    .dataframe thead th {\n",
              "        text-align: right;\n",
              "    }\n",
              "</style>\n",
              "<table border=\"1\" class=\"dataframe\">\n",
              "  <thead>\n",
              "    <tr style=\"text-align: right;\">\n",
              "      <th></th>\n",
              "      <th>column 0</th>\n",
              "      <th>column 1</th>\n",
              "      <th>column 2</th>\n",
              "      <th>column 3</th>\n",
              "      <th>column 4</th>\n",
              "      <th>column 5</th>\n",
              "      <th>column 6</th>\n",
              "      <th>column 7</th>\n",
              "      <th>column 8</th>\n",
              "      <th>column 9</th>\n",
              "      <th>column 10</th>\n",
              "      <th>column 11</th>\n",
              "      <th>column 12</th>\n",
              "      <th>column 13</th>\n",
              "      <th>column 14</th>\n",
              "      <th>column 15</th>\n",
              "      <th>column 16</th>\n",
              "      <th>column 17</th>\n",
              "      <th>column 18</th>\n",
              "      <th>column 19</th>\n",
              "      <th>column 20</th>\n",
              "      <th>column 21</th>\n",
              "      <th>column 22</th>\n",
              "      <th>column 23</th>\n",
              "      <th>column 24</th>\n",
              "      <th>column 25</th>\n",
              "      <th>column 26</th>\n",
              "      <th>column 27</th>\n",
              "      <th>column 28</th>\n",
              "      <th>column 29</th>\n",
              "      <th>column 30</th>\n",
              "      <th>column 31</th>\n",
              "      <th>column 32</th>\n",
              "      <th>column 33</th>\n",
              "      <th>column 34</th>\n",
              "      <th>column 35</th>\n",
              "      <th>column 36</th>\n",
              "      <th>column 37</th>\n",
              "      <th>column 38</th>\n",
              "      <th>column 39</th>\n",
              "      <th>column 40</th>\n",
              "      <th>type_attack</th>\n",
              "    </tr>\n",
              "  </thead>\n",
              "  <tbody>\n",
              "    <tr>\n",
              "      <th>0</th>\n",
              "      <td>-0.210454</td>\n",
              "      <td>0.109517</td>\n",
              "      <td>0.558613</td>\n",
              "      <td>-0.210847</td>\n",
              "      <td>0.410863</td>\n",
              "      <td>-0.182544</td>\n",
              "      <td>-0.269973</td>\n",
              "      <td>-0.061005</td>\n",
              "      <td>-0.463782</td>\n",
              "      <td>-0.041845</td>\n",
              "      <td>-0.016257</td>\n",
              "      <td>0.219600</td>\n",
              "      <td>0.057659</td>\n",
              "      <td>-0.134752</td>\n",
              "      <td>-0.017798</td>\n",
              "      <td>0.076811</td>\n",
              "      <td>-0.002909</td>\n",
              "      <td>-0.089396</td>\n",
              "      <td>-0.032376</td>\n",
              "      <td>0.006620</td>\n",
              "      <td>0.081705</td>\n",
              "      <td>-0.051989</td>\n",
              "      <td>-0.001722</td>\n",
              "      <td>-0.003106</td>\n",
              "      <td>-0.015040</td>\n",
              "      <td>-0.018264</td>\n",
              "      <td>-0.001643</td>\n",
              "      <td>-0.000989</td>\n",
              "      <td>-0.000149</td>\n",
              "      <td>-0.006964</td>\n",
              "      <td>-0.004533</td>\n",
              "      <td>-0.000210</td>\n",
              "      <td>-0.000157</td>\n",
              "      <td>-5.451047e-07</td>\n",
              "      <td>-0.000445</td>\n",
              "      <td>0.000052</td>\n",
              "      <td>-0.000139</td>\n",
              "      <td>-4.760363e-05</td>\n",
              "      <td>0.000003</td>\n",
              "      <td>-0.000011</td>\n",
              "      <td>-9.558075e-18</td>\n",
              "      <td>normal</td>\n",
              "    </tr>\n",
              "    <tr>\n",
              "      <th>1</th>\n",
              "      <td>0.295173</td>\n",
              "      <td>0.354357</td>\n",
              "      <td>0.747835</td>\n",
              "      <td>-0.551986</td>\n",
              "      <td>0.892921</td>\n",
              "      <td>-0.064741</td>\n",
              "      <td>0.035088</td>\n",
              "      <td>0.275928</td>\n",
              "      <td>0.288845</td>\n",
              "      <td>0.207347</td>\n",
              "      <td>-0.411123</td>\n",
              "      <td>-0.394146</td>\n",
              "      <td>0.136762</td>\n",
              "      <td>-0.166930</td>\n",
              "      <td>0.005222</td>\n",
              "      <td>-0.232558</td>\n",
              "      <td>0.092964</td>\n",
              "      <td>-0.091796</td>\n",
              "      <td>-0.014189</td>\n",
              "      <td>0.026604</td>\n",
              "      <td>-0.183462</td>\n",
              "      <td>0.084000</td>\n",
              "      <td>0.043852</td>\n",
              "      <td>-0.001883</td>\n",
              "      <td>0.038448</td>\n",
              "      <td>-0.001640</td>\n",
              "      <td>0.005272</td>\n",
              "      <td>0.002423</td>\n",
              "      <td>0.003426</td>\n",
              "      <td>0.001434</td>\n",
              "      <td>0.002474</td>\n",
              "      <td>-0.000742</td>\n",
              "      <td>-0.000084</td>\n",
              "      <td>-4.248704e-04</td>\n",
              "      <td>0.000462</td>\n",
              "      <td>0.000704</td>\n",
              "      <td>0.000158</td>\n",
              "      <td>-4.170726e-05</td>\n",
              "      <td>0.000036</td>\n",
              "      <td>-0.000007</td>\n",
              "      <td>1.162525e-17</td>\n",
              "      <td>normal</td>\n",
              "    </tr>\n",
              "    <tr>\n",
              "      <th>2</th>\n",
              "      <td>1.730388</td>\n",
              "      <td>-0.587896</td>\n",
              "      <td>-0.089366</td>\n",
              "      <td>0.074590</td>\n",
              "      <td>-0.067424</td>\n",
              "      <td>0.029835</td>\n",
              "      <td>-0.051773</td>\n",
              "      <td>-0.014232</td>\n",
              "      <td>0.111595</td>\n",
              "      <td>-0.045301</td>\n",
              "      <td>-0.100270</td>\n",
              "      <td>0.022367</td>\n",
              "      <td>0.014328</td>\n",
              "      <td>0.002643</td>\n",
              "      <td>0.023151</td>\n",
              "      <td>-0.013676</td>\n",
              "      <td>-0.007915</td>\n",
              "      <td>-0.002653</td>\n",
              "      <td>0.009050</td>\n",
              "      <td>0.000282</td>\n",
              "      <td>-0.049915</td>\n",
              "      <td>0.021489</td>\n",
              "      <td>0.005059</td>\n",
              "      <td>0.000722</td>\n",
              "      <td>0.001802</td>\n",
              "      <td>0.003486</td>\n",
              "      <td>0.001287</td>\n",
              "      <td>-0.000146</td>\n",
              "      <td>-0.000418</td>\n",
              "      <td>-0.000488</td>\n",
              "      <td>-0.000203</td>\n",
              "      <td>0.000069</td>\n",
              "      <td>-0.000072</td>\n",
              "      <td>5.659334e-06</td>\n",
              "      <td>0.000053</td>\n",
              "      <td>-0.000078</td>\n",
              "      <td>0.000012</td>\n",
              "      <td>-3.587490e-07</td>\n",
              "      <td>0.000009</td>\n",
              "      <td>0.000003</td>\n",
              "      <td>4.430353e-17</td>\n",
              "      <td>dos</td>\n",
              "    </tr>\n",
              "    <tr>\n",
              "      <th>3</th>\n",
              "      <td>-1.010287</td>\n",
              "      <td>-0.469081</td>\n",
              "      <td>-0.215443</td>\n",
              "      <td>0.414567</td>\n",
              "      <td>-0.202224</td>\n",
              "      <td>-0.275664</td>\n",
              "      <td>0.018488</td>\n",
              "      <td>0.132578</td>\n",
              "      <td>0.049882</td>\n",
              "      <td>0.011953</td>\n",
              "      <td>0.045059</td>\n",
              "      <td>0.015433</td>\n",
              "      <td>0.037350</td>\n",
              "      <td>-0.063787</td>\n",
              "      <td>0.047175</td>\n",
              "      <td>0.056267</td>\n",
              "      <td>0.133808</td>\n",
              "      <td>-0.015194</td>\n",
              "      <td>-0.013705</td>\n",
              "      <td>0.011873</td>\n",
              "      <td>-0.003863</td>\n",
              "      <td>-0.003856</td>\n",
              "      <td>-0.072162</td>\n",
              "      <td>-0.012212</td>\n",
              "      <td>0.017498</td>\n",
              "      <td>-0.007879</td>\n",
              "      <td>0.012113</td>\n",
              "      <td>0.000448</td>\n",
              "      <td>-0.000886</td>\n",
              "      <td>0.000483</td>\n",
              "      <td>-0.000328</td>\n",
              "      <td>0.000054</td>\n",
              "      <td>0.000162</td>\n",
              "      <td>-4.609370e-06</td>\n",
              "      <td>0.000486</td>\n",
              "      <td>0.000420</td>\n",
              "      <td>-0.000098</td>\n",
              "      <td>-6.105354e-05</td>\n",
              "      <td>-0.000010</td>\n",
              "      <td>-0.000002</td>\n",
              "      <td>-5.469062e-17</td>\n",
              "      <td>normal</td>\n",
              "    </tr>\n",
              "    <tr>\n",
              "      <th>4</th>\n",
              "      <td>-0.999356</td>\n",
              "      <td>-0.337932</td>\n",
              "      <td>-0.496051</td>\n",
              "      <td>-0.226706</td>\n",
              "      <td>0.023366</td>\n",
              "      <td>0.139347</td>\n",
              "      <td>0.131672</td>\n",
              "      <td>-0.138722</td>\n",
              "      <td>0.036212</td>\n",
              "      <td>0.066413</td>\n",
              "      <td>-0.031553</td>\n",
              "      <td>0.017770</td>\n",
              "      <td>0.016677</td>\n",
              "      <td>0.040106</td>\n",
              "      <td>-0.049254</td>\n",
              "      <td>-0.015651</td>\n",
              "      <td>0.009156</td>\n",
              "      <td>0.005715</td>\n",
              "      <td>-0.002939</td>\n",
              "      <td>-0.002169</td>\n",
              "      <td>-0.002592</td>\n",
              "      <td>0.004965</td>\n",
              "      <td>0.010204</td>\n",
              "      <td>-0.001057</td>\n",
              "      <td>0.001141</td>\n",
              "      <td>0.003586</td>\n",
              "      <td>-0.002123</td>\n",
              "      <td>0.000204</td>\n",
              "      <td>0.000300</td>\n",
              "      <td>0.000462</td>\n",
              "      <td>-0.000583</td>\n",
              "      <td>-0.000145</td>\n",
              "      <td>-0.000953</td>\n",
              "      <td>2.989296e-05</td>\n",
              "      <td>-0.000055</td>\n",
              "      <td>-0.000002</td>\n",
              "      <td>0.000041</td>\n",
              "      <td>8.627449e-05</td>\n",
              "      <td>-0.000002</td>\n",
              "      <td>0.000007</td>\n",
              "      <td>-5.792824e-19</td>\n",
              "      <td>normal</td>\n",
              "    </tr>\n",
              "    <tr>\n",
              "      <th>...</th>\n",
              "      <td>...</td>\n",
              "      <td>...</td>\n",
              "      <td>...</td>\n",
              "      <td>...</td>\n",
              "      <td>...</td>\n",
              "      <td>...</td>\n",
              "      <td>...</td>\n",
              "      <td>...</td>\n",
              "      <td>...</td>\n",
              "      <td>...</td>\n",
              "      <td>...</td>\n",
              "      <td>...</td>\n",
              "      <td>...</td>\n",
              "      <td>...</td>\n",
              "      <td>...</td>\n",
              "      <td>...</td>\n",
              "      <td>...</td>\n",
              "      <td>...</td>\n",
              "      <td>...</td>\n",
              "      <td>...</td>\n",
              "      <td>...</td>\n",
              "      <td>...</td>\n",
              "      <td>...</td>\n",
              "      <td>...</td>\n",
              "      <td>...</td>\n",
              "      <td>...</td>\n",
              "      <td>...</td>\n",
              "      <td>...</td>\n",
              "      <td>...</td>\n",
              "      <td>...</td>\n",
              "      <td>...</td>\n",
              "      <td>...</td>\n",
              "      <td>...</td>\n",
              "      <td>...</td>\n",
              "      <td>...</td>\n",
              "      <td>...</td>\n",
              "      <td>...</td>\n",
              "      <td>...</td>\n",
              "      <td>...</td>\n",
              "      <td>...</td>\n",
              "      <td>...</td>\n",
              "      <td>...</td>\n",
              "    </tr>\n",
              "    <tr>\n",
              "      <th>148511</th>\n",
              "      <td>-0.828475</td>\n",
              "      <td>-0.226192</td>\n",
              "      <td>-0.170238</td>\n",
              "      <td>0.320094</td>\n",
              "      <td>0.390840</td>\n",
              "      <td>-0.140440</td>\n",
              "      <td>-0.092445</td>\n",
              "      <td>0.016003</td>\n",
              "      <td>0.132751</td>\n",
              "      <td>-0.274037</td>\n",
              "      <td>0.017808</td>\n",
              "      <td>0.076274</td>\n",
              "      <td>-0.019840</td>\n",
              "      <td>0.029050</td>\n",
              "      <td>-0.046854</td>\n",
              "      <td>-0.007740</td>\n",
              "      <td>0.002475</td>\n",
              "      <td>-0.028750</td>\n",
              "      <td>-0.003083</td>\n",
              "      <td>0.004940</td>\n",
              "      <td>-0.004040</td>\n",
              "      <td>-0.006299</td>\n",
              "      <td>0.005721</td>\n",
              "      <td>-0.010642</td>\n",
              "      <td>-0.000314</td>\n",
              "      <td>0.000212</td>\n",
              "      <td>-0.000513</td>\n",
              "      <td>-0.000696</td>\n",
              "      <td>-0.000264</td>\n",
              "      <td>-0.002796</td>\n",
              "      <td>-0.003126</td>\n",
              "      <td>-0.000364</td>\n",
              "      <td>-0.000913</td>\n",
              "      <td>-2.476098e-04</td>\n",
              "      <td>-0.000432</td>\n",
              "      <td>-0.000363</td>\n",
              "      <td>-0.000053</td>\n",
              "      <td>-7.250437e-05</td>\n",
              "      <td>0.000015</td>\n",
              "      <td>0.000005</td>\n",
              "      <td>-9.667916e-20</td>\n",
              "      <td>normal</td>\n",
              "    </tr>\n",
              "    <tr>\n",
              "      <th>148512</th>\n",
              "      <td>-1.049307</td>\n",
              "      <td>-0.351544</td>\n",
              "      <td>-0.396084</td>\n",
              "      <td>-0.037051</td>\n",
              "      <td>-0.019923</td>\n",
              "      <td>0.134743</td>\n",
              "      <td>0.058345</td>\n",
              "      <td>-0.062198</td>\n",
              "      <td>0.027576</td>\n",
              "      <td>0.074528</td>\n",
              "      <td>-0.027545</td>\n",
              "      <td>0.004143</td>\n",
              "      <td>0.027366</td>\n",
              "      <td>-0.000850</td>\n",
              "      <td>-0.024062</td>\n",
              "      <td>-0.017013</td>\n",
              "      <td>-0.002245</td>\n",
              "      <td>-0.000539</td>\n",
              "      <td>-0.006954</td>\n",
              "      <td>-0.009786</td>\n",
              "      <td>-0.005166</td>\n",
              "      <td>0.004367</td>\n",
              "      <td>0.005394</td>\n",
              "      <td>-0.001198</td>\n",
              "      <td>0.003874</td>\n",
              "      <td>0.004011</td>\n",
              "      <td>-0.000313</td>\n",
              "      <td>0.000200</td>\n",
              "      <td>0.000334</td>\n",
              "      <td>0.000344</td>\n",
              "      <td>-0.000387</td>\n",
              "      <td>-0.000128</td>\n",
              "      <td>-0.000864</td>\n",
              "      <td>2.449742e-05</td>\n",
              "      <td>0.000001</td>\n",
              "      <td>-0.000018</td>\n",
              "      <td>0.000019</td>\n",
              "      <td>6.562754e-05</td>\n",
              "      <td>0.000001</td>\n",
              "      <td>0.000005</td>\n",
              "      <td>-5.535031e-19</td>\n",
              "      <td>normal</td>\n",
              "    </tr>\n",
              "    <tr>\n",
              "      <th>148513</th>\n",
              "      <td>-1.005687</td>\n",
              "      <td>-0.286393</td>\n",
              "      <td>-0.491145</td>\n",
              "      <td>-0.172798</td>\n",
              "      <td>0.005716</td>\n",
              "      <td>0.231617</td>\n",
              "      <td>0.079806</td>\n",
              "      <td>-0.155350</td>\n",
              "      <td>0.040089</td>\n",
              "      <td>0.106986</td>\n",
              "      <td>-0.038570</td>\n",
              "      <td>-0.008078</td>\n",
              "      <td>0.062296</td>\n",
              "      <td>0.051919</td>\n",
              "      <td>-0.035847</td>\n",
              "      <td>0.015813</td>\n",
              "      <td>0.006642</td>\n",
              "      <td>-0.001734</td>\n",
              "      <td>0.022999</td>\n",
              "      <td>-0.044650</td>\n",
              "      <td>0.012901</td>\n",
              "      <td>0.016726</td>\n",
              "      <td>0.014883</td>\n",
              "      <td>-0.001526</td>\n",
              "      <td>0.003433</td>\n",
              "      <td>0.000489</td>\n",
              "      <td>-0.003242</td>\n",
              "      <td>-0.000932</td>\n",
              "      <td>-0.002881</td>\n",
              "      <td>-0.010429</td>\n",
              "      <td>0.015689</td>\n",
              "      <td>-0.000320</td>\n",
              "      <td>-0.001084</td>\n",
              "      <td>-1.077986e-04</td>\n",
              "      <td>-0.000460</td>\n",
              "      <td>-0.001058</td>\n",
              "      <td>0.000144</td>\n",
              "      <td>1.671449e-04</td>\n",
              "      <td>-0.000012</td>\n",
              "      <td>-0.000085</td>\n",
              "      <td>-5.755410e-19</td>\n",
              "      <td>dos</td>\n",
              "    </tr>\n",
              "    <tr>\n",
              "      <th>148514</th>\n",
              "      <td>-0.721211</td>\n",
              "      <td>-0.169021</td>\n",
              "      <td>0.034085</td>\n",
              "      <td>-0.753098</td>\n",
              "      <td>-0.332777</td>\n",
              "      <td>0.191829</td>\n",
              "      <td>-0.507982</td>\n",
              "      <td>0.133428</td>\n",
              "      <td>-0.089508</td>\n",
              "      <td>0.241641</td>\n",
              "      <td>-0.063088</td>\n",
              "      <td>-0.051173</td>\n",
              "      <td>0.040629</td>\n",
              "      <td>0.009112</td>\n",
              "      <td>-0.003332</td>\n",
              "      <td>-0.066052</td>\n",
              "      <td>0.000119</td>\n",
              "      <td>-0.044890</td>\n",
              "      <td>-0.007787</td>\n",
              "      <td>-0.019953</td>\n",
              "      <td>0.061221</td>\n",
              "      <td>-0.013790</td>\n",
              "      <td>-0.012245</td>\n",
              "      <td>0.004629</td>\n",
              "      <td>0.002838</td>\n",
              "      <td>-0.006727</td>\n",
              "      <td>-0.000629</td>\n",
              "      <td>0.000395</td>\n",
              "      <td>-0.001380</td>\n",
              "      <td>-0.003629</td>\n",
              "      <td>-0.002035</td>\n",
              "      <td>0.000371</td>\n",
              "      <td>-0.000321</td>\n",
              "      <td>3.091193e-04</td>\n",
              "      <td>0.000544</td>\n",
              "      <td>0.000437</td>\n",
              "      <td>0.000012</td>\n",
              "      <td>8.544016e-05</td>\n",
              "      <td>0.000019</td>\n",
              "      <td>0.000002</td>\n",
              "      <td>-2.092787e-19</td>\n",
              "      <td>normal</td>\n",
              "    </tr>\n",
              "    <tr>\n",
              "      <th>148515</th>\n",
              "      <td>0.478899</td>\n",
              "      <td>1.842409</td>\n",
              "      <td>-0.079338</td>\n",
              "      <td>0.242659</td>\n",
              "      <td>0.064270</td>\n",
              "      <td>1.031615</td>\n",
              "      <td>-0.268565</td>\n",
              "      <td>0.379281</td>\n",
              "      <td>0.143348</td>\n",
              "      <td>0.230508</td>\n",
              "      <td>-0.107717</td>\n",
              "      <td>0.326262</td>\n",
              "      <td>-0.593581</td>\n",
              "      <td>-0.057428</td>\n",
              "      <td>0.110808</td>\n",
              "      <td>0.183701</td>\n",
              "      <td>0.029853</td>\n",
              "      <td>0.071603</td>\n",
              "      <td>0.062821</td>\n",
              "      <td>-0.011776</td>\n",
              "      <td>-0.023916</td>\n",
              "      <td>0.066455</td>\n",
              "      <td>0.038046</td>\n",
              "      <td>-0.000432</td>\n",
              "      <td>0.016452</td>\n",
              "      <td>0.012383</td>\n",
              "      <td>-0.017161</td>\n",
              "      <td>-0.000885</td>\n",
              "      <td>-0.001626</td>\n",
              "      <td>0.002726</td>\n",
              "      <td>-0.002535</td>\n",
              "      <td>0.000493</td>\n",
              "      <td>-0.000015</td>\n",
              "      <td>1.066330e-04</td>\n",
              "      <td>-0.000107</td>\n",
              "      <td>0.000081</td>\n",
              "      <td>-0.000513</td>\n",
              "      <td>7.189436e-05</td>\n",
              "      <td>0.000032</td>\n",
              "      <td>0.000002</td>\n",
              "      <td>1.868003e-19</td>\n",
              "      <td>probe</td>\n",
              "    </tr>\n",
              "  </tbody>\n",
              "</table>\n",
              "<p>148516 rows × 42 columns</p>\n",
              "</div>"
            ],
            "text/plain": [
              "        column 0  column 1  column 2  ...  column 39     column 40  type_attack\n",
              "0      -0.210454  0.109517  0.558613  ...  -0.000011 -9.558075e-18       normal\n",
              "1       0.295173  0.354357  0.747835  ...  -0.000007  1.162525e-17       normal\n",
              "2       1.730388 -0.587896 -0.089366  ...   0.000003  4.430353e-17          dos\n",
              "3      -1.010287 -0.469081 -0.215443  ...  -0.000002 -5.469062e-17       normal\n",
              "4      -0.999356 -0.337932 -0.496051  ...   0.000007 -5.792824e-19       normal\n",
              "...          ...       ...       ...  ...        ...           ...          ...\n",
              "148511 -0.828475 -0.226192 -0.170238  ...   0.000005 -9.667916e-20       normal\n",
              "148512 -1.049307 -0.351544 -0.396084  ...   0.000005 -5.535031e-19       normal\n",
              "148513 -1.005687 -0.286393 -0.491145  ...  -0.000085 -5.755410e-19          dos\n",
              "148514 -0.721211 -0.169021  0.034085  ...   0.000002 -2.092787e-19       normal\n",
              "148515  0.478899  1.842409 -0.079338  ...   0.000002  1.868003e-19        probe\n",
              "\n",
              "[148516 rows x 42 columns]"
            ]
          },
          "metadata": {
            "tags": []
          },
          "execution_count": 26
        }
      ]
    },
    {
      "cell_type": "code",
      "metadata": {
        "id": "VqEq1i2_H2LP",
        "colab_type": "code",
        "outputId": "dc410c21-9ad7-4e8d-c7d7-fb3572b8daad",
        "colab": {
          "base_uri": "https://localhost:8080/",
          "height": 626
        }
      },
      "source": [
        "dataPCA2 = dataPCA.loc[dataPCA['type_attack'].isin(['normal','dos'])]\n",
        "dataPCA2"
      ],
      "execution_count": 27,
      "outputs": [
        {
          "output_type": "execute_result",
          "data": {
            "text/html": [
              "<div>\n",
              "<style scoped>\n",
              "    .dataframe tbody tr th:only-of-type {\n",
              "        vertical-align: middle;\n",
              "    }\n",
              "\n",
              "    .dataframe tbody tr th {\n",
              "        vertical-align: top;\n",
              "    }\n",
              "\n",
              "    .dataframe thead th {\n",
              "        text-align: right;\n",
              "    }\n",
              "</style>\n",
              "<table border=\"1\" class=\"dataframe\">\n",
              "  <thead>\n",
              "    <tr style=\"text-align: right;\">\n",
              "      <th></th>\n",
              "      <th>column 0</th>\n",
              "      <th>column 1</th>\n",
              "      <th>column 2</th>\n",
              "      <th>column 3</th>\n",
              "      <th>column 4</th>\n",
              "      <th>column 5</th>\n",
              "      <th>column 6</th>\n",
              "      <th>column 7</th>\n",
              "      <th>column 8</th>\n",
              "      <th>column 9</th>\n",
              "      <th>column 10</th>\n",
              "      <th>column 11</th>\n",
              "      <th>column 12</th>\n",
              "      <th>column 13</th>\n",
              "      <th>column 14</th>\n",
              "      <th>column 15</th>\n",
              "      <th>column 16</th>\n",
              "      <th>column 17</th>\n",
              "      <th>column 18</th>\n",
              "      <th>column 19</th>\n",
              "      <th>column 20</th>\n",
              "      <th>column 21</th>\n",
              "      <th>column 22</th>\n",
              "      <th>column 23</th>\n",
              "      <th>column 24</th>\n",
              "      <th>column 25</th>\n",
              "      <th>column 26</th>\n",
              "      <th>column 27</th>\n",
              "      <th>column 28</th>\n",
              "      <th>column 29</th>\n",
              "      <th>column 30</th>\n",
              "      <th>column 31</th>\n",
              "      <th>column 32</th>\n",
              "      <th>column 33</th>\n",
              "      <th>column 34</th>\n",
              "      <th>column 35</th>\n",
              "      <th>column 36</th>\n",
              "      <th>column 37</th>\n",
              "      <th>column 38</th>\n",
              "      <th>column 39</th>\n",
              "      <th>column 40</th>\n",
              "      <th>type_attack</th>\n",
              "    </tr>\n",
              "  </thead>\n",
              "  <tbody>\n",
              "    <tr>\n",
              "      <th>0</th>\n",
              "      <td>-0.210454</td>\n",
              "      <td>0.109517</td>\n",
              "      <td>0.558613</td>\n",
              "      <td>-0.210847</td>\n",
              "      <td>0.410863</td>\n",
              "      <td>-0.182544</td>\n",
              "      <td>-0.269973</td>\n",
              "      <td>-0.061005</td>\n",
              "      <td>-0.463782</td>\n",
              "      <td>-0.041845</td>\n",
              "      <td>-0.016257</td>\n",
              "      <td>0.219600</td>\n",
              "      <td>0.057659</td>\n",
              "      <td>-0.134752</td>\n",
              "      <td>-0.017798</td>\n",
              "      <td>0.076811</td>\n",
              "      <td>-0.002909</td>\n",
              "      <td>-0.089396</td>\n",
              "      <td>-0.032376</td>\n",
              "      <td>0.006620</td>\n",
              "      <td>0.081705</td>\n",
              "      <td>-0.051989</td>\n",
              "      <td>-0.001722</td>\n",
              "      <td>-0.003106</td>\n",
              "      <td>-0.015040</td>\n",
              "      <td>-0.018264</td>\n",
              "      <td>-0.001643</td>\n",
              "      <td>-0.000989</td>\n",
              "      <td>-0.000149</td>\n",
              "      <td>-0.006964</td>\n",
              "      <td>-0.004533</td>\n",
              "      <td>-0.000210</td>\n",
              "      <td>-0.000157</td>\n",
              "      <td>-5.451047e-07</td>\n",
              "      <td>-0.000445</td>\n",
              "      <td>0.000052</td>\n",
              "      <td>-0.000139</td>\n",
              "      <td>-4.760363e-05</td>\n",
              "      <td>0.000003</td>\n",
              "      <td>-0.000011</td>\n",
              "      <td>-9.558075e-18</td>\n",
              "      <td>normal</td>\n",
              "    </tr>\n",
              "    <tr>\n",
              "      <th>1</th>\n",
              "      <td>0.295173</td>\n",
              "      <td>0.354357</td>\n",
              "      <td>0.747835</td>\n",
              "      <td>-0.551986</td>\n",
              "      <td>0.892921</td>\n",
              "      <td>-0.064741</td>\n",
              "      <td>0.035088</td>\n",
              "      <td>0.275928</td>\n",
              "      <td>0.288845</td>\n",
              "      <td>0.207347</td>\n",
              "      <td>-0.411123</td>\n",
              "      <td>-0.394146</td>\n",
              "      <td>0.136762</td>\n",
              "      <td>-0.166930</td>\n",
              "      <td>0.005222</td>\n",
              "      <td>-0.232558</td>\n",
              "      <td>0.092964</td>\n",
              "      <td>-0.091796</td>\n",
              "      <td>-0.014189</td>\n",
              "      <td>0.026604</td>\n",
              "      <td>-0.183462</td>\n",
              "      <td>0.084000</td>\n",
              "      <td>0.043852</td>\n",
              "      <td>-0.001883</td>\n",
              "      <td>0.038448</td>\n",
              "      <td>-0.001640</td>\n",
              "      <td>0.005272</td>\n",
              "      <td>0.002423</td>\n",
              "      <td>0.003426</td>\n",
              "      <td>0.001434</td>\n",
              "      <td>0.002474</td>\n",
              "      <td>-0.000742</td>\n",
              "      <td>-0.000084</td>\n",
              "      <td>-4.248704e-04</td>\n",
              "      <td>0.000462</td>\n",
              "      <td>0.000704</td>\n",
              "      <td>0.000158</td>\n",
              "      <td>-4.170726e-05</td>\n",
              "      <td>0.000036</td>\n",
              "      <td>-0.000007</td>\n",
              "      <td>1.162525e-17</td>\n",
              "      <td>normal</td>\n",
              "    </tr>\n",
              "    <tr>\n",
              "      <th>2</th>\n",
              "      <td>1.730388</td>\n",
              "      <td>-0.587896</td>\n",
              "      <td>-0.089366</td>\n",
              "      <td>0.074590</td>\n",
              "      <td>-0.067424</td>\n",
              "      <td>0.029835</td>\n",
              "      <td>-0.051773</td>\n",
              "      <td>-0.014232</td>\n",
              "      <td>0.111595</td>\n",
              "      <td>-0.045301</td>\n",
              "      <td>-0.100270</td>\n",
              "      <td>0.022367</td>\n",
              "      <td>0.014328</td>\n",
              "      <td>0.002643</td>\n",
              "      <td>0.023151</td>\n",
              "      <td>-0.013676</td>\n",
              "      <td>-0.007915</td>\n",
              "      <td>-0.002653</td>\n",
              "      <td>0.009050</td>\n",
              "      <td>0.000282</td>\n",
              "      <td>-0.049915</td>\n",
              "      <td>0.021489</td>\n",
              "      <td>0.005059</td>\n",
              "      <td>0.000722</td>\n",
              "      <td>0.001802</td>\n",
              "      <td>0.003486</td>\n",
              "      <td>0.001287</td>\n",
              "      <td>-0.000146</td>\n",
              "      <td>-0.000418</td>\n",
              "      <td>-0.000488</td>\n",
              "      <td>-0.000203</td>\n",
              "      <td>0.000069</td>\n",
              "      <td>-0.000072</td>\n",
              "      <td>5.659334e-06</td>\n",
              "      <td>0.000053</td>\n",
              "      <td>-0.000078</td>\n",
              "      <td>0.000012</td>\n",
              "      <td>-3.587490e-07</td>\n",
              "      <td>0.000009</td>\n",
              "      <td>0.000003</td>\n",
              "      <td>4.430353e-17</td>\n",
              "      <td>dos</td>\n",
              "    </tr>\n",
              "    <tr>\n",
              "      <th>3</th>\n",
              "      <td>-1.010287</td>\n",
              "      <td>-0.469081</td>\n",
              "      <td>-0.215443</td>\n",
              "      <td>0.414567</td>\n",
              "      <td>-0.202224</td>\n",
              "      <td>-0.275664</td>\n",
              "      <td>0.018488</td>\n",
              "      <td>0.132578</td>\n",
              "      <td>0.049882</td>\n",
              "      <td>0.011953</td>\n",
              "      <td>0.045059</td>\n",
              "      <td>0.015433</td>\n",
              "      <td>0.037350</td>\n",
              "      <td>-0.063787</td>\n",
              "      <td>0.047175</td>\n",
              "      <td>0.056267</td>\n",
              "      <td>0.133808</td>\n",
              "      <td>-0.015194</td>\n",
              "      <td>-0.013705</td>\n",
              "      <td>0.011873</td>\n",
              "      <td>-0.003863</td>\n",
              "      <td>-0.003856</td>\n",
              "      <td>-0.072162</td>\n",
              "      <td>-0.012212</td>\n",
              "      <td>0.017498</td>\n",
              "      <td>-0.007879</td>\n",
              "      <td>0.012113</td>\n",
              "      <td>0.000448</td>\n",
              "      <td>-0.000886</td>\n",
              "      <td>0.000483</td>\n",
              "      <td>-0.000328</td>\n",
              "      <td>0.000054</td>\n",
              "      <td>0.000162</td>\n",
              "      <td>-4.609370e-06</td>\n",
              "      <td>0.000486</td>\n",
              "      <td>0.000420</td>\n",
              "      <td>-0.000098</td>\n",
              "      <td>-6.105354e-05</td>\n",
              "      <td>-0.000010</td>\n",
              "      <td>-0.000002</td>\n",
              "      <td>-5.469062e-17</td>\n",
              "      <td>normal</td>\n",
              "    </tr>\n",
              "    <tr>\n",
              "      <th>4</th>\n",
              "      <td>-0.999356</td>\n",
              "      <td>-0.337932</td>\n",
              "      <td>-0.496051</td>\n",
              "      <td>-0.226706</td>\n",
              "      <td>0.023366</td>\n",
              "      <td>0.139347</td>\n",
              "      <td>0.131672</td>\n",
              "      <td>-0.138722</td>\n",
              "      <td>0.036212</td>\n",
              "      <td>0.066413</td>\n",
              "      <td>-0.031553</td>\n",
              "      <td>0.017770</td>\n",
              "      <td>0.016677</td>\n",
              "      <td>0.040106</td>\n",
              "      <td>-0.049254</td>\n",
              "      <td>-0.015651</td>\n",
              "      <td>0.009156</td>\n",
              "      <td>0.005715</td>\n",
              "      <td>-0.002939</td>\n",
              "      <td>-0.002169</td>\n",
              "      <td>-0.002592</td>\n",
              "      <td>0.004965</td>\n",
              "      <td>0.010204</td>\n",
              "      <td>-0.001057</td>\n",
              "      <td>0.001141</td>\n",
              "      <td>0.003586</td>\n",
              "      <td>-0.002123</td>\n",
              "      <td>0.000204</td>\n",
              "      <td>0.000300</td>\n",
              "      <td>0.000462</td>\n",
              "      <td>-0.000583</td>\n",
              "      <td>-0.000145</td>\n",
              "      <td>-0.000953</td>\n",
              "      <td>2.989296e-05</td>\n",
              "      <td>-0.000055</td>\n",
              "      <td>-0.000002</td>\n",
              "      <td>0.000041</td>\n",
              "      <td>8.627449e-05</td>\n",
              "      <td>-0.000002</td>\n",
              "      <td>0.000007</td>\n",
              "      <td>-5.792824e-19</td>\n",
              "      <td>normal</td>\n",
              "    </tr>\n",
              "    <tr>\n",
              "      <th>...</th>\n",
              "      <td>...</td>\n",
              "      <td>...</td>\n",
              "      <td>...</td>\n",
              "      <td>...</td>\n",
              "      <td>...</td>\n",
              "      <td>...</td>\n",
              "      <td>...</td>\n",
              "      <td>...</td>\n",
              "      <td>...</td>\n",
              "      <td>...</td>\n",
              "      <td>...</td>\n",
              "      <td>...</td>\n",
              "      <td>...</td>\n",
              "      <td>...</td>\n",
              "      <td>...</td>\n",
              "      <td>...</td>\n",
              "      <td>...</td>\n",
              "      <td>...</td>\n",
              "      <td>...</td>\n",
              "      <td>...</td>\n",
              "      <td>...</td>\n",
              "      <td>...</td>\n",
              "      <td>...</td>\n",
              "      <td>...</td>\n",
              "      <td>...</td>\n",
              "      <td>...</td>\n",
              "      <td>...</td>\n",
              "      <td>...</td>\n",
              "      <td>...</td>\n",
              "      <td>...</td>\n",
              "      <td>...</td>\n",
              "      <td>...</td>\n",
              "      <td>...</td>\n",
              "      <td>...</td>\n",
              "      <td>...</td>\n",
              "      <td>...</td>\n",
              "      <td>...</td>\n",
              "      <td>...</td>\n",
              "      <td>...</td>\n",
              "      <td>...</td>\n",
              "      <td>...</td>\n",
              "      <td>...</td>\n",
              "    </tr>\n",
              "    <tr>\n",
              "      <th>148510</th>\n",
              "      <td>-0.745114</td>\n",
              "      <td>-0.121176</td>\n",
              "      <td>0.638118</td>\n",
              "      <td>-0.628706</td>\n",
              "      <td>-0.408084</td>\n",
              "      <td>0.096112</td>\n",
              "      <td>0.518219</td>\n",
              "      <td>-0.422750</td>\n",
              "      <td>0.203252</td>\n",
              "      <td>0.078130</td>\n",
              "      <td>-0.336635</td>\n",
              "      <td>0.288477</td>\n",
              "      <td>0.142605</td>\n",
              "      <td>-0.110936</td>\n",
              "      <td>0.124525</td>\n",
              "      <td>-0.009756</td>\n",
              "      <td>-0.025701</td>\n",
              "      <td>-0.099058</td>\n",
              "      <td>-0.118726</td>\n",
              "      <td>-0.072920</td>\n",
              "      <td>0.063698</td>\n",
              "      <td>-0.036403</td>\n",
              "      <td>0.031837</td>\n",
              "      <td>0.006437</td>\n",
              "      <td>0.008970</td>\n",
              "      <td>-0.018430</td>\n",
              "      <td>-0.002888</td>\n",
              "      <td>0.001997</td>\n",
              "      <td>0.000816</td>\n",
              "      <td>-0.007001</td>\n",
              "      <td>-0.003137</td>\n",
              "      <td>0.000367</td>\n",
              "      <td>-0.000045</td>\n",
              "      <td>4.486348e-04</td>\n",
              "      <td>0.000576</td>\n",
              "      <td>0.000849</td>\n",
              "      <td>0.000225</td>\n",
              "      <td>1.465744e-04</td>\n",
              "      <td>-0.000046</td>\n",
              "      <td>-0.000002</td>\n",
              "      <td>-2.871573e-20</td>\n",
              "      <td>dos</td>\n",
              "    </tr>\n",
              "    <tr>\n",
              "      <th>148511</th>\n",
              "      <td>-0.828475</td>\n",
              "      <td>-0.226192</td>\n",
              "      <td>-0.170238</td>\n",
              "      <td>0.320094</td>\n",
              "      <td>0.390840</td>\n",
              "      <td>-0.140440</td>\n",
              "      <td>-0.092445</td>\n",
              "      <td>0.016003</td>\n",
              "      <td>0.132751</td>\n",
              "      <td>-0.274037</td>\n",
              "      <td>0.017808</td>\n",
              "      <td>0.076274</td>\n",
              "      <td>-0.019840</td>\n",
              "      <td>0.029050</td>\n",
              "      <td>-0.046854</td>\n",
              "      <td>-0.007740</td>\n",
              "      <td>0.002475</td>\n",
              "      <td>-0.028750</td>\n",
              "      <td>-0.003083</td>\n",
              "      <td>0.004940</td>\n",
              "      <td>-0.004040</td>\n",
              "      <td>-0.006299</td>\n",
              "      <td>0.005721</td>\n",
              "      <td>-0.010642</td>\n",
              "      <td>-0.000314</td>\n",
              "      <td>0.000212</td>\n",
              "      <td>-0.000513</td>\n",
              "      <td>-0.000696</td>\n",
              "      <td>-0.000264</td>\n",
              "      <td>-0.002796</td>\n",
              "      <td>-0.003126</td>\n",
              "      <td>-0.000364</td>\n",
              "      <td>-0.000913</td>\n",
              "      <td>-2.476098e-04</td>\n",
              "      <td>-0.000432</td>\n",
              "      <td>-0.000363</td>\n",
              "      <td>-0.000053</td>\n",
              "      <td>-7.250437e-05</td>\n",
              "      <td>0.000015</td>\n",
              "      <td>0.000005</td>\n",
              "      <td>-9.667916e-20</td>\n",
              "      <td>normal</td>\n",
              "    </tr>\n",
              "    <tr>\n",
              "      <th>148512</th>\n",
              "      <td>-1.049307</td>\n",
              "      <td>-0.351544</td>\n",
              "      <td>-0.396084</td>\n",
              "      <td>-0.037051</td>\n",
              "      <td>-0.019923</td>\n",
              "      <td>0.134743</td>\n",
              "      <td>0.058345</td>\n",
              "      <td>-0.062198</td>\n",
              "      <td>0.027576</td>\n",
              "      <td>0.074528</td>\n",
              "      <td>-0.027545</td>\n",
              "      <td>0.004143</td>\n",
              "      <td>0.027366</td>\n",
              "      <td>-0.000850</td>\n",
              "      <td>-0.024062</td>\n",
              "      <td>-0.017013</td>\n",
              "      <td>-0.002245</td>\n",
              "      <td>-0.000539</td>\n",
              "      <td>-0.006954</td>\n",
              "      <td>-0.009786</td>\n",
              "      <td>-0.005166</td>\n",
              "      <td>0.004367</td>\n",
              "      <td>0.005394</td>\n",
              "      <td>-0.001198</td>\n",
              "      <td>0.003874</td>\n",
              "      <td>0.004011</td>\n",
              "      <td>-0.000313</td>\n",
              "      <td>0.000200</td>\n",
              "      <td>0.000334</td>\n",
              "      <td>0.000344</td>\n",
              "      <td>-0.000387</td>\n",
              "      <td>-0.000128</td>\n",
              "      <td>-0.000864</td>\n",
              "      <td>2.449742e-05</td>\n",
              "      <td>0.000001</td>\n",
              "      <td>-0.000018</td>\n",
              "      <td>0.000019</td>\n",
              "      <td>6.562754e-05</td>\n",
              "      <td>0.000001</td>\n",
              "      <td>0.000005</td>\n",
              "      <td>-5.535031e-19</td>\n",
              "      <td>normal</td>\n",
              "    </tr>\n",
              "    <tr>\n",
              "      <th>148513</th>\n",
              "      <td>-1.005687</td>\n",
              "      <td>-0.286393</td>\n",
              "      <td>-0.491145</td>\n",
              "      <td>-0.172798</td>\n",
              "      <td>0.005716</td>\n",
              "      <td>0.231617</td>\n",
              "      <td>0.079806</td>\n",
              "      <td>-0.155350</td>\n",
              "      <td>0.040089</td>\n",
              "      <td>0.106986</td>\n",
              "      <td>-0.038570</td>\n",
              "      <td>-0.008078</td>\n",
              "      <td>0.062296</td>\n",
              "      <td>0.051919</td>\n",
              "      <td>-0.035847</td>\n",
              "      <td>0.015813</td>\n",
              "      <td>0.006642</td>\n",
              "      <td>-0.001734</td>\n",
              "      <td>0.022999</td>\n",
              "      <td>-0.044650</td>\n",
              "      <td>0.012901</td>\n",
              "      <td>0.016726</td>\n",
              "      <td>0.014883</td>\n",
              "      <td>-0.001526</td>\n",
              "      <td>0.003433</td>\n",
              "      <td>0.000489</td>\n",
              "      <td>-0.003242</td>\n",
              "      <td>-0.000932</td>\n",
              "      <td>-0.002881</td>\n",
              "      <td>-0.010429</td>\n",
              "      <td>0.015689</td>\n",
              "      <td>-0.000320</td>\n",
              "      <td>-0.001084</td>\n",
              "      <td>-1.077986e-04</td>\n",
              "      <td>-0.000460</td>\n",
              "      <td>-0.001058</td>\n",
              "      <td>0.000144</td>\n",
              "      <td>1.671449e-04</td>\n",
              "      <td>-0.000012</td>\n",
              "      <td>-0.000085</td>\n",
              "      <td>-5.755410e-19</td>\n",
              "      <td>dos</td>\n",
              "    </tr>\n",
              "    <tr>\n",
              "      <th>148514</th>\n",
              "      <td>-0.721211</td>\n",
              "      <td>-0.169021</td>\n",
              "      <td>0.034085</td>\n",
              "      <td>-0.753098</td>\n",
              "      <td>-0.332777</td>\n",
              "      <td>0.191829</td>\n",
              "      <td>-0.507982</td>\n",
              "      <td>0.133428</td>\n",
              "      <td>-0.089508</td>\n",
              "      <td>0.241641</td>\n",
              "      <td>-0.063088</td>\n",
              "      <td>-0.051173</td>\n",
              "      <td>0.040629</td>\n",
              "      <td>0.009112</td>\n",
              "      <td>-0.003332</td>\n",
              "      <td>-0.066052</td>\n",
              "      <td>0.000119</td>\n",
              "      <td>-0.044890</td>\n",
              "      <td>-0.007787</td>\n",
              "      <td>-0.019953</td>\n",
              "      <td>0.061221</td>\n",
              "      <td>-0.013790</td>\n",
              "      <td>-0.012245</td>\n",
              "      <td>0.004629</td>\n",
              "      <td>0.002838</td>\n",
              "      <td>-0.006727</td>\n",
              "      <td>-0.000629</td>\n",
              "      <td>0.000395</td>\n",
              "      <td>-0.001380</td>\n",
              "      <td>-0.003629</td>\n",
              "      <td>-0.002035</td>\n",
              "      <td>0.000371</td>\n",
              "      <td>-0.000321</td>\n",
              "      <td>3.091193e-04</td>\n",
              "      <td>0.000544</td>\n",
              "      <td>0.000437</td>\n",
              "      <td>0.000012</td>\n",
              "      <td>8.544016e-05</td>\n",
              "      <td>0.000019</td>\n",
              "      <td>0.000002</td>\n",
              "      <td>-2.092787e-19</td>\n",
              "      <td>normal</td>\n",
              "    </tr>\n",
              "  </tbody>\n",
              "</table>\n",
              "<p>130440 rows × 42 columns</p>\n",
              "</div>"
            ],
            "text/plain": [
              "        column 0  column 1  column 2  ...  column 39     column 40  type_attack\n",
              "0      -0.210454  0.109517  0.558613  ...  -0.000011 -9.558075e-18       normal\n",
              "1       0.295173  0.354357  0.747835  ...  -0.000007  1.162525e-17       normal\n",
              "2       1.730388 -0.587896 -0.089366  ...   0.000003  4.430353e-17          dos\n",
              "3      -1.010287 -0.469081 -0.215443  ...  -0.000002 -5.469062e-17       normal\n",
              "4      -0.999356 -0.337932 -0.496051  ...   0.000007 -5.792824e-19       normal\n",
              "...          ...       ...       ...  ...        ...           ...          ...\n",
              "148510 -0.745114 -0.121176  0.638118  ...  -0.000002 -2.871573e-20          dos\n",
              "148511 -0.828475 -0.226192 -0.170238  ...   0.000005 -9.667916e-20       normal\n",
              "148512 -1.049307 -0.351544 -0.396084  ...   0.000005 -5.535031e-19       normal\n",
              "148513 -1.005687 -0.286393 -0.491145  ...  -0.000085 -5.755410e-19          dos\n",
              "148514 -0.721211 -0.169021  0.034085  ...   0.000002 -2.092787e-19       normal\n",
              "\n",
              "[130440 rows x 42 columns]"
            ]
          },
          "metadata": {
            "tags": []
          },
          "execution_count": 27
        }
      ]
    },
    {
      "cell_type": "code",
      "metadata": {
        "id": "kTdGJb6hH94d",
        "colab_type": "code",
        "colab": {}
      },
      "source": [
        "# Convert data training ke CSV\n",
        "dataPCA2.to_csv('dataPCA2.csv',index=False)"
      ],
      "execution_count": 0,
      "outputs": []
    },
    {
      "cell_type": "code",
      "metadata": {
        "id": "EjdVsN__IN0o",
        "colab_type": "code",
        "colab": {}
      },
      "source": [
        "X = dataPCA2.loc[:, :'column 40']\n",
        "y = dataPCA2.loc[:, 'type_attack']\n",
        "\n",
        "y = y.astype(str)\n",
        "\n",
        "temp = set(y)\n",
        "\n",
        "X_train, X_test, y_train, y_test = train_test_split(X, y, test_size=0.3, train_size =0.7, random_state=5)\n",
        "\n",
        "clf = MLPClassifier(random_state = 5)"
      ],
      "execution_count": 0,
      "outputs": []
    },
    {
      "cell_type": "code",
      "metadata": {
        "id": "PlGY-ZbBIRKR",
        "colab_type": "code",
        "colab": {}
      },
      "source": [
        "# menggunakan model dataBiasa\n",
        "clf = joblib.load('dataBiasa.pkl')"
      ],
      "execution_count": 0,
      "outputs": []
    },
    {
      "cell_type": "code",
      "metadata": {
        "id": "Hf1K0Hj4J0dM",
        "colab_type": "code",
        "colab": {}
      },
      "source": [
        "pred = clf.predict(X_test)"
      ],
      "execution_count": 0,
      "outputs": []
    },
    {
      "cell_type": "code",
      "metadata": {
        "id": "zttBQ3IjJ3n1",
        "colab_type": "code",
        "outputId": "1985535b-09cc-48ca-edd4-be3ab81f9866",
        "colab": {
          "base_uri": "https://localhost:8080/",
          "height": 34
        }
      },
      "source": [
        "print(f\"predict time : {stop - start}s\")"
      ],
      "execution_count": 32,
      "outputs": [
        {
          "output_type": "stream",
          "text": [
            "predict time : 404.4206235408783s\n"
          ],
          "name": "stdout"
        }
      ]
    },
    {
      "cell_type": "code",
      "metadata": {
        "id": "d1o_dsgRJ5Y2",
        "colab_type": "code",
        "outputId": "fa074908-73aa-49ea-d0e3-bd55da24ffdb",
        "colab": {
          "base_uri": "https://localhost:8080/",
          "height": 34
        }
      },
      "source": [
        "accuracy_score(y_test,pred)"
      ],
      "execution_count": 33,
      "outputs": [
        {
          "output_type": "execute_result",
          "data": {
            "text/plain": [
              "0.6523305734437289"
            ]
          },
          "metadata": {
            "tags": []
          },
          "execution_count": 33
        }
      ]
    },
    {
      "cell_type": "code",
      "metadata": {
        "id": "QsR2GIpGJ94p",
        "colab_type": "code",
        "colab": {}
      },
      "source": [
        "clf = MLPClassifier(random_state = 5)\n",
        "scoring = {'accuracy': make_scorer(accuracy_score)}\n",
        "cv = ShuffleSplit(n_splits=3, test_size=0.3,train_size = 0.7, random_state=5)\n",
        "\n",
        "\n",
        "start = time.time()\n",
        "\n",
        "scores = cross_validate(clf, X, y, cv=cv, scoring=scoring, return_train_score=True)\n",
        "\n",
        "stop = time.time()"
      ],
      "execution_count": 0,
      "outputs": []
    },
    {
      "cell_type": "code",
      "metadata": {
        "id": "QEYjkrrcKCjx",
        "colab_type": "code",
        "outputId": "dfe78ce7-d458-40fb-de7a-add75bd73e81",
        "colab": {
          "base_uri": "https://localhost:8080/",
          "height": 34
        }
      },
      "source": [
        "print(f\"cross validation time : {stop - start}s\")"
      ],
      "execution_count": 35,
      "outputs": [
        {
          "output_type": "stream",
          "text": [
            "cross validation time : 84.16523146629333s\n"
          ],
          "name": "stdout"
        }
      ]
    },
    {
      "cell_type": "code",
      "metadata": {
        "id": "PQlBt0R7QwA-",
        "colab_type": "code",
        "outputId": "cc7d47f5-3bc4-46ed-ff33-33f95cef7515",
        "colab": {
          "base_uri": "https://localhost:8080/",
          "height": 54
        }
      },
      "source": [
        "print(scores)"
      ],
      "execution_count": 36,
      "outputs": [
        {
          "output_type": "stream",
          "text": [
            "{'fit_time': array([25.46152711, 29.62652421, 27.35395265]), 'score_time': array([0.18844986, 0.19039488, 0.18637919]), 'test_accuracy': array([0.99826229, 0.99862006, 0.99839006]), 'train_accuracy': array([0.99890481, 0.99902528, 0.99905813])}\n"
          ],
          "name": "stdout"
        }
      ]
    },
    {
      "cell_type": "code",
      "metadata": {
        "id": "l7aBVlyFKE5w",
        "colab_type": "code",
        "colab": {}
      },
      "source": [
        "### TRAIN ULANG TANPA MENGAMBIL MODEL LAIN\n",
        "\n",
        "X = dataPCA2.loc[:, :'column 40']\n",
        "y = dataPCA2.loc[:, 'type_attack']\n",
        "\n",
        "y = y.astype(str)\n",
        "\n",
        "temp = set(y)\n",
        "\n",
        "X_train, X_test, y_train, y_test = train_test_split(X, y, test_size=0.3, train_size =0.7, random_state=5)\n",
        "\n",
        "clf = MLPClassifier(random_state = 5)"
      ],
      "execution_count": 0,
      "outputs": []
    },
    {
      "cell_type": "code",
      "metadata": {
        "id": "jToQ9aZwKQ_1",
        "colab_type": "code",
        "colab": {}
      },
      "source": [
        "start = time.time()\n",
        "\n",
        "clf.fit(X_train, y_train)\n",
        "\n",
        "stop = time.time()"
      ],
      "execution_count": 0,
      "outputs": []
    },
    {
      "cell_type": "code",
      "metadata": {
        "id": "OBJXRejoKa3s",
        "colab_type": "code",
        "outputId": "e7548b5f-6003-44b4-e7cf-b1326adea993",
        "colab": {
          "base_uri": "https://localhost:8080/",
          "height": 34
        }
      },
      "source": [
        "print(f\"training time : {stop - start}s\")"
      ],
      "execution_count": 39,
      "outputs": [
        {
          "output_type": "stream",
          "text": [
            "training time : 25.132624864578247s\n"
          ],
          "name": "stdout"
        }
      ]
    },
    {
      "cell_type": "code",
      "metadata": {
        "id": "r6JSq4AtKdN-",
        "colab_type": "code",
        "outputId": "7bd9f99c-7d32-4661-d000-4fc819b614f1",
        "colab": {
          "base_uri": "https://localhost:8080/",
          "height": 34
        }
      },
      "source": [
        "joblib.dump(clf, 'modelPCA_41.pkl') "
      ],
      "execution_count": 40,
      "outputs": [
        {
          "output_type": "execute_result",
          "data": {
            "text/plain": [
              "['modelPCA_41.pkl']"
            ]
          },
          "metadata": {
            "tags": []
          },
          "execution_count": 40
        }
      ]
    },
    {
      "cell_type": "code",
      "metadata": {
        "id": "m62ld6IYKl9j",
        "colab_type": "code",
        "outputId": "20b7f94a-c32d-4d63-939d-1dbc8d930483",
        "colab": {
          "base_uri": "https://localhost:8080/",
          "height": 34
        }
      },
      "source": [
        "pred = clf.predict(X_test)\n",
        "\n",
        "accuracy_score(y_test,pred)"
      ],
      "execution_count": 41,
      "outputs": [
        {
          "output_type": "execute_result",
          "data": {
            "text/plain": [
              "0.998262291730553"
            ]
          },
          "metadata": {
            "tags": []
          },
          "execution_count": 41
        }
      ]
    },
    {
      "cell_type": "code",
      "metadata": {
        "id": "g7zX-uheKpMu",
        "colab_type": "code",
        "colab": {}
      },
      "source": [
        "clf = MLPClassifier(random_state = 5)\n",
        "scoring = {'accuracy': make_scorer(accuracy_score)}\n",
        "cv = ShuffleSplit(n_splits=3, test_size=0.3,train_size = 0.7, random_state=5)\n",
        "\n",
        "\n",
        "start = time.time()\n",
        "\n",
        "scores = cross_validate(clf, X, y, cv=cv, scoring=scoring, return_train_score=True)\n",
        "\n",
        "stop = time.time()"
      ],
      "execution_count": 0,
      "outputs": []
    },
    {
      "cell_type": "code",
      "metadata": {
        "id": "bAKIony9KwEY",
        "colab_type": "code",
        "outputId": "87385735-8fa6-45e0-80a6-0d7b8923278b",
        "colab": {
          "base_uri": "https://localhost:8080/",
          "height": 34
        }
      },
      "source": [
        "print(f\"X val time : {stop - start}s\")"
      ],
      "execution_count": 43,
      "outputs": [
        {
          "output_type": "stream",
          "text": [
            "X val time : 83.2529239654541s\n"
          ],
          "name": "stdout"
        }
      ]
    },
    {
      "cell_type": "code",
      "metadata": {
        "id": "ORAGdqIcQsUQ",
        "colab_type": "code",
        "outputId": "f8ce4d06-36aa-4f46-c7fd-8225e9e4e8f6",
        "colab": {
          "base_uri": "https://localhost:8080/",
          "height": 54
        }
      },
      "source": [
        "print(scores)"
      ],
      "execution_count": 44,
      "outputs": [
        {
          "output_type": "stream",
          "text": [
            "{'fit_time': array([24.85934162, 29.77648568, 26.89520621]), 'score_time': array([0.18868661, 0.18813872, 0.19872117]), 'test_accuracy': array([0.99826229, 0.99862006, 0.99839006]), 'train_accuracy': array([0.99890481, 0.99902528, 0.99905813])}\n"
          ],
          "name": "stdout"
        }
      ]
    },
    {
      "cell_type": "code",
      "metadata": {
        "id": "DLLHjiLkK94e",
        "colab_type": "code",
        "colab": {}
      },
      "source": [
        "###### 1,3,5,18,41\n",
        "\n",
        "#### 18 fitur\n",
        "\n",
        "X = dataPCA2.loc[:, :'column 17']\n",
        "y = dataPCA2.loc[:, 'type_attack']\n",
        "\n",
        "y = y.astype(str)\n",
        "\n",
        "temp = set(y)\n",
        "\n",
        "X_train, X_test, y_train, y_test = train_test_split(X, y, test_size=0.3, train_size =0.7, random_state=5)\n",
        "\n",
        "clf = MLPClassifier(random_state = 5)"
      ],
      "execution_count": 0,
      "outputs": []
    },
    {
      "cell_type": "code",
      "metadata": {
        "id": "H7Qv-0P_Libk",
        "colab_type": "code",
        "colab": {}
      },
      "source": [
        "start = time.time()\n",
        "\n",
        "clf.fit(X_train, y_train)\n",
        "\n",
        "stop = time.time()"
      ],
      "execution_count": 0,
      "outputs": []
    },
    {
      "cell_type": "code",
      "metadata": {
        "id": "folYKAtOLm4r",
        "colab_type": "code",
        "outputId": "7ee71f87-a10e-4eaa-8fec-440a83c40c01",
        "colab": {
          "base_uri": "https://localhost:8080/",
          "height": 34
        }
      },
      "source": [
        "print(f\"training time : {stop - start}s\")"
      ],
      "execution_count": 47,
      "outputs": [
        {
          "output_type": "stream",
          "text": [
            "training time : 48.523130655288696s\n"
          ],
          "name": "stdout"
        }
      ]
    },
    {
      "cell_type": "code",
      "metadata": {
        "id": "_EorUZPWLquz",
        "colab_type": "code",
        "outputId": "fac41505-eddf-47b5-cfd6-5643725f4ba5",
        "colab": {
          "base_uri": "https://localhost:8080/",
          "height": 34
        }
      },
      "source": [
        "joblib.dump(clf, 'modelPCA_18.pkl') "
      ],
      "execution_count": 48,
      "outputs": [
        {
          "output_type": "execute_result",
          "data": {
            "text/plain": [
              "['modelPCA_18.pkl']"
            ]
          },
          "metadata": {
            "tags": []
          },
          "execution_count": 48
        }
      ]
    },
    {
      "cell_type": "code",
      "metadata": {
        "id": "UxFFa2ObLvJL",
        "colab_type": "code",
        "outputId": "1df59d9d-a074-4da6-a746-50c59d83df49",
        "colab": {
          "base_uri": "https://localhost:8080/",
          "height": 34
        }
      },
      "source": [
        "pred = clf.predict(X_test)\n",
        "\n",
        "accuracy_score(y_test,pred)"
      ],
      "execution_count": 49,
      "outputs": [
        {
          "output_type": "execute_result",
          "data": {
            "text/plain": [
              "0.9965756925278545"
            ]
          },
          "metadata": {
            "tags": []
          },
          "execution_count": 49
        }
      ]
    },
    {
      "cell_type": "code",
      "metadata": {
        "id": "RKezjsfALyen",
        "colab_type": "code",
        "colab": {}
      },
      "source": [
        "clf = MLPClassifier(random_state = 5)\n",
        "scoring = {'accuracy': make_scorer(accuracy_score)}\n",
        "cv = ShuffleSplit(n_splits=3, test_size=0.3,train_size = 0.7, random_state=5)\n",
        "\n",
        "\n",
        "start = time.time()\n",
        "\n",
        "scores = cross_validate(clf, X, y, cv=cv, scoring=scoring, return_train_score=True)\n",
        "\n",
        "stop = time.time()"
      ],
      "execution_count": 0,
      "outputs": []
    },
    {
      "cell_type": "code",
      "metadata": {
        "id": "ce8AXm1SQWC3",
        "colab_type": "code",
        "outputId": "65a30859-efaa-493e-b5b0-7e88760d8a2f",
        "colab": {
          "base_uri": "https://localhost:8080/",
          "height": 34
        }
      },
      "source": [
        "print(f\"X val time : {stop - start}s\")"
      ],
      "execution_count": 51,
      "outputs": [
        {
          "output_type": "stream",
          "text": [
            "X val time : 142.9196331501007s\n"
          ],
          "name": "stdout"
        }
      ]
    },
    {
      "cell_type": "code",
      "metadata": {
        "id": "TEFunnX0QXMi",
        "colab_type": "code",
        "outputId": "9618224f-248b-4a5c-9141-83f6a33b287c",
        "colab": {
          "base_uri": "https://localhost:8080/",
          "height": 54
        }
      },
      "source": [
        "print(scores)"
      ],
      "execution_count": 52,
      "outputs": [
        {
          "output_type": "stream",
          "text": [
            "{'fit_time': array([48.43742418, 49.35169196, 43.46218276]), 'score_time': array([0.1825459 , 0.18449235, 0.18639898]), 'test_accuracy': array([0.99657569, 0.9969079 , 0.99642237]), 'train_accuracy': array([0.99703202, 0.99731677, 0.99694441])}\n"
          ],
          "name": "stdout"
        }
      ]
    },
    {
      "cell_type": "code",
      "metadata": {
        "colab_type": "code",
        "id": "No0BoFUiQjHV",
        "colab": {}
      },
      "source": [
        "#### 5 fitur\n",
        "\n",
        "X = dataPCA2.loc[:, :'column 4']\n",
        "y = dataPCA2.loc[:, 'type_attack']\n",
        "\n",
        "y = y.astype(str)\n",
        "\n",
        "temp = set(y)\n",
        "\n",
        "X_train, X_test, y_train, y_test = train_test_split(X, y, test_size=0.3, train_size =0.7, random_state=5)\n",
        "\n",
        "clf = MLPClassifier(random_state = 5)"
      ],
      "execution_count": 0,
      "outputs": []
    },
    {
      "cell_type": "code",
      "metadata": {
        "id": "749_SiECQpul",
        "colab_type": "code",
        "outputId": "967c88b6-c703-4c05-8ad9-732c63fce529",
        "colab": {
          "base_uri": "https://localhost:8080/",
          "height": 71
        }
      },
      "source": [
        "start = time.time()\n",
        "\n",
        "clf.fit(X_train, y_train)\n",
        "\n",
        "stop = time.time()"
      ],
      "execution_count": 54,
      "outputs": [
        {
          "output_type": "stream",
          "text": [
            "/usr/local/lib/python3.6/dist-packages/sklearn/neural_network/_multilayer_perceptron.py:571: ConvergenceWarning: Stochastic Optimizer: Maximum iterations (200) reached and the optimization hasn't converged yet.\n",
            "  % self.max_iter, ConvergenceWarning)\n"
          ],
          "name": "stderr"
        }
      ]
    },
    {
      "cell_type": "code",
      "metadata": {
        "id": "okyCTvRvQ-MC",
        "colab_type": "code",
        "outputId": "2d4b98a0-d8a2-4950-ae0e-3f2898ef75b0",
        "colab": {
          "base_uri": "https://localhost:8080/",
          "height": 34
        }
      },
      "source": [
        "print(f\"training time : {stop - start}s\")"
      ],
      "execution_count": 55,
      "outputs": [
        {
          "output_type": "stream",
          "text": [
            "training time : 94.59424686431885s\n"
          ],
          "name": "stdout"
        }
      ]
    },
    {
      "cell_type": "code",
      "metadata": {
        "id": "nAMOsUw1RCyT",
        "colab_type": "code",
        "outputId": "1bd48f26-b68c-4704-d7a0-8d4a8b91b87f",
        "colab": {
          "base_uri": "https://localhost:8080/",
          "height": 34
        }
      },
      "source": [
        "#### SAVE model\n",
        "joblib.dump(clf, 'modelPCA_5.pkl') "
      ],
      "execution_count": 56,
      "outputs": [
        {
          "output_type": "execute_result",
          "data": {
            "text/plain": [
              "['modelPCA_5.pkl']"
            ]
          },
          "metadata": {
            "tags": []
          },
          "execution_count": 56
        }
      ]
    },
    {
      "cell_type": "code",
      "metadata": {
        "id": "sD-uHmVlRIXk",
        "colab_type": "code",
        "outputId": "91999899-9925-4448-f3a2-c7248a46dacb",
        "colab": {
          "base_uri": "https://localhost:8080/",
          "height": 34
        }
      },
      "source": [
        "pred = clf.predict(X_test)\n",
        "\n",
        "accuracy_score(y_test,pred)"
      ],
      "execution_count": 57,
      "outputs": [
        {
          "output_type": "execute_result",
          "data": {
            "text/plain": [
              "0.987606051313503"
            ]
          },
          "metadata": {
            "tags": []
          },
          "execution_count": 57
        }
      ]
    },
    {
      "cell_type": "code",
      "metadata": {
        "id": "DxHwCSX2RM0M",
        "colab_type": "code",
        "colab": {}
      },
      "source": [
        "clf = MLPClassifier(random_state = 5)\n",
        "scoring = {'accuracy': make_scorer(accuracy_score)}\n",
        "cv = ShuffleSplit(n_splits=3, test_size=0.3,train_size = 0.7, random_state=5)\n"
      ],
      "execution_count": 0,
      "outputs": []
    },
    {
      "cell_type": "code",
      "metadata": {
        "id": "ZKszx_HIS7Wl",
        "colab_type": "code",
        "outputId": "fb2bd675-bcfe-4cbf-c737-1bfbb67f94f8",
        "colab": {
          "base_uri": "https://localhost:8080/",
          "height": 71
        }
      },
      "source": [
        "start = time.time()\n",
        "\n",
        "scores = cross_validate(clf, X, y, cv=cv, scoring=scoring, return_train_score=True)\n",
        "\n",
        "stop = time.time()"
      ],
      "execution_count": 59,
      "outputs": [
        {
          "output_type": "stream",
          "text": [
            "/usr/local/lib/python3.6/dist-packages/sklearn/neural_network/_multilayer_perceptron.py:571: ConvergenceWarning: Stochastic Optimizer: Maximum iterations (200) reached and the optimization hasn't converged yet.\n",
            "  % self.max_iter, ConvergenceWarning)\n"
          ],
          "name": "stderr"
        }
      ]
    },
    {
      "cell_type": "code",
      "metadata": {
        "id": "ou7ZelsBRRNJ",
        "colab_type": "code",
        "outputId": "3756b124-7c8b-461e-b3ed-027b628e87a2",
        "colab": {
          "base_uri": "https://localhost:8080/",
          "height": 34
        }
      },
      "source": [
        "print(f\"X val time : {stop - start}s\")"
      ],
      "execution_count": 60,
      "outputs": [
        {
          "output_type": "stream",
          "text": [
            "X val time : 270.6847085952759s\n"
          ],
          "name": "stdout"
        }
      ]
    },
    {
      "cell_type": "code",
      "metadata": {
        "id": "lJ_0fcM0RT_T",
        "colab_type": "code",
        "outputId": "986a33dc-bb19-4ddd-96f4-bcb3a07ca753",
        "colab": {
          "base_uri": "https://localhost:8080/",
          "height": 54
        }
      },
      "source": [
        "print(scores)"
      ],
      "execution_count": 61,
      "outputs": [
        {
          "output_type": "stream",
          "text": [
            "{'fit_time': array([94.62523341, 82.33732462, 92.04099655]), 'score_time': array([0.1880877 , 0.1824398 , 0.18933606]), 'test_accuracy': array([0.98760605, 0.98709496, 0.98630277]), 'train_accuracy': array([0.9875805 , 0.98754764, 0.98737241])}\n"
          ],
          "name": "stdout"
        }
      ]
    },
    {
      "cell_type": "code",
      "metadata": {
        "id": "-XmcmGKPRYFT",
        "colab_type": "code",
        "colab": {}
      },
      "source": [
        "#### 3 fitur\n",
        "\n",
        "X = dataPCA2.loc[:, :'column 2']\n",
        "y = dataPCA2.loc[:, 'type_attack']\n",
        "\n",
        "y = y.astype(str)\n",
        "\n",
        "temp = set(y)\n",
        "\n",
        "X_train, X_test, y_train, y_test = train_test_split(X, y, test_size=0.3, train_size =0.7, random_state=5)\n",
        "\n",
        "clf = MLPClassifier(random_state = 5)"
      ],
      "execution_count": 0,
      "outputs": []
    },
    {
      "cell_type": "code",
      "metadata": {
        "id": "NTUjjr9oTBas",
        "colab_type": "code",
        "outputId": "d44ea9e1-1874-4f7c-fd14-ae3ea02418c0",
        "colab": {
          "base_uri": "https://localhost:8080/",
          "height": 71
        }
      },
      "source": [
        "start = time.time()\n",
        "\n",
        "clf.fit(X_train, y_train)\n",
        "\n",
        "stop = time.time()"
      ],
      "execution_count": 63,
      "outputs": [
        {
          "output_type": "stream",
          "text": [
            "/usr/local/lib/python3.6/dist-packages/sklearn/neural_network/_multilayer_perceptron.py:571: ConvergenceWarning: Stochastic Optimizer: Maximum iterations (200) reached and the optimization hasn't converged yet.\n",
            "  % self.max_iter, ConvergenceWarning)\n"
          ],
          "name": "stderr"
        }
      ]
    },
    {
      "cell_type": "code",
      "metadata": {
        "id": "tMa7_EzoRnOZ",
        "colab_type": "code",
        "outputId": "d3deba47-01ee-44ea-b96f-1a566fb0cc2f",
        "colab": {
          "base_uri": "https://localhost:8080/",
          "height": 34
        }
      },
      "source": [
        "print(f\"training time : {stop - start}s\")"
      ],
      "execution_count": 64,
      "outputs": [
        {
          "output_type": "stream",
          "text": [
            "training time : 79.12559294700623s\n"
          ],
          "name": "stdout"
        }
      ]
    },
    {
      "cell_type": "code",
      "metadata": {
        "id": "KERDD5ChSEN3",
        "colab_type": "code",
        "outputId": "4b79810b-36b6-48f6-8cd1-aefc6f2247c0",
        "colab": {
          "base_uri": "https://localhost:8080/",
          "height": 34
        }
      },
      "source": [
        "#### SAVE model\n",
        "\n",
        "joblib.dump(clf, 'modelPCA_3.pkl') "
      ],
      "execution_count": 65,
      "outputs": [
        {
          "output_type": "execute_result",
          "data": {
            "text/plain": [
              "['modelPCA_3.pkl']"
            ]
          },
          "metadata": {
            "tags": []
          },
          "execution_count": 65
        }
      ]
    },
    {
      "cell_type": "code",
      "metadata": {
        "id": "abHDViQmV9mK",
        "colab_type": "code",
        "outputId": "7c470f39-34b7-4836-f628-d260437578b0",
        "colab": {
          "base_uri": "https://localhost:8080/",
          "height": 34
        }
      },
      "source": [
        "pred = clf.predict(X_test)\n",
        "\n",
        "accuracy_score(y_test,pred)"
      ],
      "execution_count": 66,
      "outputs": [
        {
          "output_type": "execute_result",
          "data": {
            "text/plain": [
              "0.9704845139527752"
            ]
          },
          "metadata": {
            "tags": []
          },
          "execution_count": 66
        }
      ]
    },
    {
      "cell_type": "code",
      "metadata": {
        "id": "gSMItzFUSdQi",
        "colab_type": "code",
        "colab": {}
      },
      "source": [
        "clf = MLPClassifier(random_state = 5)\n",
        "scoring = {'accuracy': make_scorer(accuracy_score)}\n",
        "cv = ShuffleSplit(n_splits=3, test_size=0.3,train_size = 0.7, random_state=5)"
      ],
      "execution_count": 0,
      "outputs": []
    },
    {
      "cell_type": "code",
      "metadata": {
        "id": "IU3S2DK5THCu",
        "colab_type": "code",
        "outputId": "0ee2f399-2b0f-492f-931a-79f7b7318eb0",
        "colab": {
          "base_uri": "https://localhost:8080/",
          "height": 139
        }
      },
      "source": [
        "start = time.time()\n",
        "\n",
        "scores = cross_validate(clf, X, y, cv=cv, scoring=scoring, return_train_score=True)\n",
        "\n",
        "stop = time.time()"
      ],
      "execution_count": 68,
      "outputs": [
        {
          "output_type": "stream",
          "text": [
            "/usr/local/lib/python3.6/dist-packages/sklearn/neural_network/_multilayer_perceptron.py:571: ConvergenceWarning: Stochastic Optimizer: Maximum iterations (200) reached and the optimization hasn't converged yet.\n",
            "  % self.max_iter, ConvergenceWarning)\n",
            "/usr/local/lib/python3.6/dist-packages/sklearn/neural_network/_multilayer_perceptron.py:571: ConvergenceWarning: Stochastic Optimizer: Maximum iterations (200) reached and the optimization hasn't converged yet.\n",
            "  % self.max_iter, ConvergenceWarning)\n",
            "/usr/local/lib/python3.6/dist-packages/sklearn/neural_network/_multilayer_perceptron.py:571: ConvergenceWarning: Stochastic Optimizer: Maximum iterations (200) reached and the optimization hasn't converged yet.\n",
            "  % self.max_iter, ConvergenceWarning)\n"
          ],
          "name": "stderr"
        }
      ]
    },
    {
      "cell_type": "code",
      "metadata": {
        "id": "w2ZyPdboSo1l",
        "colab_type": "code",
        "outputId": "9a319435-adfe-4040-c04a-cfbd23f80fe2",
        "colab": {
          "base_uri": "https://localhost:8080/",
          "height": 34
        }
      },
      "source": [
        "print(f\"X val time : {stop - start}s\")"
      ],
      "execution_count": 69,
      "outputs": [
        {
          "output_type": "stream",
          "text": [
            "X val time : 238.92006134986877s\n"
          ],
          "name": "stdout"
        }
      ]
    },
    {
      "cell_type": "code",
      "metadata": {
        "id": "wWtxgIL-TH50",
        "colab_type": "code",
        "outputId": "44a4cb44-8cab-4654-e6cf-f1f6096b4d36",
        "colab": {
          "base_uri": "https://localhost:8080/",
          "height": 54
        }
      },
      "source": [
        "print(scores)"
      ],
      "execution_count": 70,
      "outputs": [
        {
          "output_type": "stream",
          "text": [
            "{'fit_time': array([80.09592628, 78.63339472, 78.63059974]), 'score_time': array([0.17278862, 0.17152023, 0.17317224]), 'test_accuracy': array([0.97048451, 0.96606358, 0.96683022]), 'train_accuracy': array([0.97052832, 0.96635563, 0.96921409])}\n"
          ],
          "name": "stdout"
        }
      ]
    },
    {
      "cell_type": "code",
      "metadata": {
        "id": "Tu3j6yZGTS2z",
        "colab_type": "code",
        "colab": {}
      },
      "source": [
        "#### 1 fitur\n",
        "\n",
        "X = dataPCA2.loc[:, :'column 0']\n",
        "y = dataPCA2.loc[:, 'type_attack']\n",
        "\n",
        "y = y.astype(str)\n",
        "\n",
        "temp = set(y)\n",
        "\n",
        "X_train, X_test, y_train, y_test = train_test_split(X, y, test_size=0.3, train_size =0.7, random_state=5)\n",
        "\n",
        "clf = MLPClassifier(random_state = 5)"
      ],
      "execution_count": 0,
      "outputs": []
    },
    {
      "cell_type": "code",
      "metadata": {
        "id": "NEHKQ_MRTaFB",
        "colab_type": "code",
        "colab": {}
      },
      "source": [
        "start = time.time()\n",
        "\n",
        "clf.fit(X_train, y_train)\n",
        "\n",
        "stop = time.time()"
      ],
      "execution_count": 0,
      "outputs": []
    },
    {
      "cell_type": "code",
      "metadata": {
        "id": "2f3HD7frTdCz",
        "colab_type": "code",
        "outputId": "9b04f3b6-b82c-4c79-e515-3f56cce694aa",
        "colab": {
          "base_uri": "https://localhost:8080/",
          "height": 34
        }
      },
      "source": [
        "print(f\"training time : {stop - start}s\")"
      ],
      "execution_count": 73,
      "outputs": [
        {
          "output_type": "stream",
          "text": [
            "training time : 42.969305753707886s\n"
          ],
          "name": "stdout"
        }
      ]
    },
    {
      "cell_type": "code",
      "metadata": {
        "id": "39twuZl6TgqX",
        "colab_type": "code",
        "outputId": "5715e0ff-d0d7-4b1c-8745-6de18b132a2a",
        "colab": {
          "base_uri": "https://localhost:8080/",
          "height": 34
        }
      },
      "source": [
        "### SAVE MODEL\n",
        "\n",
        "joblib.dump(clf, 'modelPCA_1.pkl') "
      ],
      "execution_count": 74,
      "outputs": [
        {
          "output_type": "execute_result",
          "data": {
            "text/plain": [
              "['modelPCA_1.pkl']"
            ]
          },
          "metadata": {
            "tags": []
          },
          "execution_count": 74
        }
      ]
    },
    {
      "cell_type": "code",
      "metadata": {
        "id": "jjcR0534Vrjl",
        "colab_type": "code",
        "outputId": "83fc56ee-0897-4dca-fcd1-f38bab184c66",
        "colab": {
          "base_uri": "https://localhost:8080/",
          "height": 34
        }
      },
      "source": [
        "pred = clf.predict(X_test)\n",
        "\n",
        "accuracy_score(y_test,pred)"
      ],
      "execution_count": 75,
      "outputs": [
        {
          "output_type": "execute_result",
          "data": {
            "text/plain": [
              "0.9432689359092303"
            ]
          },
          "metadata": {
            "tags": []
          },
          "execution_count": 75
        }
      ]
    },
    {
      "cell_type": "code",
      "metadata": {
        "id": "wJ8hKOmhTmWc",
        "colab_type": "code",
        "colab": {}
      },
      "source": [
        "clf = MLPClassifier(random_state = 5)\n",
        "scoring = {'accuracy': make_scorer(accuracy_score)}\n",
        "cv = ShuffleSplit(n_splits=3, test_size=0.3,train_size = 0.7, random_state=5)"
      ],
      "execution_count": 0,
      "outputs": []
    },
    {
      "cell_type": "code",
      "metadata": {
        "id": "Ohnqq6w0Tqc9",
        "colab_type": "code",
        "colab": {}
      },
      "source": [
        "start = time.time()\n",
        "\n",
        "scores = cross_validate(clf, X, y, cv=cv, scoring=scoring, return_train_score=True)\n",
        "\n",
        "stop = time.time()"
      ],
      "execution_count": 0,
      "outputs": []
    },
    {
      "cell_type": "code",
      "metadata": {
        "id": "GrI5UMXwTuKv",
        "colab_type": "code",
        "outputId": "4da2806f-b1cd-415d-a17f-9fc2bf46218d",
        "colab": {
          "base_uri": "https://localhost:8080/",
          "height": 34
        }
      },
      "source": [
        "print(f\"X val time : {stop - start}s\")"
      ],
      "execution_count": 78,
      "outputs": [
        {
          "output_type": "stream",
          "text": [
            "X val time : 132.62841176986694s\n"
          ],
          "name": "stdout"
        }
      ]
    },
    {
      "cell_type": "code",
      "metadata": {
        "id": "2jEako6kTxZf",
        "colab_type": "code",
        "outputId": "31006edc-a7a0-4aa1-e951-3253a7f79803",
        "colab": {
          "base_uri": "https://localhost:8080/",
          "height": 54
        }
      },
      "source": [
        "print(scores)"
      ],
      "execution_count": 79,
      "outputs": [
        {
          "output_type": "stream",
          "text": [
            "{'fit_time': array([43.2632463 , 60.74832034, 26.65770793]), 'score_time': array([0.23648596, 0.23588824, 0.2029283 ]), 'test_accuracy': array([0.94326894, 0.9436267 , 0.94240008]), 'train_accuracy': array([0.94355369, 0.94342226, 0.943937  ])}\n"
          ],
          "name": "stdout"
        }
      ]
    },
    {
      "cell_type": "markdown",
      "metadata": {
        "id": "R9j15ik_LTqq",
        "colab_type": "text"
      },
      "source": [
        "# Data Log tanpa PCA"
      ]
    },
    {
      "cell_type": "code",
      "metadata": {
        "id": "tCr1YNOBT20K",
        "colab_type": "code",
        "colab": {}
      },
      "source": [
        "df_log = pd.read_excel('/content/drive/My Drive/Tugas Akhir a.k.a SKRIPSI/Tugas Akhir - UPDATE JANUARI 2020/dataset/datatest_fromsnortlog.xlsx')"
      ],
      "execution_count": 0,
      "outputs": []
    },
    {
      "cell_type": "code",
      "metadata": {
        "id": "tIQDnQz0T-ZU",
        "colab_type": "code",
        "colab": {}
      },
      "source": [
        "# dicitionary untuk merubah tipe serangan menjadi lebih umum seperti Normal, DoS, Probe, U2R, dan R2L\n",
        "\n",
        "attack_dict={ #DOS\n",
        "    'back' : 'dos',\n",
        "    'land' : 'dos',\n",
        "    'neptune' : 'dos',\n",
        "    'pod' : 'dos',\n",
        "    'smurf' : 'dos',\n",
        "    'teardrop' : 'dos',\n",
        "    'apache2' : 'dos',\n",
        "    'udpstorm' : 'dos',\n",
        "    'processtable' : 'dos',\n",
        "    'worm' : 'dos',\n",
        "    'mailbomb' : 'dos',\n",
        "    \n",
        "    #probe\n",
        "    'satan' : 'probe',\n",
        "    'ipsweep' : 'probe',\n",
        "    'nmap' : 'probe',\n",
        "    'portsweep' : 'probe',\n",
        "    'mscan' : 'probe',\n",
        "    'saint' : 'probe',\n",
        "    \n",
        "    #R2L\n",
        "    'guess_passwd' : 'r2l',\n",
        "    'ftp_write' : 'r2l',\n",
        "    'imap' : 'r2l',\n",
        "    'phf' : 'r2l',\n",
        "    'multihop' : 'r2l',\n",
        "    'warezmaster' : 'r2l',\n",
        "    'warezclient' : 'r2l',\n",
        "    'spy' : 'r2l',\n",
        "    'xlock' : 'r2l',\n",
        "    'xsnoop': 'r2l',\n",
        "    'snmpguess' : 'r2l',\n",
        "    'snmpgetattack' : 'r2l',\n",
        "    'httptunnel' : 'r2l',\n",
        "    'sendmail' : 'r2l',\n",
        "    'named' : 'r2l',\n",
        "    \n",
        "    #U2R\n",
        "    'buffer_overflow' : 'u2r',\n",
        "    'loadmodule' : 'u2r',\n",
        "    'rootkit' : 'u2r',\n",
        "    'perl' : 'u2r',\n",
        "    'sqlattack' : 'u2r',\n",
        "    'xterm' : 'u2r',\n",
        "    'ps' : 'u2r'\n",
        "}\n",
        "\n",
        "protocol_dict ={\n",
        "    \"udp\" : 0,\n",
        "    \"tcp\" : 1,\n",
        "    \"icmp\": 2\n",
        "}\n",
        "\n",
        "service_dict={\n",
        "    \"Z39_50\" : 0,\n",
        "    \"X11\" : 1,\n",
        "    \"whois\" : 2,\n",
        "    \"vmnet\" : 3,\n",
        "    \"uucp_path\" : 4,\n",
        "    \"uucp\" : 5,\n",
        "    \"urp_i\" : 6,\n",
        "    \"urh_i\" : 7,\n",
        "    \"time\" : 8,\n",
        "    \"tim_i\" : 9,\n",
        "    \"tftp_u\" : 10,\n",
        "    \"telnet\" : 11,\n",
        "    \"systat\" : 12,\n",
        "    \"supdup\" : 13,\n",
        "    \"sunrpc\" : 14,\n",
        "    \"ssh\" : 15,\n",
        "    \"sql_net\" : 16,\n",
        "    \"smtp\" : 17,\n",
        "    \"shell\" : 18,\n",
        "    \"rje\" : 19,\n",
        "    \"remote_job\" : 20,\n",
        "    \"red_i\" : 21,\n",
        "    \"private\" : 22,\n",
        "    \"printer\" : 23,\n",
        "    \"pop_3\" : 24,\n",
        "    \"pop_2\" : 25,\n",
        "    \"pm_dump\" : 26,\n",
        "    \"other\" : 27,\n",
        "    \"ntp_u\" : 28,\n",
        "    \"nntp\" : 29,\n",
        "    \"nnsp\" : 30,\n",
        "    \"netstat\" : 31,\n",
        "    \"netbios_ssn\" : 32,\n",
        "    \"netbios_ns\" : 33,\n",
        "    \"netbios_dgm\" : 34,\n",
        "    \"name\" : 35,\n",
        "    \"mtp\" : 36,\n",
        "    \"login\" : 37,\n",
        "    \"link\" : 38,\n",
        "    \"ldap\" : 39,\n",
        "    \"kshell\" : 40,\n",
        "    \"klogin\" : 41,\n",
        "    \"iso_tsap\" : 42,\n",
        "    \"IRC\" : 43,\n",
        "    \"imap4\" : 44,\n",
        "    \"http_8001\" : 45,\n",
        "    \"http_443\" : 46,\n",
        "    \"http_2784\" : 47,\n",
        "    \"http\" : 48,\n",
        "    \"hostnames\" : 49,\n",
        "    \"harvest\" : 50,\n",
        "    \"gopher\" : 51,\n",
        "    \"ftp_data\" : 52,\n",
        "    \"ftp\" : 53,\n",
        "    \"finger\" :  54,\n",
        "    \"exec\" : 55,\n",
        "    \"efs\" : 56,\n",
        "    \"ecr_i\" : 57,\n",
        "    \"eco_i\" : 58,\n",
        "    \"echo\" : 59,\n",
        "    \"domain_u\" : 60,\n",
        "    \"domain\" : 61,\n",
        "    \"discard\" : 62,\n",
        "    \"daytime\" : 63,\n",
        "    \"ctf\" : 64,\n",
        "    \"csnet_ns\" : 65,\n",
        "    \"courier\" : 66,\n",
        "    \"bgp\" : 67,\n",
        "    \"auth\" : 68,\n",
        "    \"aol\" : 69\n",
        "\n",
        "}\n",
        "\n",
        "flag_dict={\n",
        "    \"SH\" : 0,\n",
        "    \"SF\" : 1,\n",
        "    \"S3\" : 2,\n",
        "    \"S2\" : 3,\n",
        "    \"S1\" : 4,\n",
        "    \"S0\" : 5,\n",
        "    \"RSTR\" : 6,\n",
        "    \"RSTOS0\" : 7,\n",
        "    \"RSTO\" : 8,\n",
        "    \"REJ\" : 9,\n",
        "    \"OTH\" : 10\n",
        "\n",
        "}\n",
        "\n",
        "\n",
        "\n",
        "df_log.replace(flag_dict, inplace = True)\n",
        "df_log.replace(service_dict, inplace = True)\n",
        "df_log.replace(protocol_dict, inplace = True)\n",
        "df_log.replace(attack_dict, inplace = True)"
      ],
      "execution_count": 0,
      "outputs": []
    },
    {
      "cell_type": "code",
      "metadata": {
        "id": "t0gSYWPBY8Sh",
        "colab_type": "code",
        "outputId": "2cdcdd86-244b-4bf2-ed6c-0f3cdf33a2ec",
        "colab": {
          "base_uri": "https://localhost:8080/",
          "height": 439
        }
      },
      "source": [
        "df_log"
      ],
      "execution_count": 82,
      "outputs": [
        {
          "output_type": "execute_result",
          "data": {
            "text/html": [
              "<div>\n",
              "<style scoped>\n",
              "    .dataframe tbody tr th:only-of-type {\n",
              "        vertical-align: middle;\n",
              "    }\n",
              "\n",
              "    .dataframe tbody tr th {\n",
              "        vertical-align: top;\n",
              "    }\n",
              "\n",
              "    .dataframe thead th {\n",
              "        text-align: right;\n",
              "    }\n",
              "</style>\n",
              "<table border=\"1\" class=\"dataframe\">\n",
              "  <thead>\n",
              "    <tr style=\"text-align: right;\">\n",
              "      <th></th>\n",
              "      <th>duration</th>\n",
              "      <th>protocol_type</th>\n",
              "      <th>service</th>\n",
              "      <th>flag</th>\n",
              "      <th>src_bytes</th>\n",
              "      <th>dst_bytes</th>\n",
              "      <th>land</th>\n",
              "      <th>wrong_fragment</th>\n",
              "      <th>urgent</th>\n",
              "      <th>hot</th>\n",
              "      <th>num_failed_logins</th>\n",
              "      <th>logged_in</th>\n",
              "      <th>num_compromised</th>\n",
              "      <th>root_shell</th>\n",
              "      <th>su_attempted</th>\n",
              "      <th>num_root</th>\n",
              "      <th>num_file_creations</th>\n",
              "      <th>num_shells</th>\n",
              "      <th>num_access_files</th>\n",
              "      <th>num_outbound_cmds</th>\n",
              "      <th>is_host_login</th>\n",
              "      <th>is_guest_login</th>\n",
              "      <th>count</th>\n",
              "      <th>srv_count</th>\n",
              "      <th>serror_rate</th>\n",
              "      <th>srv_serror_rate</th>\n",
              "      <th>rerror_rate</th>\n",
              "      <th>srv_rerror_rate</th>\n",
              "      <th>same_srv_rate</th>\n",
              "      <th>diff_srv_rate</th>\n",
              "      <th>srv_diff_host_rate</th>\n",
              "      <th>dst_host_count</th>\n",
              "      <th>dst_host_srv_count</th>\n",
              "      <th>dst_host_same_srv_rate</th>\n",
              "      <th>dst_host_diff_srv_rate</th>\n",
              "      <th>dst_host_same_src_port_rate</th>\n",
              "      <th>dst_host_srv_diff_host_rate</th>\n",
              "      <th>dst_host_serror_rate</th>\n",
              "      <th>dst_host_srv_serror_rate</th>\n",
              "      <th>dst_host_rerror_rate</th>\n",
              "      <th>dst_host_srv_rerror_rate</th>\n",
              "      <th>num_packet</th>\n",
              "      <th>type_attack</th>\n",
              "    </tr>\n",
              "  </thead>\n",
              "  <tbody>\n",
              "    <tr>\n",
              "      <th>0</th>\n",
              "      <td>0</td>\n",
              "      <td>2</td>\n",
              "      <td>48</td>\n",
              "      <td>9</td>\n",
              "      <td>0</td>\n",
              "      <td>0</td>\n",
              "      <td>0</td>\n",
              "      <td>0</td>\n",
              "      <td>0</td>\n",
              "      <td>0</td>\n",
              "      <td>0</td>\n",
              "      <td>0</td>\n",
              "      <td>0</td>\n",
              "      <td>0</td>\n",
              "      <td>0</td>\n",
              "      <td>0</td>\n",
              "      <td>0</td>\n",
              "      <td>0</td>\n",
              "      <td>0</td>\n",
              "      <td>0</td>\n",
              "      <td>0</td>\n",
              "      <td>0</td>\n",
              "      <td>299</td>\n",
              "      <td>20</td>\n",
              "      <td>0.0</td>\n",
              "      <td>0.0</td>\n",
              "      <td>1</td>\n",
              "      <td>1</td>\n",
              "      <td>0.07</td>\n",
              "      <td>0.06</td>\n",
              "      <td>0.00</td>\n",
              "      <td>255</td>\n",
              "      <td>20</td>\n",
              "      <td>0.08</td>\n",
              "      <td>0.07</td>\n",
              "      <td>0.00</td>\n",
              "      <td>0.00</td>\n",
              "      <td>0.0</td>\n",
              "      <td>0.00</td>\n",
              "      <td>1.0</td>\n",
              "      <td>1.0</td>\n",
              "      <td>20</td>\n",
              "      <td>dos</td>\n",
              "    </tr>\n",
              "    <tr>\n",
              "      <th>1</th>\n",
              "      <td>0</td>\n",
              "      <td>1</td>\n",
              "      <td>48</td>\n",
              "      <td>9</td>\n",
              "      <td>64</td>\n",
              "      <td>0</td>\n",
              "      <td>0</td>\n",
              "      <td>0</td>\n",
              "      <td>0</td>\n",
              "      <td>0</td>\n",
              "      <td>0</td>\n",
              "      <td>0</td>\n",
              "      <td>0</td>\n",
              "      <td>0</td>\n",
              "      <td>0</td>\n",
              "      <td>0</td>\n",
              "      <td>0</td>\n",
              "      <td>0</td>\n",
              "      <td>0</td>\n",
              "      <td>0</td>\n",
              "      <td>0</td>\n",
              "      <td>0</td>\n",
              "      <td>1</td>\n",
              "      <td>1</td>\n",
              "      <td>0.0</td>\n",
              "      <td>0.0</td>\n",
              "      <td>1</td>\n",
              "      <td>1</td>\n",
              "      <td>1.00</td>\n",
              "      <td>0.00</td>\n",
              "      <td>0.00</td>\n",
              "      <td>3</td>\n",
              "      <td>250</td>\n",
              "      <td>1.00</td>\n",
              "      <td>0.00</td>\n",
              "      <td>0.33</td>\n",
              "      <td>0.12</td>\n",
              "      <td>0.0</td>\n",
              "      <td>0.00</td>\n",
              "      <td>1.0</td>\n",
              "      <td>1.0</td>\n",
              "      <td>21</td>\n",
              "      <td>normal</td>\n",
              "    </tr>\n",
              "    <tr>\n",
              "      <th>2</th>\n",
              "      <td>0</td>\n",
              "      <td>2</td>\n",
              "      <td>4</td>\n",
              "      <td>5</td>\n",
              "      <td>0</td>\n",
              "      <td>0</td>\n",
              "      <td>0</td>\n",
              "      <td>0</td>\n",
              "      <td>0</td>\n",
              "      <td>0</td>\n",
              "      <td>0</td>\n",
              "      <td>0</td>\n",
              "      <td>0</td>\n",
              "      <td>0</td>\n",
              "      <td>0</td>\n",
              "      <td>0</td>\n",
              "      <td>0</td>\n",
              "      <td>0</td>\n",
              "      <td>0</td>\n",
              "      <td>0</td>\n",
              "      <td>0</td>\n",
              "      <td>0</td>\n",
              "      <td>260</td>\n",
              "      <td>6</td>\n",
              "      <td>1.0</td>\n",
              "      <td>1.0</td>\n",
              "      <td>0</td>\n",
              "      <td>0</td>\n",
              "      <td>0.02</td>\n",
              "      <td>0.06</td>\n",
              "      <td>0.00</td>\n",
              "      <td>255</td>\n",
              "      <td>11</td>\n",
              "      <td>0.04</td>\n",
              "      <td>0.08</td>\n",
              "      <td>0.00</td>\n",
              "      <td>0.00</td>\n",
              "      <td>1.0</td>\n",
              "      <td>1.00</td>\n",
              "      <td>0.0</td>\n",
              "      <td>0.0</td>\n",
              "      <td>19</td>\n",
              "      <td>dos</td>\n",
              "    </tr>\n",
              "    <tr>\n",
              "      <th>3</th>\n",
              "      <td>0</td>\n",
              "      <td>1</td>\n",
              "      <td>48</td>\n",
              "      <td>9</td>\n",
              "      <td>64</td>\n",
              "      <td>0</td>\n",
              "      <td>0</td>\n",
              "      <td>0</td>\n",
              "      <td>0</td>\n",
              "      <td>0</td>\n",
              "      <td>0</td>\n",
              "      <td>0</td>\n",
              "      <td>0</td>\n",
              "      <td>0</td>\n",
              "      <td>0</td>\n",
              "      <td>0</td>\n",
              "      <td>0</td>\n",
              "      <td>0</td>\n",
              "      <td>0</td>\n",
              "      <td>0</td>\n",
              "      <td>0</td>\n",
              "      <td>0</td>\n",
              "      <td>1</td>\n",
              "      <td>1</td>\n",
              "      <td>0.0</td>\n",
              "      <td>0.0</td>\n",
              "      <td>1</td>\n",
              "      <td>1</td>\n",
              "      <td>1.00</td>\n",
              "      <td>0.00</td>\n",
              "      <td>0.00</td>\n",
              "      <td>3</td>\n",
              "      <td>250</td>\n",
              "      <td>1.00</td>\n",
              "      <td>0.00</td>\n",
              "      <td>0.33</td>\n",
              "      <td>0.12</td>\n",
              "      <td>0.0</td>\n",
              "      <td>0.00</td>\n",
              "      <td>1.0</td>\n",
              "      <td>1.0</td>\n",
              "      <td>21</td>\n",
              "      <td>normal</td>\n",
              "    </tr>\n",
              "    <tr>\n",
              "      <th>4</th>\n",
              "      <td>0</td>\n",
              "      <td>2</td>\n",
              "      <td>22</td>\n",
              "      <td>5</td>\n",
              "      <td>0</td>\n",
              "      <td>0</td>\n",
              "      <td>0</td>\n",
              "      <td>0</td>\n",
              "      <td>0</td>\n",
              "      <td>0</td>\n",
              "      <td>0</td>\n",
              "      <td>0</td>\n",
              "      <td>0</td>\n",
              "      <td>0</td>\n",
              "      <td>0</td>\n",
              "      <td>0</td>\n",
              "      <td>0</td>\n",
              "      <td>0</td>\n",
              "      <td>0</td>\n",
              "      <td>0</td>\n",
              "      <td>0</td>\n",
              "      <td>0</td>\n",
              "      <td>127</td>\n",
              "      <td>17</td>\n",
              "      <td>1.0</td>\n",
              "      <td>1.0</td>\n",
              "      <td>0</td>\n",
              "      <td>0</td>\n",
              "      <td>0.13</td>\n",
              "      <td>0.07</td>\n",
              "      <td>0.00</td>\n",
              "      <td>255</td>\n",
              "      <td>14</td>\n",
              "      <td>0.05</td>\n",
              "      <td>0.07</td>\n",
              "      <td>0.00</td>\n",
              "      <td>0.00</td>\n",
              "      <td>1.0</td>\n",
              "      <td>1.00</td>\n",
              "      <td>0.0</td>\n",
              "      <td>0.0</td>\n",
              "      <td>21</td>\n",
              "      <td>dos</td>\n",
              "    </tr>\n",
              "    <tr>\n",
              "      <th>...</th>\n",
              "      <td>...</td>\n",
              "      <td>...</td>\n",
              "      <td>...</td>\n",
              "      <td>...</td>\n",
              "      <td>...</td>\n",
              "      <td>...</td>\n",
              "      <td>...</td>\n",
              "      <td>...</td>\n",
              "      <td>...</td>\n",
              "      <td>...</td>\n",
              "      <td>...</td>\n",
              "      <td>...</td>\n",
              "      <td>...</td>\n",
              "      <td>...</td>\n",
              "      <td>...</td>\n",
              "      <td>...</td>\n",
              "      <td>...</td>\n",
              "      <td>...</td>\n",
              "      <td>...</td>\n",
              "      <td>...</td>\n",
              "      <td>...</td>\n",
              "      <td>...</td>\n",
              "      <td>...</td>\n",
              "      <td>...</td>\n",
              "      <td>...</td>\n",
              "      <td>...</td>\n",
              "      <td>...</td>\n",
              "      <td>...</td>\n",
              "      <td>...</td>\n",
              "      <td>...</td>\n",
              "      <td>...</td>\n",
              "      <td>...</td>\n",
              "      <td>...</td>\n",
              "      <td>...</td>\n",
              "      <td>...</td>\n",
              "      <td>...</td>\n",
              "      <td>...</td>\n",
              "      <td>...</td>\n",
              "      <td>...</td>\n",
              "      <td>...</td>\n",
              "      <td>...</td>\n",
              "      <td>...</td>\n",
              "      <td>...</td>\n",
              "    </tr>\n",
              "    <tr>\n",
              "      <th>95</th>\n",
              "      <td>0</td>\n",
              "      <td>1</td>\n",
              "      <td>60</td>\n",
              "      <td>1</td>\n",
              "      <td>43</td>\n",
              "      <td>81</td>\n",
              "      <td>0</td>\n",
              "      <td>0</td>\n",
              "      <td>0</td>\n",
              "      <td>0</td>\n",
              "      <td>0</td>\n",
              "      <td>0</td>\n",
              "      <td>0</td>\n",
              "      <td>0</td>\n",
              "      <td>0</td>\n",
              "      <td>0</td>\n",
              "      <td>0</td>\n",
              "      <td>0</td>\n",
              "      <td>0</td>\n",
              "      <td>0</td>\n",
              "      <td>0</td>\n",
              "      <td>0</td>\n",
              "      <td>175</td>\n",
              "      <td>175</td>\n",
              "      <td>0.0</td>\n",
              "      <td>0.0</td>\n",
              "      <td>0</td>\n",
              "      <td>0</td>\n",
              "      <td>1.00</td>\n",
              "      <td>0.00</td>\n",
              "      <td>0.00</td>\n",
              "      <td>255</td>\n",
              "      <td>254</td>\n",
              "      <td>1.00</td>\n",
              "      <td>0.01</td>\n",
              "      <td>0.00</td>\n",
              "      <td>0.00</td>\n",
              "      <td>0.0</td>\n",
              "      <td>0.00</td>\n",
              "      <td>0.0</td>\n",
              "      <td>0.0</td>\n",
              "      <td>18</td>\n",
              "      <td>normal</td>\n",
              "    </tr>\n",
              "    <tr>\n",
              "      <th>96</th>\n",
              "      <td>0</td>\n",
              "      <td>2</td>\n",
              "      <td>14</td>\n",
              "      <td>5</td>\n",
              "      <td>0</td>\n",
              "      <td>0</td>\n",
              "      <td>0</td>\n",
              "      <td>0</td>\n",
              "      <td>0</td>\n",
              "      <td>0</td>\n",
              "      <td>0</td>\n",
              "      <td>0</td>\n",
              "      <td>0</td>\n",
              "      <td>0</td>\n",
              "      <td>0</td>\n",
              "      <td>0</td>\n",
              "      <td>0</td>\n",
              "      <td>0</td>\n",
              "      <td>0</td>\n",
              "      <td>0</td>\n",
              "      <td>0</td>\n",
              "      <td>0</td>\n",
              "      <td>145</td>\n",
              "      <td>16</td>\n",
              "      <td>1.0</td>\n",
              "      <td>1.0</td>\n",
              "      <td>0</td>\n",
              "      <td>0</td>\n",
              "      <td>0.11</td>\n",
              "      <td>0.06</td>\n",
              "      <td>0.00</td>\n",
              "      <td>255</td>\n",
              "      <td>10</td>\n",
              "      <td>0.04</td>\n",
              "      <td>0.06</td>\n",
              "      <td>0.00</td>\n",
              "      <td>0.00</td>\n",
              "      <td>1.0</td>\n",
              "      <td>1.00</td>\n",
              "      <td>0.0</td>\n",
              "      <td>0.0</td>\n",
              "      <td>19</td>\n",
              "      <td>dos</td>\n",
              "    </tr>\n",
              "    <tr>\n",
              "      <th>97</th>\n",
              "      <td>0</td>\n",
              "      <td>1</td>\n",
              "      <td>48</td>\n",
              "      <td>1</td>\n",
              "      <td>342</td>\n",
              "      <td>1035</td>\n",
              "      <td>0</td>\n",
              "      <td>0</td>\n",
              "      <td>0</td>\n",
              "      <td>0</td>\n",
              "      <td>0</td>\n",
              "      <td>1</td>\n",
              "      <td>0</td>\n",
              "      <td>0</td>\n",
              "      <td>0</td>\n",
              "      <td>0</td>\n",
              "      <td>0</td>\n",
              "      <td>0</td>\n",
              "      <td>0</td>\n",
              "      <td>0</td>\n",
              "      <td>0</td>\n",
              "      <td>0</td>\n",
              "      <td>4</td>\n",
              "      <td>6</td>\n",
              "      <td>0.0</td>\n",
              "      <td>0.0</td>\n",
              "      <td>0</td>\n",
              "      <td>0</td>\n",
              "      <td>1.00</td>\n",
              "      <td>0.00</td>\n",
              "      <td>0.33</td>\n",
              "      <td>61</td>\n",
              "      <td>255</td>\n",
              "      <td>1.00</td>\n",
              "      <td>0.00</td>\n",
              "      <td>0.02</td>\n",
              "      <td>0.02</td>\n",
              "      <td>0.0</td>\n",
              "      <td>0.00</td>\n",
              "      <td>0.0</td>\n",
              "      <td>0.0</td>\n",
              "      <td>21</td>\n",
              "      <td>normal</td>\n",
              "    </tr>\n",
              "    <tr>\n",
              "      <th>98</th>\n",
              "      <td>0</td>\n",
              "      <td>1</td>\n",
              "      <td>48</td>\n",
              "      <td>1</td>\n",
              "      <td>204</td>\n",
              "      <td>502</td>\n",
              "      <td>0</td>\n",
              "      <td>0</td>\n",
              "      <td>0</td>\n",
              "      <td>0</td>\n",
              "      <td>0</td>\n",
              "      <td>1</td>\n",
              "      <td>0</td>\n",
              "      <td>0</td>\n",
              "      <td>0</td>\n",
              "      <td>0</td>\n",
              "      <td>0</td>\n",
              "      <td>0</td>\n",
              "      <td>0</td>\n",
              "      <td>0</td>\n",
              "      <td>0</td>\n",
              "      <td>0</td>\n",
              "      <td>1</td>\n",
              "      <td>3</td>\n",
              "      <td>0.0</td>\n",
              "      <td>0.0</td>\n",
              "      <td>0</td>\n",
              "      <td>0</td>\n",
              "      <td>1.00</td>\n",
              "      <td>0.00</td>\n",
              "      <td>1.00</td>\n",
              "      <td>4</td>\n",
              "      <td>255</td>\n",
              "      <td>1.00</td>\n",
              "      <td>0.00</td>\n",
              "      <td>0.25</td>\n",
              "      <td>0.05</td>\n",
              "      <td>0.0</td>\n",
              "      <td>0.01</td>\n",
              "      <td>0.0</td>\n",
              "      <td>0.0</td>\n",
              "      <td>21</td>\n",
              "      <td>normal</td>\n",
              "    </tr>\n",
              "    <tr>\n",
              "      <th>99</th>\n",
              "      <td>0</td>\n",
              "      <td>1</td>\n",
              "      <td>48</td>\n",
              "      <td>1</td>\n",
              "      <td>204</td>\n",
              "      <td>502</td>\n",
              "      <td>0</td>\n",
              "      <td>0</td>\n",
              "      <td>0</td>\n",
              "      <td>0</td>\n",
              "      <td>0</td>\n",
              "      <td>1</td>\n",
              "      <td>0</td>\n",
              "      <td>0</td>\n",
              "      <td>0</td>\n",
              "      <td>0</td>\n",
              "      <td>0</td>\n",
              "      <td>0</td>\n",
              "      <td>0</td>\n",
              "      <td>0</td>\n",
              "      <td>0</td>\n",
              "      <td>0</td>\n",
              "      <td>1</td>\n",
              "      <td>3</td>\n",
              "      <td>0.0</td>\n",
              "      <td>0.0</td>\n",
              "      <td>0</td>\n",
              "      <td>0</td>\n",
              "      <td>1.00</td>\n",
              "      <td>0.00</td>\n",
              "      <td>1.00</td>\n",
              "      <td>4</td>\n",
              "      <td>255</td>\n",
              "      <td>1.00</td>\n",
              "      <td>0.00</td>\n",
              "      <td>0.25</td>\n",
              "      <td>0.05</td>\n",
              "      <td>0.0</td>\n",
              "      <td>0.01</td>\n",
              "      <td>0.0</td>\n",
              "      <td>0.0</td>\n",
              "      <td>21</td>\n",
              "      <td>normal</td>\n",
              "    </tr>\n",
              "  </tbody>\n",
              "</table>\n",
              "<p>100 rows × 43 columns</p>\n",
              "</div>"
            ],
            "text/plain": [
              "    duration  protocol_type  ...  num_packet  type_attack\n",
              "0          0              2  ...          20          dos\n",
              "1          0              1  ...          21       normal\n",
              "2          0              2  ...          19          dos\n",
              "3          0              1  ...          21       normal\n",
              "4          0              2  ...          21          dos\n",
              "..       ...            ...  ...         ...          ...\n",
              "95         0              1  ...          18       normal\n",
              "96         0              2  ...          19          dos\n",
              "97         0              1  ...          21       normal\n",
              "98         0              1  ...          21       normal\n",
              "99         0              1  ...          21       normal\n",
              "\n",
              "[100 rows x 43 columns]"
            ]
          },
          "metadata": {
            "tags": []
          },
          "execution_count": 82
        }
      ]
    },
    {
      "cell_type": "code",
      "metadata": {
        "id": "ET99UO8IUGvz",
        "colab_type": "code",
        "colab": {}
      },
      "source": [
        "X = df_log.loc[:, :'dst_host_srv_rerror_rate']\n",
        "y = df_log.loc[:, 'type_attack']\n",
        "\n",
        "y = y.astype(str)\n",
        "\n",
        "temp = set(y)\n",
        "\n",
        "X_train, X_test, y_train, y_test = train_test_split(X, y, test_size=0.3, train_size =0.7, random_state=5)\n",
        "\n",
        "clf = MLPClassifier(random_state = 5)"
      ],
      "execution_count": 0,
      "outputs": []
    },
    {
      "cell_type": "code",
      "metadata": {
        "id": "iZdKTfPJUUbO",
        "colab_type": "code",
        "colab": {}
      },
      "source": [
        "clf = joblib.load('dataBiasa.pkl')"
      ],
      "execution_count": 0,
      "outputs": []
    },
    {
      "cell_type": "code",
      "metadata": {
        "id": "lj9vl5LJUbcW",
        "colab_type": "code",
        "colab": {}
      },
      "source": [
        "pred = clf.predict(X_test)"
      ],
      "execution_count": 0,
      "outputs": []
    },
    {
      "cell_type": "code",
      "metadata": {
        "id": "TjUXTnijUgTF",
        "colab_type": "code",
        "outputId": "29d60f08-18b5-490b-904c-4a667c0e9b7a",
        "colab": {
          "base_uri": "https://localhost:8080/",
          "height": 34
        }
      },
      "source": [
        "accuracy_score(y_test,pred)"
      ],
      "execution_count": 86,
      "outputs": [
        {
          "output_type": "execute_result",
          "data": {
            "text/plain": [
              "0.9666666666666667"
            ]
          },
          "metadata": {
            "tags": []
          },
          "execution_count": 86
        }
      ]
    },
    {
      "cell_type": "code",
      "metadata": {
        "id": "whcC7YukUisK",
        "colab_type": "code",
        "colab": {}
      },
      "source": [
        "clf = MLPClassifier(random_state = 5)\n",
        "scoring = {'accuracy': make_scorer(accuracy_score)}\n",
        "cv = ShuffleSplit(n_splits=3, test_size=0.3,train_size = 0.7, random_state=5)"
      ],
      "execution_count": 0,
      "outputs": []
    },
    {
      "cell_type": "code",
      "metadata": {
        "id": "Th1n18IDUkoL",
        "colab_type": "code",
        "colab": {}
      },
      "source": [
        "start = time.time()\n",
        "\n",
        "scores = cross_validate(clf, X, y, cv=cv, scoring=scoring, return_train_score=True)\n",
        "\n",
        "stop = time.time()"
      ],
      "execution_count": 0,
      "outputs": []
    },
    {
      "cell_type": "code",
      "metadata": {
        "id": "me_pgKa-Un_k",
        "colab_type": "code",
        "outputId": "89c97bca-92e6-4caf-fa39-71b79405a90c",
        "colab": {
          "base_uri": "https://localhost:8080/",
          "height": 34
        }
      },
      "source": [
        "print(f\"X validation time : {stop - start}s\")"
      ],
      "execution_count": 89,
      "outputs": [
        {
          "output_type": "stream",
          "text": [
            "X validation time : 0.19473552703857422s\n"
          ],
          "name": "stdout"
        }
      ]
    },
    {
      "cell_type": "code",
      "metadata": {
        "id": "uQHGmHAEUqT7",
        "colab_type": "code",
        "outputId": "4ef65829-5e84-4f8c-d1eb-c1a1b2d7eea8",
        "colab": {
          "base_uri": "https://localhost:8080/",
          "height": 54
        }
      },
      "source": [
        "print(scores)"
      ],
      "execution_count": 90,
      "outputs": [
        {
          "output_type": "stream",
          "text": [
            "{'fit_time': array([0.07900095, 0.06084609, 0.03936505]), 'score_time': array([0.00157404, 0.00164151, 0.00159216]), 'test_accuracy': array([0.96666667, 0.86666667, 0.76666667]), 'train_accuracy': array([1., 1., 1.])}\n"
          ],
          "name": "stdout"
        }
      ]
    },
    {
      "cell_type": "code",
      "metadata": {
        "id": "UhM_0ZK6UsVK",
        "colab_type": "code",
        "colab": {}
      },
      "source": [
        "#### PAKAI MODEL41 PCA\n",
        "X = df_log.loc[:, :'dst_host_srv_rerror_rate']\n",
        "y = df_log.loc[:, 'type_attack']\n",
        "\n",
        "y = y.astype(str)\n",
        "\n",
        "temp = set(y)\n",
        "\n",
        "X_train, X_test, y_train, y_test = train_test_split(X, y, test_size=0.3, train_size =0.7, random_state=5)\n",
        "\n",
        "clf = MLPClassifier(random_state = 5)"
      ],
      "execution_count": 0,
      "outputs": []
    },
    {
      "cell_type": "code",
      "metadata": {
        "id": "bUselFdqUwFL",
        "colab_type": "code",
        "colab": {}
      },
      "source": [
        "clf = joblib.load('modelPCA_41.pkl')"
      ],
      "execution_count": 0,
      "outputs": []
    },
    {
      "cell_type": "code",
      "metadata": {
        "id": "wBpkTD4ZU7K4",
        "colab_type": "code",
        "colab": {}
      },
      "source": [
        "pred = clf.predict(X_test)"
      ],
      "execution_count": 0,
      "outputs": []
    },
    {
      "cell_type": "code",
      "metadata": {
        "id": "XEE0UiXwVBfe",
        "colab_type": "code",
        "outputId": "b69794e9-9f21-4465-848c-3fc25ce884a6",
        "colab": {
          "base_uri": "https://localhost:8080/",
          "height": 34
        }
      },
      "source": [
        "accuracy_score(y_test,pred)"
      ],
      "execution_count": 94,
      "outputs": [
        {
          "output_type": "execute_result",
          "data": {
            "text/plain": [
              "0.43333333333333335"
            ]
          },
          "metadata": {
            "tags": []
          },
          "execution_count": 94
        }
      ]
    },
    {
      "cell_type": "code",
      "metadata": {
        "id": "dXfNqn4NVDyh",
        "colab_type": "code",
        "colab": {}
      },
      "source": [
        "clf = MLPClassifier(random_state = 5)\n",
        "scoring = {'accuracy': make_scorer(accuracy_score)}\n",
        "cv = ShuffleSplit(n_splits=3, test_size=0.3,train_size = 0.7, random_state=5)"
      ],
      "execution_count": 0,
      "outputs": []
    },
    {
      "cell_type": "code",
      "metadata": {
        "id": "TYEJ_Nz5VG7J",
        "colab_type": "code",
        "colab": {}
      },
      "source": [
        "start = time.time()\n",
        "\n",
        "scores = cross_validate(clf, X, y, cv=cv, scoring=scoring, return_train_score=True)\n",
        "\n",
        "stop = time.time()"
      ],
      "execution_count": 0,
      "outputs": []
    },
    {
      "cell_type": "code",
      "metadata": {
        "id": "YmEES0BtVKAv",
        "colab_type": "code",
        "outputId": "2986b281-81d1-4646-d706-66e197eca7fc",
        "colab": {
          "base_uri": "https://localhost:8080/",
          "height": 34
        }
      },
      "source": [
        "print(f\"X validation time : {stop - start}s\")"
      ],
      "execution_count": 97,
      "outputs": [
        {
          "output_type": "stream",
          "text": [
            "X validation time : 0.211639404296875s\n"
          ],
          "name": "stdout"
        }
      ]
    },
    {
      "cell_type": "code",
      "metadata": {
        "id": "2k9Qp-ktVNcm",
        "colab_type": "code",
        "outputId": "072b759a-0cdd-4b7d-e195-98b954563085",
        "colab": {
          "base_uri": "https://localhost:8080/",
          "height": 54
        }
      },
      "source": [
        "print(scores)"
      ],
      "execution_count": 98,
      "outputs": [
        {
          "output_type": "stream",
          "text": [
            "{'fit_time': array([0.07929873, 0.07198524, 0.04454279]), 'score_time': array([0.00181961, 0.00177646, 0.00193143]), 'test_accuracy': array([0.96666667, 0.86666667, 0.76666667]), 'train_accuracy': array([1., 1., 1.])}\n"
          ],
          "name": "stdout"
        }
      ]
    },
    {
      "cell_type": "code",
      "metadata": {
        "id": "wg7qZz6rYjED",
        "colab_type": "code",
        "colab": {}
      },
      "source": [
        "#### PAKAI MODEL BIASA\n",
        "X = df_log.loc[:, :'dst_host_srv_rerror_rate']\n",
        "y = df_log.loc[:, 'type_attack']\n",
        "\n",
        "y = y.astype(str)\n",
        "\n",
        "temp = set(y)\n",
        "\n",
        "X_train, X_test, y_train, y_test = train_test_split(X, y, test_size=0.3, train_size =0.7, random_state=5)\n",
        "\n",
        "clf = MLPClassifier(random_state = 5)"
      ],
      "execution_count": 0,
      "outputs": []
    },
    {
      "cell_type": "code",
      "metadata": {
        "id": "t4lxP60Cgx14",
        "colab_type": "code",
        "colab": {}
      },
      "source": [
        "clf = joblib.load('dataBiasa.pkl')"
      ],
      "execution_count": 0,
      "outputs": []
    },
    {
      "cell_type": "code",
      "metadata": {
        "id": "eDoC2mk9g9NL",
        "colab_type": "code",
        "outputId": "579a728f-7637-4d48-b13d-7def2e9cfc1f",
        "colab": {
          "base_uri": "https://localhost:8080/",
          "height": 34
        }
      },
      "source": [
        "pred = clf.predict(X_test)\n",
        "accuracy_score(y_test,pred)"
      ],
      "execution_count": 101,
      "outputs": [
        {
          "output_type": "execute_result",
          "data": {
            "text/plain": [
              "0.9666666666666667"
            ]
          },
          "metadata": {
            "tags": []
          },
          "execution_count": 101
        }
      ]
    },
    {
      "cell_type": "code",
      "metadata": {
        "id": "uwKHgHF1hEDW",
        "colab_type": "code",
        "colab": {}
      },
      "source": [
        "clf = MLPClassifier(random_state = 5)\n",
        "scoring = {'accuracy': make_scorer(accuracy_score)}\n",
        "cv = ShuffleSplit(n_splits=3, test_size=0.3,train_size = 0.7, random_state=5)"
      ],
      "execution_count": 0,
      "outputs": []
    },
    {
      "cell_type": "code",
      "metadata": {
        "id": "ZyqPgs6hhHfI",
        "colab_type": "code",
        "colab": {}
      },
      "source": [
        "start = time.time()\n",
        "\n",
        "scores = cross_validate(clf, X, y, cv=cv, scoring=scoring, return_train_score=True)\n",
        "\n",
        "stop = time.time()"
      ],
      "execution_count": 0,
      "outputs": []
    },
    {
      "cell_type": "code",
      "metadata": {
        "id": "ai-wmErthLPd",
        "colab_type": "code",
        "outputId": "476799bf-ca10-4ac4-8cc2-58234d736fd6",
        "colab": {
          "base_uri": "https://localhost:8080/",
          "height": 34
        }
      },
      "source": [
        "print(f\"X validation time : {stop - start}s\")"
      ],
      "execution_count": 104,
      "outputs": [
        {
          "output_type": "stream",
          "text": [
            "X validation time : 0.21634268760681152s\n"
          ],
          "name": "stdout"
        }
      ]
    },
    {
      "cell_type": "code",
      "metadata": {
        "id": "p9q3G3n5hOQv",
        "colab_type": "code",
        "outputId": "32158625-71c2-4615-cabf-9ee38a38ee7c",
        "colab": {
          "base_uri": "https://localhost:8080/",
          "height": 54
        }
      },
      "source": [
        "print(scores)"
      ],
      "execution_count": 105,
      "outputs": [
        {
          "output_type": "stream",
          "text": [
            "{'fit_time': array([0.0894568 , 0.06312323, 0.04719996]), 'score_time': array([0.00155759, 0.00163603, 0.0017879 ]), 'test_accuracy': array([0.96666667, 0.86666667, 0.76666667]), 'train_accuracy': array([1., 1., 1.])}\n"
          ],
          "name": "stdout"
        }
      ]
    },
    {
      "cell_type": "code",
      "metadata": {
        "id": "QlwhRq7fhQZU",
        "colab_type": "code",
        "outputId": "0c848e8b-3cf4-40b4-aaf8-cd63708df0da",
        "colab": {
          "base_uri": "https://localhost:8080/",
          "height": 439
        }
      },
      "source": [
        "### Coba semua data log sbg y_test\n",
        "df_log"
      ],
      "execution_count": 106,
      "outputs": [
        {
          "output_type": "execute_result",
          "data": {
            "text/html": [
              "<div>\n",
              "<style scoped>\n",
              "    .dataframe tbody tr th:only-of-type {\n",
              "        vertical-align: middle;\n",
              "    }\n",
              "\n",
              "    .dataframe tbody tr th {\n",
              "        vertical-align: top;\n",
              "    }\n",
              "\n",
              "    .dataframe thead th {\n",
              "        text-align: right;\n",
              "    }\n",
              "</style>\n",
              "<table border=\"1\" class=\"dataframe\">\n",
              "  <thead>\n",
              "    <tr style=\"text-align: right;\">\n",
              "      <th></th>\n",
              "      <th>duration</th>\n",
              "      <th>protocol_type</th>\n",
              "      <th>service</th>\n",
              "      <th>flag</th>\n",
              "      <th>src_bytes</th>\n",
              "      <th>dst_bytes</th>\n",
              "      <th>land</th>\n",
              "      <th>wrong_fragment</th>\n",
              "      <th>urgent</th>\n",
              "      <th>hot</th>\n",
              "      <th>num_failed_logins</th>\n",
              "      <th>logged_in</th>\n",
              "      <th>num_compromised</th>\n",
              "      <th>root_shell</th>\n",
              "      <th>su_attempted</th>\n",
              "      <th>num_root</th>\n",
              "      <th>num_file_creations</th>\n",
              "      <th>num_shells</th>\n",
              "      <th>num_access_files</th>\n",
              "      <th>num_outbound_cmds</th>\n",
              "      <th>is_host_login</th>\n",
              "      <th>is_guest_login</th>\n",
              "      <th>count</th>\n",
              "      <th>srv_count</th>\n",
              "      <th>serror_rate</th>\n",
              "      <th>srv_serror_rate</th>\n",
              "      <th>rerror_rate</th>\n",
              "      <th>srv_rerror_rate</th>\n",
              "      <th>same_srv_rate</th>\n",
              "      <th>diff_srv_rate</th>\n",
              "      <th>srv_diff_host_rate</th>\n",
              "      <th>dst_host_count</th>\n",
              "      <th>dst_host_srv_count</th>\n",
              "      <th>dst_host_same_srv_rate</th>\n",
              "      <th>dst_host_diff_srv_rate</th>\n",
              "      <th>dst_host_same_src_port_rate</th>\n",
              "      <th>dst_host_srv_diff_host_rate</th>\n",
              "      <th>dst_host_serror_rate</th>\n",
              "      <th>dst_host_srv_serror_rate</th>\n",
              "      <th>dst_host_rerror_rate</th>\n",
              "      <th>dst_host_srv_rerror_rate</th>\n",
              "      <th>num_packet</th>\n",
              "      <th>type_attack</th>\n",
              "    </tr>\n",
              "  </thead>\n",
              "  <tbody>\n",
              "    <tr>\n",
              "      <th>0</th>\n",
              "      <td>0</td>\n",
              "      <td>2</td>\n",
              "      <td>48</td>\n",
              "      <td>9</td>\n",
              "      <td>0</td>\n",
              "      <td>0</td>\n",
              "      <td>0</td>\n",
              "      <td>0</td>\n",
              "      <td>0</td>\n",
              "      <td>0</td>\n",
              "      <td>0</td>\n",
              "      <td>0</td>\n",
              "      <td>0</td>\n",
              "      <td>0</td>\n",
              "      <td>0</td>\n",
              "      <td>0</td>\n",
              "      <td>0</td>\n",
              "      <td>0</td>\n",
              "      <td>0</td>\n",
              "      <td>0</td>\n",
              "      <td>0</td>\n",
              "      <td>0</td>\n",
              "      <td>299</td>\n",
              "      <td>20</td>\n",
              "      <td>0.0</td>\n",
              "      <td>0.0</td>\n",
              "      <td>1</td>\n",
              "      <td>1</td>\n",
              "      <td>0.07</td>\n",
              "      <td>0.06</td>\n",
              "      <td>0.00</td>\n",
              "      <td>255</td>\n",
              "      <td>20</td>\n",
              "      <td>0.08</td>\n",
              "      <td>0.07</td>\n",
              "      <td>0.00</td>\n",
              "      <td>0.00</td>\n",
              "      <td>0.0</td>\n",
              "      <td>0.00</td>\n",
              "      <td>1.0</td>\n",
              "      <td>1.0</td>\n",
              "      <td>20</td>\n",
              "      <td>dos</td>\n",
              "    </tr>\n",
              "    <tr>\n",
              "      <th>1</th>\n",
              "      <td>0</td>\n",
              "      <td>1</td>\n",
              "      <td>48</td>\n",
              "      <td>9</td>\n",
              "      <td>64</td>\n",
              "      <td>0</td>\n",
              "      <td>0</td>\n",
              "      <td>0</td>\n",
              "      <td>0</td>\n",
              "      <td>0</td>\n",
              "      <td>0</td>\n",
              "      <td>0</td>\n",
              "      <td>0</td>\n",
              "      <td>0</td>\n",
              "      <td>0</td>\n",
              "      <td>0</td>\n",
              "      <td>0</td>\n",
              "      <td>0</td>\n",
              "      <td>0</td>\n",
              "      <td>0</td>\n",
              "      <td>0</td>\n",
              "      <td>0</td>\n",
              "      <td>1</td>\n",
              "      <td>1</td>\n",
              "      <td>0.0</td>\n",
              "      <td>0.0</td>\n",
              "      <td>1</td>\n",
              "      <td>1</td>\n",
              "      <td>1.00</td>\n",
              "      <td>0.00</td>\n",
              "      <td>0.00</td>\n",
              "      <td>3</td>\n",
              "      <td>250</td>\n",
              "      <td>1.00</td>\n",
              "      <td>0.00</td>\n",
              "      <td>0.33</td>\n",
              "      <td>0.12</td>\n",
              "      <td>0.0</td>\n",
              "      <td>0.00</td>\n",
              "      <td>1.0</td>\n",
              "      <td>1.0</td>\n",
              "      <td>21</td>\n",
              "      <td>normal</td>\n",
              "    </tr>\n",
              "    <tr>\n",
              "      <th>2</th>\n",
              "      <td>0</td>\n",
              "      <td>2</td>\n",
              "      <td>4</td>\n",
              "      <td>5</td>\n",
              "      <td>0</td>\n",
              "      <td>0</td>\n",
              "      <td>0</td>\n",
              "      <td>0</td>\n",
              "      <td>0</td>\n",
              "      <td>0</td>\n",
              "      <td>0</td>\n",
              "      <td>0</td>\n",
              "      <td>0</td>\n",
              "      <td>0</td>\n",
              "      <td>0</td>\n",
              "      <td>0</td>\n",
              "      <td>0</td>\n",
              "      <td>0</td>\n",
              "      <td>0</td>\n",
              "      <td>0</td>\n",
              "      <td>0</td>\n",
              "      <td>0</td>\n",
              "      <td>260</td>\n",
              "      <td>6</td>\n",
              "      <td>1.0</td>\n",
              "      <td>1.0</td>\n",
              "      <td>0</td>\n",
              "      <td>0</td>\n",
              "      <td>0.02</td>\n",
              "      <td>0.06</td>\n",
              "      <td>0.00</td>\n",
              "      <td>255</td>\n",
              "      <td>11</td>\n",
              "      <td>0.04</td>\n",
              "      <td>0.08</td>\n",
              "      <td>0.00</td>\n",
              "      <td>0.00</td>\n",
              "      <td>1.0</td>\n",
              "      <td>1.00</td>\n",
              "      <td>0.0</td>\n",
              "      <td>0.0</td>\n",
              "      <td>19</td>\n",
              "      <td>dos</td>\n",
              "    </tr>\n",
              "    <tr>\n",
              "      <th>3</th>\n",
              "      <td>0</td>\n",
              "      <td>1</td>\n",
              "      <td>48</td>\n",
              "      <td>9</td>\n",
              "      <td>64</td>\n",
              "      <td>0</td>\n",
              "      <td>0</td>\n",
              "      <td>0</td>\n",
              "      <td>0</td>\n",
              "      <td>0</td>\n",
              "      <td>0</td>\n",
              "      <td>0</td>\n",
              "      <td>0</td>\n",
              "      <td>0</td>\n",
              "      <td>0</td>\n",
              "      <td>0</td>\n",
              "      <td>0</td>\n",
              "      <td>0</td>\n",
              "      <td>0</td>\n",
              "      <td>0</td>\n",
              "      <td>0</td>\n",
              "      <td>0</td>\n",
              "      <td>1</td>\n",
              "      <td>1</td>\n",
              "      <td>0.0</td>\n",
              "      <td>0.0</td>\n",
              "      <td>1</td>\n",
              "      <td>1</td>\n",
              "      <td>1.00</td>\n",
              "      <td>0.00</td>\n",
              "      <td>0.00</td>\n",
              "      <td>3</td>\n",
              "      <td>250</td>\n",
              "      <td>1.00</td>\n",
              "      <td>0.00</td>\n",
              "      <td>0.33</td>\n",
              "      <td>0.12</td>\n",
              "      <td>0.0</td>\n",
              "      <td>0.00</td>\n",
              "      <td>1.0</td>\n",
              "      <td>1.0</td>\n",
              "      <td>21</td>\n",
              "      <td>normal</td>\n",
              "    </tr>\n",
              "    <tr>\n",
              "      <th>4</th>\n",
              "      <td>0</td>\n",
              "      <td>2</td>\n",
              "      <td>22</td>\n",
              "      <td>5</td>\n",
              "      <td>0</td>\n",
              "      <td>0</td>\n",
              "      <td>0</td>\n",
              "      <td>0</td>\n",
              "      <td>0</td>\n",
              "      <td>0</td>\n",
              "      <td>0</td>\n",
              "      <td>0</td>\n",
              "      <td>0</td>\n",
              "      <td>0</td>\n",
              "      <td>0</td>\n",
              "      <td>0</td>\n",
              "      <td>0</td>\n",
              "      <td>0</td>\n",
              "      <td>0</td>\n",
              "      <td>0</td>\n",
              "      <td>0</td>\n",
              "      <td>0</td>\n",
              "      <td>127</td>\n",
              "      <td>17</td>\n",
              "      <td>1.0</td>\n",
              "      <td>1.0</td>\n",
              "      <td>0</td>\n",
              "      <td>0</td>\n",
              "      <td>0.13</td>\n",
              "      <td>0.07</td>\n",
              "      <td>0.00</td>\n",
              "      <td>255</td>\n",
              "      <td>14</td>\n",
              "      <td>0.05</td>\n",
              "      <td>0.07</td>\n",
              "      <td>0.00</td>\n",
              "      <td>0.00</td>\n",
              "      <td>1.0</td>\n",
              "      <td>1.00</td>\n",
              "      <td>0.0</td>\n",
              "      <td>0.0</td>\n",
              "      <td>21</td>\n",
              "      <td>dos</td>\n",
              "    </tr>\n",
              "    <tr>\n",
              "      <th>...</th>\n",
              "      <td>...</td>\n",
              "      <td>...</td>\n",
              "      <td>...</td>\n",
              "      <td>...</td>\n",
              "      <td>...</td>\n",
              "      <td>...</td>\n",
              "      <td>...</td>\n",
              "      <td>...</td>\n",
              "      <td>...</td>\n",
              "      <td>...</td>\n",
              "      <td>...</td>\n",
              "      <td>...</td>\n",
              "      <td>...</td>\n",
              "      <td>...</td>\n",
              "      <td>...</td>\n",
              "      <td>...</td>\n",
              "      <td>...</td>\n",
              "      <td>...</td>\n",
              "      <td>...</td>\n",
              "      <td>...</td>\n",
              "      <td>...</td>\n",
              "      <td>...</td>\n",
              "      <td>...</td>\n",
              "      <td>...</td>\n",
              "      <td>...</td>\n",
              "      <td>...</td>\n",
              "      <td>...</td>\n",
              "      <td>...</td>\n",
              "      <td>...</td>\n",
              "      <td>...</td>\n",
              "      <td>...</td>\n",
              "      <td>...</td>\n",
              "      <td>...</td>\n",
              "      <td>...</td>\n",
              "      <td>...</td>\n",
              "      <td>...</td>\n",
              "      <td>...</td>\n",
              "      <td>...</td>\n",
              "      <td>...</td>\n",
              "      <td>...</td>\n",
              "      <td>...</td>\n",
              "      <td>...</td>\n",
              "      <td>...</td>\n",
              "    </tr>\n",
              "    <tr>\n",
              "      <th>95</th>\n",
              "      <td>0</td>\n",
              "      <td>1</td>\n",
              "      <td>60</td>\n",
              "      <td>1</td>\n",
              "      <td>43</td>\n",
              "      <td>81</td>\n",
              "      <td>0</td>\n",
              "      <td>0</td>\n",
              "      <td>0</td>\n",
              "      <td>0</td>\n",
              "      <td>0</td>\n",
              "      <td>0</td>\n",
              "      <td>0</td>\n",
              "      <td>0</td>\n",
              "      <td>0</td>\n",
              "      <td>0</td>\n",
              "      <td>0</td>\n",
              "      <td>0</td>\n",
              "      <td>0</td>\n",
              "      <td>0</td>\n",
              "      <td>0</td>\n",
              "      <td>0</td>\n",
              "      <td>175</td>\n",
              "      <td>175</td>\n",
              "      <td>0.0</td>\n",
              "      <td>0.0</td>\n",
              "      <td>0</td>\n",
              "      <td>0</td>\n",
              "      <td>1.00</td>\n",
              "      <td>0.00</td>\n",
              "      <td>0.00</td>\n",
              "      <td>255</td>\n",
              "      <td>254</td>\n",
              "      <td>1.00</td>\n",
              "      <td>0.01</td>\n",
              "      <td>0.00</td>\n",
              "      <td>0.00</td>\n",
              "      <td>0.0</td>\n",
              "      <td>0.00</td>\n",
              "      <td>0.0</td>\n",
              "      <td>0.0</td>\n",
              "      <td>18</td>\n",
              "      <td>normal</td>\n",
              "    </tr>\n",
              "    <tr>\n",
              "      <th>96</th>\n",
              "      <td>0</td>\n",
              "      <td>2</td>\n",
              "      <td>14</td>\n",
              "      <td>5</td>\n",
              "      <td>0</td>\n",
              "      <td>0</td>\n",
              "      <td>0</td>\n",
              "      <td>0</td>\n",
              "      <td>0</td>\n",
              "      <td>0</td>\n",
              "      <td>0</td>\n",
              "      <td>0</td>\n",
              "      <td>0</td>\n",
              "      <td>0</td>\n",
              "      <td>0</td>\n",
              "      <td>0</td>\n",
              "      <td>0</td>\n",
              "      <td>0</td>\n",
              "      <td>0</td>\n",
              "      <td>0</td>\n",
              "      <td>0</td>\n",
              "      <td>0</td>\n",
              "      <td>145</td>\n",
              "      <td>16</td>\n",
              "      <td>1.0</td>\n",
              "      <td>1.0</td>\n",
              "      <td>0</td>\n",
              "      <td>0</td>\n",
              "      <td>0.11</td>\n",
              "      <td>0.06</td>\n",
              "      <td>0.00</td>\n",
              "      <td>255</td>\n",
              "      <td>10</td>\n",
              "      <td>0.04</td>\n",
              "      <td>0.06</td>\n",
              "      <td>0.00</td>\n",
              "      <td>0.00</td>\n",
              "      <td>1.0</td>\n",
              "      <td>1.00</td>\n",
              "      <td>0.0</td>\n",
              "      <td>0.0</td>\n",
              "      <td>19</td>\n",
              "      <td>dos</td>\n",
              "    </tr>\n",
              "    <tr>\n",
              "      <th>97</th>\n",
              "      <td>0</td>\n",
              "      <td>1</td>\n",
              "      <td>48</td>\n",
              "      <td>1</td>\n",
              "      <td>342</td>\n",
              "      <td>1035</td>\n",
              "      <td>0</td>\n",
              "      <td>0</td>\n",
              "      <td>0</td>\n",
              "      <td>0</td>\n",
              "      <td>0</td>\n",
              "      <td>1</td>\n",
              "      <td>0</td>\n",
              "      <td>0</td>\n",
              "      <td>0</td>\n",
              "      <td>0</td>\n",
              "      <td>0</td>\n",
              "      <td>0</td>\n",
              "      <td>0</td>\n",
              "      <td>0</td>\n",
              "      <td>0</td>\n",
              "      <td>0</td>\n",
              "      <td>4</td>\n",
              "      <td>6</td>\n",
              "      <td>0.0</td>\n",
              "      <td>0.0</td>\n",
              "      <td>0</td>\n",
              "      <td>0</td>\n",
              "      <td>1.00</td>\n",
              "      <td>0.00</td>\n",
              "      <td>0.33</td>\n",
              "      <td>61</td>\n",
              "      <td>255</td>\n",
              "      <td>1.00</td>\n",
              "      <td>0.00</td>\n",
              "      <td>0.02</td>\n",
              "      <td>0.02</td>\n",
              "      <td>0.0</td>\n",
              "      <td>0.00</td>\n",
              "      <td>0.0</td>\n",
              "      <td>0.0</td>\n",
              "      <td>21</td>\n",
              "      <td>normal</td>\n",
              "    </tr>\n",
              "    <tr>\n",
              "      <th>98</th>\n",
              "      <td>0</td>\n",
              "      <td>1</td>\n",
              "      <td>48</td>\n",
              "      <td>1</td>\n",
              "      <td>204</td>\n",
              "      <td>502</td>\n",
              "      <td>0</td>\n",
              "      <td>0</td>\n",
              "      <td>0</td>\n",
              "      <td>0</td>\n",
              "      <td>0</td>\n",
              "      <td>1</td>\n",
              "      <td>0</td>\n",
              "      <td>0</td>\n",
              "      <td>0</td>\n",
              "      <td>0</td>\n",
              "      <td>0</td>\n",
              "      <td>0</td>\n",
              "      <td>0</td>\n",
              "      <td>0</td>\n",
              "      <td>0</td>\n",
              "      <td>0</td>\n",
              "      <td>1</td>\n",
              "      <td>3</td>\n",
              "      <td>0.0</td>\n",
              "      <td>0.0</td>\n",
              "      <td>0</td>\n",
              "      <td>0</td>\n",
              "      <td>1.00</td>\n",
              "      <td>0.00</td>\n",
              "      <td>1.00</td>\n",
              "      <td>4</td>\n",
              "      <td>255</td>\n",
              "      <td>1.00</td>\n",
              "      <td>0.00</td>\n",
              "      <td>0.25</td>\n",
              "      <td>0.05</td>\n",
              "      <td>0.0</td>\n",
              "      <td>0.01</td>\n",
              "      <td>0.0</td>\n",
              "      <td>0.0</td>\n",
              "      <td>21</td>\n",
              "      <td>normal</td>\n",
              "    </tr>\n",
              "    <tr>\n",
              "      <th>99</th>\n",
              "      <td>0</td>\n",
              "      <td>1</td>\n",
              "      <td>48</td>\n",
              "      <td>1</td>\n",
              "      <td>204</td>\n",
              "      <td>502</td>\n",
              "      <td>0</td>\n",
              "      <td>0</td>\n",
              "      <td>0</td>\n",
              "      <td>0</td>\n",
              "      <td>0</td>\n",
              "      <td>1</td>\n",
              "      <td>0</td>\n",
              "      <td>0</td>\n",
              "      <td>0</td>\n",
              "      <td>0</td>\n",
              "      <td>0</td>\n",
              "      <td>0</td>\n",
              "      <td>0</td>\n",
              "      <td>0</td>\n",
              "      <td>0</td>\n",
              "      <td>0</td>\n",
              "      <td>1</td>\n",
              "      <td>3</td>\n",
              "      <td>0.0</td>\n",
              "      <td>0.0</td>\n",
              "      <td>0</td>\n",
              "      <td>0</td>\n",
              "      <td>1.00</td>\n",
              "      <td>0.00</td>\n",
              "      <td>1.00</td>\n",
              "      <td>4</td>\n",
              "      <td>255</td>\n",
              "      <td>1.00</td>\n",
              "      <td>0.00</td>\n",
              "      <td>0.25</td>\n",
              "      <td>0.05</td>\n",
              "      <td>0.0</td>\n",
              "      <td>0.01</td>\n",
              "      <td>0.0</td>\n",
              "      <td>0.0</td>\n",
              "      <td>21</td>\n",
              "      <td>normal</td>\n",
              "    </tr>\n",
              "  </tbody>\n",
              "</table>\n",
              "<p>100 rows × 43 columns</p>\n",
              "</div>"
            ],
            "text/plain": [
              "    duration  protocol_type  ...  num_packet  type_attack\n",
              "0          0              2  ...          20          dos\n",
              "1          0              1  ...          21       normal\n",
              "2          0              2  ...          19          dos\n",
              "3          0              1  ...          21       normal\n",
              "4          0              2  ...          21          dos\n",
              "..       ...            ...  ...         ...          ...\n",
              "95         0              1  ...          18       normal\n",
              "96         0              2  ...          19          dos\n",
              "97         0              1  ...          21       normal\n",
              "98         0              1  ...          21       normal\n",
              "99         0              1  ...          21       normal\n",
              "\n",
              "[100 rows x 43 columns]"
            ]
          },
          "metadata": {
            "tags": []
          },
          "execution_count": 106
        }
      ]
    },
    {
      "cell_type": "code",
      "metadata": {
        "id": "twS-VH472wX-",
        "colab_type": "code",
        "colab": {}
      },
      "source": [
        "clf = joblib.load('dataBiasa.pkl')"
      ],
      "execution_count": 0,
      "outputs": []
    },
    {
      "cell_type": "code",
      "metadata": {
        "id": "n46zSMmD2xOS",
        "colab_type": "code",
        "outputId": "0147a2ea-2f12-4f23-d3c4-edc45e6b9fe8",
        "colab": {
          "base_uri": "https://localhost:8080/",
          "height": 34
        }
      },
      "source": [
        "pred = clf.predict(X)\n",
        "accuracy_score(y,pred)"
      ],
      "execution_count": 108,
      "outputs": [
        {
          "output_type": "execute_result",
          "data": {
            "text/plain": [
              "0.99"
            ]
          },
          "metadata": {
            "tags": []
          },
          "execution_count": 108
        }
      ]
    },
    {
      "cell_type": "code",
      "metadata": {
        "id": "d_UxoVLi22fT",
        "colab_type": "code",
        "colab": {}
      },
      "source": [
        "clf = MLPClassifier(random_state = 5)\n",
        "scoring = {'accuracy': make_scorer(accuracy_score)}\n",
        "cv = ShuffleSplit(n_splits=3, test_size=0.3,train_size = 0.7, random_state=5)"
      ],
      "execution_count": 0,
      "outputs": []
    },
    {
      "cell_type": "code",
      "metadata": {
        "id": "Hm34D7un25jn",
        "colab_type": "code",
        "colab": {}
      },
      "source": [
        "start = time.time()\n",
        "\n",
        "scores = cross_validate(clf, X, y, cv=cv, scoring=scoring, return_train_score=True)\n",
        "\n",
        "stop = time.time()"
      ],
      "execution_count": 0,
      "outputs": []
    },
    {
      "cell_type": "code",
      "metadata": {
        "id": "Lzd_CXhZ28ZM",
        "colab_type": "code",
        "outputId": "691fb940-7caf-49b4-87d8-db47a5d47a02",
        "colab": {
          "base_uri": "https://localhost:8080/",
          "height": 34
        }
      },
      "source": [
        "print(f\"X validation time : {stop - start}s\")"
      ],
      "execution_count": 111,
      "outputs": [
        {
          "output_type": "stream",
          "text": [
            "X validation time : 0.19498276710510254s\n"
          ],
          "name": "stdout"
        }
      ]
    },
    {
      "cell_type": "code",
      "metadata": {
        "id": "UbV3-ceE2-go",
        "colab_type": "code",
        "outputId": "436cdc76-fc73-45de-e91c-6f45bbdee28b",
        "colab": {
          "base_uri": "https://localhost:8080/",
          "height": 54
        }
      },
      "source": [
        "print(scores)"
      ],
      "execution_count": 112,
      "outputs": [
        {
          "output_type": "stream",
          "text": [
            "{'fit_time': array([0.07613969, 0.06145382, 0.04154277]), 'score_time': array([0.00171018, 0.00164676, 0.00162554]), 'test_accuracy': array([0.96666667, 0.86666667, 0.76666667]), 'train_accuracy': array([1., 1., 1.])}\n"
          ],
          "name": "stdout"
        }
      ]
    },
    {
      "cell_type": "code",
      "metadata": {
        "id": "64zAcbwnEFI2",
        "colab_type": "code",
        "colab": {}
      },
      "source": [
        "### Langsung X dan y pakai model41\n",
        "\n",
        "clf = joblib.load('modelPCA_41.pkl')"
      ],
      "execution_count": 0,
      "outputs": []
    },
    {
      "cell_type": "code",
      "metadata": {
        "id": "sB9zrJKzEONB",
        "colab_type": "code",
        "outputId": "753a2535-3f4b-4fe1-da4a-17aa1265cca2",
        "colab": {
          "base_uri": "https://localhost:8080/",
          "height": 34
        }
      },
      "source": [
        "pred = clf.predict(X)\n",
        "accuracy_score(y,pred)"
      ],
      "execution_count": 114,
      "outputs": [
        {
          "output_type": "execute_result",
          "data": {
            "text/plain": [
              "0.43"
            ]
          },
          "metadata": {
            "tags": []
          },
          "execution_count": 114
        }
      ]
    },
    {
      "cell_type": "code",
      "metadata": {
        "id": "mHb8jaM5ESmV",
        "colab_type": "code",
        "colab": {}
      },
      "source": [
        "clf = MLPClassifier(random_state = 5)\n",
        "scoring = {'accuracy': make_scorer(accuracy_score)}\n",
        "cv = ShuffleSplit(n_splits=3, test_size=0.3,train_size = 0.7, random_state=5)"
      ],
      "execution_count": 0,
      "outputs": []
    },
    {
      "cell_type": "code",
      "metadata": {
        "id": "bKRW1UtFEXb4",
        "colab_type": "code",
        "colab": {}
      },
      "source": [
        "start = time.time()\n",
        "\n",
        "scores = cross_validate(clf, X, y, cv=cv, scoring=scoring, return_train_score=True)\n",
        "\n",
        "stop = time.time()"
      ],
      "execution_count": 0,
      "outputs": []
    },
    {
      "cell_type": "code",
      "metadata": {
        "id": "sIMXZNPwEbaB",
        "colab_type": "code",
        "outputId": "0cd18db2-24f1-4196-8bbe-01b803a698c1",
        "colab": {
          "base_uri": "https://localhost:8080/",
          "height": 34
        }
      },
      "source": [
        "print(f\"X validation time : {stop - start}s\")"
      ],
      "execution_count": 117,
      "outputs": [
        {
          "output_type": "stream",
          "text": [
            "X validation time : 0.22864627838134766s\n"
          ],
          "name": "stdout"
        }
      ]
    },
    {
      "cell_type": "code",
      "metadata": {
        "id": "UP3j4oLSEeiE",
        "colab_type": "code",
        "outputId": "0dc898f5-3ee8-4fb0-c7b9-bd5b82587eac",
        "colab": {
          "base_uri": "https://localhost:8080/",
          "height": 54
        }
      },
      "source": [
        "print(scores)"
      ],
      "execution_count": 118,
      "outputs": [
        {
          "output_type": "stream",
          "text": [
            "{'fit_time': array([0.08415532, 0.06582379, 0.06315899]), 'score_time': array([0.00161481, 0.00152516, 0.0017879 ]), 'test_accuracy': array([0.96666667, 0.86666667, 0.76666667]), 'train_accuracy': array([1., 1., 1.])}\n"
          ],
          "name": "stdout"
        }
      ]
    },
    {
      "cell_type": "markdown",
      "metadata": {
        "id": "SnK9GRbBLW68",
        "colab_type": "text"
      },
      "source": [
        "# View Data"
      ]
    },
    {
      "cell_type": "code",
      "metadata": {
        "id": "HyODHcxV4Y-e",
        "colab_type": "code",
        "colab": {}
      },
      "source": [
        "df_log = pd.read_excel('/content/drive/My Drive/Tugas Akhir a.k.a SKRIPSI/Tugas Akhir - UPDATE JANUARI 2020/dataset/datatest_fromsnortlog.xlsx')"
      ],
      "execution_count": 0,
      "outputs": []
    },
    {
      "cell_type": "code",
      "metadata": {
        "id": "MTdxr_GJLOmX",
        "colab_type": "code",
        "colab": {}
      },
      "source": [
        "# dicitionary untuk merubah tipe serangan menjadi lebih umum seperti Normal, DoS, Probe, U2R, dan R2L\n",
        "\n",
        "attack_dict={ #DOS\n",
        "    'back' : 'dos',\n",
        "    'land' : 'dos',\n",
        "    'neptune' : 'dos',\n",
        "    'pod' : 'dos',\n",
        "    'smurf' : 'dos',\n",
        "    'teardrop' : 'dos',\n",
        "    'apache2' : 'dos',\n",
        "    'udpstorm' : 'dos',\n",
        "    'processtable' : 'dos',\n",
        "    'worm' : 'dos',\n",
        "    'mailbomb' : 'dos',\n",
        "    \n",
        "    #probe\n",
        "    'satan' : 'probe',\n",
        "    'ipsweep' : 'probe',\n",
        "    'nmap' : 'probe',\n",
        "    'portsweep' : 'probe',\n",
        "    'mscan' : 'probe',\n",
        "    'saint' : 'probe',\n",
        "    \n",
        "    #R2L\n",
        "    'guess_passwd' : 'r2l',\n",
        "    'ftp_write' : 'r2l',\n",
        "    'imap' : 'r2l',\n",
        "    'phf' : 'r2l',\n",
        "    'multihop' : 'r2l',\n",
        "    'warezmaster' : 'r2l',\n",
        "    'warezclient' : 'r2l',\n",
        "    'spy' : 'r2l',\n",
        "    'xlock' : 'r2l',\n",
        "    'xsnoop': 'r2l',\n",
        "    'snmpguess' : 'r2l',\n",
        "    'snmpgetattack' : 'r2l',\n",
        "    'httptunnel' : 'r2l',\n",
        "    'sendmail' : 'r2l',\n",
        "    'named' : 'r2l',\n",
        "    \n",
        "    #U2R\n",
        "    'buffer_overflow' : 'u2r',\n",
        "    'loadmodule' : 'u2r',\n",
        "    'rootkit' : 'u2r',\n",
        "    'perl' : 'u2r',\n",
        "    'sqlattack' : 'u2r',\n",
        "    'xterm' : 'u2r',\n",
        "    'ps' : 'u2r'\n",
        "}\n",
        "\n",
        "protocol_dict ={\n",
        "    \"udp\" : 0,\n",
        "    \"tcp\" : 1,\n",
        "    \"icmp\": 2\n",
        "}\n",
        "\n",
        "service_dict={\n",
        "    \"Z39_50\" : 0,\n",
        "    \"X11\" : 1,\n",
        "    \"whois\" : 2,\n",
        "    \"vmnet\" : 3,\n",
        "    \"uucp_path\" : 4,\n",
        "    \"uucp\" : 5,\n",
        "    \"urp_i\" : 6,\n",
        "    \"urh_i\" : 7,\n",
        "    \"time\" : 8,\n",
        "    \"tim_i\" : 9,\n",
        "    \"tftp_u\" : 10,\n",
        "    \"telnet\" : 11,\n",
        "    \"systat\" : 12,\n",
        "    \"supdup\" : 13,\n",
        "    \"sunrpc\" : 14,\n",
        "    \"ssh\" : 15,\n",
        "    \"sql_net\" : 16,\n",
        "    \"smtp\" : 17,\n",
        "    \"shell\" : 18,\n",
        "    \"rje\" : 19,\n",
        "    \"remote_job\" : 20,\n",
        "    \"red_i\" : 21,\n",
        "    \"private\" : 22,\n",
        "    \"printer\" : 23,\n",
        "    \"pop_3\" : 24,\n",
        "    \"pop_2\" : 25,\n",
        "    \"pm_dump\" : 26,\n",
        "    \"other\" : 27,\n",
        "    \"ntp_u\" : 28,\n",
        "    \"nntp\" : 29,\n",
        "    \"nnsp\" : 30,\n",
        "    \"netstat\" : 31,\n",
        "    \"netbios_ssn\" : 32,\n",
        "    \"netbios_ns\" : 33,\n",
        "    \"netbios_dgm\" : 34,\n",
        "    \"name\" : 35,\n",
        "    \"mtp\" : 36,\n",
        "    \"login\" : 37,\n",
        "    \"link\" : 38,\n",
        "    \"ldap\" : 39,\n",
        "    \"kshell\" : 40,\n",
        "    \"klogin\" : 41,\n",
        "    \"iso_tsap\" : 42,\n",
        "    \"IRC\" : 43,\n",
        "    \"imap4\" : 44,\n",
        "    \"http_8001\" : 45,\n",
        "    \"http_443\" : 46,\n",
        "    \"http_2784\" : 47,\n",
        "    \"http\" : 48,\n",
        "    \"hostnames\" : 49,\n",
        "    \"harvest\" : 50,\n",
        "    \"gopher\" : 51,\n",
        "    \"ftp_data\" : 52,\n",
        "    \"ftp\" : 53,\n",
        "    \"finger\" :  54,\n",
        "    \"exec\" : 55,\n",
        "    \"efs\" : 56,\n",
        "    \"ecr_i\" : 57,\n",
        "    \"eco_i\" : 58,\n",
        "    \"echo\" : 59,\n",
        "    \"domain_u\" : 60,\n",
        "    \"domain\" : 61,\n",
        "    \"discard\" : 62,\n",
        "    \"daytime\" : 63,\n",
        "    \"ctf\" : 64,\n",
        "    \"csnet_ns\" : 65,\n",
        "    \"courier\" : 66,\n",
        "    \"bgp\" : 67,\n",
        "    \"auth\" : 68,\n",
        "    \"aol\" : 69\n",
        "\n",
        "}\n",
        "\n",
        "flag_dict={\n",
        "    \"SH\" : 0,\n",
        "    \"SF\" : 1,\n",
        "    \"S3\" : 2,\n",
        "    \"S2\" : 3,\n",
        "    \"S1\" : 4,\n",
        "    \"S0\" : 5,\n",
        "    \"RSTR\" : 6,\n",
        "    \"RSTOS0\" : 7,\n",
        "    \"RSTO\" : 8,\n",
        "    \"REJ\" : 9,\n",
        "    \"OTH\" : 10\n",
        "\n",
        "}\n",
        "\n",
        "\n",
        "\n",
        "df_log.replace(flag_dict, inplace = True)\n",
        "df_log.replace(service_dict, inplace = True)\n",
        "df_log.replace(protocol_dict, inplace = True)\n",
        "df_log.replace(attack_dict, inplace = True)"
      ],
      "execution_count": 0,
      "outputs": []
    }
  ]
}