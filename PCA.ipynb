{
  "nbformat": 4,
  "nbformat_minor": 0,
  "metadata": {
    "colab": {
      "name": "PCA.ipynb",
      "provenance": [],
      "collapsed_sections": [
        "7YZAHRrcB0Uy"
      ]
    },
    "kernelspec": {
      "name": "python3",
      "display_name": "Python 3"
    }
  },
  "cells": [
    {
      "cell_type": "markdown",
      "metadata": {
        "id": "7YZAHRrcB0Uy",
        "colab_type": "text"
      },
      "source": [
        "# inisialisasi"
      ]
    },
    {
      "cell_type": "code",
      "metadata": {
        "id": "QvQS0V6KLW_3",
        "colab_type": "code",
        "colab": {}
      },
      "source": [
        "# from google.colab import drive\n",
        "# drive.mount('/content/drive')"
      ],
      "execution_count": 0,
      "outputs": []
    },
    {
      "cell_type": "code",
      "metadata": {
        "id": "PKm5hOnr7c95",
        "colab_type": "code",
        "colab": {}
      },
      "source": [
        "import pandas as pd\n",
        "import numpy as np\n",
        "from sklearn.preprocessing import StandardScaler\n",
        "from matplotlib import*\n",
        "import matplotlib.pyplot as plt\n",
        "from matplotlib.cm import register_cmap\n",
        "from scipy import stats\n",
        "# from sklearn.decomposition import PCA as sklearnPCA\n",
        "import seaborn as sns\n",
        "\n",
        "from sklearn.decomposition import PCA\n",
        "from sklearn.preprocessing import MinMaxScaler\n",
        "\n",
        "import statsmodels.api as sm\n",
        "%matplotlib inline\n",
        "from sklearn.model_selection import train_test_split\n",
        "from sklearn.linear_model import LinearRegression\n",
        "from sklearn.feature_selection import RFE\n",
        "from sklearn.linear_model import RidgeCV, LassoCV, Ridge, Lasso\n",
        "\n",
        "from scipy.stats import zscore\n",
        "\n",
        "# from sklearn.decomposition import PCA as sklearnPCA\n",
        "# from sklearn.preprocessing import StandardScaler\n",
        "\n",
        "# from sklearn.datasets import make_classification\n",
        "from sklearn.ensemble import ExtraTreesClassifier\n",
        "import time\n",
        "\n",
        "from sklearn.model_selection import train_test_split\n",
        "from sklearn.metrics import accuracy_score\n",
        "\n",
        "from sklearn.model_selection import cross_validate\n",
        "from sklearn.metrics import accuracy_score, make_scorer\n",
        "from sklearn.model_selection import cross_validate, ShuffleSplit\n",
        "\n",
        "from sklearn.model_selection import KFold\n",
        "\n",
        "from sklearn.neural_network import MLPClassifier"
      ],
      "execution_count": 0,
      "outputs": []
    },
    {
      "cell_type": "code",
      "metadata": {
        "id": "NJzMrBiK7iGK",
        "colab_type": "code",
        "colab": {}
      },
      "source": [
        "# url = 'https://raw.githubusercontent.com/hasobi/skripsi/dev/dataset/gabungan_train_test-original.csv'\n",
        "# url = ''\n",
        "# dataframe = pd.read_csv('/content/drive/My Drive/Tugas Akhir a.k.a SKRIPSI/SIAP SIDANG/KDDTrain_Test.csv')\n",
        "dataframe =  pd.read_csv('https://raw.githubusercontent.com/hasobi/skripsi/dev/dataset/KDDTrain_Test.csv')\n",
        "# data = pd.read_csv('/content/drive/My Drive/Tugas Akhir a.k.a SKRIPSI/SIAP SIDANG/KDDTrain_Test.csv')\n",
        "data = pd.read_csv('https://raw.githubusercontent.com/hasobi/skripsi/dev/dataset/KDDTrain_Test.csv')"
      ],
      "execution_count": 0,
      "outputs": []
    },
    {
      "cell_type": "code",
      "metadata": {
        "id": "IhXvwOIU7qSW",
        "colab_type": "code",
        "colab": {}
      },
      "source": [
        "# dicitionary untuk merubah tipe serangan menjadi lebih umum seperti Normal, DoS, Probe, U2R, dan R2L\n",
        "\n",
        "attack_dict={ #DOS\n",
        "    'back' : 'dos',\n",
        "    'land' : 'dos',\n",
        "    'neptune' : 'dos',\n",
        "    'pod' : 'dos',\n",
        "    'smurf' : 'dos',\n",
        "    'teardrop' : 'dos',\n",
        "    'apache2' : 'dos',\n",
        "    'udpstorm' : 'dos',\n",
        "    'processtable' : 'dos',\n",
        "    'worm' : 'dos',\n",
        "    'mailbomb' : 'dos',\n",
        "    \n",
        "    #probe\n",
        "    'satan' : 'probe',\n",
        "    'ipsweep' : 'probe',\n",
        "    'nmap' : 'probe',\n",
        "    'portsweep' : 'probe',\n",
        "    'mscan' : 'probe',\n",
        "    'saint' : 'probe',\n",
        "    \n",
        "    #R2L\n",
        "    'guess_passwd' : 'r2l',\n",
        "    'ftp_write' : 'r2l',\n",
        "    'imap' : 'r2l',\n",
        "    'phf' : 'r2l',\n",
        "    'multihop' : 'r2l',\n",
        "    'warezmaster' : 'r2l',\n",
        "    'warezclient' : 'r2l',\n",
        "    'spy' : 'r2l',\n",
        "    'xlock' : 'r2l',\n",
        "    'xsnoop': 'r2l',\n",
        "    'snmpguess' : 'r2l',\n",
        "    'snmpgetattack' : 'r2l',\n",
        "    'httptunnel' : 'r2l',\n",
        "    'sendmail' : 'r2l',\n",
        "    'named' : 'r2l',\n",
        "    \n",
        "    #U2R\n",
        "    'buffer_overflow' : 'u2r',\n",
        "    'loadmodule' : 'u2r',\n",
        "    'rootkit' : 'u2r',\n",
        "    'perl' : 'u2r',\n",
        "    'sqlattack' : 'u2r',\n",
        "    'xterm' : 'u2r',\n",
        "    'ps' : 'u2r'\n",
        "}\n",
        "\n",
        "protocol_dict ={\n",
        "    \"udp\" : 0,\n",
        "    \"tcp\" : 1,\n",
        "    \"icmp\": 2\n",
        "}\n",
        "\n",
        "service_dict={\n",
        "    \"Z39_50\" : 0,\n",
        "    \"X11\" : 1,\n",
        "    \"whois\" : 2,\n",
        "    \"vmnet\" : 3,\n",
        "    \"uucp_path\" : 4,\n",
        "    \"uucp\" : 5,\n",
        "    \"urp_i\" : 6,\n",
        "    \"urh_i\" : 7,\n",
        "    \"time\" : 8,\n",
        "    \"tim_i\" : 9,\n",
        "    \"tftp_u\" : 10,\n",
        "    \"telnet\" : 11,\n",
        "    \"systat\" : 12,\n",
        "    \"supdup\" : 13,\n",
        "    \"sunrpc\" : 14,\n",
        "    \"ssh\" : 15,\n",
        "    \"sql_net\" : 16,\n",
        "    \"smtp\" : 17,\n",
        "    \"shell\" : 18,\n",
        "    \"rje\" : 19,\n",
        "    \"remote_job\" : 20,\n",
        "    \"red_i\" : 21,\n",
        "    \"private\" : 22,\n",
        "    \"printer\" : 23,\n",
        "    \"pop_3\" : 24,\n",
        "    \"pop_2\" : 25,\n",
        "    \"pm_dump\" : 26,\n",
        "    \"other\" : 27,\n",
        "    \"ntp_u\" : 28,\n",
        "    \"nntp\" : 29,\n",
        "    \"nnsp\" : 30,\n",
        "    \"netstat\" : 31,\n",
        "    \"netbios_ssn\" : 32,\n",
        "    \"netbios_ns\" : 33,\n",
        "    \"netbios_dgm\" : 34,\n",
        "    \"name\" : 35,\n",
        "    \"mtp\" : 36,\n",
        "    \"login\" : 37,\n",
        "    \"link\" : 38,\n",
        "    \"ldap\" : 39,\n",
        "    \"kshell\" : 40,\n",
        "    \"klogin\" : 41,\n",
        "    \"iso_tsap\" : 42,\n",
        "    \"IRC\" : 43,\n",
        "    \"imap4\" : 44,\n",
        "    \"http_8001\" : 45,\n",
        "    \"http_443\" : 46,\n",
        "    \"http_2784\" : 47,\n",
        "    \"http\" : 48,\n",
        "    \"hostnames\" : 49,\n",
        "    \"harvest\" : 50,\n",
        "    \"gopher\" : 51,\n",
        "    \"ftp_data\" : 52,\n",
        "    \"ftp\" : 53,\n",
        "    \"finger\" :  54,\n",
        "    \"exec\" : 55,\n",
        "    \"efs\" : 56,\n",
        "    \"ecr_i\" : 57,\n",
        "    \"eco_i\" : 58,\n",
        "    \"echo\" : 59,\n",
        "    \"domain_u\" : 60,\n",
        "    \"domain\" : 61,\n",
        "    \"discard\" : 62,\n",
        "    \"daytime\" : 63,\n",
        "    \"ctf\" : 64,\n",
        "    \"csnet_ns\" : 65,\n",
        "    \"courier\" : 66,\n",
        "    \"bgp\" : 67,\n",
        "    \"auth\" : 68,\n",
        "    \"aol\" : 69\n",
        "\n",
        "}\n",
        "\n",
        "flag_dict={\n",
        "    \"SH\" : 0,\n",
        "    \"SF\" : 1,\n",
        "    \"S3\" : 2,\n",
        "    \"S2\" : 3,\n",
        "    \"S1\" : 4,\n",
        "    \"S0\" : 5,\n",
        "    \"RSTR\" : 6,\n",
        "    \"RSTOS0\" : 7,\n",
        "    \"RSTO\" : 8,\n",
        "    \"REJ\" : 9,\n",
        "    \"OTH\" : 10\n",
        "\n",
        "}\n",
        "data.replace(flag_dict, inplace = True)\n",
        "data.replace(service_dict, inplace = True)\n",
        "data.replace(protocol_dict, inplace = True)\n",
        "data.replace(attack_dict, inplace = True)"
      ],
      "execution_count": 0,
      "outputs": []
    },
    {
      "cell_type": "code",
      "metadata": {
        "id": "fYOqARBs75TB",
        "colab_type": "code",
        "outputId": "a5ccab3b-46ee-408f-905c-c8c5a07b64f6",
        "colab": {
          "base_uri": "https://localhost:8080/",
          "height": 224
        }
      },
      "source": [
        "data.head()"
      ],
      "execution_count": 0,
      "outputs": [
        {
          "output_type": "execute_result",
          "data": {
            "text/html": [
              "<div>\n",
              "<style scoped>\n",
              "    .dataframe tbody tr th:only-of-type {\n",
              "        vertical-align: middle;\n",
              "    }\n",
              "\n",
              "    .dataframe tbody tr th {\n",
              "        vertical-align: top;\n",
              "    }\n",
              "\n",
              "    .dataframe thead th {\n",
              "        text-align: right;\n",
              "    }\n",
              "</style>\n",
              "<table border=\"1\" class=\"dataframe\">\n",
              "  <thead>\n",
              "    <tr style=\"text-align: right;\">\n",
              "      <th></th>\n",
              "      <th>duration</th>\n",
              "      <th>protocol_type</th>\n",
              "      <th>service</th>\n",
              "      <th>flag</th>\n",
              "      <th>src_bytes</th>\n",
              "      <th>dst_bytes</th>\n",
              "      <th>land</th>\n",
              "      <th>wrong_fragment</th>\n",
              "      <th>urgent</th>\n",
              "      <th>hot</th>\n",
              "      <th>num_failed_logins</th>\n",
              "      <th>logged_in</th>\n",
              "      <th>num_compromised</th>\n",
              "      <th>root_shell</th>\n",
              "      <th>su_attempted</th>\n",
              "      <th>num_root</th>\n",
              "      <th>num_file_creations</th>\n",
              "      <th>num_shells</th>\n",
              "      <th>num_access_files</th>\n",
              "      <th>num_outbound_cmds</th>\n",
              "      <th>is_host_login</th>\n",
              "      <th>is_guest_login</th>\n",
              "      <th>count</th>\n",
              "      <th>srv_count</th>\n",
              "      <th>serror_rate</th>\n",
              "      <th>srv_serror_rate</th>\n",
              "      <th>rerror_rate</th>\n",
              "      <th>srv_rerror_rate</th>\n",
              "      <th>same_srv_rate</th>\n",
              "      <th>diff_srv_rate</th>\n",
              "      <th>srv_diff_host_rate</th>\n",
              "      <th>dst_host_count</th>\n",
              "      <th>dst_host_srv_count</th>\n",
              "      <th>dst_host_same_srv_rate</th>\n",
              "      <th>dst_host_diff_srv_rate</th>\n",
              "      <th>dst_host_same_src_port_rate</th>\n",
              "      <th>dst_host_srv_diff_host_rate</th>\n",
              "      <th>dst_host_serror_rate</th>\n",
              "      <th>dst_host_srv_serror_rate</th>\n",
              "      <th>dst_host_rerror_rate</th>\n",
              "      <th>dst_host_srv_rerror_rate</th>\n",
              "      <th>num_packet</th>\n",
              "      <th>type_attack</th>\n",
              "    </tr>\n",
              "  </thead>\n",
              "  <tbody>\n",
              "    <tr>\n",
              "      <th>0</th>\n",
              "      <td>0</td>\n",
              "      <td>1</td>\n",
              "      <td>52</td>\n",
              "      <td>1</td>\n",
              "      <td>491</td>\n",
              "      <td>0</td>\n",
              "      <td>0</td>\n",
              "      <td>0</td>\n",
              "      <td>0</td>\n",
              "      <td>0</td>\n",
              "      <td>0</td>\n",
              "      <td>0</td>\n",
              "      <td>0</td>\n",
              "      <td>0</td>\n",
              "      <td>0</td>\n",
              "      <td>0</td>\n",
              "      <td>0</td>\n",
              "      <td>0</td>\n",
              "      <td>0</td>\n",
              "      <td>0</td>\n",
              "      <td>0</td>\n",
              "      <td>0</td>\n",
              "      <td>2</td>\n",
              "      <td>2</td>\n",
              "      <td>0.0</td>\n",
              "      <td>0.0</td>\n",
              "      <td>0.0</td>\n",
              "      <td>0.0</td>\n",
              "      <td>1.00</td>\n",
              "      <td>0.00</td>\n",
              "      <td>0.00</td>\n",
              "      <td>150</td>\n",
              "      <td>25</td>\n",
              "      <td>0.17</td>\n",
              "      <td>0.03</td>\n",
              "      <td>0.17</td>\n",
              "      <td>0.00</td>\n",
              "      <td>0.00</td>\n",
              "      <td>0.00</td>\n",
              "      <td>0.05</td>\n",
              "      <td>0.00</td>\n",
              "      <td>20</td>\n",
              "      <td>normal</td>\n",
              "    </tr>\n",
              "    <tr>\n",
              "      <th>1</th>\n",
              "      <td>0</td>\n",
              "      <td>0</td>\n",
              "      <td>27</td>\n",
              "      <td>1</td>\n",
              "      <td>146</td>\n",
              "      <td>0</td>\n",
              "      <td>0</td>\n",
              "      <td>0</td>\n",
              "      <td>0</td>\n",
              "      <td>0</td>\n",
              "      <td>0</td>\n",
              "      <td>0</td>\n",
              "      <td>0</td>\n",
              "      <td>0</td>\n",
              "      <td>0</td>\n",
              "      <td>0</td>\n",
              "      <td>0</td>\n",
              "      <td>0</td>\n",
              "      <td>0</td>\n",
              "      <td>0</td>\n",
              "      <td>0</td>\n",
              "      <td>0</td>\n",
              "      <td>13</td>\n",
              "      <td>1</td>\n",
              "      <td>0.0</td>\n",
              "      <td>0.0</td>\n",
              "      <td>0.0</td>\n",
              "      <td>0.0</td>\n",
              "      <td>0.08</td>\n",
              "      <td>0.15</td>\n",
              "      <td>0.00</td>\n",
              "      <td>255</td>\n",
              "      <td>1</td>\n",
              "      <td>0.00</td>\n",
              "      <td>0.60</td>\n",
              "      <td>0.88</td>\n",
              "      <td>0.00</td>\n",
              "      <td>0.00</td>\n",
              "      <td>0.00</td>\n",
              "      <td>0.00</td>\n",
              "      <td>0.00</td>\n",
              "      <td>15</td>\n",
              "      <td>normal</td>\n",
              "    </tr>\n",
              "    <tr>\n",
              "      <th>2</th>\n",
              "      <td>0</td>\n",
              "      <td>1</td>\n",
              "      <td>22</td>\n",
              "      <td>5</td>\n",
              "      <td>0</td>\n",
              "      <td>0</td>\n",
              "      <td>0</td>\n",
              "      <td>0</td>\n",
              "      <td>0</td>\n",
              "      <td>0</td>\n",
              "      <td>0</td>\n",
              "      <td>0</td>\n",
              "      <td>0</td>\n",
              "      <td>0</td>\n",
              "      <td>0</td>\n",
              "      <td>0</td>\n",
              "      <td>0</td>\n",
              "      <td>0</td>\n",
              "      <td>0</td>\n",
              "      <td>0</td>\n",
              "      <td>0</td>\n",
              "      <td>0</td>\n",
              "      <td>123</td>\n",
              "      <td>6</td>\n",
              "      <td>1.0</td>\n",
              "      <td>1.0</td>\n",
              "      <td>0.0</td>\n",
              "      <td>0.0</td>\n",
              "      <td>0.05</td>\n",
              "      <td>0.07</td>\n",
              "      <td>0.00</td>\n",
              "      <td>255</td>\n",
              "      <td>26</td>\n",
              "      <td>0.10</td>\n",
              "      <td>0.05</td>\n",
              "      <td>0.00</td>\n",
              "      <td>0.00</td>\n",
              "      <td>1.00</td>\n",
              "      <td>1.00</td>\n",
              "      <td>0.00</td>\n",
              "      <td>0.00</td>\n",
              "      <td>19</td>\n",
              "      <td>dos</td>\n",
              "    </tr>\n",
              "    <tr>\n",
              "      <th>3</th>\n",
              "      <td>0</td>\n",
              "      <td>1</td>\n",
              "      <td>48</td>\n",
              "      <td>1</td>\n",
              "      <td>232</td>\n",
              "      <td>8153</td>\n",
              "      <td>0</td>\n",
              "      <td>0</td>\n",
              "      <td>0</td>\n",
              "      <td>0</td>\n",
              "      <td>0</td>\n",
              "      <td>1</td>\n",
              "      <td>0</td>\n",
              "      <td>0</td>\n",
              "      <td>0</td>\n",
              "      <td>0</td>\n",
              "      <td>0</td>\n",
              "      <td>0</td>\n",
              "      <td>0</td>\n",
              "      <td>0</td>\n",
              "      <td>0</td>\n",
              "      <td>0</td>\n",
              "      <td>5</td>\n",
              "      <td>5</td>\n",
              "      <td>0.2</td>\n",
              "      <td>0.2</td>\n",
              "      <td>0.0</td>\n",
              "      <td>0.0</td>\n",
              "      <td>1.00</td>\n",
              "      <td>0.00</td>\n",
              "      <td>0.00</td>\n",
              "      <td>30</td>\n",
              "      <td>255</td>\n",
              "      <td>1.00</td>\n",
              "      <td>0.00</td>\n",
              "      <td>0.03</td>\n",
              "      <td>0.04</td>\n",
              "      <td>0.03</td>\n",
              "      <td>0.01</td>\n",
              "      <td>0.00</td>\n",
              "      <td>0.01</td>\n",
              "      <td>21</td>\n",
              "      <td>normal</td>\n",
              "    </tr>\n",
              "    <tr>\n",
              "      <th>4</th>\n",
              "      <td>0</td>\n",
              "      <td>1</td>\n",
              "      <td>48</td>\n",
              "      <td>1</td>\n",
              "      <td>199</td>\n",
              "      <td>420</td>\n",
              "      <td>0</td>\n",
              "      <td>0</td>\n",
              "      <td>0</td>\n",
              "      <td>0</td>\n",
              "      <td>0</td>\n",
              "      <td>1</td>\n",
              "      <td>0</td>\n",
              "      <td>0</td>\n",
              "      <td>0</td>\n",
              "      <td>0</td>\n",
              "      <td>0</td>\n",
              "      <td>0</td>\n",
              "      <td>0</td>\n",
              "      <td>0</td>\n",
              "      <td>0</td>\n",
              "      <td>0</td>\n",
              "      <td>30</td>\n",
              "      <td>32</td>\n",
              "      <td>0.0</td>\n",
              "      <td>0.0</td>\n",
              "      <td>0.0</td>\n",
              "      <td>0.0</td>\n",
              "      <td>1.00</td>\n",
              "      <td>0.00</td>\n",
              "      <td>0.09</td>\n",
              "      <td>255</td>\n",
              "      <td>255</td>\n",
              "      <td>1.00</td>\n",
              "      <td>0.00</td>\n",
              "      <td>0.00</td>\n",
              "      <td>0.00</td>\n",
              "      <td>0.00</td>\n",
              "      <td>0.00</td>\n",
              "      <td>0.00</td>\n",
              "      <td>0.00</td>\n",
              "      <td>21</td>\n",
              "      <td>normal</td>\n",
              "    </tr>\n",
              "  </tbody>\n",
              "</table>\n",
              "</div>"
            ],
            "text/plain": [
              "   duration  protocol_type  ...  num_packet  type_attack\n",
              "0         0              1  ...          20       normal\n",
              "1         0              0  ...          15       normal\n",
              "2         0              1  ...          19          dos\n",
              "3         0              1  ...          21       normal\n",
              "4         0              1  ...          21       normal\n",
              "\n",
              "[5 rows x 43 columns]"
            ]
          },
          "metadata": {
            "tags": []
          },
          "execution_count": 7
        }
      ]
    },
    {
      "cell_type": "code",
      "metadata": {
        "id": "rnYQrNaaQrbn",
        "colab_type": "code",
        "outputId": "13f34a45-6e87-4980-8d4a-4258ada4514d",
        "colab": {
          "base_uri": "https://localhost:8080/",
          "height": 34
        }
      },
      "source": [
        "data.shape"
      ],
      "execution_count": 0,
      "outputs": [
        {
          "output_type": "execute_result",
          "data": {
            "text/plain": [
              "(148516, 43)"
            ]
          },
          "metadata": {
            "tags": []
          },
          "execution_count": 8
        }
      ]
    },
    {
      "cell_type": "code",
      "metadata": {
        "id": "w6VXYxEcj0-3",
        "colab_type": "code",
        "colab": {}
      },
      "source": [
        "# url = 'https://raw.githubusercontent.com/hasobi/skripsi/dev/dataset/KDDTrain_Test.csv'\n",
        "# dataframe1 = pd.read_csv(url)"
      ],
      "execution_count": 0,
      "outputs": []
    },
    {
      "cell_type": "code",
      "metadata": {
        "id": "Lx0bRqHjkJVT",
        "colab_type": "code",
        "colab": {}
      },
      "source": [
        "# dataframe1"
      ],
      "execution_count": 0,
      "outputs": []
    },
    {
      "cell_type": "markdown",
      "metadata": {
        "id": "wfEsyDAJ_tPG",
        "colab_type": "text"
      },
      "source": [
        "# PCAv2 - 41 fitur"
      ]
    },
    {
      "cell_type": "code",
      "metadata": {
        "id": "vnKC_rhY_vM9",
        "colab_type": "code",
        "outputId": "3570d84d-0ea6-47a7-d397-f9a81350a6bf",
        "colab": {
          "base_uri": "https://localhost:8080/",
          "height": 34
        }
      },
      "source": [
        "data.type_attack.unique()"
      ],
      "execution_count": 0,
      "outputs": [
        {
          "output_type": "execute_result",
          "data": {
            "text/plain": [
              "array(['normal', 'dos', 'r2l', 'probe', 'u2r'], dtype=object)"
            ]
          },
          "metadata": {
            "tags": []
          },
          "execution_count": 11
        }
      ]
    },
    {
      "cell_type": "code",
      "metadata": {
        "id": "TmRNzCFa_9Gm",
        "colab_type": "code",
        "colab": {}
      },
      "source": [
        "data_all1 = data.drop(columns=['num_packet','type_attack'])"
      ],
      "execution_count": 0,
      "outputs": []
    },
    {
      "cell_type": "code",
      "metadata": {
        "id": "A0ZkKOxvOIZh",
        "colab_type": "code",
        "outputId": "b01e39f3-2208-4669-fe06-484f488f9a61",
        "colab": {
          "base_uri": "https://localhost:8080/",
          "height": 34
        }
      },
      "source": [
        "data_all1.shape"
      ],
      "execution_count": 0,
      "outputs": [
        {
          "output_type": "execute_result",
          "data": {
            "text/plain": [
              "(148516, 41)"
            ]
          },
          "metadata": {
            "tags": []
          },
          "execution_count": 19
        }
      ]
    },
    {
      "cell_type": "code",
      "metadata": {
        "id": "uf3nLVAeAABu",
        "colab_type": "code",
        "outputId": "0a7b7070-25cf-4465-db2b-4be5b30e367c",
        "colab": {
          "base_uri": "https://localhost:8080/",
          "height": 621
        }
      },
      "source": [
        "## MULAI PCA\n",
        "\n",
        "scaler = MinMaxScaler(feature_range=[0, 1])\n",
        "data_rescaled = scaler.fit_transform(data_all1.iloc[:,:])\n",
        "\n",
        "#Fitting the PCA algorithm with our Data\n",
        "pca = PCA().fit(data_rescaled)\n",
        "#Plotting the Cumulative Summation of the Explained Variance\n",
        "# plt.figure()\n",
        "plt.figure(figsize=(20,10)) \n",
        "\n",
        "plt.plot(np.cumsum(pca.explained_variance_ratio_))\n",
        "plt.xlabel('Number of Components')\n",
        "plt.ylabel('Variance (%)') #for each component\n",
        "plt.title('Pulsar Dataset Explained Variance')\n",
        "plt.show()"
      ],
      "execution_count": 0,
      "outputs": [
        {
          "output_type": "display_data",
          "data": {
            "image/png": "[encoded data removed]",
            "text/plain": [
              "<Figure size 1440x720 with 1 Axes>"
            ]
          },
          "metadata": {
            "tags": []
          }
        }
      ]
    },
    {
      "cell_type": "code",
      "metadata": {
        "id": "yxwGrT58AI5n",
        "colab_type": "code",
        "colab": {}
      },
      "source": [
        "pca = PCA(n_components=41)\n",
        "dataset = pca.fit_transform(data_rescaled)"
      ],
      "execution_count": 0,
      "outputs": []
    },
    {
      "cell_type": "code",
      "metadata": {
        "id": "R0WUZk4IN-ZZ",
        "colab_type": "code",
        "outputId": "c1dcfc14-dd34-4474-a61d-674bfd5b668e",
        "colab": {
          "base_uri": "https://localhost:8080/",
          "height": 34
        }
      },
      "source": [
        "dataset.shape"
      ],
      "execution_count": 0,
      "outputs": [
        {
          "output_type": "execute_result",
          "data": {
            "text/plain": [
              "(148516, 41)"
            ]
          },
          "metadata": {
            "tags": []
          },
          "execution_count": 18
        }
      ]
    },
    {
      "cell_type": "code",
      "metadata": {
        "id": "_pq5YxszN6-S",
        "colab_type": "code",
        "outputId": "2c4ad72f-2469-4933-e383-4f01e54f2cf9",
        "colab": {
          "base_uri": "https://localhost:8080/",
          "height": 326
        }
      },
      "source": [
        "df3v1=pd.DataFrame(data=dataset[0:,0:], index=[i for i in range(dataset.shape[0])], columns=['column '+str(i) for i in range(dataset.shape[1])])\n",
        "df3v1.head()"
      ],
      "execution_count": 0,
      "outputs": [
        {
          "output_type": "execute_result",
          "data": {
            "text/html": [
              "<div>\n",
              "<style scoped>\n",
              "    .dataframe tbody tr th:only-of-type {\n",
              "        vertical-align: middle;\n",
              "    }\n",
              "\n",
              "    .dataframe tbody tr th {\n",
              "        vertical-align: top;\n",
              "    }\n",
              "\n",
              "    .dataframe thead th {\n",
              "        text-align: right;\n",
              "    }\n",
              "</style>\n",
              "<table border=\"1\" class=\"dataframe\">\n",
              "  <thead>\n",
              "    <tr style=\"text-align: right;\">\n",
              "      <th></th>\n",
              "      <th>column 0</th>\n",
              "      <th>column 1</th>\n",
              "      <th>column 2</th>\n",
              "      <th>column 3</th>\n",
              "      <th>column 4</th>\n",
              "      <th>column 5</th>\n",
              "      <th>column 6</th>\n",
              "      <th>column 7</th>\n",
              "      <th>column 8</th>\n",
              "      <th>column 9</th>\n",
              "      <th>column 10</th>\n",
              "      <th>column 11</th>\n",
              "      <th>column 12</th>\n",
              "      <th>column 13</th>\n",
              "      <th>column 14</th>\n",
              "      <th>column 15</th>\n",
              "      <th>column 16</th>\n",
              "      <th>column 17</th>\n",
              "      <th>column 18</th>\n",
              "      <th>column 19</th>\n",
              "      <th>column 20</th>\n",
              "      <th>column 21</th>\n",
              "      <th>column 22</th>\n",
              "      <th>column 23</th>\n",
              "      <th>column 24</th>\n",
              "      <th>column 25</th>\n",
              "      <th>column 26</th>\n",
              "      <th>column 27</th>\n",
              "      <th>column 28</th>\n",
              "      <th>column 29</th>\n",
              "      <th>column 30</th>\n",
              "      <th>column 31</th>\n",
              "      <th>column 32</th>\n",
              "      <th>column 33</th>\n",
              "      <th>column 34</th>\n",
              "      <th>column 35</th>\n",
              "      <th>column 36</th>\n",
              "      <th>column 37</th>\n",
              "      <th>column 38</th>\n",
              "      <th>column 39</th>\n",
              "      <th>column 40</th>\n",
              "    </tr>\n",
              "  </thead>\n",
              "  <tbody>\n",
              "    <tr>\n",
              "      <th>0</th>\n",
              "      <td>-0.210454</td>\n",
              "      <td>0.109517</td>\n",
              "      <td>0.558613</td>\n",
              "      <td>-0.210847</td>\n",
              "      <td>0.410863</td>\n",
              "      <td>-0.182544</td>\n",
              "      <td>-0.269973</td>\n",
              "      <td>-0.061005</td>\n",
              "      <td>-0.463782</td>\n",
              "      <td>-0.041845</td>\n",
              "      <td>-0.016257</td>\n",
              "      <td>0.219600</td>\n",
              "      <td>0.057659</td>\n",
              "      <td>-0.134752</td>\n",
              "      <td>-0.017798</td>\n",
              "      <td>0.076811</td>\n",
              "      <td>-0.002909</td>\n",
              "      <td>-0.089396</td>\n",
              "      <td>-0.032376</td>\n",
              "      <td>0.006620</td>\n",
              "      <td>0.081705</td>\n",
              "      <td>-0.051989</td>\n",
              "      <td>-0.001722</td>\n",
              "      <td>-0.003106</td>\n",
              "      <td>-0.015040</td>\n",
              "      <td>-0.018264</td>\n",
              "      <td>-0.001643</td>\n",
              "      <td>-0.000989</td>\n",
              "      <td>-0.000149</td>\n",
              "      <td>-0.006964</td>\n",
              "      <td>-0.004533</td>\n",
              "      <td>-0.000210</td>\n",
              "      <td>-0.000157</td>\n",
              "      <td>-5.451047e-07</td>\n",
              "      <td>-0.000445</td>\n",
              "      <td>0.000052</td>\n",
              "      <td>-0.000139</td>\n",
              "      <td>-4.760363e-05</td>\n",
              "      <td>0.000003</td>\n",
              "      <td>-0.000011</td>\n",
              "      <td>-9.558075e-18</td>\n",
              "    </tr>\n",
              "    <tr>\n",
              "      <th>1</th>\n",
              "      <td>0.295173</td>\n",
              "      <td>0.354357</td>\n",
              "      <td>0.747835</td>\n",
              "      <td>-0.551986</td>\n",
              "      <td>0.892921</td>\n",
              "      <td>-0.064741</td>\n",
              "      <td>0.035088</td>\n",
              "      <td>0.275928</td>\n",
              "      <td>0.288845</td>\n",
              "      <td>0.207347</td>\n",
              "      <td>-0.411123</td>\n",
              "      <td>-0.394146</td>\n",
              "      <td>0.136762</td>\n",
              "      <td>-0.166930</td>\n",
              "      <td>0.005222</td>\n",
              "      <td>-0.232558</td>\n",
              "      <td>0.092964</td>\n",
              "      <td>-0.091796</td>\n",
              "      <td>-0.014189</td>\n",
              "      <td>0.026604</td>\n",
              "      <td>-0.183462</td>\n",
              "      <td>0.084000</td>\n",
              "      <td>0.043852</td>\n",
              "      <td>-0.001883</td>\n",
              "      <td>0.038448</td>\n",
              "      <td>-0.001640</td>\n",
              "      <td>0.005272</td>\n",
              "      <td>0.002423</td>\n",
              "      <td>0.003426</td>\n",
              "      <td>0.001434</td>\n",
              "      <td>0.002474</td>\n",
              "      <td>-0.000742</td>\n",
              "      <td>-0.000084</td>\n",
              "      <td>-4.248704e-04</td>\n",
              "      <td>0.000462</td>\n",
              "      <td>0.000704</td>\n",
              "      <td>0.000158</td>\n",
              "      <td>-4.170726e-05</td>\n",
              "      <td>0.000036</td>\n",
              "      <td>-0.000007</td>\n",
              "      <td>1.162525e-17</td>\n",
              "    </tr>\n",
              "    <tr>\n",
              "      <th>2</th>\n",
              "      <td>1.730388</td>\n",
              "      <td>-0.587896</td>\n",
              "      <td>-0.089366</td>\n",
              "      <td>0.074590</td>\n",
              "      <td>-0.067424</td>\n",
              "      <td>0.029835</td>\n",
              "      <td>-0.051773</td>\n",
              "      <td>-0.014232</td>\n",
              "      <td>0.111595</td>\n",
              "      <td>-0.045301</td>\n",
              "      <td>-0.100270</td>\n",
              "      <td>0.022367</td>\n",
              "      <td>0.014328</td>\n",
              "      <td>0.002643</td>\n",
              "      <td>0.023151</td>\n",
              "      <td>-0.013676</td>\n",
              "      <td>-0.007915</td>\n",
              "      <td>-0.002653</td>\n",
              "      <td>0.009050</td>\n",
              "      <td>0.000282</td>\n",
              "      <td>-0.049915</td>\n",
              "      <td>0.021489</td>\n",
              "      <td>0.005059</td>\n",
              "      <td>0.000722</td>\n",
              "      <td>0.001802</td>\n",
              "      <td>0.003486</td>\n",
              "      <td>0.001287</td>\n",
              "      <td>-0.000146</td>\n",
              "      <td>-0.000418</td>\n",
              "      <td>-0.000488</td>\n",
              "      <td>-0.000203</td>\n",
              "      <td>0.000069</td>\n",
              "      <td>-0.000072</td>\n",
              "      <td>5.659334e-06</td>\n",
              "      <td>0.000053</td>\n",
              "      <td>-0.000078</td>\n",
              "      <td>0.000012</td>\n",
              "      <td>-3.587490e-07</td>\n",
              "      <td>0.000009</td>\n",
              "      <td>0.000003</td>\n",
              "      <td>4.430353e-17</td>\n",
              "    </tr>\n",
              "    <tr>\n",
              "      <th>3</th>\n",
              "      <td>-1.010287</td>\n",
              "      <td>-0.469081</td>\n",
              "      <td>-0.215443</td>\n",
              "      <td>0.414567</td>\n",
              "      <td>-0.202224</td>\n",
              "      <td>-0.275664</td>\n",
              "      <td>0.018488</td>\n",
              "      <td>0.132578</td>\n",
              "      <td>0.049882</td>\n",
              "      <td>0.011953</td>\n",
              "      <td>0.045059</td>\n",
              "      <td>0.015433</td>\n",
              "      <td>0.037350</td>\n",
              "      <td>-0.063787</td>\n",
              "      <td>0.047175</td>\n",
              "      <td>0.056267</td>\n",
              "      <td>0.133808</td>\n",
              "      <td>-0.015194</td>\n",
              "      <td>-0.013705</td>\n",
              "      <td>0.011873</td>\n",
              "      <td>-0.003863</td>\n",
              "      <td>-0.003856</td>\n",
              "      <td>-0.072162</td>\n",
              "      <td>-0.012212</td>\n",
              "      <td>0.017498</td>\n",
              "      <td>-0.007879</td>\n",
              "      <td>0.012113</td>\n",
              "      <td>0.000448</td>\n",
              "      <td>-0.000886</td>\n",
              "      <td>0.000483</td>\n",
              "      <td>-0.000328</td>\n",
              "      <td>0.000054</td>\n",
              "      <td>0.000162</td>\n",
              "      <td>-4.609370e-06</td>\n",
              "      <td>0.000486</td>\n",
              "      <td>0.000420</td>\n",
              "      <td>-0.000098</td>\n",
              "      <td>-6.105354e-05</td>\n",
              "      <td>-0.000010</td>\n",
              "      <td>-0.000002</td>\n",
              "      <td>-5.469062e-17</td>\n",
              "    </tr>\n",
              "    <tr>\n",
              "      <th>4</th>\n",
              "      <td>-0.999356</td>\n",
              "      <td>-0.337932</td>\n",
              "      <td>-0.496051</td>\n",
              "      <td>-0.226706</td>\n",
              "      <td>0.023366</td>\n",
              "      <td>0.139347</td>\n",
              "      <td>0.131672</td>\n",
              "      <td>-0.138722</td>\n",
              "      <td>0.036212</td>\n",
              "      <td>0.066413</td>\n",
              "      <td>-0.031553</td>\n",
              "      <td>0.017770</td>\n",
              "      <td>0.016677</td>\n",
              "      <td>0.040106</td>\n",
              "      <td>-0.049254</td>\n",
              "      <td>-0.015651</td>\n",
              "      <td>0.009156</td>\n",
              "      <td>0.005715</td>\n",
              "      <td>-0.002939</td>\n",
              "      <td>-0.002169</td>\n",
              "      <td>-0.002592</td>\n",
              "      <td>0.004965</td>\n",
              "      <td>0.010204</td>\n",
              "      <td>-0.001057</td>\n",
              "      <td>0.001141</td>\n",
              "      <td>0.003586</td>\n",
              "      <td>-0.002123</td>\n",
              "      <td>0.000204</td>\n",
              "      <td>0.000300</td>\n",
              "      <td>0.000462</td>\n",
              "      <td>-0.000583</td>\n",
              "      <td>-0.000145</td>\n",
              "      <td>-0.000953</td>\n",
              "      <td>2.989296e-05</td>\n",
              "      <td>-0.000055</td>\n",
              "      <td>-0.000002</td>\n",
              "      <td>0.000041</td>\n",
              "      <td>8.627449e-05</td>\n",
              "      <td>-0.000002</td>\n",
              "      <td>0.000007</td>\n",
              "      <td>-5.792824e-19</td>\n",
              "    </tr>\n",
              "  </tbody>\n",
              "</table>\n",
              "</div>"
            ],
            "text/plain": [
              "   column 0  column 1  column 2  ...  column 38  column 39     column 40\n",
              "0 -0.210454  0.109517  0.558613  ...   0.000003  -0.000011 -9.558075e-18\n",
              "1  0.295173  0.354357  0.747835  ...   0.000036  -0.000007  1.162525e-17\n",
              "2  1.730388 -0.587896 -0.089366  ...   0.000009   0.000003  4.430353e-17\n",
              "3 -1.010287 -0.469081 -0.215443  ...  -0.000010  -0.000002 -5.469062e-17\n",
              "4 -0.999356 -0.337932 -0.496051  ...  -0.000002   0.000007 -5.792824e-19\n",
              "\n",
              "[5 rows x 41 columns]"
            ]
          },
          "metadata": {
            "tags": []
          },
          "execution_count": 20
        }
      ]
    },
    {
      "cell_type": "code",
      "metadata": {
        "id": "6dqy5BJ5AM5s",
        "colab_type": "code",
        "outputId": "4cdeb1fa-867c-4380-ca21-8302ff588a98",
        "colab": {
          "base_uri": "https://localhost:8080/",
          "height": 34
        }
      },
      "source": [
        "df3v1.shape"
      ],
      "execution_count": 0,
      "outputs": [
        {
          "output_type": "execute_result",
          "data": {
            "text/plain": [
              "(148516, 41)"
            ]
          },
          "metadata": {
            "tags": []
          },
          "execution_count": 21
        }
      ]
    },
    {
      "cell_type": "code",
      "metadata": {
        "id": "efjqqAAqAZ3y",
        "colab_type": "code",
        "outputId": "54bc81ff-229e-4354-9dee-b240d245990f",
        "colab": {
          "base_uri": "https://localhost:8080/",
          "height": 34
        }
      },
      "source": [
        "data_attack = data['type_attack']\n",
        "data_attack.shape"
      ],
      "execution_count": 0,
      "outputs": [
        {
          "output_type": "execute_result",
          "data": {
            "text/plain": [
              "(148516,)"
            ]
          },
          "metadata": {
            "tags": []
          },
          "execution_count": 23
        }
      ]
    },
    {
      "cell_type": "code",
      "metadata": {
        "id": "FIJeRL5OAOlz",
        "colab_type": "code",
        "outputId": "ab690b27-6c74-4b01-9494-70c2fb398d1d",
        "colab": {
          "base_uri": "https://localhost:8080/",
          "height": 326
        }
      },
      "source": [
        "data_all2 = pd.concat([df3v1, data_attack], axis=1)\n",
        "data_all2.head()"
      ],
      "execution_count": 0,
      "outputs": [
        {
          "output_type": "execute_result",
          "data": {
            "text/html": [
              "<div>\n",
              "<style scoped>\n",
              "    .dataframe tbody tr th:only-of-type {\n",
              "        vertical-align: middle;\n",
              "    }\n",
              "\n",
              "    .dataframe tbody tr th {\n",
              "        vertical-align: top;\n",
              "    }\n",
              "\n",
              "    .dataframe thead th {\n",
              "        text-align: right;\n",
              "    }\n",
              "</style>\n",
              "<table border=\"1\" class=\"dataframe\">\n",
              "  <thead>\n",
              "    <tr style=\"text-align: right;\">\n",
              "      <th></th>\n",
              "      <th>column 0</th>\n",
              "      <th>column 1</th>\n",
              "      <th>column 2</th>\n",
              "      <th>column 3</th>\n",
              "      <th>column 4</th>\n",
              "      <th>column 5</th>\n",
              "      <th>column 6</th>\n",
              "      <th>column 7</th>\n",
              "      <th>column 8</th>\n",
              "      <th>column 9</th>\n",
              "      <th>column 10</th>\n",
              "      <th>column 11</th>\n",
              "      <th>column 12</th>\n",
              "      <th>column 13</th>\n",
              "      <th>column 14</th>\n",
              "      <th>column 15</th>\n",
              "      <th>column 16</th>\n",
              "      <th>column 17</th>\n",
              "      <th>column 18</th>\n",
              "      <th>column 19</th>\n",
              "      <th>column 20</th>\n",
              "      <th>column 21</th>\n",
              "      <th>column 22</th>\n",
              "      <th>column 23</th>\n",
              "      <th>column 24</th>\n",
              "      <th>column 25</th>\n",
              "      <th>column 26</th>\n",
              "      <th>column 27</th>\n",
              "      <th>column 28</th>\n",
              "      <th>column 29</th>\n",
              "      <th>column 30</th>\n",
              "      <th>column 31</th>\n",
              "      <th>column 32</th>\n",
              "      <th>column 33</th>\n",
              "      <th>column 34</th>\n",
              "      <th>column 35</th>\n",
              "      <th>column 36</th>\n",
              "      <th>column 37</th>\n",
              "      <th>column 38</th>\n",
              "      <th>column 39</th>\n",
              "      <th>column 40</th>\n",
              "      <th>type_attack</th>\n",
              "    </tr>\n",
              "  </thead>\n",
              "  <tbody>\n",
              "    <tr>\n",
              "      <th>0</th>\n",
              "      <td>-0.210454</td>\n",
              "      <td>0.109517</td>\n",
              "      <td>0.558613</td>\n",
              "      <td>-0.210847</td>\n",
              "      <td>0.410863</td>\n",
              "      <td>-0.182544</td>\n",
              "      <td>-0.269973</td>\n",
              "      <td>-0.061005</td>\n",
              "      <td>-0.463782</td>\n",
              "      <td>-0.041845</td>\n",
              "      <td>-0.016257</td>\n",
              "      <td>0.219600</td>\n",
              "      <td>0.057659</td>\n",
              "      <td>-0.134752</td>\n",
              "      <td>-0.017798</td>\n",
              "      <td>0.076811</td>\n",
              "      <td>-0.002909</td>\n",
              "      <td>-0.089396</td>\n",
              "      <td>-0.032376</td>\n",
              "      <td>0.006620</td>\n",
              "      <td>0.081705</td>\n",
              "      <td>-0.051989</td>\n",
              "      <td>-0.001722</td>\n",
              "      <td>-0.003106</td>\n",
              "      <td>-0.015040</td>\n",
              "      <td>-0.018264</td>\n",
              "      <td>-0.001643</td>\n",
              "      <td>-0.000989</td>\n",
              "      <td>-0.000149</td>\n",
              "      <td>-0.006964</td>\n",
              "      <td>-0.004533</td>\n",
              "      <td>-0.000210</td>\n",
              "      <td>-0.000157</td>\n",
              "      <td>-5.451047e-07</td>\n",
              "      <td>-0.000445</td>\n",
              "      <td>0.000052</td>\n",
              "      <td>-0.000139</td>\n",
              "      <td>-4.760363e-05</td>\n",
              "      <td>0.000003</td>\n",
              "      <td>-0.000011</td>\n",
              "      <td>-9.558075e-18</td>\n",
              "      <td>normal</td>\n",
              "    </tr>\n",
              "    <tr>\n",
              "      <th>1</th>\n",
              "      <td>0.295173</td>\n",
              "      <td>0.354357</td>\n",
              "      <td>0.747835</td>\n",
              "      <td>-0.551986</td>\n",
              "      <td>0.892921</td>\n",
              "      <td>-0.064741</td>\n",
              "      <td>0.035088</td>\n",
              "      <td>0.275928</td>\n",
              "      <td>0.288845</td>\n",
              "      <td>0.207347</td>\n",
              "      <td>-0.411123</td>\n",
              "      <td>-0.394146</td>\n",
              "      <td>0.136762</td>\n",
              "      <td>-0.166930</td>\n",
              "      <td>0.005222</td>\n",
              "      <td>-0.232558</td>\n",
              "      <td>0.092964</td>\n",
              "      <td>-0.091796</td>\n",
              "      <td>-0.014189</td>\n",
              "      <td>0.026604</td>\n",
              "      <td>-0.183462</td>\n",
              "      <td>0.084000</td>\n",
              "      <td>0.043852</td>\n",
              "      <td>-0.001883</td>\n",
              "      <td>0.038448</td>\n",
              "      <td>-0.001640</td>\n",
              "      <td>0.005272</td>\n",
              "      <td>0.002423</td>\n",
              "      <td>0.003426</td>\n",
              "      <td>0.001434</td>\n",
              "      <td>0.002474</td>\n",
              "      <td>-0.000742</td>\n",
              "      <td>-0.000084</td>\n",
              "      <td>-4.248704e-04</td>\n",
              "      <td>0.000462</td>\n",
              "      <td>0.000704</td>\n",
              "      <td>0.000158</td>\n",
              "      <td>-4.170726e-05</td>\n",
              "      <td>0.000036</td>\n",
              "      <td>-0.000007</td>\n",
              "      <td>1.162525e-17</td>\n",
              "      <td>normal</td>\n",
              "    </tr>\n",
              "    <tr>\n",
              "      <th>2</th>\n",
              "      <td>1.730388</td>\n",
              "      <td>-0.587896</td>\n",
              "      <td>-0.089366</td>\n",
              "      <td>0.074590</td>\n",
              "      <td>-0.067424</td>\n",
              "      <td>0.029835</td>\n",
              "      <td>-0.051773</td>\n",
              "      <td>-0.014232</td>\n",
              "      <td>0.111595</td>\n",
              "      <td>-0.045301</td>\n",
              "      <td>-0.100270</td>\n",
              "      <td>0.022367</td>\n",
              "      <td>0.014328</td>\n",
              "      <td>0.002643</td>\n",
              "      <td>0.023151</td>\n",
              "      <td>-0.013676</td>\n",
              "      <td>-0.007915</td>\n",
              "      <td>-0.002653</td>\n",
              "      <td>0.009050</td>\n",
              "      <td>0.000282</td>\n",
              "      <td>-0.049915</td>\n",
              "      <td>0.021489</td>\n",
              "      <td>0.005059</td>\n",
              "      <td>0.000722</td>\n",
              "      <td>0.001802</td>\n",
              "      <td>0.003486</td>\n",
              "      <td>0.001287</td>\n",
              "      <td>-0.000146</td>\n",
              "      <td>-0.000418</td>\n",
              "      <td>-0.000488</td>\n",
              "      <td>-0.000203</td>\n",
              "      <td>0.000069</td>\n",
              "      <td>-0.000072</td>\n",
              "      <td>5.659334e-06</td>\n",
              "      <td>0.000053</td>\n",
              "      <td>-0.000078</td>\n",
              "      <td>0.000012</td>\n",
              "      <td>-3.587490e-07</td>\n",
              "      <td>0.000009</td>\n",
              "      <td>0.000003</td>\n",
              "      <td>4.430353e-17</td>\n",
              "      <td>dos</td>\n",
              "    </tr>\n",
              "    <tr>\n",
              "      <th>3</th>\n",
              "      <td>-1.010287</td>\n",
              "      <td>-0.469081</td>\n",
              "      <td>-0.215443</td>\n",
              "      <td>0.414567</td>\n",
              "      <td>-0.202224</td>\n",
              "      <td>-0.275664</td>\n",
              "      <td>0.018488</td>\n",
              "      <td>0.132578</td>\n",
              "      <td>0.049882</td>\n",
              "      <td>0.011953</td>\n",
              "      <td>0.045059</td>\n",
              "      <td>0.015433</td>\n",
              "      <td>0.037350</td>\n",
              "      <td>-0.063787</td>\n",
              "      <td>0.047175</td>\n",
              "      <td>0.056267</td>\n",
              "      <td>0.133808</td>\n",
              "      <td>-0.015194</td>\n",
              "      <td>-0.013705</td>\n",
              "      <td>0.011873</td>\n",
              "      <td>-0.003863</td>\n",
              "      <td>-0.003856</td>\n",
              "      <td>-0.072162</td>\n",
              "      <td>-0.012212</td>\n",
              "      <td>0.017498</td>\n",
              "      <td>-0.007879</td>\n",
              "      <td>0.012113</td>\n",
              "      <td>0.000448</td>\n",
              "      <td>-0.000886</td>\n",
              "      <td>0.000483</td>\n",
              "      <td>-0.000328</td>\n",
              "      <td>0.000054</td>\n",
              "      <td>0.000162</td>\n",
              "      <td>-4.609370e-06</td>\n",
              "      <td>0.000486</td>\n",
              "      <td>0.000420</td>\n",
              "      <td>-0.000098</td>\n",
              "      <td>-6.105354e-05</td>\n",
              "      <td>-0.000010</td>\n",
              "      <td>-0.000002</td>\n",
              "      <td>-5.469062e-17</td>\n",
              "      <td>normal</td>\n",
              "    </tr>\n",
              "    <tr>\n",
              "      <th>4</th>\n",
              "      <td>-0.999356</td>\n",
              "      <td>-0.337932</td>\n",
              "      <td>-0.496051</td>\n",
              "      <td>-0.226706</td>\n",
              "      <td>0.023366</td>\n",
              "      <td>0.139347</td>\n",
              "      <td>0.131672</td>\n",
              "      <td>-0.138722</td>\n",
              "      <td>0.036212</td>\n",
              "      <td>0.066413</td>\n",
              "      <td>-0.031553</td>\n",
              "      <td>0.017770</td>\n",
              "      <td>0.016677</td>\n",
              "      <td>0.040106</td>\n",
              "      <td>-0.049254</td>\n",
              "      <td>-0.015651</td>\n",
              "      <td>0.009156</td>\n",
              "      <td>0.005715</td>\n",
              "      <td>-0.002939</td>\n",
              "      <td>-0.002169</td>\n",
              "      <td>-0.002592</td>\n",
              "      <td>0.004965</td>\n",
              "      <td>0.010204</td>\n",
              "      <td>-0.001057</td>\n",
              "      <td>0.001141</td>\n",
              "      <td>0.003586</td>\n",
              "      <td>-0.002123</td>\n",
              "      <td>0.000204</td>\n",
              "      <td>0.000300</td>\n",
              "      <td>0.000462</td>\n",
              "      <td>-0.000583</td>\n",
              "      <td>-0.000145</td>\n",
              "      <td>-0.000953</td>\n",
              "      <td>2.989296e-05</td>\n",
              "      <td>-0.000055</td>\n",
              "      <td>-0.000002</td>\n",
              "      <td>0.000041</td>\n",
              "      <td>8.627449e-05</td>\n",
              "      <td>-0.000002</td>\n",
              "      <td>0.000007</td>\n",
              "      <td>-5.792824e-19</td>\n",
              "      <td>normal</td>\n",
              "    </tr>\n",
              "  </tbody>\n",
              "</table>\n",
              "</div>"
            ],
            "text/plain": [
              "   column 0  column 1  column 2  ...  column 39     column 40  type_attack\n",
              "0 -0.210454  0.109517  0.558613  ...  -0.000011 -9.558075e-18       normal\n",
              "1  0.295173  0.354357  0.747835  ...  -0.000007  1.162525e-17       normal\n",
              "2  1.730388 -0.587896 -0.089366  ...   0.000003  4.430353e-17          dos\n",
              "3 -1.010287 -0.469081 -0.215443  ...  -0.000002 -5.469062e-17       normal\n",
              "4 -0.999356 -0.337932 -0.496051  ...   0.000007 -5.792824e-19       normal\n",
              "\n",
              "[5 rows x 42 columns]"
            ]
          },
          "metadata": {
            "tags": []
          },
          "execution_count": 24
        }
      ]
    },
    {
      "cell_type": "code",
      "metadata": {
        "id": "JVpnNQY9Arcu",
        "colab_type": "code",
        "outputId": "b2c433db-b3e4-442e-fb52-e4d6335abe11",
        "colab": {
          "base_uri": "https://localhost:8080/",
          "height": 34
        }
      },
      "source": [
        "data_all2.type_attack.unique()"
      ],
      "execution_count": 0,
      "outputs": [
        {
          "output_type": "execute_result",
          "data": {
            "text/plain": [
              "array(['normal', 'dos', 'r2l', 'probe', 'u2r'], dtype=object)"
            ]
          },
          "metadata": {
            "tags": []
          },
          "execution_count": 25
        }
      ]
    },
    {
      "cell_type": "code",
      "metadata": {
        "id": "-rPQCtg7A15_",
        "colab_type": "code",
        "colab": {}
      },
      "source": [
        "data_normaldos = data_all2.loc[data_all2['type_attack'].isin(['normal','dos'])]"
      ],
      "execution_count": 0,
      "outputs": []
    },
    {
      "cell_type": "code",
      "metadata": {
        "id": "TyVFtGlvA6oC",
        "colab_type": "code",
        "outputId": "0496a68d-7bfa-42e3-a733-3a53506c1fab",
        "colab": {
          "base_uri": "https://localhost:8080/",
          "height": 626
        }
      },
      "source": [
        "data_normaldos"
      ],
      "execution_count": 0,
      "outputs": [
        {
          "output_type": "execute_result",
          "data": {
            "text/html": [
              "<div>\n",
              "<style scoped>\n",
              "    .dataframe tbody tr th:only-of-type {\n",
              "        vertical-align: middle;\n",
              "    }\n",
              "\n",
              "    .dataframe tbody tr th {\n",
              "        vertical-align: top;\n",
              "    }\n",
              "\n",
              "    .dataframe thead th {\n",
              "        text-align: right;\n",
              "    }\n",
              "</style>\n",
              "<table border=\"1\" class=\"dataframe\">\n",
              "  <thead>\n",
              "    <tr style=\"text-align: right;\">\n",
              "      <th></th>\n",
              "      <th>column 0</th>\n",
              "      <th>column 1</th>\n",
              "      <th>column 2</th>\n",
              "      <th>column 3</th>\n",
              "      <th>column 4</th>\n",
              "      <th>column 5</th>\n",
              "      <th>column 6</th>\n",
              "      <th>column 7</th>\n",
              "      <th>column 8</th>\n",
              "      <th>column 9</th>\n",
              "      <th>column 10</th>\n",
              "      <th>column 11</th>\n",
              "      <th>column 12</th>\n",
              "      <th>column 13</th>\n",
              "      <th>column 14</th>\n",
              "      <th>column 15</th>\n",
              "      <th>column 16</th>\n",
              "      <th>column 17</th>\n",
              "      <th>column 18</th>\n",
              "      <th>column 19</th>\n",
              "      <th>column 20</th>\n",
              "      <th>column 21</th>\n",
              "      <th>column 22</th>\n",
              "      <th>column 23</th>\n",
              "      <th>column 24</th>\n",
              "      <th>column 25</th>\n",
              "      <th>column 26</th>\n",
              "      <th>column 27</th>\n",
              "      <th>column 28</th>\n",
              "      <th>column 29</th>\n",
              "      <th>column 30</th>\n",
              "      <th>column 31</th>\n",
              "      <th>column 32</th>\n",
              "      <th>column 33</th>\n",
              "      <th>column 34</th>\n",
              "      <th>column 35</th>\n",
              "      <th>column 36</th>\n",
              "      <th>column 37</th>\n",
              "      <th>column 38</th>\n",
              "      <th>column 39</th>\n",
              "      <th>column 40</th>\n",
              "      <th>type_attack</th>\n",
              "    </tr>\n",
              "  </thead>\n",
              "  <tbody>\n",
              "    <tr>\n",
              "      <th>0</th>\n",
              "      <td>-0.210454</td>\n",
              "      <td>0.109517</td>\n",
              "      <td>0.558613</td>\n",
              "      <td>-0.210847</td>\n",
              "      <td>0.410863</td>\n",
              "      <td>-0.182544</td>\n",
              "      <td>-0.269973</td>\n",
              "      <td>-0.061005</td>\n",
              "      <td>-0.463782</td>\n",
              "      <td>-0.041845</td>\n",
              "      <td>-0.016257</td>\n",
              "      <td>0.219600</td>\n",
              "      <td>0.057659</td>\n",
              "      <td>-0.134752</td>\n",
              "      <td>-0.017798</td>\n",
              "      <td>0.076811</td>\n",
              "      <td>-0.002909</td>\n",
              "      <td>-0.089396</td>\n",
              "      <td>-0.032376</td>\n",
              "      <td>0.006620</td>\n",
              "      <td>0.081705</td>\n",
              "      <td>-0.051989</td>\n",
              "      <td>-0.001722</td>\n",
              "      <td>-0.003106</td>\n",
              "      <td>-0.015040</td>\n",
              "      <td>-0.018264</td>\n",
              "      <td>-0.001643</td>\n",
              "      <td>-0.000989</td>\n",
              "      <td>-0.000149</td>\n",
              "      <td>-0.006964</td>\n",
              "      <td>-0.004533</td>\n",
              "      <td>-0.000210</td>\n",
              "      <td>-0.000157</td>\n",
              "      <td>-5.451047e-07</td>\n",
              "      <td>-0.000445</td>\n",
              "      <td>0.000052</td>\n",
              "      <td>-0.000139</td>\n",
              "      <td>-4.760363e-05</td>\n",
              "      <td>0.000003</td>\n",
              "      <td>-0.000011</td>\n",
              "      <td>-9.558075e-18</td>\n",
              "      <td>normal</td>\n",
              "    </tr>\n",
              "    <tr>\n",
              "      <th>1</th>\n",
              "      <td>0.295173</td>\n",
              "      <td>0.354357</td>\n",
              "      <td>0.747835</td>\n",
              "      <td>-0.551986</td>\n",
              "      <td>0.892921</td>\n",
              "      <td>-0.064741</td>\n",
              "      <td>0.035088</td>\n",
              "      <td>0.275928</td>\n",
              "      <td>0.288845</td>\n",
              "      <td>0.207347</td>\n",
              "      <td>-0.411123</td>\n",
              "      <td>-0.394146</td>\n",
              "      <td>0.136762</td>\n",
              "      <td>-0.166930</td>\n",
              "      <td>0.005222</td>\n",
              "      <td>-0.232558</td>\n",
              "      <td>0.092964</td>\n",
              "      <td>-0.091796</td>\n",
              "      <td>-0.014189</td>\n",
              "      <td>0.026604</td>\n",
              "      <td>-0.183462</td>\n",
              "      <td>0.084000</td>\n",
              "      <td>0.043852</td>\n",
              "      <td>-0.001883</td>\n",
              "      <td>0.038448</td>\n",
              "      <td>-0.001640</td>\n",
              "      <td>0.005272</td>\n",
              "      <td>0.002423</td>\n",
              "      <td>0.003426</td>\n",
              "      <td>0.001434</td>\n",
              "      <td>0.002474</td>\n",
              "      <td>-0.000742</td>\n",
              "      <td>-0.000084</td>\n",
              "      <td>-4.248704e-04</td>\n",
              "      <td>0.000462</td>\n",
              "      <td>0.000704</td>\n",
              "      <td>0.000158</td>\n",
              "      <td>-4.170726e-05</td>\n",
              "      <td>0.000036</td>\n",
              "      <td>-0.000007</td>\n",
              "      <td>1.162525e-17</td>\n",
              "      <td>normal</td>\n",
              "    </tr>\n",
              "    <tr>\n",
              "      <th>2</th>\n",
              "      <td>1.730388</td>\n",
              "      <td>-0.587896</td>\n",
              "      <td>-0.089366</td>\n",
              "      <td>0.074590</td>\n",
              "      <td>-0.067424</td>\n",
              "      <td>0.029835</td>\n",
              "      <td>-0.051773</td>\n",
              "      <td>-0.014232</td>\n",
              "      <td>0.111595</td>\n",
              "      <td>-0.045301</td>\n",
              "      <td>-0.100270</td>\n",
              "      <td>0.022367</td>\n",
              "      <td>0.014328</td>\n",
              "      <td>0.002643</td>\n",
              "      <td>0.023151</td>\n",
              "      <td>-0.013676</td>\n",
              "      <td>-0.007915</td>\n",
              "      <td>-0.002653</td>\n",
              "      <td>0.009050</td>\n",
              "      <td>0.000282</td>\n",
              "      <td>-0.049915</td>\n",
              "      <td>0.021489</td>\n",
              "      <td>0.005059</td>\n",
              "      <td>0.000722</td>\n",
              "      <td>0.001802</td>\n",
              "      <td>0.003486</td>\n",
              "      <td>0.001287</td>\n",
              "      <td>-0.000146</td>\n",
              "      <td>-0.000418</td>\n",
              "      <td>-0.000488</td>\n",
              "      <td>-0.000203</td>\n",
              "      <td>0.000069</td>\n",
              "      <td>-0.000072</td>\n",
              "      <td>5.659334e-06</td>\n",
              "      <td>0.000053</td>\n",
              "      <td>-0.000078</td>\n",
              "      <td>0.000012</td>\n",
              "      <td>-3.587490e-07</td>\n",
              "      <td>0.000009</td>\n",
              "      <td>0.000003</td>\n",
              "      <td>4.430353e-17</td>\n",
              "      <td>dos</td>\n",
              "    </tr>\n",
              "    <tr>\n",
              "      <th>3</th>\n",
              "      <td>-1.010287</td>\n",
              "      <td>-0.469081</td>\n",
              "      <td>-0.215443</td>\n",
              "      <td>0.414567</td>\n",
              "      <td>-0.202224</td>\n",
              "      <td>-0.275664</td>\n",
              "      <td>0.018488</td>\n",
              "      <td>0.132578</td>\n",
              "      <td>0.049882</td>\n",
              "      <td>0.011953</td>\n",
              "      <td>0.045059</td>\n",
              "      <td>0.015433</td>\n",
              "      <td>0.037350</td>\n",
              "      <td>-0.063787</td>\n",
              "      <td>0.047175</td>\n",
              "      <td>0.056267</td>\n",
              "      <td>0.133808</td>\n",
              "      <td>-0.015194</td>\n",
              "      <td>-0.013705</td>\n",
              "      <td>0.011873</td>\n",
              "      <td>-0.003863</td>\n",
              "      <td>-0.003856</td>\n",
              "      <td>-0.072162</td>\n",
              "      <td>-0.012212</td>\n",
              "      <td>0.017498</td>\n",
              "      <td>-0.007879</td>\n",
              "      <td>0.012113</td>\n",
              "      <td>0.000448</td>\n",
              "      <td>-0.000886</td>\n",
              "      <td>0.000483</td>\n",
              "      <td>-0.000328</td>\n",
              "      <td>0.000054</td>\n",
              "      <td>0.000162</td>\n",
              "      <td>-4.609370e-06</td>\n",
              "      <td>0.000486</td>\n",
              "      <td>0.000420</td>\n",
              "      <td>-0.000098</td>\n",
              "      <td>-6.105354e-05</td>\n",
              "      <td>-0.000010</td>\n",
              "      <td>-0.000002</td>\n",
              "      <td>-5.469062e-17</td>\n",
              "      <td>normal</td>\n",
              "    </tr>\n",
              "    <tr>\n",
              "      <th>4</th>\n",
              "      <td>-0.999356</td>\n",
              "      <td>-0.337932</td>\n",
              "      <td>-0.496051</td>\n",
              "      <td>-0.226706</td>\n",
              "      <td>0.023366</td>\n",
              "      <td>0.139347</td>\n",
              "      <td>0.131672</td>\n",
              "      <td>-0.138722</td>\n",
              "      <td>0.036212</td>\n",
              "      <td>0.066413</td>\n",
              "      <td>-0.031553</td>\n",
              "      <td>0.017770</td>\n",
              "      <td>0.016677</td>\n",
              "      <td>0.040106</td>\n",
              "      <td>-0.049254</td>\n",
              "      <td>-0.015651</td>\n",
              "      <td>0.009156</td>\n",
              "      <td>0.005715</td>\n",
              "      <td>-0.002939</td>\n",
              "      <td>-0.002169</td>\n",
              "      <td>-0.002592</td>\n",
              "      <td>0.004965</td>\n",
              "      <td>0.010204</td>\n",
              "      <td>-0.001057</td>\n",
              "      <td>0.001141</td>\n",
              "      <td>0.003586</td>\n",
              "      <td>-0.002123</td>\n",
              "      <td>0.000204</td>\n",
              "      <td>0.000300</td>\n",
              "      <td>0.000462</td>\n",
              "      <td>-0.000583</td>\n",
              "      <td>-0.000145</td>\n",
              "      <td>-0.000953</td>\n",
              "      <td>2.989296e-05</td>\n",
              "      <td>-0.000055</td>\n",
              "      <td>-0.000002</td>\n",
              "      <td>0.000041</td>\n",
              "      <td>8.627449e-05</td>\n",
              "      <td>-0.000002</td>\n",
              "      <td>0.000007</td>\n",
              "      <td>-5.792824e-19</td>\n",
              "      <td>normal</td>\n",
              "    </tr>\n",
              "    <tr>\n",
              "      <th>...</th>\n",
              "      <td>...</td>\n",
              "      <td>...</td>\n",
              "      <td>...</td>\n",
              "      <td>...</td>\n",
              "      <td>...</td>\n",
              "      <td>...</td>\n",
              "      <td>...</td>\n",
              "      <td>...</td>\n",
              "      <td>...</td>\n",
              "      <td>...</td>\n",
              "      <td>...</td>\n",
              "      <td>...</td>\n",
              "      <td>...</td>\n",
              "      <td>...</td>\n",
              "      <td>...</td>\n",
              "      <td>...</td>\n",
              "      <td>...</td>\n",
              "      <td>...</td>\n",
              "      <td>...</td>\n",
              "      <td>...</td>\n",
              "      <td>...</td>\n",
              "      <td>...</td>\n",
              "      <td>...</td>\n",
              "      <td>...</td>\n",
              "      <td>...</td>\n",
              "      <td>...</td>\n",
              "      <td>...</td>\n",
              "      <td>...</td>\n",
              "      <td>...</td>\n",
              "      <td>...</td>\n",
              "      <td>...</td>\n",
              "      <td>...</td>\n",
              "      <td>...</td>\n",
              "      <td>...</td>\n",
              "      <td>...</td>\n",
              "      <td>...</td>\n",
              "      <td>...</td>\n",
              "      <td>...</td>\n",
              "      <td>...</td>\n",
              "      <td>...</td>\n",
              "      <td>...</td>\n",
              "      <td>...</td>\n",
              "    </tr>\n",
              "    <tr>\n",
              "      <th>148510</th>\n",
              "      <td>-0.745114</td>\n",
              "      <td>-0.121176</td>\n",
              "      <td>0.638118</td>\n",
              "      <td>-0.628706</td>\n",
              "      <td>-0.408084</td>\n",
              "      <td>0.096112</td>\n",
              "      <td>0.518219</td>\n",
              "      <td>-0.422750</td>\n",
              "      <td>0.203252</td>\n",
              "      <td>0.078130</td>\n",
              "      <td>-0.336635</td>\n",
              "      <td>0.288477</td>\n",
              "      <td>0.142605</td>\n",
              "      <td>-0.110936</td>\n",
              "      <td>0.124525</td>\n",
              "      <td>-0.009756</td>\n",
              "      <td>-0.025701</td>\n",
              "      <td>-0.099058</td>\n",
              "      <td>-0.118726</td>\n",
              "      <td>-0.072920</td>\n",
              "      <td>0.063698</td>\n",
              "      <td>-0.036403</td>\n",
              "      <td>0.031837</td>\n",
              "      <td>0.006437</td>\n",
              "      <td>0.008970</td>\n",
              "      <td>-0.018430</td>\n",
              "      <td>-0.002888</td>\n",
              "      <td>0.001997</td>\n",
              "      <td>0.000816</td>\n",
              "      <td>-0.007001</td>\n",
              "      <td>-0.003137</td>\n",
              "      <td>0.000367</td>\n",
              "      <td>-0.000045</td>\n",
              "      <td>4.486348e-04</td>\n",
              "      <td>0.000576</td>\n",
              "      <td>0.000849</td>\n",
              "      <td>0.000225</td>\n",
              "      <td>1.465744e-04</td>\n",
              "      <td>-0.000046</td>\n",
              "      <td>-0.000002</td>\n",
              "      <td>-2.871573e-20</td>\n",
              "      <td>dos</td>\n",
              "    </tr>\n",
              "    <tr>\n",
              "      <th>148511</th>\n",
              "      <td>-0.828475</td>\n",
              "      <td>-0.226192</td>\n",
              "      <td>-0.170238</td>\n",
              "      <td>0.320094</td>\n",
              "      <td>0.390840</td>\n",
              "      <td>-0.140440</td>\n",
              "      <td>-0.092445</td>\n",
              "      <td>0.016003</td>\n",
              "      <td>0.132751</td>\n",
              "      <td>-0.274037</td>\n",
              "      <td>0.017808</td>\n",
              "      <td>0.076274</td>\n",
              "      <td>-0.019840</td>\n",
              "      <td>0.029050</td>\n",
              "      <td>-0.046854</td>\n",
              "      <td>-0.007740</td>\n",
              "      <td>0.002475</td>\n",
              "      <td>-0.028750</td>\n",
              "      <td>-0.003083</td>\n",
              "      <td>0.004940</td>\n",
              "      <td>-0.004040</td>\n",
              "      <td>-0.006299</td>\n",
              "      <td>0.005721</td>\n",
              "      <td>-0.010642</td>\n",
              "      <td>-0.000314</td>\n",
              "      <td>0.000212</td>\n",
              "      <td>-0.000513</td>\n",
              "      <td>-0.000696</td>\n",
              "      <td>-0.000264</td>\n",
              "      <td>-0.002796</td>\n",
              "      <td>-0.003126</td>\n",
              "      <td>-0.000364</td>\n",
              "      <td>-0.000913</td>\n",
              "      <td>-2.476098e-04</td>\n",
              "      <td>-0.000432</td>\n",
              "      <td>-0.000363</td>\n",
              "      <td>-0.000053</td>\n",
              "      <td>-7.250437e-05</td>\n",
              "      <td>0.000015</td>\n",
              "      <td>0.000005</td>\n",
              "      <td>-9.667916e-20</td>\n",
              "      <td>normal</td>\n",
              "    </tr>\n",
              "    <tr>\n",
              "      <th>148512</th>\n",
              "      <td>-1.049307</td>\n",
              "      <td>-0.351544</td>\n",
              "      <td>-0.396084</td>\n",
              "      <td>-0.037051</td>\n",
              "      <td>-0.019923</td>\n",
              "      <td>0.134743</td>\n",
              "      <td>0.058345</td>\n",
              "      <td>-0.062198</td>\n",
              "      <td>0.027576</td>\n",
              "      <td>0.074528</td>\n",
              "      <td>-0.027545</td>\n",
              "      <td>0.004143</td>\n",
              "      <td>0.027366</td>\n",
              "      <td>-0.000850</td>\n",
              "      <td>-0.024062</td>\n",
              "      <td>-0.017013</td>\n",
              "      <td>-0.002245</td>\n",
              "      <td>-0.000539</td>\n",
              "      <td>-0.006954</td>\n",
              "      <td>-0.009786</td>\n",
              "      <td>-0.005166</td>\n",
              "      <td>0.004367</td>\n",
              "      <td>0.005394</td>\n",
              "      <td>-0.001198</td>\n",
              "      <td>0.003874</td>\n",
              "      <td>0.004011</td>\n",
              "      <td>-0.000313</td>\n",
              "      <td>0.000200</td>\n",
              "      <td>0.000334</td>\n",
              "      <td>0.000344</td>\n",
              "      <td>-0.000387</td>\n",
              "      <td>-0.000128</td>\n",
              "      <td>-0.000864</td>\n",
              "      <td>2.449742e-05</td>\n",
              "      <td>0.000001</td>\n",
              "      <td>-0.000018</td>\n",
              "      <td>0.000019</td>\n",
              "      <td>6.562754e-05</td>\n",
              "      <td>0.000001</td>\n",
              "      <td>0.000005</td>\n",
              "      <td>-5.535031e-19</td>\n",
              "      <td>normal</td>\n",
              "    </tr>\n",
              "    <tr>\n",
              "      <th>148513</th>\n",
              "      <td>-1.005687</td>\n",
              "      <td>-0.286393</td>\n",
              "      <td>-0.491145</td>\n",
              "      <td>-0.172798</td>\n",
              "      <td>0.005716</td>\n",
              "      <td>0.231617</td>\n",
              "      <td>0.079806</td>\n",
              "      <td>-0.155350</td>\n",
              "      <td>0.040089</td>\n",
              "      <td>0.106986</td>\n",
              "      <td>-0.038570</td>\n",
              "      <td>-0.008078</td>\n",
              "      <td>0.062296</td>\n",
              "      <td>0.051919</td>\n",
              "      <td>-0.035847</td>\n",
              "      <td>0.015813</td>\n",
              "      <td>0.006642</td>\n",
              "      <td>-0.001734</td>\n",
              "      <td>0.022999</td>\n",
              "      <td>-0.044650</td>\n",
              "      <td>0.012901</td>\n",
              "      <td>0.016726</td>\n",
              "      <td>0.014883</td>\n",
              "      <td>-0.001526</td>\n",
              "      <td>0.003433</td>\n",
              "      <td>0.000489</td>\n",
              "      <td>-0.003242</td>\n",
              "      <td>-0.000932</td>\n",
              "      <td>-0.002881</td>\n",
              "      <td>-0.010429</td>\n",
              "      <td>0.015689</td>\n",
              "      <td>-0.000320</td>\n",
              "      <td>-0.001084</td>\n",
              "      <td>-1.077986e-04</td>\n",
              "      <td>-0.000460</td>\n",
              "      <td>-0.001058</td>\n",
              "      <td>0.000144</td>\n",
              "      <td>1.671449e-04</td>\n",
              "      <td>-0.000012</td>\n",
              "      <td>-0.000085</td>\n",
              "      <td>-5.755410e-19</td>\n",
              "      <td>dos</td>\n",
              "    </tr>\n",
              "    <tr>\n",
              "      <th>148514</th>\n",
              "      <td>-0.721211</td>\n",
              "      <td>-0.169021</td>\n",
              "      <td>0.034085</td>\n",
              "      <td>-0.753098</td>\n",
              "      <td>-0.332777</td>\n",
              "      <td>0.191829</td>\n",
              "      <td>-0.507982</td>\n",
              "      <td>0.133428</td>\n",
              "      <td>-0.089508</td>\n",
              "      <td>0.241641</td>\n",
              "      <td>-0.063088</td>\n",
              "      <td>-0.051173</td>\n",
              "      <td>0.040629</td>\n",
              "      <td>0.009112</td>\n",
              "      <td>-0.003332</td>\n",
              "      <td>-0.066052</td>\n",
              "      <td>0.000119</td>\n",
              "      <td>-0.044890</td>\n",
              "      <td>-0.007787</td>\n",
              "      <td>-0.019953</td>\n",
              "      <td>0.061221</td>\n",
              "      <td>-0.013790</td>\n",
              "      <td>-0.012245</td>\n",
              "      <td>0.004629</td>\n",
              "      <td>0.002838</td>\n",
              "      <td>-0.006727</td>\n",
              "      <td>-0.000629</td>\n",
              "      <td>0.000395</td>\n",
              "      <td>-0.001380</td>\n",
              "      <td>-0.003629</td>\n",
              "      <td>-0.002035</td>\n",
              "      <td>0.000371</td>\n",
              "      <td>-0.000321</td>\n",
              "      <td>3.091193e-04</td>\n",
              "      <td>0.000544</td>\n",
              "      <td>0.000437</td>\n",
              "      <td>0.000012</td>\n",
              "      <td>8.544016e-05</td>\n",
              "      <td>0.000019</td>\n",
              "      <td>0.000002</td>\n",
              "      <td>-2.092787e-19</td>\n",
              "      <td>normal</td>\n",
              "    </tr>\n",
              "  </tbody>\n",
              "</table>\n",
              "<p>130440 rows × 42 columns</p>\n",
              "</div>"
            ],
            "text/plain": [
              "        column 0  column 1  column 2  ...  column 39     column 40  type_attack\n",
              "0      -0.210454  0.109517  0.558613  ...  -0.000011 -9.558075e-18       normal\n",
              "1       0.295173  0.354357  0.747835  ...  -0.000007  1.162525e-17       normal\n",
              "2       1.730388 -0.587896 -0.089366  ...   0.000003  4.430353e-17          dos\n",
              "3      -1.010287 -0.469081 -0.215443  ...  -0.000002 -5.469062e-17       normal\n",
              "4      -0.999356 -0.337932 -0.496051  ...   0.000007 -5.792824e-19       normal\n",
              "...          ...       ...       ...  ...        ...           ...          ...\n",
              "148510 -0.745114 -0.121176  0.638118  ...  -0.000002 -2.871573e-20          dos\n",
              "148511 -0.828475 -0.226192 -0.170238  ...   0.000005 -9.667916e-20       normal\n",
              "148512 -1.049307 -0.351544 -0.396084  ...   0.000005 -5.535031e-19       normal\n",
              "148513 -1.005687 -0.286393 -0.491145  ...  -0.000085 -5.755410e-19          dos\n",
              "148514 -0.721211 -0.169021  0.034085  ...   0.000002 -2.092787e-19       normal\n",
              "\n",
              "[130440 rows x 42 columns]"
            ]
          },
          "metadata": {
            "tags": []
          },
          "execution_count": 27
        }
      ]
    },
    {
      "cell_type": "code",
      "metadata": {
        "id": "RbnbIh8DA_T1",
        "colab_type": "code",
        "colab": {}
      },
      "source": [
        "X = data_normaldos.loc[:, :'column 40']\n",
        "y = data_normaldos.loc[:, 'type_attack']\n",
        "\n",
        "y = y.astype(str)\n",
        "\n",
        "temp = set(y)\n",
        "\n",
        "X_train, X_test, y_train, y_test = train_test_split(X, y, test_size=0.3, train_size =0.7, random_state=5)\n",
        "\n",
        "clf = MLPClassifier(random_state = 5)"
      ],
      "execution_count": 0,
      "outputs": []
    },
    {
      "cell_type": "code",
      "metadata": {
        "id": "WjN5f0qSBKn7",
        "colab_type": "code",
        "colab": {}
      },
      "source": [
        "start = time.time()\n",
        "\n",
        "clf.fit(X_train, y_train)\n",
        "\n",
        "stop = time.time()"
      ],
      "execution_count": 0,
      "outputs": []
    },
    {
      "cell_type": "code",
      "metadata": {
        "id": "SKBISepHBQA0",
        "colab_type": "code",
        "outputId": "148b390b-c4d3-4110-fca1-4ff886c45d2a",
        "colab": {
          "base_uri": "https://localhost:8080/",
          "height": 34
        }
      },
      "source": [
        "print(f\"training time : {stop - start}s\")"
      ],
      "execution_count": 0,
      "outputs": [
        {
          "output_type": "stream",
          "text": [
            "training time : 28.24285316467285s\n"
          ],
          "name": "stdout"
        }
      ]
    },
    {
      "cell_type": "code",
      "metadata": {
        "id": "bwOh-pciBS7b",
        "colab_type": "code",
        "outputId": "169df61e-e173-480f-b63b-1061761b84e3",
        "colab": {
          "base_uri": "https://localhost:8080/",
          "height": 34
        }
      },
      "source": [
        "pred = clf.predict(X_test)\n",
        "\n",
        "accuracy_score(y_test,pred)"
      ],
      "execution_count": 0,
      "outputs": [
        {
          "output_type": "execute_result",
          "data": {
            "text/plain": [
              "0.998262291730553"
            ]
          },
          "metadata": {
            "tags": []
          },
          "execution_count": 31
        }
      ]
    },
    {
      "cell_type": "code",
      "metadata": {
        "id": "lTOL8IHBBV4j",
        "colab_type": "code",
        "colab": {}
      },
      "source": [
        "clf = MLPClassifier(random_state = 5, max_iter=300)\n",
        "\n",
        "scoring = {'accuracy': make_scorer(accuracy_score)}"
      ],
      "execution_count": 0,
      "outputs": []
    },
    {
      "cell_type": "code",
      "metadata": {
        "id": "K-qaE_5wBlvQ",
        "colab_type": "code",
        "colab": {}
      },
      "source": [
        "# start = time.time()\n",
        "\n",
        "# cv = ShuffleSplit(n_splits=3, test_size=0.3,train_size = 0.7, random_state=5)\n",
        "# scores = cross_validate(clf, X, y, cv=cv, scoring=scoring, return_train_score=True)\n",
        "\n",
        "# stop = time.time()"
      ],
      "execution_count": 0,
      "outputs": []
    },
    {
      "cell_type": "code",
      "metadata": {
        "id": "Rg1p-ww-BngU",
        "colab_type": "code",
        "colab": {}
      },
      "source": [
        "# print(f\"Cross Validation time : {stop - start}s\")"
      ],
      "execution_count": 0,
      "outputs": []
    },
    {
      "cell_type": "code",
      "metadata": {
        "id": "pD2iFUBbBv0B",
        "colab_type": "code",
        "colab": {}
      },
      "source": [
        "# print(scores)"
      ],
      "execution_count": 0,
      "outputs": []
    },
    {
      "cell_type": "markdown",
      "metadata": {
        "id": "V42Ssxh5CGBF",
        "colab_type": "text"
      },
      "source": [
        "# PCA 18"
      ]
    },
    {
      "cell_type": "code",
      "metadata": {
        "id": "FBKeNP9XCMvN",
        "colab_type": "code",
        "outputId": "f0fd1cfe-5f87-4b3c-d6ef-4b2d0100ca4b",
        "colab": {
          "base_uri": "https://localhost:8080/",
          "height": 224
        }
      },
      "source": [
        "data.head()"
      ],
      "execution_count": 0,
      "outputs": [
        {
          "output_type": "execute_result",
          "data": {
            "text/html": [
              "<div>\n",
              "<style scoped>\n",
              "    .dataframe tbody tr th:only-of-type {\n",
              "        vertical-align: middle;\n",
              "    }\n",
              "\n",
              "    .dataframe tbody tr th {\n",
              "        vertical-align: top;\n",
              "    }\n",
              "\n",
              "    .dataframe thead th {\n",
              "        text-align: right;\n",
              "    }\n",
              "</style>\n",
              "<table border=\"1\" class=\"dataframe\">\n",
              "  <thead>\n",
              "    <tr style=\"text-align: right;\">\n",
              "      <th></th>\n",
              "      <th>duration</th>\n",
              "      <th>protocol_type</th>\n",
              "      <th>service</th>\n",
              "      <th>flag</th>\n",
              "      <th>src_bytes</th>\n",
              "      <th>dst_bytes</th>\n",
              "      <th>land</th>\n",
              "      <th>wrong_fragment</th>\n",
              "      <th>urgent</th>\n",
              "      <th>hot</th>\n",
              "      <th>num_failed_logins</th>\n",
              "      <th>logged_in</th>\n",
              "      <th>num_compromised</th>\n",
              "      <th>root_shell</th>\n",
              "      <th>su_attempted</th>\n",
              "      <th>num_root</th>\n",
              "      <th>num_file_creations</th>\n",
              "      <th>num_shells</th>\n",
              "      <th>num_access_files</th>\n",
              "      <th>num_outbound_cmds</th>\n",
              "      <th>is_host_login</th>\n",
              "      <th>is_guest_login</th>\n",
              "      <th>count</th>\n",
              "      <th>srv_count</th>\n",
              "      <th>serror_rate</th>\n",
              "      <th>srv_serror_rate</th>\n",
              "      <th>rerror_rate</th>\n",
              "      <th>srv_rerror_rate</th>\n",
              "      <th>same_srv_rate</th>\n",
              "      <th>diff_srv_rate</th>\n",
              "      <th>srv_diff_host_rate</th>\n",
              "      <th>dst_host_count</th>\n",
              "      <th>dst_host_srv_count</th>\n",
              "      <th>dst_host_same_srv_rate</th>\n",
              "      <th>dst_host_diff_srv_rate</th>\n",
              "      <th>dst_host_same_src_port_rate</th>\n",
              "      <th>dst_host_srv_diff_host_rate</th>\n",
              "      <th>dst_host_serror_rate</th>\n",
              "      <th>dst_host_srv_serror_rate</th>\n",
              "      <th>dst_host_rerror_rate</th>\n",
              "      <th>dst_host_srv_rerror_rate</th>\n",
              "      <th>num_packet</th>\n",
              "      <th>type_attack</th>\n",
              "    </tr>\n",
              "  </thead>\n",
              "  <tbody>\n",
              "    <tr>\n",
              "      <th>0</th>\n",
              "      <td>0</td>\n",
              "      <td>1</td>\n",
              "      <td>52</td>\n",
              "      <td>1</td>\n",
              "      <td>491</td>\n",
              "      <td>0</td>\n",
              "      <td>0</td>\n",
              "      <td>0</td>\n",
              "      <td>0</td>\n",
              "      <td>0</td>\n",
              "      <td>0</td>\n",
              "      <td>0</td>\n",
              "      <td>0</td>\n",
              "      <td>0</td>\n",
              "      <td>0</td>\n",
              "      <td>0</td>\n",
              "      <td>0</td>\n",
              "      <td>0</td>\n",
              "      <td>0</td>\n",
              "      <td>0</td>\n",
              "      <td>0</td>\n",
              "      <td>0</td>\n",
              "      <td>2</td>\n",
              "      <td>2</td>\n",
              "      <td>0.0</td>\n",
              "      <td>0.0</td>\n",
              "      <td>0.0</td>\n",
              "      <td>0.0</td>\n",
              "      <td>1.00</td>\n",
              "      <td>0.00</td>\n",
              "      <td>0.00</td>\n",
              "      <td>150</td>\n",
              "      <td>25</td>\n",
              "      <td>0.17</td>\n",
              "      <td>0.03</td>\n",
              "      <td>0.17</td>\n",
              "      <td>0.00</td>\n",
              "      <td>0.00</td>\n",
              "      <td>0.00</td>\n",
              "      <td>0.05</td>\n",
              "      <td>0.00</td>\n",
              "      <td>20</td>\n",
              "      <td>normal</td>\n",
              "    </tr>\n",
              "    <tr>\n",
              "      <th>1</th>\n",
              "      <td>0</td>\n",
              "      <td>0</td>\n",
              "      <td>27</td>\n",
              "      <td>1</td>\n",
              "      <td>146</td>\n",
              "      <td>0</td>\n",
              "      <td>0</td>\n",
              "      <td>0</td>\n",
              "      <td>0</td>\n",
              "      <td>0</td>\n",
              "      <td>0</td>\n",
              "      <td>0</td>\n",
              "      <td>0</td>\n",
              "      <td>0</td>\n",
              "      <td>0</td>\n",
              "      <td>0</td>\n",
              "      <td>0</td>\n",
              "      <td>0</td>\n",
              "      <td>0</td>\n",
              "      <td>0</td>\n",
              "      <td>0</td>\n",
              "      <td>0</td>\n",
              "      <td>13</td>\n",
              "      <td>1</td>\n",
              "      <td>0.0</td>\n",
              "      <td>0.0</td>\n",
              "      <td>0.0</td>\n",
              "      <td>0.0</td>\n",
              "      <td>0.08</td>\n",
              "      <td>0.15</td>\n",
              "      <td>0.00</td>\n",
              "      <td>255</td>\n",
              "      <td>1</td>\n",
              "      <td>0.00</td>\n",
              "      <td>0.60</td>\n",
              "      <td>0.88</td>\n",
              "      <td>0.00</td>\n",
              "      <td>0.00</td>\n",
              "      <td>0.00</td>\n",
              "      <td>0.00</td>\n",
              "      <td>0.00</td>\n",
              "      <td>15</td>\n",
              "      <td>normal</td>\n",
              "    </tr>\n",
              "    <tr>\n",
              "      <th>2</th>\n",
              "      <td>0</td>\n",
              "      <td>1</td>\n",
              "      <td>22</td>\n",
              "      <td>5</td>\n",
              "      <td>0</td>\n",
              "      <td>0</td>\n",
              "      <td>0</td>\n",
              "      <td>0</td>\n",
              "      <td>0</td>\n",
              "      <td>0</td>\n",
              "      <td>0</td>\n",
              "      <td>0</td>\n",
              "      <td>0</td>\n",
              "      <td>0</td>\n",
              "      <td>0</td>\n",
              "      <td>0</td>\n",
              "      <td>0</td>\n",
              "      <td>0</td>\n",
              "      <td>0</td>\n",
              "      <td>0</td>\n",
              "      <td>0</td>\n",
              "      <td>0</td>\n",
              "      <td>123</td>\n",
              "      <td>6</td>\n",
              "      <td>1.0</td>\n",
              "      <td>1.0</td>\n",
              "      <td>0.0</td>\n",
              "      <td>0.0</td>\n",
              "      <td>0.05</td>\n",
              "      <td>0.07</td>\n",
              "      <td>0.00</td>\n",
              "      <td>255</td>\n",
              "      <td>26</td>\n",
              "      <td>0.10</td>\n",
              "      <td>0.05</td>\n",
              "      <td>0.00</td>\n",
              "      <td>0.00</td>\n",
              "      <td>1.00</td>\n",
              "      <td>1.00</td>\n",
              "      <td>0.00</td>\n",
              "      <td>0.00</td>\n",
              "      <td>19</td>\n",
              "      <td>dos</td>\n",
              "    </tr>\n",
              "    <tr>\n",
              "      <th>3</th>\n",
              "      <td>0</td>\n",
              "      <td>1</td>\n",
              "      <td>48</td>\n",
              "      <td>1</td>\n",
              "      <td>232</td>\n",
              "      <td>8153</td>\n",
              "      <td>0</td>\n",
              "      <td>0</td>\n",
              "      <td>0</td>\n",
              "      <td>0</td>\n",
              "      <td>0</td>\n",
              "      <td>1</td>\n",
              "      <td>0</td>\n",
              "      <td>0</td>\n",
              "      <td>0</td>\n",
              "      <td>0</td>\n",
              "      <td>0</td>\n",
              "      <td>0</td>\n",
              "      <td>0</td>\n",
              "      <td>0</td>\n",
              "      <td>0</td>\n",
              "      <td>0</td>\n",
              "      <td>5</td>\n",
              "      <td>5</td>\n",
              "      <td>0.2</td>\n",
              "      <td>0.2</td>\n",
              "      <td>0.0</td>\n",
              "      <td>0.0</td>\n",
              "      <td>1.00</td>\n",
              "      <td>0.00</td>\n",
              "      <td>0.00</td>\n",
              "      <td>30</td>\n",
              "      <td>255</td>\n",
              "      <td>1.00</td>\n",
              "      <td>0.00</td>\n",
              "      <td>0.03</td>\n",
              "      <td>0.04</td>\n",
              "      <td>0.03</td>\n",
              "      <td>0.01</td>\n",
              "      <td>0.00</td>\n",
              "      <td>0.01</td>\n",
              "      <td>21</td>\n",
              "      <td>normal</td>\n",
              "    </tr>\n",
              "    <tr>\n",
              "      <th>4</th>\n",
              "      <td>0</td>\n",
              "      <td>1</td>\n",
              "      <td>48</td>\n",
              "      <td>1</td>\n",
              "      <td>199</td>\n",
              "      <td>420</td>\n",
              "      <td>0</td>\n",
              "      <td>0</td>\n",
              "      <td>0</td>\n",
              "      <td>0</td>\n",
              "      <td>0</td>\n",
              "      <td>1</td>\n",
              "      <td>0</td>\n",
              "      <td>0</td>\n",
              "      <td>0</td>\n",
              "      <td>0</td>\n",
              "      <td>0</td>\n",
              "      <td>0</td>\n",
              "      <td>0</td>\n",
              "      <td>0</td>\n",
              "      <td>0</td>\n",
              "      <td>0</td>\n",
              "      <td>30</td>\n",
              "      <td>32</td>\n",
              "      <td>0.0</td>\n",
              "      <td>0.0</td>\n",
              "      <td>0.0</td>\n",
              "      <td>0.0</td>\n",
              "      <td>1.00</td>\n",
              "      <td>0.00</td>\n",
              "      <td>0.09</td>\n",
              "      <td>255</td>\n",
              "      <td>255</td>\n",
              "      <td>1.00</td>\n",
              "      <td>0.00</td>\n",
              "      <td>0.00</td>\n",
              "      <td>0.00</td>\n",
              "      <td>0.00</td>\n",
              "      <td>0.00</td>\n",
              "      <td>0.00</td>\n",
              "      <td>0.00</td>\n",
              "      <td>21</td>\n",
              "      <td>normal</td>\n",
              "    </tr>\n",
              "  </tbody>\n",
              "</table>\n",
              "</div>"
            ],
            "text/plain": [
              "   duration  protocol_type  ...  num_packet  type_attack\n",
              "0         0              1  ...          20       normal\n",
              "1         0              0  ...          15       normal\n",
              "2         0              1  ...          19          dos\n",
              "3         0              1  ...          21       normal\n",
              "4         0              1  ...          21       normal\n",
              "\n",
              "[5 rows x 43 columns]"
            ]
          },
          "metadata": {
            "tags": []
          },
          "execution_count": 37
        }
      ]
    },
    {
      "cell_type": "code",
      "metadata": {
        "id": "FaosShR2CQPW",
        "colab_type": "code",
        "outputId": "fe4f6ec1-8b7c-428b-cba3-7f9e0b57065d",
        "colab": {
          "base_uri": "https://localhost:8080/",
          "height": 34
        }
      },
      "source": [
        "data.type_attack.unique()"
      ],
      "execution_count": 0,
      "outputs": [
        {
          "output_type": "execute_result",
          "data": {
            "text/plain": [
              "array(['normal', 'dos', 'r2l', 'probe', 'u2r'], dtype=object)"
            ]
          },
          "metadata": {
            "tags": []
          },
          "execution_count": 38
        }
      ]
    },
    {
      "cell_type": "code",
      "metadata": {
        "id": "P1em76pCCuW6",
        "colab_type": "code",
        "colab": {}
      },
      "source": [
        "data_all1 = data.drop(columns=['num_packet','type_attack'])"
      ],
      "execution_count": 0,
      "outputs": []
    },
    {
      "cell_type": "code",
      "metadata": {
        "id": "nFwslY33C3sz",
        "colab_type": "code",
        "outputId": "60a991f8-3233-413c-8245-605b725193b9",
        "colab": {
          "base_uri": "https://localhost:8080/",
          "height": 204
        }
      },
      "source": [
        "pca = PCA(n_components=18)\n",
        "dataset = pca.fit_transform(data_rescaled)\n",
        "\n",
        "df18=pd.DataFrame(data=dataset[0:,0:], index=[i for i in range(dataset.shape[0])], columns=['column '+str(i) for i in range(dataset.shape[1])])\n",
        "df18.head()"
      ],
      "execution_count": 0,
      "outputs": [
        {
          "output_type": "execute_result",
          "data": {
            "text/html": [
              "<div>\n",
              "<style scoped>\n",
              "    .dataframe tbody tr th:only-of-type {\n",
              "        vertical-align: middle;\n",
              "    }\n",
              "\n",
              "    .dataframe tbody tr th {\n",
              "        vertical-align: top;\n",
              "    }\n",
              "\n",
              "    .dataframe thead th {\n",
              "        text-align: right;\n",
              "    }\n",
              "</style>\n",
              "<table border=\"1\" class=\"dataframe\">\n",
              "  <thead>\n",
              "    <tr style=\"text-align: right;\">\n",
              "      <th></th>\n",
              "      <th>column 0</th>\n",
              "      <th>column 1</th>\n",
              "      <th>column 2</th>\n",
              "      <th>column 3</th>\n",
              "      <th>column 4</th>\n",
              "      <th>column 5</th>\n",
              "      <th>column 6</th>\n",
              "      <th>column 7</th>\n",
              "      <th>column 8</th>\n",
              "      <th>column 9</th>\n",
              "      <th>column 10</th>\n",
              "      <th>column 11</th>\n",
              "      <th>column 12</th>\n",
              "      <th>column 13</th>\n",
              "      <th>column 14</th>\n",
              "      <th>column 15</th>\n",
              "      <th>column 16</th>\n",
              "      <th>column 17</th>\n",
              "    </tr>\n",
              "  </thead>\n",
              "  <tbody>\n",
              "    <tr>\n",
              "      <th>0</th>\n",
              "      <td>-0.210454</td>\n",
              "      <td>0.109517</td>\n",
              "      <td>0.558613</td>\n",
              "      <td>-0.210847</td>\n",
              "      <td>0.410863</td>\n",
              "      <td>-0.182544</td>\n",
              "      <td>-0.269973</td>\n",
              "      <td>-0.061005</td>\n",
              "      <td>-0.463782</td>\n",
              "      <td>-0.041845</td>\n",
              "      <td>-0.016257</td>\n",
              "      <td>0.219600</td>\n",
              "      <td>0.057659</td>\n",
              "      <td>-0.134752</td>\n",
              "      <td>-0.017798</td>\n",
              "      <td>0.076811</td>\n",
              "      <td>-0.002909</td>\n",
              "      <td>-0.089396</td>\n",
              "    </tr>\n",
              "    <tr>\n",
              "      <th>1</th>\n",
              "      <td>0.295173</td>\n",
              "      <td>0.354357</td>\n",
              "      <td>0.747835</td>\n",
              "      <td>-0.551986</td>\n",
              "      <td>0.892921</td>\n",
              "      <td>-0.064741</td>\n",
              "      <td>0.035088</td>\n",
              "      <td>0.275928</td>\n",
              "      <td>0.288845</td>\n",
              "      <td>0.207347</td>\n",
              "      <td>-0.411123</td>\n",
              "      <td>-0.394146</td>\n",
              "      <td>0.136762</td>\n",
              "      <td>-0.166930</td>\n",
              "      <td>0.005222</td>\n",
              "      <td>-0.232558</td>\n",
              "      <td>0.092964</td>\n",
              "      <td>-0.091796</td>\n",
              "    </tr>\n",
              "    <tr>\n",
              "      <th>2</th>\n",
              "      <td>1.730388</td>\n",
              "      <td>-0.587896</td>\n",
              "      <td>-0.089366</td>\n",
              "      <td>0.074590</td>\n",
              "      <td>-0.067424</td>\n",
              "      <td>0.029835</td>\n",
              "      <td>-0.051773</td>\n",
              "      <td>-0.014232</td>\n",
              "      <td>0.111595</td>\n",
              "      <td>-0.045301</td>\n",
              "      <td>-0.100270</td>\n",
              "      <td>0.022367</td>\n",
              "      <td>0.014328</td>\n",
              "      <td>0.002643</td>\n",
              "      <td>0.023151</td>\n",
              "      <td>-0.013676</td>\n",
              "      <td>-0.007915</td>\n",
              "      <td>-0.002653</td>\n",
              "    </tr>\n",
              "    <tr>\n",
              "      <th>3</th>\n",
              "      <td>-1.010287</td>\n",
              "      <td>-0.469081</td>\n",
              "      <td>-0.215443</td>\n",
              "      <td>0.414567</td>\n",
              "      <td>-0.202224</td>\n",
              "      <td>-0.275664</td>\n",
              "      <td>0.018488</td>\n",
              "      <td>0.132578</td>\n",
              "      <td>0.049882</td>\n",
              "      <td>0.011953</td>\n",
              "      <td>0.045059</td>\n",
              "      <td>0.015433</td>\n",
              "      <td>0.037350</td>\n",
              "      <td>-0.063787</td>\n",
              "      <td>0.047175</td>\n",
              "      <td>0.056267</td>\n",
              "      <td>0.133808</td>\n",
              "      <td>-0.015194</td>\n",
              "    </tr>\n",
              "    <tr>\n",
              "      <th>4</th>\n",
              "      <td>-0.999356</td>\n",
              "      <td>-0.337932</td>\n",
              "      <td>-0.496051</td>\n",
              "      <td>-0.226706</td>\n",
              "      <td>0.023366</td>\n",
              "      <td>0.139347</td>\n",
              "      <td>0.131672</td>\n",
              "      <td>-0.138722</td>\n",
              "      <td>0.036212</td>\n",
              "      <td>0.066413</td>\n",
              "      <td>-0.031553</td>\n",
              "      <td>0.017770</td>\n",
              "      <td>0.016677</td>\n",
              "      <td>0.040106</td>\n",
              "      <td>-0.049254</td>\n",
              "      <td>-0.015651</td>\n",
              "      <td>0.009156</td>\n",
              "      <td>0.005715</td>\n",
              "    </tr>\n",
              "  </tbody>\n",
              "</table>\n",
              "</div>"
            ],
            "text/plain": [
              "   column 0  column 1  column 2  ...  column 15  column 16  column 17\n",
              "0 -0.210454  0.109517  0.558613  ...   0.076811  -0.002909  -0.089396\n",
              "1  0.295173  0.354357  0.747835  ...  -0.232558   0.092964  -0.091796\n",
              "2  1.730388 -0.587896 -0.089366  ...  -0.013676  -0.007915  -0.002653\n",
              "3 -1.010287 -0.469081 -0.215443  ...   0.056267   0.133808  -0.015194\n",
              "4 -0.999356 -0.337932 -0.496051  ...  -0.015651   0.009156   0.005715\n",
              "\n",
              "[5 rows x 18 columns]"
            ]
          },
          "metadata": {
            "tags": []
          },
          "execution_count": 40
        }
      ]
    },
    {
      "cell_type": "code",
      "metadata": {
        "id": "46LWfdKyDEjh",
        "colab_type": "code",
        "outputId": "f0e94f06-5764-4dce-d993-e7ed49dd5fcc",
        "colab": {
          "base_uri": "https://localhost:8080/",
          "height": 34
        }
      },
      "source": [
        "df18.shape"
      ],
      "execution_count": 0,
      "outputs": [
        {
          "output_type": "execute_result",
          "data": {
            "text/plain": [
              "(148516, 18)"
            ]
          },
          "metadata": {
            "tags": []
          },
          "execution_count": 41
        }
      ]
    },
    {
      "cell_type": "code",
      "metadata": {
        "id": "DicFCYyTDF3b",
        "colab_type": "code",
        "outputId": "de0e1fcc-c277-440f-8b2e-1f5d892dea58",
        "colab": {
          "base_uri": "https://localhost:8080/",
          "height": 204
        }
      },
      "source": [
        "data_all2 = pd.concat([df18, data_attack], axis=1)\n",
        "data_all2.head()"
      ],
      "execution_count": 0,
      "outputs": [
        {
          "output_type": "execute_result",
          "data": {
            "text/html": [
              "<div>\n",
              "<style scoped>\n",
              "    .dataframe tbody tr th:only-of-type {\n",
              "        vertical-align: middle;\n",
              "    }\n",
              "\n",
              "    .dataframe tbody tr th {\n",
              "        vertical-align: top;\n",
              "    }\n",
              "\n",
              "    .dataframe thead th {\n",
              "        text-align: right;\n",
              "    }\n",
              "</style>\n",
              "<table border=\"1\" class=\"dataframe\">\n",
              "  <thead>\n",
              "    <tr style=\"text-align: right;\">\n",
              "      <th></th>\n",
              "      <th>column 0</th>\n",
              "      <th>column 1</th>\n",
              "      <th>column 2</th>\n",
              "      <th>column 3</th>\n",
              "      <th>column 4</th>\n",
              "      <th>column 5</th>\n",
              "      <th>column 6</th>\n",
              "      <th>column 7</th>\n",
              "      <th>column 8</th>\n",
              "      <th>column 9</th>\n",
              "      <th>column 10</th>\n",
              "      <th>column 11</th>\n",
              "      <th>column 12</th>\n",
              "      <th>column 13</th>\n",
              "      <th>column 14</th>\n",
              "      <th>column 15</th>\n",
              "      <th>column 16</th>\n",
              "      <th>column 17</th>\n",
              "      <th>type_attack</th>\n",
              "    </tr>\n",
              "  </thead>\n",
              "  <tbody>\n",
              "    <tr>\n",
              "      <th>0</th>\n",
              "      <td>-0.210454</td>\n",
              "      <td>0.109517</td>\n",
              "      <td>0.558613</td>\n",
              "      <td>-0.210847</td>\n",
              "      <td>0.410863</td>\n",
              "      <td>-0.182544</td>\n",
              "      <td>-0.269973</td>\n",
              "      <td>-0.061005</td>\n",
              "      <td>-0.463782</td>\n",
              "      <td>-0.041845</td>\n",
              "      <td>-0.016257</td>\n",
              "      <td>0.219600</td>\n",
              "      <td>0.057659</td>\n",
              "      <td>-0.134752</td>\n",
              "      <td>-0.017798</td>\n",
              "      <td>0.076811</td>\n",
              "      <td>-0.002909</td>\n",
              "      <td>-0.089396</td>\n",
              "      <td>normal</td>\n",
              "    </tr>\n",
              "    <tr>\n",
              "      <th>1</th>\n",
              "      <td>0.295173</td>\n",
              "      <td>0.354357</td>\n",
              "      <td>0.747835</td>\n",
              "      <td>-0.551986</td>\n",
              "      <td>0.892921</td>\n",
              "      <td>-0.064741</td>\n",
              "      <td>0.035088</td>\n",
              "      <td>0.275928</td>\n",
              "      <td>0.288845</td>\n",
              "      <td>0.207347</td>\n",
              "      <td>-0.411123</td>\n",
              "      <td>-0.394146</td>\n",
              "      <td>0.136762</td>\n",
              "      <td>-0.166930</td>\n",
              "      <td>0.005222</td>\n",
              "      <td>-0.232558</td>\n",
              "      <td>0.092964</td>\n",
              "      <td>-0.091796</td>\n",
              "      <td>normal</td>\n",
              "    </tr>\n",
              "    <tr>\n",
              "      <th>2</th>\n",
              "      <td>1.730388</td>\n",
              "      <td>-0.587896</td>\n",
              "      <td>-0.089366</td>\n",
              "      <td>0.074590</td>\n",
              "      <td>-0.067424</td>\n",
              "      <td>0.029835</td>\n",
              "      <td>-0.051773</td>\n",
              "      <td>-0.014232</td>\n",
              "      <td>0.111595</td>\n",
              "      <td>-0.045301</td>\n",
              "      <td>-0.100270</td>\n",
              "      <td>0.022367</td>\n",
              "      <td>0.014328</td>\n",
              "      <td>0.002643</td>\n",
              "      <td>0.023151</td>\n",
              "      <td>-0.013676</td>\n",
              "      <td>-0.007915</td>\n",
              "      <td>-0.002653</td>\n",
              "      <td>dos</td>\n",
              "    </tr>\n",
              "    <tr>\n",
              "      <th>3</th>\n",
              "      <td>-1.010287</td>\n",
              "      <td>-0.469081</td>\n",
              "      <td>-0.215443</td>\n",
              "      <td>0.414567</td>\n",
              "      <td>-0.202224</td>\n",
              "      <td>-0.275664</td>\n",
              "      <td>0.018488</td>\n",
              "      <td>0.132578</td>\n",
              "      <td>0.049882</td>\n",
              "      <td>0.011953</td>\n",
              "      <td>0.045059</td>\n",
              "      <td>0.015433</td>\n",
              "      <td>0.037350</td>\n",
              "      <td>-0.063787</td>\n",
              "      <td>0.047175</td>\n",
              "      <td>0.056267</td>\n",
              "      <td>0.133808</td>\n",
              "      <td>-0.015194</td>\n",
              "      <td>normal</td>\n",
              "    </tr>\n",
              "    <tr>\n",
              "      <th>4</th>\n",
              "      <td>-0.999356</td>\n",
              "      <td>-0.337932</td>\n",
              "      <td>-0.496051</td>\n",
              "      <td>-0.226706</td>\n",
              "      <td>0.023366</td>\n",
              "      <td>0.139347</td>\n",
              "      <td>0.131672</td>\n",
              "      <td>-0.138722</td>\n",
              "      <td>0.036212</td>\n",
              "      <td>0.066413</td>\n",
              "      <td>-0.031553</td>\n",
              "      <td>0.017770</td>\n",
              "      <td>0.016677</td>\n",
              "      <td>0.040106</td>\n",
              "      <td>-0.049254</td>\n",
              "      <td>-0.015651</td>\n",
              "      <td>0.009156</td>\n",
              "      <td>0.005715</td>\n",
              "      <td>normal</td>\n",
              "    </tr>\n",
              "  </tbody>\n",
              "</table>\n",
              "</div>"
            ],
            "text/plain": [
              "   column 0  column 1  column 2  ...  column 16  column 17  type_attack\n",
              "0 -0.210454  0.109517  0.558613  ...  -0.002909  -0.089396       normal\n",
              "1  0.295173  0.354357  0.747835  ...   0.092964  -0.091796       normal\n",
              "2  1.730388 -0.587896 -0.089366  ...  -0.007915  -0.002653          dos\n",
              "3 -1.010287 -0.469081 -0.215443  ...   0.133808  -0.015194       normal\n",
              "4 -0.999356 -0.337932 -0.496051  ...   0.009156   0.005715       normal\n",
              "\n",
              "[5 rows x 19 columns]"
            ]
          },
          "metadata": {
            "tags": []
          },
          "execution_count": 42
        }
      ]
    },
    {
      "cell_type": "code",
      "metadata": {
        "id": "6Ni_z__6DTCz",
        "colab_type": "code",
        "outputId": "e4375da7-dd15-4cee-fdc2-16e3ea1602e3",
        "colab": {
          "base_uri": "https://localhost:8080/",
          "height": 34
        }
      },
      "source": [
        "data_all2.type_attack.unique()"
      ],
      "execution_count": 0,
      "outputs": [
        {
          "output_type": "execute_result",
          "data": {
            "text/plain": [
              "array(['normal', 'dos', 'r2l', 'probe', 'u2r'], dtype=object)"
            ]
          },
          "metadata": {
            "tags": []
          },
          "execution_count": 43
        }
      ]
    },
    {
      "cell_type": "code",
      "metadata": {
        "id": "aj2V8A7DDUw7",
        "colab_type": "code",
        "outputId": "01f63f34-c3c5-472f-cc2b-697e4c492ceb",
        "colab": {
          "base_uri": "https://localhost:8080/",
          "height": 419
        }
      },
      "source": [
        "data_normaldos3 = data_all2.loc[data_all2['type_attack'].isin(['normal','dos'])]\n",
        "data_normaldos3"
      ],
      "execution_count": 0,
      "outputs": [
        {
          "output_type": "execute_result",
          "data": {
            "text/html": [
              "<div>\n",
              "<style scoped>\n",
              "    .dataframe tbody tr th:only-of-type {\n",
              "        vertical-align: middle;\n",
              "    }\n",
              "\n",
              "    .dataframe tbody tr th {\n",
              "        vertical-align: top;\n",
              "    }\n",
              "\n",
              "    .dataframe thead th {\n",
              "        text-align: right;\n",
              "    }\n",
              "</style>\n",
              "<table border=\"1\" class=\"dataframe\">\n",
              "  <thead>\n",
              "    <tr style=\"text-align: right;\">\n",
              "      <th></th>\n",
              "      <th>column 0</th>\n",
              "      <th>column 1</th>\n",
              "      <th>column 2</th>\n",
              "      <th>column 3</th>\n",
              "      <th>column 4</th>\n",
              "      <th>column 5</th>\n",
              "      <th>column 6</th>\n",
              "      <th>column 7</th>\n",
              "      <th>column 8</th>\n",
              "      <th>column 9</th>\n",
              "      <th>column 10</th>\n",
              "      <th>column 11</th>\n",
              "      <th>column 12</th>\n",
              "      <th>column 13</th>\n",
              "      <th>column 14</th>\n",
              "      <th>column 15</th>\n",
              "      <th>column 16</th>\n",
              "      <th>column 17</th>\n",
              "      <th>type_attack</th>\n",
              "    </tr>\n",
              "  </thead>\n",
              "  <tbody>\n",
              "    <tr>\n",
              "      <th>0</th>\n",
              "      <td>-0.210454</td>\n",
              "      <td>0.109517</td>\n",
              "      <td>0.558613</td>\n",
              "      <td>-0.210847</td>\n",
              "      <td>0.410863</td>\n",
              "      <td>-0.182544</td>\n",
              "      <td>-0.269973</td>\n",
              "      <td>-0.061005</td>\n",
              "      <td>-0.463782</td>\n",
              "      <td>-0.041845</td>\n",
              "      <td>-0.016257</td>\n",
              "      <td>0.219600</td>\n",
              "      <td>0.057659</td>\n",
              "      <td>-0.134752</td>\n",
              "      <td>-0.017798</td>\n",
              "      <td>0.076811</td>\n",
              "      <td>-0.002909</td>\n",
              "      <td>-0.089396</td>\n",
              "      <td>normal</td>\n",
              "    </tr>\n",
              "    <tr>\n",
              "      <th>1</th>\n",
              "      <td>0.295173</td>\n",
              "      <td>0.354357</td>\n",
              "      <td>0.747835</td>\n",
              "      <td>-0.551986</td>\n",
              "      <td>0.892921</td>\n",
              "      <td>-0.064741</td>\n",
              "      <td>0.035088</td>\n",
              "      <td>0.275928</td>\n",
              "      <td>0.288845</td>\n",
              "      <td>0.207347</td>\n",
              "      <td>-0.411123</td>\n",
              "      <td>-0.394146</td>\n",
              "      <td>0.136762</td>\n",
              "      <td>-0.166930</td>\n",
              "      <td>0.005222</td>\n",
              "      <td>-0.232558</td>\n",
              "      <td>0.092964</td>\n",
              "      <td>-0.091796</td>\n",
              "      <td>normal</td>\n",
              "    </tr>\n",
              "    <tr>\n",
              "      <th>2</th>\n",
              "      <td>1.730388</td>\n",
              "      <td>-0.587896</td>\n",
              "      <td>-0.089366</td>\n",
              "      <td>0.074590</td>\n",
              "      <td>-0.067424</td>\n",
              "      <td>0.029835</td>\n",
              "      <td>-0.051773</td>\n",
              "      <td>-0.014232</td>\n",
              "      <td>0.111595</td>\n",
              "      <td>-0.045301</td>\n",
              "      <td>-0.100270</td>\n",
              "      <td>0.022367</td>\n",
              "      <td>0.014328</td>\n",
              "      <td>0.002643</td>\n",
              "      <td>0.023151</td>\n",
              "      <td>-0.013676</td>\n",
              "      <td>-0.007915</td>\n",
              "      <td>-0.002653</td>\n",
              "      <td>dos</td>\n",
              "    </tr>\n",
              "    <tr>\n",
              "      <th>3</th>\n",
              "      <td>-1.010287</td>\n",
              "      <td>-0.469081</td>\n",
              "      <td>-0.215443</td>\n",
              "      <td>0.414567</td>\n",
              "      <td>-0.202224</td>\n",
              "      <td>-0.275664</td>\n",
              "      <td>0.018488</td>\n",
              "      <td>0.132578</td>\n",
              "      <td>0.049882</td>\n",
              "      <td>0.011953</td>\n",
              "      <td>0.045059</td>\n",
              "      <td>0.015433</td>\n",
              "      <td>0.037350</td>\n",
              "      <td>-0.063787</td>\n",
              "      <td>0.047175</td>\n",
              "      <td>0.056267</td>\n",
              "      <td>0.133808</td>\n",
              "      <td>-0.015194</td>\n",
              "      <td>normal</td>\n",
              "    </tr>\n",
              "    <tr>\n",
              "      <th>4</th>\n",
              "      <td>-0.999356</td>\n",
              "      <td>-0.337932</td>\n",
              "      <td>-0.496051</td>\n",
              "      <td>-0.226706</td>\n",
              "      <td>0.023366</td>\n",
              "      <td>0.139347</td>\n",
              "      <td>0.131672</td>\n",
              "      <td>-0.138722</td>\n",
              "      <td>0.036212</td>\n",
              "      <td>0.066413</td>\n",
              "      <td>-0.031553</td>\n",
              "      <td>0.017770</td>\n",
              "      <td>0.016677</td>\n",
              "      <td>0.040106</td>\n",
              "      <td>-0.049254</td>\n",
              "      <td>-0.015651</td>\n",
              "      <td>0.009156</td>\n",
              "      <td>0.005715</td>\n",
              "      <td>normal</td>\n",
              "    </tr>\n",
              "    <tr>\n",
              "      <th>...</th>\n",
              "      <td>...</td>\n",
              "      <td>...</td>\n",
              "      <td>...</td>\n",
              "      <td>...</td>\n",
              "      <td>...</td>\n",
              "      <td>...</td>\n",
              "      <td>...</td>\n",
              "      <td>...</td>\n",
              "      <td>...</td>\n",
              "      <td>...</td>\n",
              "      <td>...</td>\n",
              "      <td>...</td>\n",
              "      <td>...</td>\n",
              "      <td>...</td>\n",
              "      <td>...</td>\n",
              "      <td>...</td>\n",
              "      <td>...</td>\n",
              "      <td>...</td>\n",
              "      <td>...</td>\n",
              "    </tr>\n",
              "    <tr>\n",
              "      <th>148510</th>\n",
              "      <td>-0.745114</td>\n",
              "      <td>-0.121176</td>\n",
              "      <td>0.638118</td>\n",
              "      <td>-0.628706</td>\n",
              "      <td>-0.408084</td>\n",
              "      <td>0.096112</td>\n",
              "      <td>0.518219</td>\n",
              "      <td>-0.422750</td>\n",
              "      <td>0.203252</td>\n",
              "      <td>0.078130</td>\n",
              "      <td>-0.336635</td>\n",
              "      <td>0.288477</td>\n",
              "      <td>0.142605</td>\n",
              "      <td>-0.110936</td>\n",
              "      <td>0.124525</td>\n",
              "      <td>-0.009756</td>\n",
              "      <td>-0.025701</td>\n",
              "      <td>-0.099058</td>\n",
              "      <td>dos</td>\n",
              "    </tr>\n",
              "    <tr>\n",
              "      <th>148511</th>\n",
              "      <td>-0.828475</td>\n",
              "      <td>-0.226192</td>\n",
              "      <td>-0.170238</td>\n",
              "      <td>0.320094</td>\n",
              "      <td>0.390840</td>\n",
              "      <td>-0.140440</td>\n",
              "      <td>-0.092445</td>\n",
              "      <td>0.016003</td>\n",
              "      <td>0.132751</td>\n",
              "      <td>-0.274037</td>\n",
              "      <td>0.017808</td>\n",
              "      <td>0.076274</td>\n",
              "      <td>-0.019840</td>\n",
              "      <td>0.029050</td>\n",
              "      <td>-0.046854</td>\n",
              "      <td>-0.007740</td>\n",
              "      <td>0.002475</td>\n",
              "      <td>-0.028750</td>\n",
              "      <td>normal</td>\n",
              "    </tr>\n",
              "    <tr>\n",
              "      <th>148512</th>\n",
              "      <td>-1.049307</td>\n",
              "      <td>-0.351544</td>\n",
              "      <td>-0.396084</td>\n",
              "      <td>-0.037051</td>\n",
              "      <td>-0.019923</td>\n",
              "      <td>0.134743</td>\n",
              "      <td>0.058345</td>\n",
              "      <td>-0.062198</td>\n",
              "      <td>0.027576</td>\n",
              "      <td>0.074528</td>\n",
              "      <td>-0.027545</td>\n",
              "      <td>0.004143</td>\n",
              "      <td>0.027366</td>\n",
              "      <td>-0.000850</td>\n",
              "      <td>-0.024062</td>\n",
              "      <td>-0.017013</td>\n",
              "      <td>-0.002245</td>\n",
              "      <td>-0.000539</td>\n",
              "      <td>normal</td>\n",
              "    </tr>\n",
              "    <tr>\n",
              "      <th>148513</th>\n",
              "      <td>-1.005687</td>\n",
              "      <td>-0.286393</td>\n",
              "      <td>-0.491145</td>\n",
              "      <td>-0.172798</td>\n",
              "      <td>0.005716</td>\n",
              "      <td>0.231617</td>\n",
              "      <td>0.079806</td>\n",
              "      <td>-0.155350</td>\n",
              "      <td>0.040089</td>\n",
              "      <td>0.106986</td>\n",
              "      <td>-0.038570</td>\n",
              "      <td>-0.008078</td>\n",
              "      <td>0.062296</td>\n",
              "      <td>0.051919</td>\n",
              "      <td>-0.035847</td>\n",
              "      <td>0.015813</td>\n",
              "      <td>0.006642</td>\n",
              "      <td>-0.001734</td>\n",
              "      <td>dos</td>\n",
              "    </tr>\n",
              "    <tr>\n",
              "      <th>148514</th>\n",
              "      <td>-0.721211</td>\n",
              "      <td>-0.169021</td>\n",
              "      <td>0.034085</td>\n",
              "      <td>-0.753098</td>\n",
              "      <td>-0.332777</td>\n",
              "      <td>0.191829</td>\n",
              "      <td>-0.507982</td>\n",
              "      <td>0.133428</td>\n",
              "      <td>-0.089508</td>\n",
              "      <td>0.241641</td>\n",
              "      <td>-0.063088</td>\n",
              "      <td>-0.051173</td>\n",
              "      <td>0.040629</td>\n",
              "      <td>0.009112</td>\n",
              "      <td>-0.003332</td>\n",
              "      <td>-0.066052</td>\n",
              "      <td>0.000119</td>\n",
              "      <td>-0.044890</td>\n",
              "      <td>normal</td>\n",
              "    </tr>\n",
              "  </tbody>\n",
              "</table>\n",
              "<p>130440 rows × 19 columns</p>\n",
              "</div>"
            ],
            "text/plain": [
              "        column 0  column 1  column 2  ...  column 16  column 17  type_attack\n",
              "0      -0.210454  0.109517  0.558613  ...  -0.002909  -0.089396       normal\n",
              "1       0.295173  0.354357  0.747835  ...   0.092964  -0.091796       normal\n",
              "2       1.730388 -0.587896 -0.089366  ...  -0.007915  -0.002653          dos\n",
              "3      -1.010287 -0.469081 -0.215443  ...   0.133808  -0.015194       normal\n",
              "4      -0.999356 -0.337932 -0.496051  ...   0.009156   0.005715       normal\n",
              "...          ...       ...       ...  ...        ...        ...          ...\n",
              "148510 -0.745114 -0.121176  0.638118  ...  -0.025701  -0.099058          dos\n",
              "148511 -0.828475 -0.226192 -0.170238  ...   0.002475  -0.028750       normal\n",
              "148512 -1.049307 -0.351544 -0.396084  ...  -0.002245  -0.000539       normal\n",
              "148513 -1.005687 -0.286393 -0.491145  ...   0.006642  -0.001734          dos\n",
              "148514 -0.721211 -0.169021  0.034085  ...   0.000119  -0.044890       normal\n",
              "\n",
              "[130440 rows x 19 columns]"
            ]
          },
          "metadata": {
            "tags": []
          },
          "execution_count": 44
        }
      ]
    },
    {
      "cell_type": "code",
      "metadata": {
        "id": "RnmVIN_9Dn0A",
        "colab_type": "code",
        "colab": {}
      },
      "source": [
        "X = data_normaldos3.loc[:, :'column 17']\n",
        "y = data_normaldos3.loc[:, 'type_attack']\n",
        "\n",
        "y = y.astype(str)\n",
        "\n",
        "temp = set(y)\n",
        "\n",
        "X_train, X_test, y_train, y_test = train_test_split(X, y, test_size=0.3, train_size =0.7, random_state=5)\n",
        "\n",
        "clf = MLPClassifier(random_state = 5)"
      ],
      "execution_count": 0,
      "outputs": []
    },
    {
      "cell_type": "code",
      "metadata": {
        "id": "2U1qnpmUDqDb",
        "colab_type": "code",
        "colab": {}
      },
      "source": [
        "start = time.time()\n",
        "\n",
        "clf.fit(X_train, y_train)\n",
        "\n",
        "stop = time.time()"
      ],
      "execution_count": 0,
      "outputs": []
    },
    {
      "cell_type": "code",
      "metadata": {
        "id": "GvaR1hC4Dru6",
        "colab_type": "code",
        "outputId": "3951bfb8-1ee6-45a6-c2a0-d2582e4f9a10",
        "colab": {
          "base_uri": "https://localhost:8080/",
          "height": 34
        }
      },
      "source": [
        "print(f\"training time : {stop - start}s\")"
      ],
      "execution_count": 0,
      "outputs": [
        {
          "output_type": "stream",
          "text": [
            "training time : 54.00039625167847s\n"
          ],
          "name": "stdout"
        }
      ]
    },
    {
      "cell_type": "code",
      "metadata": {
        "id": "9ETihCVQDtdb",
        "colab_type": "code",
        "outputId": "de9df750-f622-495c-9cbf-8d889d878b11",
        "colab": {
          "base_uri": "https://localhost:8080/",
          "height": 34
        }
      },
      "source": [
        "pred = clf.predict(X_test)\n",
        "\n",
        "accuracy_score(y_test,pred)"
      ],
      "execution_count": 0,
      "outputs": [
        {
          "output_type": "execute_result",
          "data": {
            "text/plain": [
              "0.996524583461106"
            ]
          },
          "metadata": {
            "tags": []
          },
          "execution_count": 48
        }
      ]
    },
    {
      "cell_type": "markdown",
      "metadata": {
        "id": "MQMgxsOLDyp7",
        "colab_type": "text"
      },
      "source": [
        "# 1 fitur"
      ]
    },
    {
      "cell_type": "code",
      "metadata": {
        "id": "EamoCcsUEhIv",
        "colab_type": "code",
        "outputId": "a08dfe87-ca74-4d88-8ce5-4693cfbe7ec9",
        "colab": {
          "base_uri": "https://localhost:8080/",
          "height": 204
        }
      },
      "source": [
        "pca = PCA(n_components=1)\n",
        "dataset = pca.fit_transform(data_rescaled)\n",
        "\n",
        "df=pd.DataFrame(data=dataset[0:,0:], index=[i for i in range(dataset.shape[0])], columns=['column '+str(i) for i in range(dataset.shape[1])])\n",
        "df.head()"
      ],
      "execution_count": 0,
      "outputs": [
        {
          "output_type": "execute_result",
          "data": {
            "text/html": [
              "<div>\n",
              "<style scoped>\n",
              "    .dataframe tbody tr th:only-of-type {\n",
              "        vertical-align: middle;\n",
              "    }\n",
              "\n",
              "    .dataframe tbody tr th {\n",
              "        vertical-align: top;\n",
              "    }\n",
              "\n",
              "    .dataframe thead th {\n",
              "        text-align: right;\n",
              "    }\n",
              "</style>\n",
              "<table border=\"1\" class=\"dataframe\">\n",
              "  <thead>\n",
              "    <tr style=\"text-align: right;\">\n",
              "      <th></th>\n",
              "      <th>column 0</th>\n",
              "    </tr>\n",
              "  </thead>\n",
              "  <tbody>\n",
              "    <tr>\n",
              "      <th>0</th>\n",
              "      <td>-0.210454</td>\n",
              "    </tr>\n",
              "    <tr>\n",
              "      <th>1</th>\n",
              "      <td>0.295173</td>\n",
              "    </tr>\n",
              "    <tr>\n",
              "      <th>2</th>\n",
              "      <td>1.730388</td>\n",
              "    </tr>\n",
              "    <tr>\n",
              "      <th>3</th>\n",
              "      <td>-1.010287</td>\n",
              "    </tr>\n",
              "    <tr>\n",
              "      <th>4</th>\n",
              "      <td>-0.999356</td>\n",
              "    </tr>\n",
              "  </tbody>\n",
              "</table>\n",
              "</div>"
            ],
            "text/plain": [
              "   column 0\n",
              "0 -0.210454\n",
              "1  0.295173\n",
              "2  1.730388\n",
              "3 -1.010287\n",
              "4 -0.999356"
            ]
          },
          "metadata": {
            "tags": []
          },
          "execution_count": 49
        }
      ]
    },
    {
      "cell_type": "code",
      "metadata": {
        "id": "nIu_x-0TEixW",
        "colab_type": "code",
        "outputId": "55159296-bfbd-474b-89f5-48366a3e3351",
        "colab": {
          "base_uri": "https://localhost:8080/",
          "height": 419
        }
      },
      "source": [
        "df"
      ],
      "execution_count": 0,
      "outputs": [
        {
          "output_type": "execute_result",
          "data": {
            "text/html": [
              "<div>\n",
              "<style scoped>\n",
              "    .dataframe tbody tr th:only-of-type {\n",
              "        vertical-align: middle;\n",
              "    }\n",
              "\n",
              "    .dataframe tbody tr th {\n",
              "        vertical-align: top;\n",
              "    }\n",
              "\n",
              "    .dataframe thead th {\n",
              "        text-align: right;\n",
              "    }\n",
              "</style>\n",
              "<table border=\"1\" class=\"dataframe\">\n",
              "  <thead>\n",
              "    <tr style=\"text-align: right;\">\n",
              "      <th></th>\n",
              "      <th>column 0</th>\n",
              "    </tr>\n",
              "  </thead>\n",
              "  <tbody>\n",
              "    <tr>\n",
              "      <th>0</th>\n",
              "      <td>-0.210454</td>\n",
              "    </tr>\n",
              "    <tr>\n",
              "      <th>1</th>\n",
              "      <td>0.295173</td>\n",
              "    </tr>\n",
              "    <tr>\n",
              "      <th>2</th>\n",
              "      <td>1.730388</td>\n",
              "    </tr>\n",
              "    <tr>\n",
              "      <th>3</th>\n",
              "      <td>-1.010287</td>\n",
              "    </tr>\n",
              "    <tr>\n",
              "      <th>4</th>\n",
              "      <td>-0.999356</td>\n",
              "    </tr>\n",
              "    <tr>\n",
              "      <th>...</th>\n",
              "      <td>...</td>\n",
              "    </tr>\n",
              "    <tr>\n",
              "      <th>148511</th>\n",
              "      <td>-0.828475</td>\n",
              "    </tr>\n",
              "    <tr>\n",
              "      <th>148512</th>\n",
              "      <td>-1.049307</td>\n",
              "    </tr>\n",
              "    <tr>\n",
              "      <th>148513</th>\n",
              "      <td>-1.005687</td>\n",
              "    </tr>\n",
              "    <tr>\n",
              "      <th>148514</th>\n",
              "      <td>-0.721211</td>\n",
              "    </tr>\n",
              "    <tr>\n",
              "      <th>148515</th>\n",
              "      <td>0.478899</td>\n",
              "    </tr>\n",
              "  </tbody>\n",
              "</table>\n",
              "<p>148516 rows × 1 columns</p>\n",
              "</div>"
            ],
            "text/plain": [
              "        column 0\n",
              "0      -0.210454\n",
              "1       0.295173\n",
              "2       1.730388\n",
              "3      -1.010287\n",
              "4      -0.999356\n",
              "...          ...\n",
              "148511 -0.828475\n",
              "148512 -1.049307\n",
              "148513 -1.005687\n",
              "148514 -0.721211\n",
              "148515  0.478899\n",
              "\n",
              "[148516 rows x 1 columns]"
            ]
          },
          "metadata": {
            "tags": []
          },
          "execution_count": 50
        }
      ]
    },
    {
      "cell_type": "code",
      "metadata": {
        "id": "pniJIAg7EozU",
        "colab_type": "code",
        "outputId": "79600d7d-742d-4000-b468-6f5a4d765bac",
        "colab": {
          "base_uri": "https://localhost:8080/",
          "height": 34
        }
      },
      "source": [
        "df.shape"
      ],
      "execution_count": 0,
      "outputs": [
        {
          "output_type": "execute_result",
          "data": {
            "text/plain": [
              "(148516, 1)"
            ]
          },
          "metadata": {
            "tags": []
          },
          "execution_count": 51
        }
      ]
    },
    {
      "cell_type": "code",
      "metadata": {
        "id": "PhVSx4qREp51",
        "colab_type": "code",
        "colab": {}
      },
      "source": [
        "data_all2 = pd.concat([df, data_attack], axis=1)"
      ],
      "execution_count": 0,
      "outputs": []
    },
    {
      "cell_type": "code",
      "metadata": {
        "id": "ZyEBVaeGEvtY",
        "colab_type": "code",
        "colab": {}
      },
      "source": [
        "data_normaldos = data_all2.loc[data_all2['type_attack'].isin(['normal','dos'])]"
      ],
      "execution_count": 0,
      "outputs": []
    },
    {
      "cell_type": "code",
      "metadata": {
        "id": "XomFQgXhEzBD",
        "colab_type": "code",
        "outputId": "b3726bf7-4d0b-43c8-e4ac-e4524ac35557",
        "colab": {
          "base_uri": "https://localhost:8080/",
          "height": 419
        }
      },
      "source": [
        "data_normaldos"
      ],
      "execution_count": 0,
      "outputs": [
        {
          "output_type": "execute_result",
          "data": {
            "text/html": [
              "<div>\n",
              "<style scoped>\n",
              "    .dataframe tbody tr th:only-of-type {\n",
              "        vertical-align: middle;\n",
              "    }\n",
              "\n",
              "    .dataframe tbody tr th {\n",
              "        vertical-align: top;\n",
              "    }\n",
              "\n",
              "    .dataframe thead th {\n",
              "        text-align: right;\n",
              "    }\n",
              "</style>\n",
              "<table border=\"1\" class=\"dataframe\">\n",
              "  <thead>\n",
              "    <tr style=\"text-align: right;\">\n",
              "      <th></th>\n",
              "      <th>column 0</th>\n",
              "      <th>type_attack</th>\n",
              "    </tr>\n",
              "  </thead>\n",
              "  <tbody>\n",
              "    <tr>\n",
              "      <th>0</th>\n",
              "      <td>-0.210454</td>\n",
              "      <td>normal</td>\n",
              "    </tr>\n",
              "    <tr>\n",
              "      <th>1</th>\n",
              "      <td>0.295173</td>\n",
              "      <td>normal</td>\n",
              "    </tr>\n",
              "    <tr>\n",
              "      <th>2</th>\n",
              "      <td>1.730388</td>\n",
              "      <td>dos</td>\n",
              "    </tr>\n",
              "    <tr>\n",
              "      <th>3</th>\n",
              "      <td>-1.010287</td>\n",
              "      <td>normal</td>\n",
              "    </tr>\n",
              "    <tr>\n",
              "      <th>4</th>\n",
              "      <td>-0.999356</td>\n",
              "      <td>normal</td>\n",
              "    </tr>\n",
              "    <tr>\n",
              "      <th>...</th>\n",
              "      <td>...</td>\n",
              "      <td>...</td>\n",
              "    </tr>\n",
              "    <tr>\n",
              "      <th>148510</th>\n",
              "      <td>-0.745114</td>\n",
              "      <td>dos</td>\n",
              "    </tr>\n",
              "    <tr>\n",
              "      <th>148511</th>\n",
              "      <td>-0.828475</td>\n",
              "      <td>normal</td>\n",
              "    </tr>\n",
              "    <tr>\n",
              "      <th>148512</th>\n",
              "      <td>-1.049307</td>\n",
              "      <td>normal</td>\n",
              "    </tr>\n",
              "    <tr>\n",
              "      <th>148513</th>\n",
              "      <td>-1.005687</td>\n",
              "      <td>dos</td>\n",
              "    </tr>\n",
              "    <tr>\n",
              "      <th>148514</th>\n",
              "      <td>-0.721211</td>\n",
              "      <td>normal</td>\n",
              "    </tr>\n",
              "  </tbody>\n",
              "</table>\n",
              "<p>130440 rows × 2 columns</p>\n",
              "</div>"
            ],
            "text/plain": [
              "        column 0 type_attack\n",
              "0      -0.210454      normal\n",
              "1       0.295173      normal\n",
              "2       1.730388         dos\n",
              "3      -1.010287      normal\n",
              "4      -0.999356      normal\n",
              "...          ...         ...\n",
              "148510 -0.745114         dos\n",
              "148511 -0.828475      normal\n",
              "148512 -1.049307      normal\n",
              "148513 -1.005687         dos\n",
              "148514 -0.721211      normal\n",
              "\n",
              "[130440 rows x 2 columns]"
            ]
          },
          "metadata": {
            "tags": []
          },
          "execution_count": 54
        }
      ]
    },
    {
      "cell_type": "code",
      "metadata": {
        "id": "cY__7IQ1FIHP",
        "colab_type": "code",
        "colab": {}
      },
      "source": [
        "X = data_normaldos.loc[:, :'column 0']\n",
        "y = data_normaldos.loc[:, 'type_attack']\n",
        "\n",
        "y = y.astype(str)\n",
        "\n",
        "temp = set(y)\n",
        "\n",
        "X_train, X_test, y_train, y_test = train_test_split(X, y, test_size=0.3, train_size =0.7, random_state=5)\n",
        "\n",
        "clf = MLPClassifier(random_state = 5)"
      ],
      "execution_count": 0,
      "outputs": []
    },
    {
      "cell_type": "code",
      "metadata": {
        "id": "vlStvavkFeeV",
        "colab_type": "code",
        "colab": {}
      },
      "source": [
        "start = time.time()\n",
        "\n",
        "clf.fit(X_train, y_train)\n",
        "\n",
        "stop = time.time()"
      ],
      "execution_count": 0,
      "outputs": []
    },
    {
      "cell_type": "code",
      "metadata": {
        "id": "b4RBjWgaFh-E",
        "colab_type": "code",
        "outputId": "b94569ba-4ccb-4a8b-b6b9-d7733c314ef7",
        "colab": {
          "base_uri": "https://localhost:8080/",
          "height": 34
        }
      },
      "source": [
        "print(f\"training time : {stop - start}s\")"
      ],
      "execution_count": 0,
      "outputs": [
        {
          "output_type": "stream",
          "text": [
            "training time : 38.95454382896423s\n"
          ],
          "name": "stdout"
        }
      ]
    },
    {
      "cell_type": "code",
      "metadata": {
        "id": "KvdG-bMQFjg9",
        "colab_type": "code",
        "outputId": "6992d56a-2d59-45fb-b3c8-bb5b2091302d",
        "colab": {
          "base_uri": "https://localhost:8080/",
          "height": 34
        }
      },
      "source": [
        "pred = clf.predict(X_test)\n",
        "\n",
        "accuracy_score(y_test,pred)"
      ],
      "execution_count": 0,
      "outputs": [
        {
          "output_type": "execute_result",
          "data": {
            "text/plain": [
              "0.9432689359092303"
            ]
          },
          "metadata": {
            "tags": []
          },
          "execution_count": 58
        }
      ]
    },
    {
      "cell_type": "markdown",
      "metadata": {
        "id": "tG7Z62NMGpNF",
        "colab_type": "text"
      },
      "source": [
        "# 2"
      ]
    },
    {
      "cell_type": "code",
      "metadata": {
        "id": "XsHB2IRiGqjR",
        "colab_type": "code",
        "outputId": "266be8e5-befb-4718-e993-b2aa47038221",
        "colab": {
          "base_uri": "https://localhost:8080/",
          "height": 204
        }
      },
      "source": [
        "pca = PCA(n_components=2)\n",
        "dataset = pca.fit_transform(data_rescaled)\n",
        "\n",
        "df=pd.DataFrame(data=dataset[0:,0:], index=[i for i in range(dataset.shape[0])], columns=['column '+str(i) for i in range(dataset.shape[1])])\n",
        "df.head()"
      ],
      "execution_count": 0,
      "outputs": [
        {
          "output_type": "execute_result",
          "data": {
            "text/html": [
              "<div>\n",
              "<style scoped>\n",
              "    .dataframe tbody tr th:only-of-type {\n",
              "        vertical-align: middle;\n",
              "    }\n",
              "\n",
              "    .dataframe tbody tr th {\n",
              "        vertical-align: top;\n",
              "    }\n",
              "\n",
              "    .dataframe thead th {\n",
              "        text-align: right;\n",
              "    }\n",
              "</style>\n",
              "<table border=\"1\" class=\"dataframe\">\n",
              "  <thead>\n",
              "    <tr style=\"text-align: right;\">\n",
              "      <th></th>\n",
              "      <th>column 0</th>\n",
              "      <th>column 1</th>\n",
              "    </tr>\n",
              "  </thead>\n",
              "  <tbody>\n",
              "    <tr>\n",
              "      <th>0</th>\n",
              "      <td>-0.210454</td>\n",
              "      <td>0.109517</td>\n",
              "    </tr>\n",
              "    <tr>\n",
              "      <th>1</th>\n",
              "      <td>0.295173</td>\n",
              "      <td>0.354357</td>\n",
              "    </tr>\n",
              "    <tr>\n",
              "      <th>2</th>\n",
              "      <td>1.730388</td>\n",
              "      <td>-0.587896</td>\n",
              "    </tr>\n",
              "    <tr>\n",
              "      <th>3</th>\n",
              "      <td>-1.010287</td>\n",
              "      <td>-0.469081</td>\n",
              "    </tr>\n",
              "    <tr>\n",
              "      <th>4</th>\n",
              "      <td>-0.999356</td>\n",
              "      <td>-0.337932</td>\n",
              "    </tr>\n",
              "  </tbody>\n",
              "</table>\n",
              "</div>"
            ],
            "text/plain": [
              "   column 0  column 1\n",
              "0 -0.210454  0.109517\n",
              "1  0.295173  0.354357\n",
              "2  1.730388 -0.587896\n",
              "3 -1.010287 -0.469081\n",
              "4 -0.999356 -0.337932"
            ]
          },
          "metadata": {
            "tags": []
          },
          "execution_count": 59
        }
      ]
    },
    {
      "cell_type": "code",
      "metadata": {
        "id": "pN-Cd0SXGuB0",
        "colab_type": "code",
        "colab": {}
      },
      "source": [
        "data_all2 = pd.concat([df, data_attack], axis=1)"
      ],
      "execution_count": 0,
      "outputs": []
    },
    {
      "cell_type": "code",
      "metadata": {
        "id": "1a1p3BtaGye4",
        "colab_type": "code",
        "outputId": "7049faa3-3a1e-478b-fba3-57b02adf9c3e",
        "colab": {
          "base_uri": "https://localhost:8080/",
          "height": 419
        }
      },
      "source": [
        "data_normaldos = data_all2.loc[data_all2['type_attack'].isin(['normal','dos'])]\n",
        "data_normaldos"
      ],
      "execution_count": 0,
      "outputs": [
        {
          "output_type": "execute_result",
          "data": {
            "text/html": [
              "<div>\n",
              "<style scoped>\n",
              "    .dataframe tbody tr th:only-of-type {\n",
              "        vertical-align: middle;\n",
              "    }\n",
              "\n",
              "    .dataframe tbody tr th {\n",
              "        vertical-align: top;\n",
              "    }\n",
              "\n",
              "    .dataframe thead th {\n",
              "        text-align: right;\n",
              "    }\n",
              "</style>\n",
              "<table border=\"1\" class=\"dataframe\">\n",
              "  <thead>\n",
              "    <tr style=\"text-align: right;\">\n",
              "      <th></th>\n",
              "      <th>column 0</th>\n",
              "      <th>column 1</th>\n",
              "      <th>type_attack</th>\n",
              "    </tr>\n",
              "  </thead>\n",
              "  <tbody>\n",
              "    <tr>\n",
              "      <th>0</th>\n",
              "      <td>-0.210454</td>\n",
              "      <td>0.109517</td>\n",
              "      <td>normal</td>\n",
              "    </tr>\n",
              "    <tr>\n",
              "      <th>1</th>\n",
              "      <td>0.295173</td>\n",
              "      <td>0.354357</td>\n",
              "      <td>normal</td>\n",
              "    </tr>\n",
              "    <tr>\n",
              "      <th>2</th>\n",
              "      <td>1.730388</td>\n",
              "      <td>-0.587896</td>\n",
              "      <td>dos</td>\n",
              "    </tr>\n",
              "    <tr>\n",
              "      <th>3</th>\n",
              "      <td>-1.010287</td>\n",
              "      <td>-0.469081</td>\n",
              "      <td>normal</td>\n",
              "    </tr>\n",
              "    <tr>\n",
              "      <th>4</th>\n",
              "      <td>-0.999356</td>\n",
              "      <td>-0.337932</td>\n",
              "      <td>normal</td>\n",
              "    </tr>\n",
              "    <tr>\n",
              "      <th>...</th>\n",
              "      <td>...</td>\n",
              "      <td>...</td>\n",
              "      <td>...</td>\n",
              "    </tr>\n",
              "    <tr>\n",
              "      <th>148510</th>\n",
              "      <td>-0.745114</td>\n",
              "      <td>-0.121176</td>\n",
              "      <td>dos</td>\n",
              "    </tr>\n",
              "    <tr>\n",
              "      <th>148511</th>\n",
              "      <td>-0.828475</td>\n",
              "      <td>-0.226192</td>\n",
              "      <td>normal</td>\n",
              "    </tr>\n",
              "    <tr>\n",
              "      <th>148512</th>\n",
              "      <td>-1.049307</td>\n",
              "      <td>-0.351544</td>\n",
              "      <td>normal</td>\n",
              "    </tr>\n",
              "    <tr>\n",
              "      <th>148513</th>\n",
              "      <td>-1.005687</td>\n",
              "      <td>-0.286393</td>\n",
              "      <td>dos</td>\n",
              "    </tr>\n",
              "    <tr>\n",
              "      <th>148514</th>\n",
              "      <td>-0.721211</td>\n",
              "      <td>-0.169021</td>\n",
              "      <td>normal</td>\n",
              "    </tr>\n",
              "  </tbody>\n",
              "</table>\n",
              "<p>130440 rows × 3 columns</p>\n",
              "</div>"
            ],
            "text/plain": [
              "        column 0  column 1 type_attack\n",
              "0      -0.210454  0.109517      normal\n",
              "1       0.295173  0.354357      normal\n",
              "2       1.730388 -0.587896         dos\n",
              "3      -1.010287 -0.469081      normal\n",
              "4      -0.999356 -0.337932      normal\n",
              "...          ...       ...         ...\n",
              "148510 -0.745114 -0.121176         dos\n",
              "148511 -0.828475 -0.226192      normal\n",
              "148512 -1.049307 -0.351544      normal\n",
              "148513 -1.005687 -0.286393         dos\n",
              "148514 -0.721211 -0.169021      normal\n",
              "\n",
              "[130440 rows x 3 columns]"
            ]
          },
          "metadata": {
            "tags": []
          },
          "execution_count": 61
        }
      ]
    },
    {
      "cell_type": "code",
      "metadata": {
        "id": "yGWninJrG862",
        "colab_type": "code",
        "colab": {}
      },
      "source": [
        "X = data_normaldos.loc[:, :'column 1']\n",
        "y = data_normaldos.loc[:, 'type_attack']\n",
        "\n",
        "y = y.astype(str)\n",
        "\n",
        "temp = set(y)\n",
        "\n",
        "X_train, X_test, y_train, y_test = train_test_split(X, y, test_size=0.3, train_size =0.7, random_state=5)\n",
        "\n",
        "clf = MLPClassifier(random_state = 5)"
      ],
      "execution_count": 0,
      "outputs": []
    },
    {
      "cell_type": "code",
      "metadata": {
        "id": "cEgzm_8ZHXYy",
        "colab_type": "code",
        "outputId": "82fcc5dc-81c7-43d1-c1a6-2bf92068b578",
        "colab": {
          "base_uri": "https://localhost:8080/",
          "height": 51
        }
      },
      "source": [
        "start = time.time()\n",
        "\n",
        "clf.fit(X_train, y_train)\n",
        "\n",
        "stop = time.time()"
      ],
      "execution_count": 0,
      "outputs": [
        {
          "output_type": "stream",
          "text": [
            "/usr/local/lib/python3.6/dist-packages/sklearn/neural_network/multilayer_perceptron.py:566: ConvergenceWarning: Stochastic Optimizer: Maximum iterations (200) reached and the optimization hasn't converged yet.\n",
            "  % self.max_iter, ConvergenceWarning)\n"
          ],
          "name": "stderr"
        }
      ]
    },
    {
      "cell_type": "code",
      "metadata": {
        "id": "P4W2z-bKHZaE",
        "colab_type": "code",
        "outputId": "7b1176eb-645d-4d14-b1a7-28189527d865",
        "colab": {
          "base_uri": "https://localhost:8080/",
          "height": 34
        }
      },
      "source": [
        "print(f\"training time : {stop - start}s\")"
      ],
      "execution_count": 0,
      "outputs": [
        {
          "output_type": "stream",
          "text": [
            "training time : 100.91574788093567s\n"
          ],
          "name": "stdout"
        }
      ]
    },
    {
      "cell_type": "code",
      "metadata": {
        "id": "-v7D6Kj-HbfT",
        "colab_type": "code",
        "outputId": "e0a64b14-a102-4ea4-d9ff-2af5c0c34738",
        "colab": {
          "base_uri": "https://localhost:8080/",
          "height": 34
        }
      },
      "source": [
        "pred = clf.predict(X_test)\n",
        "\n",
        "accuracy_score(y_test,pred)"
      ],
      "execution_count": 0,
      "outputs": [
        {
          "output_type": "execute_result",
          "data": {
            "text/plain": [
              "0.9541040580598998"
            ]
          },
          "metadata": {
            "tags": []
          },
          "execution_count": 65
        }
      ]
    },
    {
      "cell_type": "markdown",
      "metadata": {
        "id": "Ew7NBGNoHeUo",
        "colab_type": "text"
      },
      "source": [
        "# 3"
      ]
    },
    {
      "cell_type": "code",
      "metadata": {
        "id": "0WuiinJWHnsL",
        "colab_type": "code",
        "outputId": "f8d2d843-60b8-43a5-d1ed-05d43c6a48d8",
        "colab": {
          "base_uri": "https://localhost:8080/",
          "height": 204
        }
      },
      "source": [
        "pca = PCA(n_components=3)\n",
        "dataset = pca.fit_transform(data_rescaled)\n",
        "\n",
        "df=pd.DataFrame(data=dataset[0:,0:], index=[i for i in range(dataset.shape[0])], columns=['column '+str(i) for i in range(dataset.shape[1])])\n",
        "df.head()"
      ],
      "execution_count": 0,
      "outputs": [
        {
          "output_type": "execute_result",
          "data": {
            "text/html": [
              "<div>\n",
              "<style scoped>\n",
              "    .dataframe tbody tr th:only-of-type {\n",
              "        vertical-align: middle;\n",
              "    }\n",
              "\n",
              "    .dataframe tbody tr th {\n",
              "        vertical-align: top;\n",
              "    }\n",
              "\n",
              "    .dataframe thead th {\n",
              "        text-align: right;\n",
              "    }\n",
              "</style>\n",
              "<table border=\"1\" class=\"dataframe\">\n",
              "  <thead>\n",
              "    <tr style=\"text-align: right;\">\n",
              "      <th></th>\n",
              "      <th>column 0</th>\n",
              "      <th>column 1</th>\n",
              "      <th>column 2</th>\n",
              "    </tr>\n",
              "  </thead>\n",
              "  <tbody>\n",
              "    <tr>\n",
              "      <th>0</th>\n",
              "      <td>-0.210454</td>\n",
              "      <td>0.109517</td>\n",
              "      <td>0.558613</td>\n",
              "    </tr>\n",
              "    <tr>\n",
              "      <th>1</th>\n",
              "      <td>0.295173</td>\n",
              "      <td>0.354357</td>\n",
              "      <td>0.747835</td>\n",
              "    </tr>\n",
              "    <tr>\n",
              "      <th>2</th>\n",
              "      <td>1.730388</td>\n",
              "      <td>-0.587896</td>\n",
              "      <td>-0.089366</td>\n",
              "    </tr>\n",
              "    <tr>\n",
              "      <th>3</th>\n",
              "      <td>-1.010287</td>\n",
              "      <td>-0.469081</td>\n",
              "      <td>-0.215443</td>\n",
              "    </tr>\n",
              "    <tr>\n",
              "      <th>4</th>\n",
              "      <td>-0.999356</td>\n",
              "      <td>-0.337932</td>\n",
              "      <td>-0.496051</td>\n",
              "    </tr>\n",
              "  </tbody>\n",
              "</table>\n",
              "</div>"
            ],
            "text/plain": [
              "   column 0  column 1  column 2\n",
              "0 -0.210454  0.109517  0.558613\n",
              "1  0.295173  0.354357  0.747835\n",
              "2  1.730388 -0.587896 -0.089366\n",
              "3 -1.010287 -0.469081 -0.215443\n",
              "4 -0.999356 -0.337932 -0.496051"
            ]
          },
          "metadata": {
            "tags": []
          },
          "execution_count": 66
        }
      ]
    },
    {
      "cell_type": "code",
      "metadata": {
        "id": "V17J5B1vHu0_",
        "colab_type": "code",
        "colab": {}
      },
      "source": [
        "data_all2 = pd.concat([df, data_attack], axis=1)"
      ],
      "execution_count": 0,
      "outputs": []
    },
    {
      "cell_type": "code",
      "metadata": {
        "id": "4ZpQhiv_HxXB",
        "colab_type": "code",
        "outputId": "79daaec6-1e1b-4ddd-e8b7-02199f965898",
        "colab": {
          "base_uri": "https://localhost:8080/",
          "height": 419
        }
      },
      "source": [
        "data_normaldos = data_all2.loc[data_all2['type_attack'].isin(['normal','dos'])]\n",
        "data_normaldos"
      ],
      "execution_count": 0,
      "outputs": [
        {
          "output_type": "execute_result",
          "data": {
            "text/html": [
              "<div>\n",
              "<style scoped>\n",
              "    .dataframe tbody tr th:only-of-type {\n",
              "        vertical-align: middle;\n",
              "    }\n",
              "\n",
              "    .dataframe tbody tr th {\n",
              "        vertical-align: top;\n",
              "    }\n",
              "\n",
              "    .dataframe thead th {\n",
              "        text-align: right;\n",
              "    }\n",
              "</style>\n",
              "<table border=\"1\" class=\"dataframe\">\n",
              "  <thead>\n",
              "    <tr style=\"text-align: right;\">\n",
              "      <th></th>\n",
              "      <th>column 0</th>\n",
              "      <th>column 1</th>\n",
              "      <th>column 2</th>\n",
              "      <th>type_attack</th>\n",
              "    </tr>\n",
              "  </thead>\n",
              "  <tbody>\n",
              "    <tr>\n",
              "      <th>0</th>\n",
              "      <td>-0.210454</td>\n",
              "      <td>0.109517</td>\n",
              "      <td>0.558613</td>\n",
              "      <td>normal</td>\n",
              "    </tr>\n",
              "    <tr>\n",
              "      <th>1</th>\n",
              "      <td>0.295173</td>\n",
              "      <td>0.354357</td>\n",
              "      <td>0.747835</td>\n",
              "      <td>normal</td>\n",
              "    </tr>\n",
              "    <tr>\n",
              "      <th>2</th>\n",
              "      <td>1.730388</td>\n",
              "      <td>-0.587896</td>\n",
              "      <td>-0.089366</td>\n",
              "      <td>dos</td>\n",
              "    </tr>\n",
              "    <tr>\n",
              "      <th>3</th>\n",
              "      <td>-1.010287</td>\n",
              "      <td>-0.469081</td>\n",
              "      <td>-0.215443</td>\n",
              "      <td>normal</td>\n",
              "    </tr>\n",
              "    <tr>\n",
              "      <th>4</th>\n",
              "      <td>-0.999356</td>\n",
              "      <td>-0.337932</td>\n",
              "      <td>-0.496051</td>\n",
              "      <td>normal</td>\n",
              "    </tr>\n",
              "    <tr>\n",
              "      <th>...</th>\n",
              "      <td>...</td>\n",
              "      <td>...</td>\n",
              "      <td>...</td>\n",
              "      <td>...</td>\n",
              "    </tr>\n",
              "    <tr>\n",
              "      <th>148510</th>\n",
              "      <td>-0.745114</td>\n",
              "      <td>-0.121176</td>\n",
              "      <td>0.638118</td>\n",
              "      <td>dos</td>\n",
              "    </tr>\n",
              "    <tr>\n",
              "      <th>148511</th>\n",
              "      <td>-0.828475</td>\n",
              "      <td>-0.226192</td>\n",
              "      <td>-0.170238</td>\n",
              "      <td>normal</td>\n",
              "    </tr>\n",
              "    <tr>\n",
              "      <th>148512</th>\n",
              "      <td>-1.049307</td>\n",
              "      <td>-0.351544</td>\n",
              "      <td>-0.396084</td>\n",
              "      <td>normal</td>\n",
              "    </tr>\n",
              "    <tr>\n",
              "      <th>148513</th>\n",
              "      <td>-1.005687</td>\n",
              "      <td>-0.286393</td>\n",
              "      <td>-0.491145</td>\n",
              "      <td>dos</td>\n",
              "    </tr>\n",
              "    <tr>\n",
              "      <th>148514</th>\n",
              "      <td>-0.721211</td>\n",
              "      <td>-0.169021</td>\n",
              "      <td>0.034085</td>\n",
              "      <td>normal</td>\n",
              "    </tr>\n",
              "  </tbody>\n",
              "</table>\n",
              "<p>130440 rows × 4 columns</p>\n",
              "</div>"
            ],
            "text/plain": [
              "        column 0  column 1  column 2 type_attack\n",
              "0      -0.210454  0.109517  0.558613      normal\n",
              "1       0.295173  0.354357  0.747835      normal\n",
              "2       1.730388 -0.587896 -0.089366         dos\n",
              "3      -1.010287 -0.469081 -0.215443      normal\n",
              "4      -0.999356 -0.337932 -0.496051      normal\n",
              "...          ...       ...       ...         ...\n",
              "148510 -0.745114 -0.121176  0.638118         dos\n",
              "148511 -0.828475 -0.226192 -0.170238      normal\n",
              "148512 -1.049307 -0.351544 -0.396084      normal\n",
              "148513 -1.005687 -0.286393 -0.491145         dos\n",
              "148514 -0.721211 -0.169021  0.034085      normal\n",
              "\n",
              "[130440 rows x 4 columns]"
            ]
          },
          "metadata": {
            "tags": []
          },
          "execution_count": 68
        }
      ]
    },
    {
      "cell_type": "code",
      "metadata": {
        "id": "y4f7uHTzHzdL",
        "colab_type": "code",
        "colab": {}
      },
      "source": [
        "X = data_normaldos.loc[:, :'column 2']\n",
        "y = data_normaldos.loc[:, 'type_attack']\n",
        "\n",
        "y = y.astype(str)\n",
        "\n",
        "temp = set(y)\n",
        "\n",
        "X_train, X_test, y_train, y_test = train_test_split(X, y, test_size=0.3, train_size =0.7, random_state=5)\n",
        "\n",
        "clf = MLPClassifier(random_state = 5)"
      ],
      "execution_count": 0,
      "outputs": []
    },
    {
      "cell_type": "code",
      "metadata": {
        "id": "PpkqniiMH_Qn",
        "colab_type": "code",
        "outputId": "ca0d1373-7f5b-44b0-853f-2cd390da56d7",
        "colab": {
          "base_uri": "https://localhost:8080/",
          "height": 51
        }
      },
      "source": [
        "start = time.time()\n",
        "\n",
        "clf.fit(X_train, y_train)\n",
        "\n",
        "stop = time.time()"
      ],
      "execution_count": 0,
      "outputs": [
        {
          "output_type": "stream",
          "text": [
            "/usr/local/lib/python3.6/dist-packages/sklearn/neural_network/multilayer_perceptron.py:566: ConvergenceWarning: Stochastic Optimizer: Maximum iterations (200) reached and the optimization hasn't converged yet.\n",
            "  % self.max_iter, ConvergenceWarning)\n"
          ],
          "name": "stderr"
        }
      ]
    },
    {
      "cell_type": "code",
      "metadata": {
        "id": "RLY8tOmEIuTT",
        "colab_type": "code",
        "outputId": "cacbd8df-0a9f-4b04-b29d-29f241b42e00",
        "colab": {
          "base_uri": "https://localhost:8080/",
          "height": 34
        }
      },
      "source": [
        "print(f\"training time : {stop - start}s\")"
      ],
      "execution_count": 0,
      "outputs": [
        {
          "output_type": "stream",
          "text": [
            "training time : 86.58608603477478s\n"
          ],
          "name": "stdout"
        }
      ]
    },
    {
      "cell_type": "code",
      "metadata": {
        "id": "9rCLbBFQIA9q",
        "colab_type": "code",
        "outputId": "6e20218c-48e0-4c39-9d90-f6a7d1e7b367",
        "colab": {
          "base_uri": "https://localhost:8080/",
          "height": 34
        }
      },
      "source": [
        "pred = clf.predict(X_test)\n",
        "accuracy_score(y_test,pred)"
      ],
      "execution_count": 0,
      "outputs": [
        {
          "output_type": "execute_result",
          "data": {
            "text/plain": [
              "0.9706633956863948"
            ]
          },
          "metadata": {
            "tags": []
          },
          "execution_count": 72
        }
      ]
    },
    {
      "cell_type": "markdown",
      "metadata": {
        "id": "-tsEyVcUIOHG",
        "colab_type": "text"
      },
      "source": [
        "# 4"
      ]
    },
    {
      "cell_type": "code",
      "metadata": {
        "id": "r_7xi0KlIO8h",
        "colab_type": "code",
        "outputId": "464ec5f5-7b8f-4a70-edd7-63794f9032b2",
        "colab": {
          "base_uri": "https://localhost:8080/",
          "height": 204
        }
      },
      "source": [
        "pca = PCA(n_components=4)\n",
        "dataset = pca.fit_transform(data_rescaled)\n",
        "\n",
        "df=pd.DataFrame(data=dataset[0:,0:], index=[i for i in range(dataset.shape[0])], columns=['column '+str(i) for i in range(dataset.shape[1])])\n",
        "df.head()"
      ],
      "execution_count": 0,
      "outputs": [
        {
          "output_type": "execute_result",
          "data": {
            "text/html": [
              "<div>\n",
              "<style scoped>\n",
              "    .dataframe tbody tr th:only-of-type {\n",
              "        vertical-align: middle;\n",
              "    }\n",
              "\n",
              "    .dataframe tbody tr th {\n",
              "        vertical-align: top;\n",
              "    }\n",
              "\n",
              "    .dataframe thead th {\n",
              "        text-align: right;\n",
              "    }\n",
              "</style>\n",
              "<table border=\"1\" class=\"dataframe\">\n",
              "  <thead>\n",
              "    <tr style=\"text-align: right;\">\n",
              "      <th></th>\n",
              "      <th>column 0</th>\n",
              "      <th>column 1</th>\n",
              "      <th>column 2</th>\n",
              "      <th>column 3</th>\n",
              "    </tr>\n",
              "  </thead>\n",
              "  <tbody>\n",
              "    <tr>\n",
              "      <th>0</th>\n",
              "      <td>-0.210454</td>\n",
              "      <td>0.109517</td>\n",
              "      <td>0.558613</td>\n",
              "      <td>-0.210847</td>\n",
              "    </tr>\n",
              "    <tr>\n",
              "      <th>1</th>\n",
              "      <td>0.295173</td>\n",
              "      <td>0.354357</td>\n",
              "      <td>0.747835</td>\n",
              "      <td>-0.551986</td>\n",
              "    </tr>\n",
              "    <tr>\n",
              "      <th>2</th>\n",
              "      <td>1.730388</td>\n",
              "      <td>-0.587896</td>\n",
              "      <td>-0.089366</td>\n",
              "      <td>0.074590</td>\n",
              "    </tr>\n",
              "    <tr>\n",
              "      <th>3</th>\n",
              "      <td>-1.010287</td>\n",
              "      <td>-0.469081</td>\n",
              "      <td>-0.215443</td>\n",
              "      <td>0.414567</td>\n",
              "    </tr>\n",
              "    <tr>\n",
              "      <th>4</th>\n",
              "      <td>-0.999356</td>\n",
              "      <td>-0.337932</td>\n",
              "      <td>-0.496051</td>\n",
              "      <td>-0.226706</td>\n",
              "    </tr>\n",
              "  </tbody>\n",
              "</table>\n",
              "</div>"
            ],
            "text/plain": [
              "   column 0  column 1  column 2  column 3\n",
              "0 -0.210454  0.109517  0.558613 -0.210847\n",
              "1  0.295173  0.354357  0.747835 -0.551986\n",
              "2  1.730388 -0.587896 -0.089366  0.074590\n",
              "3 -1.010287 -0.469081 -0.215443  0.414567\n",
              "4 -0.999356 -0.337932 -0.496051 -0.226706"
            ]
          },
          "metadata": {
            "tags": []
          },
          "execution_count": 73
        }
      ]
    },
    {
      "cell_type": "code",
      "metadata": {
        "id": "gCQD9zJ8ISYn",
        "colab_type": "code",
        "outputId": "00a51975-5d4b-4b02-eae7-bfcd04a70b11",
        "colab": {
          "base_uri": "https://localhost:8080/",
          "height": 419
        }
      },
      "source": [
        "data_all2 = pd.concat([df, data_attack], axis=1)\n",
        "data_normaldos = data_all2.loc[data_all2['type_attack'].isin(['normal','dos'])]\n",
        "data_normaldos"
      ],
      "execution_count": 0,
      "outputs": [
        {
          "output_type": "execute_result",
          "data": {
            "text/html": [
              "<div>\n",
              "<style scoped>\n",
              "    .dataframe tbody tr th:only-of-type {\n",
              "        vertical-align: middle;\n",
              "    }\n",
              "\n",
              "    .dataframe tbody tr th {\n",
              "        vertical-align: top;\n",
              "    }\n",
              "\n",
              "    .dataframe thead th {\n",
              "        text-align: right;\n",
              "    }\n",
              "</style>\n",
              "<table border=\"1\" class=\"dataframe\">\n",
              "  <thead>\n",
              "    <tr style=\"text-align: right;\">\n",
              "      <th></th>\n",
              "      <th>column 0</th>\n",
              "      <th>column 1</th>\n",
              "      <th>column 2</th>\n",
              "      <th>column 3</th>\n",
              "      <th>type_attack</th>\n",
              "    </tr>\n",
              "  </thead>\n",
              "  <tbody>\n",
              "    <tr>\n",
              "      <th>0</th>\n",
              "      <td>-0.210454</td>\n",
              "      <td>0.109517</td>\n",
              "      <td>0.558613</td>\n",
              "      <td>-0.210847</td>\n",
              "      <td>normal</td>\n",
              "    </tr>\n",
              "    <tr>\n",
              "      <th>1</th>\n",
              "      <td>0.295173</td>\n",
              "      <td>0.354357</td>\n",
              "      <td>0.747835</td>\n",
              "      <td>-0.551986</td>\n",
              "      <td>normal</td>\n",
              "    </tr>\n",
              "    <tr>\n",
              "      <th>2</th>\n",
              "      <td>1.730388</td>\n",
              "      <td>-0.587896</td>\n",
              "      <td>-0.089366</td>\n",
              "      <td>0.074590</td>\n",
              "      <td>dos</td>\n",
              "    </tr>\n",
              "    <tr>\n",
              "      <th>3</th>\n",
              "      <td>-1.010287</td>\n",
              "      <td>-0.469081</td>\n",
              "      <td>-0.215443</td>\n",
              "      <td>0.414567</td>\n",
              "      <td>normal</td>\n",
              "    </tr>\n",
              "    <tr>\n",
              "      <th>4</th>\n",
              "      <td>-0.999356</td>\n",
              "      <td>-0.337932</td>\n",
              "      <td>-0.496051</td>\n",
              "      <td>-0.226706</td>\n",
              "      <td>normal</td>\n",
              "    </tr>\n",
              "    <tr>\n",
              "      <th>...</th>\n",
              "      <td>...</td>\n",
              "      <td>...</td>\n",
              "      <td>...</td>\n",
              "      <td>...</td>\n",
              "      <td>...</td>\n",
              "    </tr>\n",
              "    <tr>\n",
              "      <th>148510</th>\n",
              "      <td>-0.745114</td>\n",
              "      <td>-0.121176</td>\n",
              "      <td>0.638118</td>\n",
              "      <td>-0.628706</td>\n",
              "      <td>dos</td>\n",
              "    </tr>\n",
              "    <tr>\n",
              "      <th>148511</th>\n",
              "      <td>-0.828475</td>\n",
              "      <td>-0.226192</td>\n",
              "      <td>-0.170238</td>\n",
              "      <td>0.320094</td>\n",
              "      <td>normal</td>\n",
              "    </tr>\n",
              "    <tr>\n",
              "      <th>148512</th>\n",
              "      <td>-1.049307</td>\n",
              "      <td>-0.351544</td>\n",
              "      <td>-0.396084</td>\n",
              "      <td>-0.037051</td>\n",
              "      <td>normal</td>\n",
              "    </tr>\n",
              "    <tr>\n",
              "      <th>148513</th>\n",
              "      <td>-1.005687</td>\n",
              "      <td>-0.286393</td>\n",
              "      <td>-0.491145</td>\n",
              "      <td>-0.172798</td>\n",
              "      <td>dos</td>\n",
              "    </tr>\n",
              "    <tr>\n",
              "      <th>148514</th>\n",
              "      <td>-0.721211</td>\n",
              "      <td>-0.169021</td>\n",
              "      <td>0.034085</td>\n",
              "      <td>-0.753098</td>\n",
              "      <td>normal</td>\n",
              "    </tr>\n",
              "  </tbody>\n",
              "</table>\n",
              "<p>130440 rows × 5 columns</p>\n",
              "</div>"
            ],
            "text/plain": [
              "        column 0  column 1  column 2  column 3 type_attack\n",
              "0      -0.210454  0.109517  0.558613 -0.210847      normal\n",
              "1       0.295173  0.354357  0.747835 -0.551986      normal\n",
              "2       1.730388 -0.587896 -0.089366  0.074590         dos\n",
              "3      -1.010287 -0.469081 -0.215443  0.414567      normal\n",
              "4      -0.999356 -0.337932 -0.496051 -0.226706      normal\n",
              "...          ...       ...       ...       ...         ...\n",
              "148510 -0.745114 -0.121176  0.638118 -0.628706         dos\n",
              "148511 -0.828475 -0.226192 -0.170238  0.320094      normal\n",
              "148512 -1.049307 -0.351544 -0.396084 -0.037051      normal\n",
              "148513 -1.005687 -0.286393 -0.491145 -0.172798         dos\n",
              "148514 -0.721211 -0.169021  0.034085 -0.753098      normal\n",
              "\n",
              "[130440 rows x 5 columns]"
            ]
          },
          "metadata": {
            "tags": []
          },
          "execution_count": 74
        }
      ]
    },
    {
      "cell_type": "code",
      "metadata": {
        "id": "HnTc1U1MImGy",
        "colab_type": "code",
        "colab": {}
      },
      "source": [
        "X = data_normaldos.loc[:, :'column 3']\n",
        "y = data_normaldos.loc[:, 'type_attack']\n",
        "\n",
        "y = y.astype(str)\n",
        "\n",
        "temp = set(y)\n",
        "\n",
        "X_train, X_test, y_train, y_test = train_test_split(X, y, test_size=0.3, train_size =0.7, random_state=5)\n",
        "\n",
        "clf = MLPClassifier(random_state = 5)"
      ],
      "execution_count": 0,
      "outputs": []
    },
    {
      "cell_type": "code",
      "metadata": {
        "id": "2L3JjBHhIqjT",
        "colab_type": "code",
        "outputId": "ee032165-55c7-45a3-fbf7-8c429637ae39",
        "colab": {
          "base_uri": "https://localhost:8080/",
          "height": 51
        }
      },
      "source": [
        "start = time.time()\n",
        "\n",
        "clf.fit(X_train, y_train)\n",
        "\n",
        "stop = time.time()"
      ],
      "execution_count": 0,
      "outputs": [
        {
          "output_type": "stream",
          "text": [
            "/usr/local/lib/python3.6/dist-packages/sklearn/neural_network/multilayer_perceptron.py:566: ConvergenceWarning: Stochastic Optimizer: Maximum iterations (200) reached and the optimization hasn't converged yet.\n",
            "  % self.max_iter, ConvergenceWarning)\n"
          ],
          "name": "stderr"
        }
      ]
    },
    {
      "cell_type": "code",
      "metadata": {
        "id": "jNhI9ZdFIwnd",
        "colab_type": "code",
        "outputId": "00fd54b8-9145-4331-a519-1a707e121846",
        "colab": {
          "base_uri": "https://localhost:8080/",
          "height": 34
        }
      },
      "source": [
        "print(f\"training time : {stop - start}s\")"
      ],
      "execution_count": 0,
      "outputs": [
        {
          "output_type": "stream",
          "text": [
            "training time : 105.61799383163452s\n"
          ],
          "name": "stdout"
        }
      ]
    },
    {
      "cell_type": "code",
      "metadata": {
        "id": "XVk8ejzOIyDc",
        "colab_type": "code",
        "outputId": "466f3aaa-829d-47be-930a-42f08f235eb6",
        "colab": {
          "base_uri": "https://localhost:8080/",
          "height": 34
        }
      },
      "source": [
        "pred = clf.predict(X_test)\n",
        "accuracy_score(y_test,pred)"
      ],
      "execution_count": 0,
      "outputs": [
        {
          "output_type": "execute_result",
          "data": {
            "text/plain": [
              "0.9851017070428294"
            ]
          },
          "metadata": {
            "tags": []
          },
          "execution_count": 78
        }
      ]
    },
    {
      "cell_type": "markdown",
      "metadata": {
        "id": "yUV5MJvhIz2y",
        "colab_type": "text"
      },
      "source": [
        "# 5 fitur"
      ]
    },
    {
      "cell_type": "code",
      "metadata": {
        "id": "DRJDNgtII1g1",
        "colab_type": "code",
        "outputId": "0aee3986-3028-449a-b99c-2a71a0ad067a",
        "colab": {
          "base_uri": "https://localhost:8080/",
          "height": 204
        }
      },
      "source": [
        "pca = PCA(n_components=5)\n",
        "dataset = pca.fit_transform(data_rescaled)\n",
        "\n",
        "df=pd.DataFrame(data=dataset[0:,0:], index=[i for i in range(dataset.shape[0])], columns=['column '+str(i) for i in range(dataset.shape[1])])\n",
        "df.head()"
      ],
      "execution_count": 0,
      "outputs": [
        {
          "output_type": "execute_result",
          "data": {
            "text/html": [
              "<div>\n",
              "<style scoped>\n",
              "    .dataframe tbody tr th:only-of-type {\n",
              "        vertical-align: middle;\n",
              "    }\n",
              "\n",
              "    .dataframe tbody tr th {\n",
              "        vertical-align: top;\n",
              "    }\n",
              "\n",
              "    .dataframe thead th {\n",
              "        text-align: right;\n",
              "    }\n",
              "</style>\n",
              "<table border=\"1\" class=\"dataframe\">\n",
              "  <thead>\n",
              "    <tr style=\"text-align: right;\">\n",
              "      <th></th>\n",
              "      <th>column 0</th>\n",
              "      <th>column 1</th>\n",
              "      <th>column 2</th>\n",
              "      <th>column 3</th>\n",
              "      <th>column 4</th>\n",
              "    </tr>\n",
              "  </thead>\n",
              "  <tbody>\n",
              "    <tr>\n",
              "      <th>0</th>\n",
              "      <td>-0.210454</td>\n",
              "      <td>0.109517</td>\n",
              "      <td>0.558614</td>\n",
              "      <td>-0.210849</td>\n",
              "      <td>0.410862</td>\n",
              "    </tr>\n",
              "    <tr>\n",
              "      <th>1</th>\n",
              "      <td>0.295173</td>\n",
              "      <td>0.354357</td>\n",
              "      <td>0.747837</td>\n",
              "      <td>-0.551988</td>\n",
              "      <td>0.892919</td>\n",
              "    </tr>\n",
              "    <tr>\n",
              "      <th>2</th>\n",
              "      <td>1.730388</td>\n",
              "      <td>-0.587896</td>\n",
              "      <td>-0.089367</td>\n",
              "      <td>0.074591</td>\n",
              "      <td>-0.067424</td>\n",
              "    </tr>\n",
              "    <tr>\n",
              "      <th>3</th>\n",
              "      <td>-1.010287</td>\n",
              "      <td>-0.469081</td>\n",
              "      <td>-0.215443</td>\n",
              "      <td>0.414566</td>\n",
              "      <td>-0.202226</td>\n",
              "    </tr>\n",
              "    <tr>\n",
              "      <th>4</th>\n",
              "      <td>-0.999356</td>\n",
              "      <td>-0.337932</td>\n",
              "      <td>-0.496051</td>\n",
              "      <td>-0.226706</td>\n",
              "      <td>0.023366</td>\n",
              "    </tr>\n",
              "  </tbody>\n",
              "</table>\n",
              "</div>"
            ],
            "text/plain": [
              "   column 0  column 1  column 2  column 3  column 4\n",
              "0 -0.210454  0.109517  0.558614 -0.210849  0.410862\n",
              "1  0.295173  0.354357  0.747837 -0.551988  0.892919\n",
              "2  1.730388 -0.587896 -0.089367  0.074591 -0.067424\n",
              "3 -1.010287 -0.469081 -0.215443  0.414566 -0.202226\n",
              "4 -0.999356 -0.337932 -0.496051 -0.226706  0.023366"
            ]
          },
          "metadata": {
            "tags": []
          },
          "execution_count": 79
        }
      ]
    },
    {
      "cell_type": "code",
      "metadata": {
        "id": "1EgkxlZxI97W",
        "colab_type": "code",
        "outputId": "5867cef1-ca91-49dc-83d2-ffc76da729d7",
        "colab": {
          "base_uri": "https://localhost:8080/",
          "height": 419
        }
      },
      "source": [
        "data_all2 = pd.concat([df, data_attack], axis=1)\n",
        "data_normaldos = data_all2.loc[data_all2['type_attack'].isin(['normal','dos'])]\n",
        "data_normaldos"
      ],
      "execution_count": 0,
      "outputs": [
        {
          "output_type": "execute_result",
          "data": {
            "text/html": [
              "<div>\n",
              "<style scoped>\n",
              "    .dataframe tbody tr th:only-of-type {\n",
              "        vertical-align: middle;\n",
              "    }\n",
              "\n",
              "    .dataframe tbody tr th {\n",
              "        vertical-align: top;\n",
              "    }\n",
              "\n",
              "    .dataframe thead th {\n",
              "        text-align: right;\n",
              "    }\n",
              "</style>\n",
              "<table border=\"1\" class=\"dataframe\">\n",
              "  <thead>\n",
              "    <tr style=\"text-align: right;\">\n",
              "      <th></th>\n",
              "      <th>column 0</th>\n",
              "      <th>column 1</th>\n",
              "      <th>column 2</th>\n",
              "      <th>column 3</th>\n",
              "      <th>column 4</th>\n",
              "      <th>type_attack</th>\n",
              "    </tr>\n",
              "  </thead>\n",
              "  <tbody>\n",
              "    <tr>\n",
              "      <th>0</th>\n",
              "      <td>-0.210454</td>\n",
              "      <td>0.109517</td>\n",
              "      <td>0.558614</td>\n",
              "      <td>-0.210849</td>\n",
              "      <td>0.410862</td>\n",
              "      <td>normal</td>\n",
              "    </tr>\n",
              "    <tr>\n",
              "      <th>1</th>\n",
              "      <td>0.295173</td>\n",
              "      <td>0.354357</td>\n",
              "      <td>0.747837</td>\n",
              "      <td>-0.551988</td>\n",
              "      <td>0.892919</td>\n",
              "      <td>normal</td>\n",
              "    </tr>\n",
              "    <tr>\n",
              "      <th>2</th>\n",
              "      <td>1.730388</td>\n",
              "      <td>-0.587896</td>\n",
              "      <td>-0.089367</td>\n",
              "      <td>0.074591</td>\n",
              "      <td>-0.067424</td>\n",
              "      <td>dos</td>\n",
              "    </tr>\n",
              "    <tr>\n",
              "      <th>3</th>\n",
              "      <td>-1.010287</td>\n",
              "      <td>-0.469081</td>\n",
              "      <td>-0.215443</td>\n",
              "      <td>0.414566</td>\n",
              "      <td>-0.202226</td>\n",
              "      <td>normal</td>\n",
              "    </tr>\n",
              "    <tr>\n",
              "      <th>4</th>\n",
              "      <td>-0.999356</td>\n",
              "      <td>-0.337932</td>\n",
              "      <td>-0.496051</td>\n",
              "      <td>-0.226706</td>\n",
              "      <td>0.023366</td>\n",
              "      <td>normal</td>\n",
              "    </tr>\n",
              "    <tr>\n",
              "      <th>...</th>\n",
              "      <td>...</td>\n",
              "      <td>...</td>\n",
              "      <td>...</td>\n",
              "      <td>...</td>\n",
              "      <td>...</td>\n",
              "      <td>...</td>\n",
              "    </tr>\n",
              "    <tr>\n",
              "      <th>148510</th>\n",
              "      <td>-0.745114</td>\n",
              "      <td>-0.121176</td>\n",
              "      <td>0.638118</td>\n",
              "      <td>-0.628705</td>\n",
              "      <td>-0.408085</td>\n",
              "      <td>dos</td>\n",
              "    </tr>\n",
              "    <tr>\n",
              "      <th>148511</th>\n",
              "      <td>-0.828475</td>\n",
              "      <td>-0.226192</td>\n",
              "      <td>-0.170238</td>\n",
              "      <td>0.320093</td>\n",
              "      <td>0.390839</td>\n",
              "      <td>normal</td>\n",
              "    </tr>\n",
              "    <tr>\n",
              "      <th>148512</th>\n",
              "      <td>-1.049307</td>\n",
              "      <td>-0.351544</td>\n",
              "      <td>-0.396084</td>\n",
              "      <td>-0.037051</td>\n",
              "      <td>-0.019923</td>\n",
              "      <td>normal</td>\n",
              "    </tr>\n",
              "    <tr>\n",
              "      <th>148513</th>\n",
              "      <td>-1.005687</td>\n",
              "      <td>-0.286393</td>\n",
              "      <td>-0.491145</td>\n",
              "      <td>-0.172798</td>\n",
              "      <td>0.005716</td>\n",
              "      <td>dos</td>\n",
              "    </tr>\n",
              "    <tr>\n",
              "      <th>148514</th>\n",
              "      <td>-0.721211</td>\n",
              "      <td>-0.169021</td>\n",
              "      <td>0.034085</td>\n",
              "      <td>-0.753098</td>\n",
              "      <td>-0.332777</td>\n",
              "      <td>normal</td>\n",
              "    </tr>\n",
              "  </tbody>\n",
              "</table>\n",
              "<p>130440 rows × 6 columns</p>\n",
              "</div>"
            ],
            "text/plain": [
              "        column 0  column 1  column 2  column 3  column 4 type_attack\n",
              "0      -0.210454  0.109517  0.558614 -0.210849  0.410862      normal\n",
              "1       0.295173  0.354357  0.747837 -0.551988  0.892919      normal\n",
              "2       1.730388 -0.587896 -0.089367  0.074591 -0.067424         dos\n",
              "3      -1.010287 -0.469081 -0.215443  0.414566 -0.202226      normal\n",
              "4      -0.999356 -0.337932 -0.496051 -0.226706  0.023366      normal\n",
              "...          ...       ...       ...       ...       ...         ...\n",
              "148510 -0.745114 -0.121176  0.638118 -0.628705 -0.408085         dos\n",
              "148511 -0.828475 -0.226192 -0.170238  0.320093  0.390839      normal\n",
              "148512 -1.049307 -0.351544 -0.396084 -0.037051 -0.019923      normal\n",
              "148513 -1.005687 -0.286393 -0.491145 -0.172798  0.005716         dos\n",
              "148514 -0.721211 -0.169021  0.034085 -0.753098 -0.332777      normal\n",
              "\n",
              "[130440 rows x 6 columns]"
            ]
          },
          "metadata": {
            "tags": []
          },
          "execution_count": 80
        }
      ]
    },
    {
      "cell_type": "code",
      "metadata": {
        "id": "RrFJB5mCI_8N",
        "colab_type": "code",
        "colab": {}
      },
      "source": [
        "X = data_normaldos.loc[:, :'column 4']\n",
        "y = data_normaldos.loc[:, 'type_attack']\n",
        "\n",
        "y = y.astype(str)\n",
        "\n",
        "temp = set(y)\n",
        "\n",
        "X_train, X_test, y_train, y_test = train_test_split(X, y, test_size=0.3, train_size =0.7, random_state=5)\n",
        "\n",
        "clf = MLPClassifier(random_state = 5)"
      ],
      "execution_count": 0,
      "outputs": []
    },
    {
      "cell_type": "code",
      "metadata": {
        "id": "_S1hz6duJDP_",
        "colab_type": "code",
        "colab": {}
      },
      "source": [
        "start = time.time()\n",
        "\n",
        "clf.fit(X_train, y_train)\n",
        "\n",
        "stop = time.time()"
      ],
      "execution_count": 0,
      "outputs": []
    },
    {
      "cell_type": "code",
      "metadata": {
        "id": "GaG4RjlkJFLx",
        "colab_type": "code",
        "outputId": "b2db798c-524b-4a80-94a1-89964860cf12",
        "colab": {
          "base_uri": "https://localhost:8080/",
          "height": 34
        }
      },
      "source": [
        "print(f\"training time : {stop - start}s\")"
      ],
      "execution_count": 0,
      "outputs": [
        {
          "output_type": "stream",
          "text": [
            "training time : 96.72492408752441s\n"
          ],
          "name": "stdout"
        }
      ]
    },
    {
      "cell_type": "code",
      "metadata": {
        "id": "zRpIASScJGhT",
        "colab_type": "code",
        "outputId": "8c6fef76-c4f7-440a-e95a-2a00d3358318",
        "colab": {
          "base_uri": "https://localhost:8080/",
          "height": 34
        }
      },
      "source": [
        "pred = clf.predict(X_test)\n",
        "accuracy_score(y_test,pred)"
      ],
      "execution_count": 0,
      "outputs": [
        {
          "output_type": "execute_result",
          "data": {
            "text/plain": [
              "0.9873249514463865"
            ]
          },
          "metadata": {
            "tags": []
          },
          "execution_count": 84
        }
      ]
    },
    {
      "cell_type": "markdown",
      "metadata": {
        "id": "3zrOSSulJMs9",
        "colab_type": "text"
      },
      "source": [
        "# 6 Fitur"
      ]
    },
    {
      "cell_type": "code",
      "metadata": {
        "id": "7cbSYmfBJQRF",
        "colab_type": "code",
        "outputId": "04710549-e7d8-4723-e7d2-e424cbdf1fba",
        "colab": {
          "base_uri": "https://localhost:8080/",
          "height": 204
        }
      },
      "source": [
        "pca = PCA(n_components=6)\n",
        "dataset = pca.fit_transform(data_rescaled)\n",
        "\n",
        "df=pd.DataFrame(data=dataset[0:,0:], index=[i for i in range(dataset.shape[0])], columns=['column '+str(i) for i in range(dataset.shape[1])])\n",
        "df.head()"
      ],
      "execution_count": 0,
      "outputs": [
        {
          "output_type": "execute_result",
          "data": {
            "text/html": [
              "<div>\n",
              "<style scoped>\n",
              "    .dataframe tbody tr th:only-of-type {\n",
              "        vertical-align: middle;\n",
              "    }\n",
              "\n",
              "    .dataframe tbody tr th {\n",
              "        vertical-align: top;\n",
              "    }\n",
              "\n",
              "    .dataframe thead th {\n",
              "        text-align: right;\n",
              "    }\n",
              "</style>\n",
              "<table border=\"1\" class=\"dataframe\">\n",
              "  <thead>\n",
              "    <tr style=\"text-align: right;\">\n",
              "      <th></th>\n",
              "      <th>column 0</th>\n",
              "      <th>column 1</th>\n",
              "      <th>column 2</th>\n",
              "      <th>column 3</th>\n",
              "      <th>column 4</th>\n",
              "      <th>column 5</th>\n",
              "    </tr>\n",
              "  </thead>\n",
              "  <tbody>\n",
              "    <tr>\n",
              "      <th>0</th>\n",
              "      <td>-0.210454</td>\n",
              "      <td>0.109517</td>\n",
              "      <td>0.558613</td>\n",
              "      <td>-0.210847</td>\n",
              "      <td>0.410863</td>\n",
              "      <td>-0.182549</td>\n",
              "    </tr>\n",
              "    <tr>\n",
              "      <th>1</th>\n",
              "      <td>0.295173</td>\n",
              "      <td>0.354357</td>\n",
              "      <td>0.747835</td>\n",
              "      <td>-0.551985</td>\n",
              "      <td>0.892920</td>\n",
              "      <td>-0.064750</td>\n",
              "    </tr>\n",
              "    <tr>\n",
              "      <th>2</th>\n",
              "      <td>1.730388</td>\n",
              "      <td>-0.587896</td>\n",
              "      <td>-0.089366</td>\n",
              "      <td>0.074590</td>\n",
              "      <td>-0.067424</td>\n",
              "      <td>0.029836</td>\n",
              "    </tr>\n",
              "    <tr>\n",
              "      <th>3</th>\n",
              "      <td>-1.010287</td>\n",
              "      <td>-0.469081</td>\n",
              "      <td>-0.215443</td>\n",
              "      <td>0.414568</td>\n",
              "      <td>-0.202225</td>\n",
              "      <td>-0.275686</td>\n",
              "    </tr>\n",
              "    <tr>\n",
              "      <th>4</th>\n",
              "      <td>-0.999356</td>\n",
              "      <td>-0.337932</td>\n",
              "      <td>-0.496051</td>\n",
              "      <td>-0.226706</td>\n",
              "      <td>0.023366</td>\n",
              "      <td>0.139347</td>\n",
              "    </tr>\n",
              "  </tbody>\n",
              "</table>\n",
              "</div>"
            ],
            "text/plain": [
              "   column 0  column 1  column 2  column 3  column 4  column 5\n",
              "0 -0.210454  0.109517  0.558613 -0.210847  0.410863 -0.182549\n",
              "1  0.295173  0.354357  0.747835 -0.551985  0.892920 -0.064750\n",
              "2  1.730388 -0.587896 -0.089366  0.074590 -0.067424  0.029836\n",
              "3 -1.010287 -0.469081 -0.215443  0.414568 -0.202225 -0.275686\n",
              "4 -0.999356 -0.337932 -0.496051 -0.226706  0.023366  0.139347"
            ]
          },
          "metadata": {
            "tags": []
          },
          "execution_count": 85
        }
      ]
    },
    {
      "cell_type": "code",
      "metadata": {
        "id": "mSQy8s0mJbTb",
        "colab_type": "code",
        "outputId": "5818f768-6a92-4d18-e509-f8d582650c27",
        "colab": {
          "base_uri": "https://localhost:8080/",
          "height": 419
        }
      },
      "source": [
        "data_all2 = pd.concat([df, data_attack], axis=1)\n",
        "data_normaldos = data_all2.loc[data_all2['type_attack'].isin(['normal','dos'])]\n",
        "data_normaldos"
      ],
      "execution_count": 0,
      "outputs": [
        {
          "output_type": "execute_result",
          "data": {
            "text/html": [
              "<div>\n",
              "<style scoped>\n",
              "    .dataframe tbody tr th:only-of-type {\n",
              "        vertical-align: middle;\n",
              "    }\n",
              "\n",
              "    .dataframe tbody tr th {\n",
              "        vertical-align: top;\n",
              "    }\n",
              "\n",
              "    .dataframe thead th {\n",
              "        text-align: right;\n",
              "    }\n",
              "</style>\n",
              "<table border=\"1\" class=\"dataframe\">\n",
              "  <thead>\n",
              "    <tr style=\"text-align: right;\">\n",
              "      <th></th>\n",
              "      <th>column 0</th>\n",
              "      <th>column 1</th>\n",
              "      <th>column 2</th>\n",
              "      <th>column 3</th>\n",
              "      <th>column 4</th>\n",
              "      <th>column 5</th>\n",
              "      <th>type_attack</th>\n",
              "    </tr>\n",
              "  </thead>\n",
              "  <tbody>\n",
              "    <tr>\n",
              "      <th>0</th>\n",
              "      <td>-0.210454</td>\n",
              "      <td>0.109517</td>\n",
              "      <td>0.558613</td>\n",
              "      <td>-0.210847</td>\n",
              "      <td>0.410863</td>\n",
              "      <td>-0.182549</td>\n",
              "      <td>normal</td>\n",
              "    </tr>\n",
              "    <tr>\n",
              "      <th>1</th>\n",
              "      <td>0.295173</td>\n",
              "      <td>0.354357</td>\n",
              "      <td>0.747835</td>\n",
              "      <td>-0.551985</td>\n",
              "      <td>0.892920</td>\n",
              "      <td>-0.064750</td>\n",
              "      <td>normal</td>\n",
              "    </tr>\n",
              "    <tr>\n",
              "      <th>2</th>\n",
              "      <td>1.730388</td>\n",
              "      <td>-0.587896</td>\n",
              "      <td>-0.089366</td>\n",
              "      <td>0.074590</td>\n",
              "      <td>-0.067424</td>\n",
              "      <td>0.029836</td>\n",
              "      <td>dos</td>\n",
              "    </tr>\n",
              "    <tr>\n",
              "      <th>3</th>\n",
              "      <td>-1.010287</td>\n",
              "      <td>-0.469081</td>\n",
              "      <td>-0.215443</td>\n",
              "      <td>0.414568</td>\n",
              "      <td>-0.202225</td>\n",
              "      <td>-0.275686</td>\n",
              "      <td>normal</td>\n",
              "    </tr>\n",
              "    <tr>\n",
              "      <th>4</th>\n",
              "      <td>-0.999356</td>\n",
              "      <td>-0.337932</td>\n",
              "      <td>-0.496051</td>\n",
              "      <td>-0.226706</td>\n",
              "      <td>0.023366</td>\n",
              "      <td>0.139347</td>\n",
              "      <td>normal</td>\n",
              "    </tr>\n",
              "    <tr>\n",
              "      <th>...</th>\n",
              "      <td>...</td>\n",
              "      <td>...</td>\n",
              "      <td>...</td>\n",
              "      <td>...</td>\n",
              "      <td>...</td>\n",
              "      <td>...</td>\n",
              "      <td>...</td>\n",
              "    </tr>\n",
              "    <tr>\n",
              "      <th>148510</th>\n",
              "      <td>-0.745114</td>\n",
              "      <td>-0.121176</td>\n",
              "      <td>0.638118</td>\n",
              "      <td>-0.628706</td>\n",
              "      <td>-0.408084</td>\n",
              "      <td>0.096107</td>\n",
              "      <td>dos</td>\n",
              "    </tr>\n",
              "    <tr>\n",
              "      <th>148511</th>\n",
              "      <td>-0.828475</td>\n",
              "      <td>-0.226192</td>\n",
              "      <td>-0.170238</td>\n",
              "      <td>0.320094</td>\n",
              "      <td>0.390840</td>\n",
              "      <td>-0.140440</td>\n",
              "      <td>normal</td>\n",
              "    </tr>\n",
              "    <tr>\n",
              "      <th>148512</th>\n",
              "      <td>-1.049307</td>\n",
              "      <td>-0.351544</td>\n",
              "      <td>-0.396084</td>\n",
              "      <td>-0.037051</td>\n",
              "      <td>-0.019923</td>\n",
              "      <td>0.134743</td>\n",
              "      <td>normal</td>\n",
              "    </tr>\n",
              "    <tr>\n",
              "      <th>148513</th>\n",
              "      <td>-1.005687</td>\n",
              "      <td>-0.286393</td>\n",
              "      <td>-0.491145</td>\n",
              "      <td>-0.172798</td>\n",
              "      <td>0.005716</td>\n",
              "      <td>0.231615</td>\n",
              "      <td>dos</td>\n",
              "    </tr>\n",
              "    <tr>\n",
              "      <th>148514</th>\n",
              "      <td>-0.721211</td>\n",
              "      <td>-0.169021</td>\n",
              "      <td>0.034085</td>\n",
              "      <td>-0.753098</td>\n",
              "      <td>-0.332777</td>\n",
              "      <td>0.191831</td>\n",
              "      <td>normal</td>\n",
              "    </tr>\n",
              "  </tbody>\n",
              "</table>\n",
              "<p>130440 rows × 7 columns</p>\n",
              "</div>"
            ],
            "text/plain": [
              "        column 0  column 1  column 2  column 3  column 4  column 5 type_attack\n",
              "0      -0.210454  0.109517  0.558613 -0.210847  0.410863 -0.182549      normal\n",
              "1       0.295173  0.354357  0.747835 -0.551985  0.892920 -0.064750      normal\n",
              "2       1.730388 -0.587896 -0.089366  0.074590 -0.067424  0.029836         dos\n",
              "3      -1.010287 -0.469081 -0.215443  0.414568 -0.202225 -0.275686      normal\n",
              "4      -0.999356 -0.337932 -0.496051 -0.226706  0.023366  0.139347      normal\n",
              "...          ...       ...       ...       ...       ...       ...         ...\n",
              "148510 -0.745114 -0.121176  0.638118 -0.628706 -0.408084  0.096107         dos\n",
              "148511 -0.828475 -0.226192 -0.170238  0.320094  0.390840 -0.140440      normal\n",
              "148512 -1.049307 -0.351544 -0.396084 -0.037051 -0.019923  0.134743      normal\n",
              "148513 -1.005687 -0.286393 -0.491145 -0.172798  0.005716  0.231615         dos\n",
              "148514 -0.721211 -0.169021  0.034085 -0.753098 -0.332777  0.191831      normal\n",
              "\n",
              "[130440 rows x 7 columns]"
            ]
          },
          "metadata": {
            "tags": []
          },
          "execution_count": 86
        }
      ]
    },
    {
      "cell_type": "code",
      "metadata": {
        "id": "osyE10PWJd4d",
        "colab_type": "code",
        "colab": {}
      },
      "source": [
        "X = data_normaldos.loc[:, :'column 5']\n",
        "y = data_normaldos.loc[:, 'type_attack']\n",
        "\n",
        "y = y.astype(str)\n",
        "\n",
        "temp = set(y)\n",
        "\n",
        "X_train, X_test, y_train, y_test = train_test_split(X, y, test_size=0.3, train_size =0.7, random_state=5)\n",
        "\n",
        "clf = MLPClassifier(random_state = 5)"
      ],
      "execution_count": 0,
      "outputs": []
    },
    {
      "cell_type": "code",
      "metadata": {
        "id": "cSbWPRToJi2N",
        "colab_type": "code",
        "outputId": "c629686a-a291-4867-8baa-089652d9bb11",
        "colab": {
          "base_uri": "https://localhost:8080/",
          "height": 51
        }
      },
      "source": [
        "start = time.time()\n",
        "\n",
        "clf.fit(X_train, y_train)\n",
        "\n",
        "stop = time.time()"
      ],
      "execution_count": 0,
      "outputs": [
        {
          "output_type": "stream",
          "text": [
            "/usr/local/lib/python3.6/dist-packages/sklearn/neural_network/multilayer_perceptron.py:566: ConvergenceWarning: Stochastic Optimizer: Maximum iterations (200) reached and the optimization hasn't converged yet.\n",
            "  % self.max_iter, ConvergenceWarning)\n"
          ],
          "name": "stderr"
        }
      ]
    },
    {
      "cell_type": "code",
      "metadata": {
        "id": "OOQdcV1ZJj8Z",
        "colab_type": "code",
        "outputId": "7d2cbe84-1894-40bc-ab2d-ad24856b022b",
        "colab": {
          "base_uri": "https://localhost:8080/",
          "height": 34
        }
      },
      "source": [
        "print(f\"training time : {stop - start}s\")"
      ],
      "execution_count": 0,
      "outputs": [
        {
          "output_type": "stream",
          "text": [
            "training time : 104.37551379203796s\n"
          ],
          "name": "stdout"
        }
      ]
    },
    {
      "cell_type": "code",
      "metadata": {
        "id": "Y_k2hvmsJltG",
        "colab_type": "code",
        "outputId": "459b0804-cf16-4aa3-f104-7029110ec3f6",
        "colab": {
          "base_uri": "https://localhost:8080/",
          "height": 34
        }
      },
      "source": [
        "pred = clf.predict(X_test)\n",
        "accuracy_score(y_test,pred)"
      ],
      "execution_count": 0,
      "outputs": [
        {
          "output_type": "execute_result",
          "data": {
            "text/plain": [
              "0.9892415414494531"
            ]
          },
          "metadata": {
            "tags": []
          },
          "execution_count": 90
        }
      ]
    },
    {
      "cell_type": "markdown",
      "metadata": {
        "id": "cKZXJqRPJt7Y",
        "colab_type": "text"
      },
      "source": [
        "# 7 fitur"
      ]
    },
    {
      "cell_type": "code",
      "metadata": {
        "id": "TsqbKDPPJ1IH",
        "colab_type": "code",
        "outputId": "29e7a207-a876-4dd3-df6d-77876f1f63ca",
        "colab": {
          "base_uri": "https://localhost:8080/",
          "height": 204
        }
      },
      "source": [
        "pca = PCA(n_components=7)\n",
        "dataset = pca.fit_transform(data_rescaled)\n",
        "\n",
        "df=pd.DataFrame(data=dataset[0:,0:], index=[i for i in range(dataset.shape[0])], columns=['column '+str(i) for i in range(dataset.shape[1])])\n",
        "df.head()"
      ],
      "execution_count": 0,
      "outputs": [
        {
          "output_type": "execute_result",
          "data": {
            "text/html": [
              "<div>\n",
              "<style scoped>\n",
              "    .dataframe tbody tr th:only-of-type {\n",
              "        vertical-align: middle;\n",
              "    }\n",
              "\n",
              "    .dataframe tbody tr th {\n",
              "        vertical-align: top;\n",
              "    }\n",
              "\n",
              "    .dataframe thead th {\n",
              "        text-align: right;\n",
              "    }\n",
              "</style>\n",
              "<table border=\"1\" class=\"dataframe\">\n",
              "  <thead>\n",
              "    <tr style=\"text-align: right;\">\n",
              "      <th></th>\n",
              "      <th>column 0</th>\n",
              "      <th>column 1</th>\n",
              "      <th>column 2</th>\n",
              "      <th>column 3</th>\n",
              "      <th>column 4</th>\n",
              "      <th>column 5</th>\n",
              "      <th>column 6</th>\n",
              "    </tr>\n",
              "  </thead>\n",
              "  <tbody>\n",
              "    <tr>\n",
              "      <th>0</th>\n",
              "      <td>-0.210454</td>\n",
              "      <td>0.109517</td>\n",
              "      <td>0.558613</td>\n",
              "      <td>-0.210847</td>\n",
              "      <td>0.410863</td>\n",
              "      <td>-0.182544</td>\n",
              "      <td>-0.269971</td>\n",
              "    </tr>\n",
              "    <tr>\n",
              "      <th>1</th>\n",
              "      <td>0.295173</td>\n",
              "      <td>0.354357</td>\n",
              "      <td>0.747835</td>\n",
              "      <td>-0.551986</td>\n",
              "      <td>0.892921</td>\n",
              "      <td>-0.064738</td>\n",
              "      <td>0.035101</td>\n",
              "    </tr>\n",
              "    <tr>\n",
              "      <th>2</th>\n",
              "      <td>1.730388</td>\n",
              "      <td>-0.587896</td>\n",
              "      <td>-0.089366</td>\n",
              "      <td>0.074590</td>\n",
              "      <td>-0.067424</td>\n",
              "      <td>0.029835</td>\n",
              "      <td>-0.051773</td>\n",
              "    </tr>\n",
              "    <tr>\n",
              "      <th>3</th>\n",
              "      <td>-1.010287</td>\n",
              "      <td>-0.469081</td>\n",
              "      <td>-0.215443</td>\n",
              "      <td>0.414567</td>\n",
              "      <td>-0.202224</td>\n",
              "      <td>-0.275666</td>\n",
              "      <td>0.018477</td>\n",
              "    </tr>\n",
              "    <tr>\n",
              "      <th>4</th>\n",
              "      <td>-0.999356</td>\n",
              "      <td>-0.337932</td>\n",
              "      <td>-0.496051</td>\n",
              "      <td>-0.226706</td>\n",
              "      <td>0.023366</td>\n",
              "      <td>0.139347</td>\n",
              "      <td>0.131671</td>\n",
              "    </tr>\n",
              "  </tbody>\n",
              "</table>\n",
              "</div>"
            ],
            "text/plain": [
              "   column 0  column 1  column 2  column 3  column 4  column 5  column 6\n",
              "0 -0.210454  0.109517  0.558613 -0.210847  0.410863 -0.182544 -0.269971\n",
              "1  0.295173  0.354357  0.747835 -0.551986  0.892921 -0.064738  0.035101\n",
              "2  1.730388 -0.587896 -0.089366  0.074590 -0.067424  0.029835 -0.051773\n",
              "3 -1.010287 -0.469081 -0.215443  0.414567 -0.202224 -0.275666  0.018477\n",
              "4 -0.999356 -0.337932 -0.496051 -0.226706  0.023366  0.139347  0.131671"
            ]
          },
          "metadata": {
            "tags": []
          },
          "execution_count": 91
        }
      ]
    },
    {
      "cell_type": "code",
      "metadata": {
        "id": "mhw79ZkSJ_vz",
        "colab_type": "code",
        "colab": {}
      },
      "source": [
        "data_all2 = pd.concat([df, data_attack], axis=1)\n",
        "data_normaldos = data_all2.loc[data_all2['type_attack'].isin(['normal','dos'])]\n",
        "\n",
        "X = data_normaldos.loc[:, :'column 6']\n",
        "y = data_normaldos.loc[:, 'type_attack']\n",
        "\n",
        "y = y.astype(str)\n",
        "\n",
        "temp = set(y)\n",
        "\n",
        "X_train, X_test, y_train, y_test = train_test_split(X, y, test_size=0.3, train_size =0.7, random_state=5)\n",
        "\n",
        "clf = MLPClassifier(random_state = 5)"
      ],
      "execution_count": 0,
      "outputs": []
    },
    {
      "cell_type": "code",
      "metadata": {
        "id": "kRdrQkPkKHwN",
        "colab_type": "code",
        "colab": {}
      },
      "source": [
        "start = time.time()\n",
        "\n",
        "clf.fit(X_train, y_train)\n",
        "\n",
        "stop = time.time()"
      ],
      "execution_count": 0,
      "outputs": []
    },
    {
      "cell_type": "code",
      "metadata": {
        "id": "qX2Y63oQKNKY",
        "colab_type": "code",
        "outputId": "07d226c8-ac8a-4d48-a42e-7dc81cf3a1f4",
        "colab": {
          "base_uri": "https://localhost:8080/",
          "height": 34
        }
      },
      "source": [
        "print(f\"training time : {stop - start}s\")"
      ],
      "execution_count": 0,
      "outputs": [
        {
          "output_type": "stream",
          "text": [
            "training time : 91.82526659965515s\n"
          ],
          "name": "stdout"
        }
      ]
    },
    {
      "cell_type": "code",
      "metadata": {
        "id": "7QzXtU4DKOE9",
        "colab_type": "code",
        "outputId": "18da93b9-f5d3-44af-86b9-f94b0a21f720",
        "colab": {
          "base_uri": "https://localhost:8080/",
          "height": 34
        }
      },
      "source": [
        "pred = clf.predict(X_test)\n",
        "accuracy_score(y_test,pred)"
      ],
      "execution_count": 0,
      "outputs": [
        {
          "output_type": "execute_result",
          "data": {
            "text/plain": [
              "0.9921803127874885"
            ]
          },
          "metadata": {
            "tags": []
          },
          "execution_count": 95
        }
      ]
    },
    {
      "cell_type": "markdown",
      "metadata": {
        "id": "k6CBX0InKTyC",
        "colab_type": "text"
      },
      "source": [
        "# 8 fitur"
      ]
    },
    {
      "cell_type": "code",
      "metadata": {
        "id": "_uyGtgMhKV9Y",
        "colab_type": "code",
        "colab": {}
      },
      "source": [
        "pca = PCA(n_components=8)\n",
        "dataset = pca.fit_transform(data_rescaled)\n",
        "\n",
        "df=pd.DataFrame(data=dataset[0:,0:], index=[i for i in range(dataset.shape[0])], columns=['column '+str(i) for i in range(dataset.shape[1])])\n",
        "df.head()\n",
        "\n",
        "data_all2 = pd.concat([df, data_attack], axis=1)\n",
        "data_normaldos = data_all2.loc[data_all2['type_attack'].isin(['normal','dos'])]\n",
        "\n",
        "X = data_normaldos.loc[:, :'column 7']\n",
        "y = data_normaldos.loc[:, 'type_attack']\n",
        "\n",
        "y = y.astype(str)\n",
        "\n",
        "temp = set(y)\n",
        "\n",
        "X_train, X_test, y_train, y_test = train_test_split(X, y, test_size=0.3, train_size =0.7, random_state=5)\n",
        "\n",
        "clf = MLPClassifier(random_state = 5)"
      ],
      "execution_count": 0,
      "outputs": []
    },
    {
      "cell_type": "code",
      "metadata": {
        "id": "dewKt7cBKfny",
        "colab_type": "code",
        "colab": {}
      },
      "source": [
        "start = time.time()\n",
        "\n",
        "clf.fit(X_train, y_train)\n",
        "\n",
        "stop = time.time()"
      ],
      "execution_count": 0,
      "outputs": []
    },
    {
      "cell_type": "code",
      "metadata": {
        "id": "U2B90e1vKg4Q",
        "colab_type": "code",
        "outputId": "64134d2b-0189-4523-98ab-905a563705df",
        "colab": {
          "base_uri": "https://localhost:8080/",
          "height": 34
        }
      },
      "source": [
        "print(f\"training time : {stop - start}s\")"
      ],
      "execution_count": 0,
      "outputs": [
        {
          "output_type": "stream",
          "text": [
            "training time : 68.34772801399231s\n"
          ],
          "name": "stdout"
        }
      ]
    },
    {
      "cell_type": "code",
      "metadata": {
        "id": "lTK3xXqTKiAa",
        "colab_type": "code",
        "outputId": "b66f7332-545d-4707-a1e4-ff607a1e8036",
        "colab": {
          "base_uri": "https://localhost:8080/",
          "height": 34
        }
      },
      "source": [
        "pred = clf.predict(X_test)\n",
        "accuracy_score(y_test,pred)"
      ],
      "execution_count": 0,
      "outputs": [
        {
          "output_type": "execute_result",
          "data": {
            "text/plain": [
              "0.9917458857201268"
            ]
          },
          "metadata": {
            "tags": []
          },
          "execution_count": 99
        }
      ]
    },
    {
      "cell_type": "code",
      "metadata": {
        "id": "QWOH2VWOLcam",
        "colab_type": "code",
        "outputId": "35bb5180-31b8-45e6-a313-a0d0fce2f802",
        "colab": {
          "base_uri": "https://localhost:8080/",
          "height": 419
        }
      },
      "source": [
        "data_normaldos"
      ],
      "execution_count": 0,
      "outputs": [
        {
          "output_type": "execute_result",
          "data": {
            "text/html": [
              "<div>\n",
              "<style scoped>\n",
              "    .dataframe tbody tr th:only-of-type {\n",
              "        vertical-align: middle;\n",
              "    }\n",
              "\n",
              "    .dataframe tbody tr th {\n",
              "        vertical-align: top;\n",
              "    }\n",
              "\n",
              "    .dataframe thead th {\n",
              "        text-align: right;\n",
              "    }\n",
              "</style>\n",
              "<table border=\"1\" class=\"dataframe\">\n",
              "  <thead>\n",
              "    <tr style=\"text-align: right;\">\n",
              "      <th></th>\n",
              "      <th>column 0</th>\n",
              "      <th>column 1</th>\n",
              "      <th>column 2</th>\n",
              "      <th>column 3</th>\n",
              "      <th>column 4</th>\n",
              "      <th>column 5</th>\n",
              "      <th>column 6</th>\n",
              "      <th>column 7</th>\n",
              "      <th>type_attack</th>\n",
              "    </tr>\n",
              "  </thead>\n",
              "  <tbody>\n",
              "    <tr>\n",
              "      <th>0</th>\n",
              "      <td>-0.210454</td>\n",
              "      <td>0.109517</td>\n",
              "      <td>0.558613</td>\n",
              "      <td>-0.210847</td>\n",
              "      <td>0.410863</td>\n",
              "      <td>-0.182543</td>\n",
              "      <td>-0.269967</td>\n",
              "      <td>-0.061026</td>\n",
              "      <td>normal</td>\n",
              "    </tr>\n",
              "    <tr>\n",
              "      <th>1</th>\n",
              "      <td>0.295173</td>\n",
              "      <td>0.354357</td>\n",
              "      <td>0.747835</td>\n",
              "      <td>-0.551986</td>\n",
              "      <td>0.892921</td>\n",
              "      <td>-0.064743</td>\n",
              "      <td>0.035087</td>\n",
              "      <td>0.275939</td>\n",
              "      <td>normal</td>\n",
              "    </tr>\n",
              "    <tr>\n",
              "      <th>2</th>\n",
              "      <td>1.730388</td>\n",
              "      <td>-0.587896</td>\n",
              "      <td>-0.089366</td>\n",
              "      <td>0.074590</td>\n",
              "      <td>-0.067424</td>\n",
              "      <td>0.029833</td>\n",
              "      <td>-0.051776</td>\n",
              "      <td>-0.014221</td>\n",
              "      <td>dos</td>\n",
              "    </tr>\n",
              "    <tr>\n",
              "      <th>3</th>\n",
              "      <td>-1.010287</td>\n",
              "      <td>-0.469081</td>\n",
              "      <td>-0.215443</td>\n",
              "      <td>0.414568</td>\n",
              "      <td>-0.202223</td>\n",
              "      <td>-0.275652</td>\n",
              "      <td>0.018502</td>\n",
              "      <td>0.132530</td>\n",
              "      <td>normal</td>\n",
              "    </tr>\n",
              "    <tr>\n",
              "      <th>4</th>\n",
              "      <td>-0.999356</td>\n",
              "      <td>-0.337932</td>\n",
              "      <td>-0.496051</td>\n",
              "      <td>-0.226706</td>\n",
              "      <td>0.023366</td>\n",
              "      <td>0.139349</td>\n",
              "      <td>0.131674</td>\n",
              "      <td>-0.138730</td>\n",
              "      <td>normal</td>\n",
              "    </tr>\n",
              "    <tr>\n",
              "      <th>...</th>\n",
              "      <td>...</td>\n",
              "      <td>...</td>\n",
              "      <td>...</td>\n",
              "      <td>...</td>\n",
              "      <td>...</td>\n",
              "      <td>...</td>\n",
              "      <td>...</td>\n",
              "      <td>...</td>\n",
              "      <td>...</td>\n",
              "    </tr>\n",
              "    <tr>\n",
              "      <th>148510</th>\n",
              "      <td>-0.745114</td>\n",
              "      <td>-0.121176</td>\n",
              "      <td>0.638119</td>\n",
              "      <td>-0.628706</td>\n",
              "      <td>-0.408086</td>\n",
              "      <td>0.096085</td>\n",
              "      <td>0.518201</td>\n",
              "      <td>-0.422685</td>\n",
              "      <td>dos</td>\n",
              "    </tr>\n",
              "    <tr>\n",
              "      <th>148511</th>\n",
              "      <td>-0.828475</td>\n",
              "      <td>-0.226192</td>\n",
              "      <td>-0.170238</td>\n",
              "      <td>0.320094</td>\n",
              "      <td>0.390840</td>\n",
              "      <td>-0.140439</td>\n",
              "      <td>-0.092442</td>\n",
              "      <td>0.015996</td>\n",
              "      <td>normal</td>\n",
              "    </tr>\n",
              "    <tr>\n",
              "      <th>148512</th>\n",
              "      <td>-1.049307</td>\n",
              "      <td>-0.351544</td>\n",
              "      <td>-0.396084</td>\n",
              "      <td>-0.037051</td>\n",
              "      <td>-0.019923</td>\n",
              "      <td>0.134742</td>\n",
              "      <td>0.058346</td>\n",
              "      <td>-0.062198</td>\n",
              "      <td>normal</td>\n",
              "    </tr>\n",
              "    <tr>\n",
              "      <th>148513</th>\n",
              "      <td>-1.005687</td>\n",
              "      <td>-0.286393</td>\n",
              "      <td>-0.491145</td>\n",
              "      <td>-0.172798</td>\n",
              "      <td>0.005717</td>\n",
              "      <td>0.231627</td>\n",
              "      <td>0.079818</td>\n",
              "      <td>-0.155390</td>\n",
              "      <td>dos</td>\n",
              "    </tr>\n",
              "    <tr>\n",
              "      <th>148514</th>\n",
              "      <td>-0.721211</td>\n",
              "      <td>-0.169021</td>\n",
              "      <td>0.034085</td>\n",
              "      <td>-0.753098</td>\n",
              "      <td>-0.332777</td>\n",
              "      <td>0.191828</td>\n",
              "      <td>-0.507980</td>\n",
              "      <td>0.133424</td>\n",
              "      <td>normal</td>\n",
              "    </tr>\n",
              "  </tbody>\n",
              "</table>\n",
              "<p>130440 rows × 9 columns</p>\n",
              "</div>"
            ],
            "text/plain": [
              "        column 0  column 1  column 2  ...  column 6  column 7  type_attack\n",
              "0      -0.210454  0.109517  0.558613  ... -0.269967 -0.061026       normal\n",
              "1       0.295173  0.354357  0.747835  ...  0.035087  0.275939       normal\n",
              "2       1.730388 -0.587896 -0.089366  ... -0.051776 -0.014221          dos\n",
              "3      -1.010287 -0.469081 -0.215443  ...  0.018502  0.132530       normal\n",
              "4      -0.999356 -0.337932 -0.496051  ...  0.131674 -0.138730       normal\n",
              "...          ...       ...       ...  ...       ...       ...          ...\n",
              "148510 -0.745114 -0.121176  0.638119  ...  0.518201 -0.422685          dos\n",
              "148511 -0.828475 -0.226192 -0.170238  ... -0.092442  0.015996       normal\n",
              "148512 -1.049307 -0.351544 -0.396084  ...  0.058346 -0.062198       normal\n",
              "148513 -1.005687 -0.286393 -0.491145  ...  0.079818 -0.155390          dos\n",
              "148514 -0.721211 -0.169021  0.034085  ... -0.507980  0.133424       normal\n",
              "\n",
              "[130440 rows x 9 columns]"
            ]
          },
          "metadata": {
            "tags": []
          },
          "execution_count": 100
        }
      ]
    },
    {
      "cell_type": "markdown",
      "metadata": {
        "id": "PpCaH6keKy75",
        "colab_type": "text"
      },
      "source": [
        "# 9 Fitur"
      ]
    },
    {
      "cell_type": "code",
      "metadata": {
        "id": "woIcH5C_K0sP",
        "colab_type": "code",
        "colab": {}
      },
      "source": [
        "pca = PCA(n_components=9)\n",
        "dataset = pca.fit_transform(data_rescaled)\n",
        "\n",
        "df=pd.DataFrame(data=dataset[0:,0:], index=[i for i in range(dataset.shape[0])], columns=['column '+str(i) for i in range(dataset.shape[1])])\n",
        "df.head()\n",
        "\n",
        "data_all2 = pd.concat([df, data_attack], axis=1)\n",
        "data_normaldos = data_all2.loc[data_all2['type_attack'].isin(['normal','dos'])]\n",
        "\n",
        "X = data_normaldos.loc[:, :'column 8']\n",
        "y = data_normaldos.loc[:, 'type_attack']\n",
        "\n",
        "y = y.astype(str)\n",
        "\n",
        "temp = set(y)\n",
        "\n",
        "X_train, X_test, y_train, y_test = train_test_split(X, y, test_size=0.3, train_size =0.7, random_state=5)\n",
        "\n",
        "clf = MLPClassifier(random_state = 5)"
      ],
      "execution_count": 0,
      "outputs": []
    },
    {
      "cell_type": "code",
      "metadata": {
        "id": "aMeUttrKK4sm",
        "colab_type": "code",
        "colab": {}
      },
      "source": [
        "start = time.time()\n",
        "\n",
        "clf.fit(X_train, y_train)\n",
        "\n",
        "stop = time.time()"
      ],
      "execution_count": 0,
      "outputs": []
    },
    {
      "cell_type": "code",
      "metadata": {
        "id": "6sthghsGK688",
        "colab_type": "code",
        "outputId": "e644699d-3852-4940-9c9d-0c32c4c8f601",
        "colab": {
          "base_uri": "https://localhost:8080/",
          "height": 34
        }
      },
      "source": [
        "print(f\"training time : {stop - start}s\")"
      ],
      "execution_count": 0,
      "outputs": [
        {
          "output_type": "stream",
          "text": [
            "training time : 66.97506785392761s\n"
          ],
          "name": "stdout"
        }
      ]
    },
    {
      "cell_type": "code",
      "metadata": {
        "id": "MTTHeSdfK78B",
        "colab_type": "code",
        "outputId": "44c425fe-50bd-45ec-82b4-1e01da1d91b4",
        "colab": {
          "base_uri": "https://localhost:8080/",
          "height": 34
        }
      },
      "source": [
        "pred = clf.predict(X_test)\n",
        "accuracy_score(y_test,pred)"
      ],
      "execution_count": 0,
      "outputs": [
        {
          "output_type": "execute_result",
          "data": {
            "text/plain": [
              "0.9934580394561995"
            ]
          },
          "metadata": {
            "tags": []
          },
          "execution_count": 104
        }
      ]
    },
    {
      "cell_type": "markdown",
      "metadata": {
        "id": "mQUixmyRLhiH",
        "colab_type": "text"
      },
      "source": [
        "# 10 Fitur"
      ]
    },
    {
      "cell_type": "code",
      "metadata": {
        "id": "LXhjctmTLjiD",
        "colab_type": "code",
        "colab": {}
      },
      "source": [
        "pca = PCA(n_components=10)\n",
        "dataset = pca.fit_transform(data_rescaled)\n",
        "\n",
        "df=pd.DataFrame(data=dataset[0:,0:], index=[i for i in range(dataset.shape[0])], columns=['column '+str(i) for i in range(dataset.shape[1])])\n",
        "df.head()\n",
        "\n",
        "data_all2 = pd.concat([df, data_attack], axis=1)\n",
        "data_normaldos = data_all2.loc[data_all2['type_attack'].isin(['normal','dos'])]\n",
        "\n",
        "X = data_normaldos.loc[:, :'column 9']\n",
        "y = data_normaldos.loc[:, 'type_attack']\n",
        "\n",
        "y = y.astype(str)\n",
        "\n",
        "temp = set(y)\n",
        "\n",
        "X_train, X_test, y_train, y_test = train_test_split(X, y, test_size=0.3, train_size =0.7, random_state=5)\n",
        "\n",
        "clf = MLPClassifier(random_state = 5)"
      ],
      "execution_count": 0,
      "outputs": []
    },
    {
      "cell_type": "code",
      "metadata": {
        "id": "NzsPAwhdLnPN",
        "colab_type": "code",
        "colab": {}
      },
      "source": [
        "start = time.time()\n",
        "\n",
        "clf.fit(X_train, y_train)\n",
        "\n",
        "stop = time.time()"
      ],
      "execution_count": 0,
      "outputs": []
    },
    {
      "cell_type": "code",
      "metadata": {
        "id": "13pJaoKHLpam",
        "colab_type": "code",
        "outputId": "f4209543-4ee6-4bc6-b6f7-86f1e2c61ab5",
        "colab": {
          "base_uri": "https://localhost:8080/",
          "height": 34
        }
      },
      "source": [
        "print(f\"training time : {stop - start}s\")"
      ],
      "execution_count": 0,
      "outputs": [
        {
          "output_type": "stream",
          "text": [
            "training time : 66.63518857955933s\n"
          ],
          "name": "stdout"
        }
      ]
    },
    {
      "cell_type": "code",
      "metadata": {
        "id": "wXobsk4ALp4y",
        "colab_type": "code",
        "outputId": "5f8adf00-d7be-428a-a6b5-643d54cd4116",
        "colab": {
          "base_uri": "https://localhost:8080/",
          "height": 34
        }
      },
      "source": [
        "pred = clf.predict(X_test)\n",
        "accuracy_score(y_test,pred)"
      ],
      "execution_count": 0,
      "outputs": [
        {
          "output_type": "execute_result",
          "data": {
            "text/plain": [
              "0.9941480118573035"
            ]
          },
          "metadata": {
            "tags": []
          },
          "execution_count": 108
        }
      ]
    },
    {
      "cell_type": "markdown",
      "metadata": {
        "id": "ZPXCytamLuTq",
        "colab_type": "text"
      },
      "source": [
        "# 11 Fitur"
      ]
    },
    {
      "cell_type": "code",
      "metadata": {
        "id": "M7B6k3zpLvu6",
        "colab_type": "code",
        "colab": {}
      },
      "source": [
        "pca = PCA(n_components=11)\n",
        "dataset = pca.fit_transform(data_rescaled)\n",
        "\n",
        "df=pd.DataFrame(data=dataset[0:,0:], index=[i for i in range(dataset.shape[0])], columns=['column '+str(i) for i in range(dataset.shape[1])])\n",
        "df.head()\n",
        "\n",
        "data_all2 = pd.concat([df, data_attack], axis=1)\n",
        "data_normaldos = data_all2.loc[data_all2['type_attack'].isin(['normal','dos'])]\n",
        "\n",
        "X = data_normaldos.loc[:, :'column 10']\n",
        "y = data_normaldos.loc[:, 'type_attack']\n",
        "\n",
        "y = y.astype(str)\n",
        "\n",
        "temp = set(y)\n",
        "\n",
        "X_train, X_test, y_train, y_test = train_test_split(X, y, test_size=0.3, train_size =0.7, random_state=5)\n",
        "\n",
        "clf = MLPClassifier(random_state = 5)"
      ],
      "execution_count": 0,
      "outputs": []
    },
    {
      "cell_type": "code",
      "metadata": {
        "id": "6clEWskaLzwU",
        "colab_type": "code",
        "colab": {}
      },
      "source": [
        "start = time.time()\n",
        "\n",
        "clf.fit(X_train, y_train)\n",
        "\n",
        "stop = time.time()"
      ],
      "execution_count": 0,
      "outputs": []
    },
    {
      "cell_type": "code",
      "metadata": {
        "id": "bLZ0T8hFL2RP",
        "colab_type": "code",
        "outputId": "bf1c8323-befc-4b69-cb27-e0b6951f78a0",
        "colab": {
          "base_uri": "https://localhost:8080/",
          "height": 34
        }
      },
      "source": [
        "print(f\"training time : {stop - start}s\")"
      ],
      "execution_count": 0,
      "outputs": [
        {
          "output_type": "stream",
          "text": [
            "training time : 56.08699321746826s\n"
          ],
          "name": "stdout"
        }
      ]
    },
    {
      "cell_type": "code",
      "metadata": {
        "id": "kknHj6e4L3iA",
        "colab_type": "code",
        "outputId": "e3ae97aa-4002-4f03-a2c2-3c0e4b85be15",
        "colab": {
          "base_uri": "https://localhost:8080/",
          "height": 34
        }
      },
      "source": [
        "pred = clf.predict(X_test)\n",
        "accuracy_score(y_test,pred)"
      ],
      "execution_count": 0,
      "outputs": [
        {
          "output_type": "execute_result",
          "data": {
            "text/plain": [
              "0.9944802207911684"
            ]
          },
          "metadata": {
            "tags": []
          },
          "execution_count": 112
        }
      ]
    },
    {
      "cell_type": "markdown",
      "metadata": {
        "id": "F41ETfnUMN6X",
        "colab_type": "text"
      },
      "source": [
        "# 12 Fitur"
      ]
    },
    {
      "cell_type": "code",
      "metadata": {
        "id": "yiRKlTPuMPXi",
        "colab_type": "code",
        "colab": {}
      },
      "source": [
        "pca = PCA(n_components=12)\n",
        "dataset = pca.fit_transform(data_rescaled)\n",
        "\n",
        "df=pd.DataFrame(data=dataset[0:,0:], index=[i for i in range(dataset.shape[0])], columns=['column '+str(i) for i in range(dataset.shape[1])])\n",
        "df.head()\n",
        "\n",
        "data_all2 = pd.concat([df, data_attack], axis=1)\n",
        "data_normaldos = data_all2.loc[data_all2['type_attack'].isin(['normal','dos'])]\n",
        "\n",
        "X = data_normaldos.loc[:, :'column 11']\n",
        "y = data_normaldos.loc[:, 'type_attack']\n",
        "\n",
        "y = y.astype(str)\n",
        "\n",
        "temp = set(y)\n",
        "\n",
        "X_train, X_test, y_train, y_test = train_test_split(X, y, test_size=0.3, train_size =0.7, random_state=5)\n",
        "\n",
        "clf = MLPClassifier(random_state = 5)"
      ],
      "execution_count": 0,
      "outputs": []
    },
    {
      "cell_type": "code",
      "metadata": {
        "id": "T4LnELNHMSbd",
        "colab_type": "code",
        "colab": {}
      },
      "source": [
        "start = time.time()\n",
        "\n",
        "clf.fit(X_train, y_train)\n",
        "\n",
        "stop = time.time()"
      ],
      "execution_count": 0,
      "outputs": []
    },
    {
      "cell_type": "code",
      "metadata": {
        "id": "I4euW4VFMUbz",
        "colab_type": "code",
        "outputId": "c21b80db-6d59-49ea-8e1b-8ce55eeb017c",
        "colab": {
          "base_uri": "https://localhost:8080/",
          "height": 34
        }
      },
      "source": [
        "print(f\"training time : {stop - start}s\")"
      ],
      "execution_count": 0,
      "outputs": [
        {
          "output_type": "stream",
          "text": [
            "training time : 59.71962118148804s\n"
          ],
          "name": "stdout"
        }
      ]
    },
    {
      "cell_type": "code",
      "metadata": {
        "id": "brnznrUFMVi6",
        "colab_type": "code",
        "outputId": "71013f2b-492a-429e-bba2-a5c5c765b0fc",
        "colab": {
          "base_uri": "https://localhost:8080/",
          "height": 34
        }
      },
      "source": [
        "pred = clf.predict(X_test)\n",
        "accuracy_score(y_test,pred)"
      ],
      "execution_count": 0,
      "outputs": [
        {
          "output_type": "execute_result",
          "data": {
            "text/plain": [
              "0.9948124297250333"
            ]
          },
          "metadata": {
            "tags": []
          },
          "execution_count": 116
        }
      ]
    },
    {
      "cell_type": "markdown",
      "metadata": {
        "id": "zakXcoWtMgte",
        "colab_type": "text"
      },
      "source": [
        "# 13 Fitur"
      ]
    },
    {
      "cell_type": "code",
      "metadata": {
        "id": "oIUC4sseMiRW",
        "colab_type": "code",
        "colab": {}
      },
      "source": [
        "pca = PCA(n_components=13)\n",
        "dataset = pca.fit_transform(data_rescaled)\n",
        "\n",
        "df=pd.DataFrame(data=dataset[0:,0:], index=[i for i in range(dataset.shape[0])], columns=['column '+str(i) for i in range(dataset.shape[1])])\n",
        "df.head()\n",
        "\n",
        "data_all2 = pd.concat([df, data_attack], axis=1)\n",
        "data_normaldos = data_all2.loc[data_all2['type_attack'].isin(['normal','dos'])]\n",
        "\n",
        "X = data_normaldos.loc[:, :'column 12']\n",
        "y = data_normaldos.loc[:, 'type_attack']\n",
        "\n",
        "y = y.astype(str)\n",
        "\n",
        "temp = set(y)\n",
        "\n",
        "X_train, X_test, y_train, y_test = train_test_split(X, y, test_size=0.3, train_size =0.7, random_state=5)\n",
        "\n",
        "clf = MLPClassifier(random_state = 5)"
      ],
      "execution_count": 0,
      "outputs": []
    },
    {
      "cell_type": "code",
      "metadata": {
        "id": "oITSfaImNNsn",
        "colab_type": "code",
        "outputId": "ea7c5c11-0078-491e-9e22-281058cf9449",
        "colab": {
          "base_uri": "https://localhost:8080/",
          "height": 419
        }
      },
      "source": [
        "data_normaldos"
      ],
      "execution_count": 0,
      "outputs": [
        {
          "output_type": "execute_result",
          "data": {
            "text/html": [
              "<div>\n",
              "<style scoped>\n",
              "    .dataframe tbody tr th:only-of-type {\n",
              "        vertical-align: middle;\n",
              "    }\n",
              "\n",
              "    .dataframe tbody tr th {\n",
              "        vertical-align: top;\n",
              "    }\n",
              "\n",
              "    .dataframe thead th {\n",
              "        text-align: right;\n",
              "    }\n",
              "</style>\n",
              "<table border=\"1\" class=\"dataframe\">\n",
              "  <thead>\n",
              "    <tr style=\"text-align: right;\">\n",
              "      <th></th>\n",
              "      <th>column 0</th>\n",
              "      <th>column 1</th>\n",
              "      <th>column 2</th>\n",
              "      <th>column 3</th>\n",
              "      <th>column 4</th>\n",
              "      <th>column 5</th>\n",
              "      <th>column 6</th>\n",
              "      <th>column 7</th>\n",
              "      <th>column 8</th>\n",
              "      <th>column 9</th>\n",
              "      <th>column 10</th>\n",
              "      <th>column 11</th>\n",
              "      <th>column 12</th>\n",
              "      <th>type_attack</th>\n",
              "    </tr>\n",
              "  </thead>\n",
              "  <tbody>\n",
              "    <tr>\n",
              "      <th>0</th>\n",
              "      <td>-0.210454</td>\n",
              "      <td>0.109517</td>\n",
              "      <td>0.558613</td>\n",
              "      <td>-0.210847</td>\n",
              "      <td>0.410863</td>\n",
              "      <td>-0.182544</td>\n",
              "      <td>-0.269973</td>\n",
              "      <td>-0.061005</td>\n",
              "      <td>-0.463782</td>\n",
              "      <td>-0.041845</td>\n",
              "      <td>-0.016257</td>\n",
              "      <td>0.219600</td>\n",
              "      <td>0.057662</td>\n",
              "      <td>normal</td>\n",
              "    </tr>\n",
              "    <tr>\n",
              "      <th>1</th>\n",
              "      <td>0.295173</td>\n",
              "      <td>0.354357</td>\n",
              "      <td>0.747835</td>\n",
              "      <td>-0.551986</td>\n",
              "      <td>0.892921</td>\n",
              "      <td>-0.064741</td>\n",
              "      <td>0.035088</td>\n",
              "      <td>0.275928</td>\n",
              "      <td>0.288845</td>\n",
              "      <td>0.207347</td>\n",
              "      <td>-0.411123</td>\n",
              "      <td>-0.394146</td>\n",
              "      <td>0.136758</td>\n",
              "      <td>normal</td>\n",
              "    </tr>\n",
              "    <tr>\n",
              "      <th>2</th>\n",
              "      <td>1.730388</td>\n",
              "      <td>-0.587896</td>\n",
              "      <td>-0.089366</td>\n",
              "      <td>0.074590</td>\n",
              "      <td>-0.067424</td>\n",
              "      <td>0.029835</td>\n",
              "      <td>-0.051773</td>\n",
              "      <td>-0.014232</td>\n",
              "      <td>0.111595</td>\n",
              "      <td>-0.045301</td>\n",
              "      <td>-0.100270</td>\n",
              "      <td>0.022367</td>\n",
              "      <td>0.014327</td>\n",
              "      <td>dos</td>\n",
              "    </tr>\n",
              "    <tr>\n",
              "      <th>3</th>\n",
              "      <td>-1.010287</td>\n",
              "      <td>-0.469081</td>\n",
              "      <td>-0.215443</td>\n",
              "      <td>0.414567</td>\n",
              "      <td>-0.202224</td>\n",
              "      <td>-0.275664</td>\n",
              "      <td>0.018488</td>\n",
              "      <td>0.132578</td>\n",
              "      <td>0.049882</td>\n",
              "      <td>0.011953</td>\n",
              "      <td>0.045059</td>\n",
              "      <td>0.015433</td>\n",
              "      <td>0.037358</td>\n",
              "      <td>normal</td>\n",
              "    </tr>\n",
              "    <tr>\n",
              "      <th>4</th>\n",
              "      <td>-0.999356</td>\n",
              "      <td>-0.337932</td>\n",
              "      <td>-0.496051</td>\n",
              "      <td>-0.226706</td>\n",
              "      <td>0.023366</td>\n",
              "      <td>0.139347</td>\n",
              "      <td>0.131672</td>\n",
              "      <td>-0.138722</td>\n",
              "      <td>0.036212</td>\n",
              "      <td>0.066413</td>\n",
              "      <td>-0.031553</td>\n",
              "      <td>0.017770</td>\n",
              "      <td>0.016676</td>\n",
              "      <td>normal</td>\n",
              "    </tr>\n",
              "    <tr>\n",
              "      <th>...</th>\n",
              "      <td>...</td>\n",
              "      <td>...</td>\n",
              "      <td>...</td>\n",
              "      <td>...</td>\n",
              "      <td>...</td>\n",
              "      <td>...</td>\n",
              "      <td>...</td>\n",
              "      <td>...</td>\n",
              "      <td>...</td>\n",
              "      <td>...</td>\n",
              "      <td>...</td>\n",
              "      <td>...</td>\n",
              "      <td>...</td>\n",
              "      <td>...</td>\n",
              "    </tr>\n",
              "    <tr>\n",
              "      <th>148510</th>\n",
              "      <td>-0.745114</td>\n",
              "      <td>-0.121176</td>\n",
              "      <td>0.638118</td>\n",
              "      <td>-0.628706</td>\n",
              "      <td>-0.408084</td>\n",
              "      <td>0.096112</td>\n",
              "      <td>0.518219</td>\n",
              "      <td>-0.422750</td>\n",
              "      <td>0.203252</td>\n",
              "      <td>0.078130</td>\n",
              "      <td>-0.336635</td>\n",
              "      <td>0.288476</td>\n",
              "      <td>0.142604</td>\n",
              "      <td>dos</td>\n",
              "    </tr>\n",
              "    <tr>\n",
              "      <th>148511</th>\n",
              "      <td>-0.828475</td>\n",
              "      <td>-0.226192</td>\n",
              "      <td>-0.170238</td>\n",
              "      <td>0.320094</td>\n",
              "      <td>0.390840</td>\n",
              "      <td>-0.140440</td>\n",
              "      <td>-0.092445</td>\n",
              "      <td>0.016003</td>\n",
              "      <td>0.132751</td>\n",
              "      <td>-0.274037</td>\n",
              "      <td>0.017808</td>\n",
              "      <td>0.076274</td>\n",
              "      <td>-0.019839</td>\n",
              "      <td>normal</td>\n",
              "    </tr>\n",
              "    <tr>\n",
              "      <th>148512</th>\n",
              "      <td>-1.049307</td>\n",
              "      <td>-0.351544</td>\n",
              "      <td>-0.396084</td>\n",
              "      <td>-0.037051</td>\n",
              "      <td>-0.019923</td>\n",
              "      <td>0.134743</td>\n",
              "      <td>0.058345</td>\n",
              "      <td>-0.062198</td>\n",
              "      <td>0.027576</td>\n",
              "      <td>0.074528</td>\n",
              "      <td>-0.027545</td>\n",
              "      <td>0.004143</td>\n",
              "      <td>0.027365</td>\n",
              "      <td>normal</td>\n",
              "    </tr>\n",
              "    <tr>\n",
              "      <th>148513</th>\n",
              "      <td>-1.005687</td>\n",
              "      <td>-0.286393</td>\n",
              "      <td>-0.491145</td>\n",
              "      <td>-0.172798</td>\n",
              "      <td>0.005716</td>\n",
              "      <td>0.231617</td>\n",
              "      <td>0.079806</td>\n",
              "      <td>-0.155350</td>\n",
              "      <td>0.040089</td>\n",
              "      <td>0.106986</td>\n",
              "      <td>-0.038570</td>\n",
              "      <td>-0.008078</td>\n",
              "      <td>0.062295</td>\n",
              "      <td>dos</td>\n",
              "    </tr>\n",
              "    <tr>\n",
              "      <th>148514</th>\n",
              "      <td>-0.721211</td>\n",
              "      <td>-0.169021</td>\n",
              "      <td>0.034085</td>\n",
              "      <td>-0.753098</td>\n",
              "      <td>-0.332777</td>\n",
              "      <td>0.191829</td>\n",
              "      <td>-0.507982</td>\n",
              "      <td>0.133428</td>\n",
              "      <td>-0.089508</td>\n",
              "      <td>0.241641</td>\n",
              "      <td>-0.063088</td>\n",
              "      <td>-0.051173</td>\n",
              "      <td>0.040630</td>\n",
              "      <td>normal</td>\n",
              "    </tr>\n",
              "  </tbody>\n",
              "</table>\n",
              "<p>130440 rows × 14 columns</p>\n",
              "</div>"
            ],
            "text/plain": [
              "        column 0  column 1  column 2  ...  column 11  column 12  type_attack\n",
              "0      -0.210454  0.109517  0.558613  ...   0.219600   0.057662       normal\n",
              "1       0.295173  0.354357  0.747835  ...  -0.394146   0.136758       normal\n",
              "2       1.730388 -0.587896 -0.089366  ...   0.022367   0.014327          dos\n",
              "3      -1.010287 -0.469081 -0.215443  ...   0.015433   0.037358       normal\n",
              "4      -0.999356 -0.337932 -0.496051  ...   0.017770   0.016676       normal\n",
              "...          ...       ...       ...  ...        ...        ...          ...\n",
              "148510 -0.745114 -0.121176  0.638118  ...   0.288476   0.142604          dos\n",
              "148511 -0.828475 -0.226192 -0.170238  ...   0.076274  -0.019839       normal\n",
              "148512 -1.049307 -0.351544 -0.396084  ...   0.004143   0.027365       normal\n",
              "148513 -1.005687 -0.286393 -0.491145  ...  -0.008078   0.062295          dos\n",
              "148514 -0.721211 -0.169021  0.034085  ...  -0.051173   0.040630       normal\n",
              "\n",
              "[130440 rows x 14 columns]"
            ]
          },
          "metadata": {
            "tags": []
          },
          "execution_count": 118
        }
      ]
    },
    {
      "cell_type": "code",
      "metadata": {
        "id": "Y5APp03rMlnl",
        "colab_type": "code",
        "colab": {}
      },
      "source": [
        "start = time.time()\n",
        "\n",
        "clf.fit(X_train, y_train)\n",
        "\n",
        "stop = time.time()"
      ],
      "execution_count": 0,
      "outputs": []
    },
    {
      "cell_type": "code",
      "metadata": {
        "id": "Sj_W6SS1Mn6l",
        "colab_type": "code",
        "outputId": "6670ac21-8fe0-4c03-d1c4-a269df327fd9",
        "colab": {
          "base_uri": "https://localhost:8080/",
          "height": 34
        }
      },
      "source": [
        "print(f\"training time : {stop - start}s\")"
      ],
      "execution_count": 0,
      "outputs": [
        {
          "output_type": "stream",
          "text": [
            "training time : 57.73348879814148s\n"
          ],
          "name": "stdout"
        }
      ]
    },
    {
      "cell_type": "code",
      "metadata": {
        "id": "4s0XXc8GMpeD",
        "colab_type": "code",
        "outputId": "226d6e3b-40b3-4f05-ba12-05f45867a5e9",
        "colab": {
          "base_uri": "https://localhost:8080/",
          "height": 34
        }
      },
      "source": [
        "pred = clf.predict(X_test)\n",
        "accuracy_score(y_test,pred)"
      ],
      "execution_count": 0,
      "outputs": [
        {
          "output_type": "execute_result",
          "data": {
            "text/plain": [
              "0.9957068383931309"
            ]
          },
          "metadata": {
            "tags": []
          },
          "execution_count": 121
        }
      ]
    },
    {
      "cell_type": "markdown",
      "metadata": {
        "id": "Ry4tD_OqOFtm",
        "colab_type": "text"
      },
      "source": [
        "# 14 Fitur"
      ]
    },
    {
      "cell_type": "code",
      "metadata": {
        "id": "0gDdWELkODGn",
        "colab_type": "code",
        "colab": {}
      },
      "source": [
        "pca = PCA(n_components=14)\n",
        "dataset = pca.fit_transform(data_rescaled)\n",
        "\n",
        "df=pd.DataFrame(data=dataset[0:,0:], index=[i for i in range(dataset.shape[0])], columns=['column '+str(i) for i in range(dataset.shape[1])])\n",
        "df.head()\n",
        "\n",
        "data_all2 = pd.concat([df, data_attack], axis=1)\n",
        "data_normaldos = data_all2.loc[data_all2['type_attack'].isin(['normal','dos'])]\n",
        "\n",
        "X = data_normaldos.loc[:, :'column 13']\n",
        "y = data_normaldos.loc[:, 'type_attack']\n",
        "\n",
        "y = y.astype(str)\n",
        "\n",
        "temp = set(y)\n",
        "\n",
        "X_train, X_test, y_train, y_test = train_test_split(X, y, test_size=0.3, train_size =0.7, random_state=5)\n",
        "\n",
        "clf = MLPClassifier(random_state = 5)"
      ],
      "execution_count": 0,
      "outputs": []
    },
    {
      "cell_type": "code",
      "metadata": {
        "id": "mHMJmu53OMxS",
        "colab_type": "code",
        "colab": {}
      },
      "source": [
        "start = time.time()\n",
        "\n",
        "clf.fit(X_train, y_train)\n",
        "\n",
        "stop = time.time()"
      ],
      "execution_count": 0,
      "outputs": []
    },
    {
      "cell_type": "code",
      "metadata": {
        "id": "loRVJruOOO60",
        "colab_type": "code",
        "outputId": "2ff4e0e1-09fe-4f6a-e883-f13f97f02362",
        "colab": {
          "base_uri": "https://localhost:8080/",
          "height": 34
        }
      },
      "source": [
        "print(f\"training time : {stop - start}s\")"
      ],
      "execution_count": 0,
      "outputs": [
        {
          "output_type": "stream",
          "text": [
            "training time : 49.595258474349976s\n"
          ],
          "name": "stdout"
        }
      ]
    },
    {
      "cell_type": "code",
      "metadata": {
        "id": "fh-2sbapOQ8v",
        "colab_type": "code",
        "outputId": "47cca678-cffb-41bd-fa86-b3c800c89507",
        "colab": {
          "base_uri": "https://localhost:8080/",
          "height": 34
        }
      },
      "source": [
        "pred = clf.predict(X_test)\n",
        "accuracy_score(y_test,pred)"
      ],
      "execution_count": 0,
      "outputs": [
        {
          "output_type": "execute_result",
          "data": {
            "text/plain": [
              "0.9963201471941122"
            ]
          },
          "metadata": {
            "tags": []
          },
          "execution_count": 125
        }
      ]
    },
    {
      "cell_type": "markdown",
      "metadata": {
        "id": "_VV6sV0ZOT7q",
        "colab_type": "text"
      },
      "source": [
        "# 15 Fitur"
      ]
    },
    {
      "cell_type": "code",
      "metadata": {
        "id": "Ta6IyTXMOXhl",
        "colab_type": "code",
        "colab": {}
      },
      "source": [
        "pca = PCA(n_components=15)\n",
        "dataset = pca.fit_transform(data_rescaled)\n",
        "\n",
        "df=pd.DataFrame(data=dataset[0:,0:], index=[i for i in range(dataset.shape[0])], columns=['column '+str(i) for i in range(dataset.shape[1])])\n",
        "df.head()\n",
        "\n",
        "data_all2 = pd.concat([df, data_attack], axis=1)\n",
        "data_normaldos = data_all2.loc[data_all2['type_attack'].isin(['normal','dos'])]\n",
        "\n",
        "X = data_normaldos.loc[:, :'column 14']\n",
        "y = data_normaldos.loc[:, 'type_attack']\n",
        "\n",
        "y = y.astype(str)\n",
        "\n",
        "temp = set(y)\n",
        "\n",
        "X_train, X_test, y_train, y_test = train_test_split(X, y, test_size=0.3, train_size =0.7, random_state=5)\n",
        "\n",
        "clf = MLPClassifier(random_state = 5)"
      ],
      "execution_count": 0,
      "outputs": []
    },
    {
      "cell_type": "code",
      "metadata": {
        "id": "3y1Max9PObpN",
        "colab_type": "code",
        "colab": {}
      },
      "source": [
        "start = time.time()\n",
        "\n",
        "clf.fit(X_train, y_train)\n",
        "\n",
        "stop = time.time()"
      ],
      "execution_count": 0,
      "outputs": []
    },
    {
      "cell_type": "code",
      "metadata": {
        "id": "F6-awXqKOdNU",
        "colab_type": "code",
        "outputId": "986282ab-b262-4622-dcc0-a4aa267b04e2",
        "colab": {
          "base_uri": "https://localhost:8080/",
          "height": 34
        }
      },
      "source": [
        "print(f\"training time : {stop - start}s\")"
      ],
      "execution_count": 0,
      "outputs": [
        {
          "output_type": "stream",
          "text": [
            "training time : 58.5414719581604s\n"
          ],
          "name": "stdout"
        }
      ]
    },
    {
      "cell_type": "code",
      "metadata": {
        "id": "NnUceud3OelV",
        "colab_type": "code",
        "outputId": "3d33af30-8b00-4111-ea9f-bd058ea02ba5",
        "colab": {
          "base_uri": "https://localhost:8080/",
          "height": 34
        }
      },
      "source": [
        "pred = clf.predict(X_test)\n",
        "accuracy_score(y_test,pred)"
      ],
      "execution_count": 0,
      "outputs": [
        {
          "output_type": "execute_result",
          "data": {
            "text/plain": [
              "0.9959368291934989"
            ]
          },
          "metadata": {
            "tags": []
          },
          "execution_count": 129
        }
      ]
    },
    {
      "cell_type": "markdown",
      "metadata": {
        "id": "ou2lqMAROUVL",
        "colab_type": "text"
      },
      "source": [
        "# 16 Fitur"
      ]
    },
    {
      "cell_type": "code",
      "metadata": {
        "id": "bQEaesugOjev",
        "colab_type": "code",
        "colab": {}
      },
      "source": [
        "pca = PCA(n_components=16)\n",
        "dataset = pca.fit_transform(data_rescaled)\n",
        "\n",
        "df=pd.DataFrame(data=dataset[0:,0:], index=[i for i in range(dataset.shape[0])], columns=['column '+str(i) for i in range(dataset.shape[1])])\n",
        "df.head()\n",
        "\n",
        "data_all2 = pd.concat([df, data_attack], axis=1)\n",
        "data_normaldos = data_all2.loc[data_all2['type_attack'].isin(['normal','dos'])]\n",
        "\n",
        "X = data_normaldos.loc[:, :'column 15']\n",
        "y = data_normaldos.loc[:, 'type_attack']\n",
        "\n",
        "y = y.astype(str)\n",
        "\n",
        "temp = set(y)\n",
        "\n",
        "X_train, X_test, y_train, y_test = train_test_split(X, y, test_size=0.3, train_size =0.7, random_state=5)\n",
        "\n",
        "clf = MLPClassifier(random_state = 5)"
      ],
      "execution_count": 0,
      "outputs": []
    },
    {
      "cell_type": "code",
      "metadata": {
        "id": "wPULRkgDOpYa",
        "colab_type": "code",
        "colab": {}
      },
      "source": [
        "start = time.time()\n",
        "\n",
        "clf.fit(X_train, y_train)\n",
        "\n",
        "stop = time.time()"
      ],
      "execution_count": 0,
      "outputs": []
    },
    {
      "cell_type": "code",
      "metadata": {
        "id": "cyBzgvFFOqw6",
        "colab_type": "code",
        "outputId": "e943d363-244d-4c2b-cb30-b1865205960e",
        "colab": {
          "base_uri": "https://localhost:8080/",
          "height": 34
        }
      },
      "source": [
        "print(f\"training time : {stop - start}s\")"
      ],
      "execution_count": 0,
      "outputs": [
        {
          "output_type": "stream",
          "text": [
            "training time : 66.54730677604675s\n"
          ],
          "name": "stdout"
        }
      ]
    },
    {
      "cell_type": "code",
      "metadata": {
        "id": "dC3mgVL7Orh8",
        "colab_type": "code",
        "outputId": "d6522f36-1767-423f-f589-c854aea388d7",
        "colab": {
          "base_uri": "https://localhost:8080/",
          "height": 34
        }
      },
      "source": [
        "pred = clf.predict(X_test)\n",
        "accuracy_score(y_test,pred)"
      ],
      "execution_count": 0,
      "outputs": [
        {
          "output_type": "execute_result",
          "data": {
            "text/plain": [
              "0.9956301747930083"
            ]
          },
          "metadata": {
            "tags": []
          },
          "execution_count": 133
        }
      ]
    },
    {
      "cell_type": "markdown",
      "metadata": {
        "id": "THyHfo7OOVRW",
        "colab_type": "text"
      },
      "source": [
        "# 17 Fitur"
      ]
    },
    {
      "cell_type": "code",
      "metadata": {
        "id": "5DBSRLsVOy1e",
        "colab_type": "code",
        "colab": {}
      },
      "source": [
        "pca = PCA(n_components=17)\n",
        "dataset = pca.fit_transform(data_rescaled)\n",
        "\n",
        "df=pd.DataFrame(data=dataset[0:,0:], index=[i for i in range(dataset.shape[0])], columns=['column '+str(i) for i in range(dataset.shape[1])])\n",
        "df.head()\n",
        "\n",
        "data_all2 = pd.concat([df, data_attack], axis=1)\n",
        "data_normaldos = data_all2.loc[data_all2['type_attack'].isin(['normal','dos'])]\n",
        "\n",
        "X = data_normaldos.loc[:, :'column 16']\n",
        "y = data_normaldos.loc[:, 'type_attack']\n",
        "\n",
        "y = y.astype(str)\n",
        "\n",
        "temp = set(y)\n",
        "\n",
        "X_train, X_test, y_train, y_test = train_test_split(X, y, test_size=0.3, train_size =0.7, random_state=5)\n",
        "\n",
        "clf = MLPClassifier(random_state = 5)"
      ],
      "execution_count": 0,
      "outputs": []
    },
    {
      "cell_type": "code",
      "metadata": {
        "id": "RH5P9gTmO2w7",
        "colab_type": "code",
        "colab": {}
      },
      "source": [
        "start = time.time()\n",
        "\n",
        "clf.fit(X_train, y_train)\n",
        "\n",
        "stop = time.time()"
      ],
      "execution_count": 0,
      "outputs": []
    },
    {
      "cell_type": "code",
      "metadata": {
        "id": "1jZj-89cO6oU",
        "colab_type": "code",
        "outputId": "f6e1a6f5-30c3-45ee-98cf-811f22bfccc2",
        "colab": {
          "base_uri": "https://localhost:8080/",
          "height": 34
        }
      },
      "source": [
        "print(f\"training time : {stop - start}s\")"
      ],
      "execution_count": 0,
      "outputs": [
        {
          "output_type": "stream",
          "text": [
            "training time : 63.220704317092896s\n"
          ],
          "name": "stdout"
        }
      ]
    },
    {
      "cell_type": "code",
      "metadata": {
        "id": "_S9-WbonO8aD",
        "colab_type": "code",
        "outputId": "068aee92-36bb-4dc1-dd1d-28f60a330057",
        "colab": {
          "base_uri": "https://localhost:8080/",
          "height": 34
        }
      },
      "source": [
        "pred = clf.predict(X_test)\n",
        "accuracy_score(y_test,pred)"
      ],
      "execution_count": 0,
      "outputs": [
        {
          "output_type": "execute_result",
          "data": {
            "text/plain": [
              "0.9964223653276091"
            ]
          },
          "metadata": {
            "tags": []
          },
          "execution_count": 137
        }
      ]
    },
    {
      "cell_type": "markdown",
      "metadata": {
        "id": "EhYY2EFgOVJ9",
        "colab_type": "text"
      },
      "source": [
        "# 19 Fitur"
      ]
    },
    {
      "cell_type": "code",
      "metadata": {
        "id": "arLchAgWPH1j",
        "colab_type": "code",
        "colab": {}
      },
      "source": [
        "pca = PCA(n_components=19)\n",
        "dataset = pca.fit_transform(data_rescaled)\n",
        "\n",
        "df=pd.DataFrame(data=dataset[0:,0:], index=[i for i in range(dataset.shape[0])], columns=['column '+str(i) for i in range(dataset.shape[1])])\n",
        "df.head()\n",
        "\n",
        "data_all2 = pd.concat([df, data_attack], axis=1)\n",
        "data_normaldos = data_all2.loc[data_all2['type_attack'].isin(['normal','dos'])]\n",
        "\n",
        "X = data_normaldos.loc[:, :'column 18']\n",
        "y = data_normaldos.loc[:, 'type_attack']\n",
        "\n",
        "y = y.astype(str)\n",
        "\n",
        "temp = set(y)\n",
        "\n",
        "X_train, X_test, y_train, y_test = train_test_split(X, y, test_size=0.3, train_size =0.7, random_state=5)\n",
        "\n",
        "clf = MLPClassifier(random_state = 5)"
      ],
      "execution_count": 0,
      "outputs": []
    },
    {
      "cell_type": "code",
      "metadata": {
        "id": "LJqoOnOLRNg-",
        "colab_type": "code",
        "colab": {}
      },
      "source": [
        "start = time.time()\n",
        "\n",
        "clf.fit(X_train, y_train)\n",
        "\n",
        "stop = time.time()"
      ],
      "execution_count": 0,
      "outputs": []
    },
    {
      "cell_type": "code",
      "metadata": {
        "id": "3YWt5OQ8RPKI",
        "colab_type": "code",
        "outputId": "3b14cbd4-ba71-466b-8d9a-acf0c1247f67",
        "colab": {
          "base_uri": "https://localhost:8080/",
          "height": 34
        }
      },
      "source": [
        "print(f\"training time : {stop - start}s\")\n"
      ],
      "execution_count": 0,
      "outputs": [
        {
          "output_type": "stream",
          "text": [
            "training time : 62.333287954330444s\n"
          ],
          "name": "stdout"
        }
      ]
    },
    {
      "cell_type": "code",
      "metadata": {
        "id": "F3sRoypzRPTG",
        "colab_type": "code",
        "outputId": "fdddec4e-93cb-4a2a-bc0a-cd0166746f79",
        "colab": {
          "base_uri": "https://localhost:8080/",
          "height": 34
        }
      },
      "source": [
        "pred = clf.predict(X_test)\n",
        "accuracy_score(y_test,pred)"
      ],
      "execution_count": 0,
      "outputs": [
        {
          "output_type": "execute_result",
          "data": {
            "text/plain": [
              "0.9966268015946029"
            ]
          },
          "metadata": {
            "tags": []
          },
          "execution_count": 141
        }
      ]
    },
    {
      "cell_type": "markdown",
      "metadata": {
        "id": "_Iz5U_-wOVGp",
        "colab_type": "text"
      },
      "source": [
        "# 20 Fitur"
      ]
    },
    {
      "cell_type": "code",
      "metadata": {
        "id": "59ygAskTPLpi",
        "colab_type": "code",
        "colab": {}
      },
      "source": [
        "pca = PCA(n_components=20)\n",
        "dataset = pca.fit_transform(data_rescaled)\n",
        "\n",
        "df=pd.DataFrame(data=dataset[0:,0:], index=[i for i in range(dataset.shape[0])], columns=['column '+str(i) for i in range(dataset.shape[1])])\n",
        "df.head()\n",
        "\n",
        "data_all2 = pd.concat([df, data_attack], axis=1)\n",
        "data_normaldos = data_all2.loc[data_all2['type_attack'].isin(['normal','dos'])]\n",
        "\n",
        "X = data_normaldos.loc[:, :'column 19']\n",
        "y = data_normaldos.loc[:, 'type_attack']\n",
        "\n",
        "y = y.astype(str)\n",
        "\n",
        "temp = set(y)\n",
        "\n",
        "X_train, X_test, y_train, y_test = train_test_split(X, y, test_size=0.3, train_size =0.7, random_state=5)\n",
        "\n",
        "clf = MLPClassifier(random_state = 5)"
      ],
      "execution_count": 0,
      "outputs": []
    },
    {
      "cell_type": "code",
      "metadata": {
        "id": "Ms1t5Z5sRboN",
        "colab_type": "code",
        "colab": {}
      },
      "source": [
        "start = time.time()\n",
        "\n",
        "clf.fit(X_train, y_train)\n",
        "\n",
        "stop = time.time()"
      ],
      "execution_count": 0,
      "outputs": []
    },
    {
      "cell_type": "code",
      "metadata": {
        "id": "mjIC0mnERbt2",
        "colab_type": "code",
        "outputId": "b9e20e4c-9800-4759-fdc8-f0945f7c7f37",
        "colab": {
          "base_uri": "https://localhost:8080/",
          "height": 34
        }
      },
      "source": [
        "print(f\"training time : {stop - start}s\")\n"
      ],
      "execution_count": 0,
      "outputs": [
        {
          "output_type": "stream",
          "text": [
            "training time : 40.759321212768555s\n"
          ],
          "name": "stdout"
        }
      ]
    },
    {
      "cell_type": "code",
      "metadata": {
        "id": "lP-QHEWcRbza",
        "colab_type": "code",
        "outputId": "6b637aa2-1e08-47d4-be08-a9a62f366c14",
        "colab": {
          "base_uri": "https://localhost:8080/",
          "height": 34
        }
      },
      "source": [
        "pred = clf.predict(X_test)\n",
        "accuracy_score(y_test,pred)"
      ],
      "execution_count": 0,
      "outputs": [
        {
          "output_type": "execute_result",
          "data": {
            "text/plain": [
              "0.9964223653276091"
            ]
          },
          "metadata": {
            "tags": []
          },
          "execution_count": 145
        }
      ]
    },
    {
      "cell_type": "markdown",
      "metadata": {
        "id": "Wa7nnd9uOVDS",
        "colab_type": "text"
      },
      "source": [
        "# 21 Fitur"
      ]
    },
    {
      "cell_type": "code",
      "metadata": {
        "id": "M3eo0Z-uPRfK",
        "colab_type": "code",
        "colab": {}
      },
      "source": [
        "pca = PCA(n_components=21)\n",
        "dataset = pca.fit_transform(data_rescaled)\n",
        "\n",
        "df=pd.DataFrame(data=dataset[0:,0:], index=[i for i in range(dataset.shape[0])], columns=['column '+str(i) for i in range(dataset.shape[1])])\n",
        "df.head()\n",
        "\n",
        "data_all2 = pd.concat([df, data_attack], axis=1)\n",
        "data_normaldos = data_all2.loc[data_all2['type_attack'].isin(['normal','dos'])]\n",
        "\n",
        "X = data_normaldos.loc[:, :'column 20']\n",
        "y = data_normaldos.loc[:, 'type_attack']\n",
        "\n",
        "y = y.astype(str)\n",
        "\n",
        "temp = set(y)\n",
        "\n",
        "X_train, X_test, y_train, y_test = train_test_split(X, y, test_size=0.3, train_size =0.7, random_state=5)\n",
        "\n",
        "clf = MLPClassifier(random_state = 5)"
      ],
      "execution_count": 0,
      "outputs": []
    },
    {
      "cell_type": "code",
      "metadata": {
        "id": "yWJo5r07RhNh",
        "colab_type": "code",
        "colab": {}
      },
      "source": [
        "start = time.time()\n",
        "\n",
        "clf.fit(X_train, y_train)\n",
        "\n",
        "stop = time.time()"
      ],
      "execution_count": 0,
      "outputs": []
    },
    {
      "cell_type": "code",
      "metadata": {
        "id": "vf5zXoLzRhYa",
        "colab_type": "code",
        "outputId": "19e9bfe1-d3af-4492-cc9c-9d6f13dd4d77",
        "colab": {
          "base_uri": "https://localhost:8080/",
          "height": 34
        }
      },
      "source": [
        "print(f\"training time : {stop - start}s\")\n"
      ],
      "execution_count": 0,
      "outputs": [
        {
          "output_type": "stream",
          "text": [
            "training time : 51.108516693115234s\n"
          ],
          "name": "stdout"
        }
      ]
    },
    {
      "cell_type": "code",
      "metadata": {
        "id": "DzaK_56KRhUK",
        "colab_type": "code",
        "outputId": "2d71c08f-84f3-434f-c360-49ac076fb443",
        "colab": {
          "base_uri": "https://localhost:8080/",
          "height": 34
        }
      },
      "source": [
        "pred = clf.predict(X_test)\n",
        "accuracy_score(y_test,pred)"
      ],
      "execution_count": 0,
      "outputs": [
        {
          "output_type": "execute_result",
          "data": {
            "text/plain": [
              "0.9970356741285904"
            ]
          },
          "metadata": {
            "tags": []
          },
          "execution_count": 149
        }
      ]
    },
    {
      "cell_type": "markdown",
      "metadata": {
        "id": "lKUOyLM2OUjY",
        "colab_type": "text"
      },
      "source": [
        "# 22 Fitur"
      ]
    },
    {
      "cell_type": "code",
      "metadata": {
        "id": "Pu41f5HKPWUc",
        "colab_type": "code",
        "colab": {}
      },
      "source": [
        "pca = PCA(n_components=22)\n",
        "dataset = pca.fit_transform(data_rescaled)\n",
        "\n",
        "df=pd.DataFrame(data=dataset[0:,0:], index=[i for i in range(dataset.shape[0])], columns=['column '+str(i) for i in range(dataset.shape[1])])\n",
        "df.head()\n",
        "\n",
        "data_all2 = pd.concat([df, data_attack], axis=1)\n",
        "data_normaldos = data_all2.loc[data_all2['type_attack'].isin(['normal','dos'])]\n",
        "\n",
        "X = data_normaldos.loc[:, :'column 21']\n",
        "y = data_normaldos.loc[:, 'type_attack']\n",
        "\n",
        "y = y.astype(str)\n",
        "\n",
        "temp = set(y)\n",
        "\n",
        "X_train, X_test, y_train, y_test = train_test_split(X, y, test_size=0.3, train_size =0.7, random_state=5)\n",
        "\n",
        "clf = MLPClassifier(random_state = 5)"
      ],
      "execution_count": 0,
      "outputs": []
    },
    {
      "cell_type": "code",
      "metadata": {
        "id": "IVF7ZQ_oRlQM",
        "colab_type": "code",
        "colab": {}
      },
      "source": [
        "start = time.time()\n",
        "\n",
        "clf.fit(X_train, y_train)\n",
        "\n",
        "stop = time.time()"
      ],
      "execution_count": 0,
      "outputs": []
    },
    {
      "cell_type": "code",
      "metadata": {
        "id": "H3tNgmSGRlaj",
        "colab_type": "code",
        "outputId": "60d7dc73-f301-4d44-b7c9-3d64be9943c5",
        "colab": {
          "base_uri": "https://localhost:8080/",
          "height": 34
        }
      },
      "source": [
        "print(f\"training time : {stop - start}s\")"
      ],
      "execution_count": 0,
      "outputs": [
        {
          "output_type": "stream",
          "text": [
            "training time : 58.5711555480957s\n"
          ],
          "name": "stdout"
        }
      ]
    },
    {
      "cell_type": "code",
      "metadata": {
        "id": "H2HJYXtURlVg",
        "colab_type": "code",
        "outputId": "d3c35d57-4fa1-4022-8d9b-db4eec9dae67",
        "colab": {
          "base_uri": "https://localhost:8080/",
          "height": 34
        }
      },
      "source": [
        "pred = clf.predict(X_test)\n",
        "accuracy_score(y_test,pred)"
      ],
      "execution_count": 0,
      "outputs": [
        {
          "output_type": "execute_result",
          "data": {
            "text/plain": [
              "0.9971634467954615"
            ]
          },
          "metadata": {
            "tags": []
          },
          "execution_count": 153
        }
      ]
    },
    {
      "cell_type": "markdown",
      "metadata": {
        "id": "jENIP8VZPeIG",
        "colab_type": "text"
      },
      "source": [
        "# 23 Fitur"
      ]
    },
    {
      "cell_type": "code",
      "metadata": {
        "id": "UK2hbuEnPmEM",
        "colab_type": "code",
        "colab": {}
      },
      "source": [
        "pca = PCA(n_components=23)\n",
        "dataset = pca.fit_transform(data_rescaled)\n",
        "\n",
        "df=pd.DataFrame(data=dataset[0:,0:], index=[i for i in range(dataset.shape[0])], columns=['column '+str(i) for i in range(dataset.shape[1])])\n",
        "df.head()\n",
        "\n",
        "data_all2 = pd.concat([df, data_attack], axis=1)\n",
        "data_normaldos = data_all2.loc[data_all2['type_attack'].isin(['normal','dos'])]\n",
        "\n",
        "X = data_normaldos.loc[:, :'column 22']\n",
        "y = data_normaldos.loc[:, 'type_attack']\n",
        "\n",
        "y = y.astype(str)\n",
        "\n",
        "temp = set(y)\n",
        "\n",
        "X_train, X_test, y_train, y_test = train_test_split(X, y, test_size=0.3, train_size =0.7, random_state=5)\n",
        "\n",
        "clf = MLPClassifier(random_state = 5)"
      ],
      "execution_count": 0,
      "outputs": []
    },
    {
      "cell_type": "code",
      "metadata": {
        "id": "xPBZHqKdRppL",
        "colab_type": "code",
        "colab": {}
      },
      "source": [
        "start = time.time()\n",
        "\n",
        "clf.fit(X_train, y_train)\n",
        "\n",
        "stop = time.time()"
      ],
      "execution_count": 0,
      "outputs": []
    },
    {
      "cell_type": "code",
      "metadata": {
        "id": "JAXZfqHDRpxv",
        "colab_type": "code",
        "outputId": "887f5795-ed52-4f84-e6fe-fc6007ca18d3",
        "colab": {
          "base_uri": "https://localhost:8080/",
          "height": 34
        }
      },
      "source": [
        "print(f\"training time : {stop - start}s\")"
      ],
      "execution_count": 0,
      "outputs": [
        {
          "output_type": "stream",
          "text": [
            "training time : 50.7208194732666s\n"
          ],
          "name": "stdout"
        }
      ]
    },
    {
      "cell_type": "code",
      "metadata": {
        "id": "dlWJT652Rpuv",
        "colab_type": "code",
        "outputId": "0e14a6be-9027-4e2d-f193-2b223ff719de",
        "colab": {
          "base_uri": "https://localhost:8080/",
          "height": 34
        }
      },
      "source": [
        "pred = clf.predict(X_test)\n",
        "accuracy_score(y_test,pred)"
      ],
      "execution_count": 0,
      "outputs": [
        {
          "output_type": "execute_result",
          "data": {
            "text/plain": [
              "0.9969590105284678"
            ]
          },
          "metadata": {
            "tags": []
          },
          "execution_count": 157
        }
      ]
    },
    {
      "cell_type": "markdown",
      "metadata": {
        "id": "vSRA05vePfDU",
        "colab_type": "text"
      },
      "source": [
        "# 24 Fitur"
      ]
    },
    {
      "cell_type": "code",
      "metadata": {
        "id": "97Ne5yrfPpo5",
        "colab_type": "code",
        "colab": {}
      },
      "source": [
        "pca = PCA(n_components=24)\n",
        "dataset = pca.fit_transform(data_rescaled)\n",
        "\n",
        "df=pd.DataFrame(data=dataset[0:,0:], index=[i for i in range(dataset.shape[0])], columns=['column '+str(i) for i in range(dataset.shape[1])])\n",
        "df.head()\n",
        "\n",
        "data_all2 = pd.concat([df, data_attack], axis=1)\n",
        "data_normaldos = data_all2.loc[data_all2['type_attack'].isin(['normal','dos'])]\n",
        "\n",
        "X = data_normaldos.loc[:, :'column 23']\n",
        "y = data_normaldos.loc[:, 'type_attack']\n",
        "\n",
        "y = y.astype(str)\n",
        "\n",
        "temp = set(y)\n",
        "\n",
        "X_train, X_test, y_train, y_test = train_test_split(X, y, test_size=0.3, train_size =0.7, random_state=5)\n",
        "\n",
        "clf = MLPClassifier(random_state = 5)"
      ],
      "execution_count": 0,
      "outputs": []
    },
    {
      "cell_type": "code",
      "metadata": {
        "id": "5Lb7maS3Rq93",
        "colab_type": "code",
        "colab": {}
      },
      "source": [
        "start = time.time()\n",
        "\n",
        "clf.fit(X_train, y_train)\n",
        "\n",
        "stop = time.time()"
      ],
      "execution_count": 0,
      "outputs": []
    },
    {
      "cell_type": "code",
      "metadata": {
        "id": "4L6p-IDSRq65",
        "colab_type": "code",
        "outputId": "a1cd4c4f-eb1c-460b-c0ae-28fd5a653eee",
        "colab": {
          "base_uri": "https://localhost:8080/",
          "height": 34
        }
      },
      "source": [
        "print(f\"training time : {stop - start}s\")"
      ],
      "execution_count": 0,
      "outputs": [
        {
          "output_type": "stream",
          "text": [
            "training time : 56.631887674331665s\n"
          ],
          "name": "stdout"
        }
      ]
    },
    {
      "cell_type": "code",
      "metadata": {
        "id": "YaGoxo9zRq38",
        "colab_type": "code",
        "outputId": "6c49ebe7-477f-47d5-f72a-165bf776472e",
        "colab": {
          "base_uri": "https://localhost:8080/",
          "height": 34
        }
      },
      "source": [
        "pred = clf.predict(X_test)\n",
        "accuracy_score(y_test,pred)"
      ],
      "execution_count": 0,
      "outputs": [
        {
          "output_type": "execute_result",
          "data": {
            "text/plain": [
              "0.9971378922620873"
            ]
          },
          "metadata": {
            "tags": []
          },
          "execution_count": 161
        }
      ]
    },
    {
      "cell_type": "markdown",
      "metadata": {
        "id": "6T2bHqYLPfNj",
        "colab_type": "text"
      },
      "source": [
        "# 25 Fitur"
      ]
    },
    {
      "cell_type": "code",
      "metadata": {
        "id": "vB27HtW6Pt98",
        "colab_type": "code",
        "colab": {}
      },
      "source": [
        "pca = PCA(n_components=25)\n",
        "dataset = pca.fit_transform(data_rescaled)\n",
        "\n",
        "df=pd.DataFrame(data=dataset[0:,0:], index=[i for i in range(dataset.shape[0])], columns=['column '+str(i) for i in range(dataset.shape[1])])\n",
        "df.head()\n",
        "\n",
        "data_all2 = pd.concat([df, data_attack], axis=1)\n",
        "data_normaldos = data_all2.loc[data_all2['type_attack'].isin(['normal','dos'])]\n",
        "\n",
        "X = data_normaldos.loc[:, :'column 24']\n",
        "y = data_normaldos.loc[:, 'type_attack']\n",
        "\n",
        "y = y.astype(str)\n",
        "\n",
        "temp = set(y)\n",
        "\n",
        "X_train, X_test, y_train, y_test = train_test_split(X, y, test_size=0.3, train_size =0.7, random_state=5)\n",
        "\n",
        "clf = MLPClassifier(random_state = 5)"
      ],
      "execution_count": 0,
      "outputs": []
    },
    {
      "cell_type": "code",
      "metadata": {
        "id": "M2xpa8F9Rr6r",
        "colab_type": "code",
        "colab": {}
      },
      "source": [
        "start = time.time()\n",
        "\n",
        "clf.fit(X_train, y_train)\n",
        "\n",
        "stop = time.time()"
      ],
      "execution_count": 0,
      "outputs": []
    },
    {
      "cell_type": "code",
      "metadata": {
        "id": "YDzaGZxdRr3m",
        "colab_type": "code",
        "outputId": "54f84914-d5f9-488b-d446-a77d1ef9b28e",
        "colab": {
          "base_uri": "https://localhost:8080/",
          "height": 34
        }
      },
      "source": [
        "print(f\"training time : {stop - start}s\")"
      ],
      "execution_count": 0,
      "outputs": [
        {
          "output_type": "stream",
          "text": [
            "training time : 53.78609037399292s\n"
          ],
          "name": "stdout"
        }
      ]
    },
    {
      "cell_type": "code",
      "metadata": {
        "id": "5s2yKKyRRr0M",
        "colab_type": "code",
        "outputId": "f82bec82-f2c5-471e-8c30-03255e30cd66",
        "colab": {
          "base_uri": "https://localhost:8080/",
          "height": 34
        }
      },
      "source": [
        "pred = clf.predict(X_test)\n",
        "accuracy_score(y_test,pred)"
      ],
      "execution_count": 0,
      "outputs": [
        {
          "output_type": "execute_result",
          "data": {
            "text/plain": [
              "0.9969334559950935"
            ]
          },
          "metadata": {
            "tags": []
          },
          "execution_count": 165
        }
      ]
    },
    {
      "cell_type": "markdown",
      "metadata": {
        "id": "dSfu5FM1PgPu",
        "colab_type": "text"
      },
      "source": [
        "# 26 Fitur"
      ]
    },
    {
      "cell_type": "code",
      "metadata": {
        "id": "qzOaLme_Pxlk",
        "colab_type": "code",
        "colab": {}
      },
      "source": [
        "pca = PCA(n_components=26)\n",
        "dataset = pca.fit_transform(data_rescaled)\n",
        "\n",
        "df=pd.DataFrame(data=dataset[0:,0:], index=[i for i in range(dataset.shape[0])], columns=['column '+str(i) for i in range(dataset.shape[1])])\n",
        "df.head()\n",
        "\n",
        "data_all2 = pd.concat([df, data_attack], axis=1)\n",
        "data_normaldos = data_all2.loc[data_all2['type_attack'].isin(['normal','dos'])]\n",
        "\n",
        "X = data_normaldos.loc[:, :'column 25']\n",
        "y = data_normaldos.loc[:, 'type_attack']\n",
        "\n",
        "y = y.astype(str)\n",
        "\n",
        "temp = set(y)\n",
        "\n",
        "X_train, X_test, y_train, y_test = train_test_split(X, y, test_size=0.3, train_size =0.7, random_state=5)\n",
        "\n",
        "clf = MLPClassifier(random_state = 5)"
      ],
      "execution_count": 0,
      "outputs": []
    },
    {
      "cell_type": "code",
      "metadata": {
        "id": "kZ88bmq1Rs10",
        "colab_type": "code",
        "colab": {}
      },
      "source": [
        "start = time.time()\n",
        "\n",
        "clf.fit(X_train, y_train)\n",
        "\n",
        "stop = time.time()"
      ],
      "execution_count": 0,
      "outputs": []
    },
    {
      "cell_type": "code",
      "metadata": {
        "id": "_WxMKQSbRsyy",
        "colab_type": "code",
        "outputId": "22544e3e-4ae2-48b2-974a-4ca43788210f",
        "colab": {
          "base_uri": "https://localhost:8080/",
          "height": 34
        }
      },
      "source": [
        "print(f\"training time : {stop - start}s\")"
      ],
      "execution_count": 0,
      "outputs": [
        {
          "output_type": "stream",
          "text": [
            "training time : 43.833905935287476s\n"
          ],
          "name": "stdout"
        }
      ]
    },
    {
      "cell_type": "code",
      "metadata": {
        "id": "5IM4qQcYRswH",
        "colab_type": "code",
        "outputId": "da9a23bf-5915-44b0-ed0c-44ccccef91ca",
        "colab": {
          "base_uri": "https://localhost:8080/",
          "height": 34
        }
      },
      "source": [
        "pred = clf.predict(X_test)\n",
        "accuracy_score(y_test,pred)"
      ],
      "execution_count": 0,
      "outputs": [
        {
          "output_type": "execute_result",
          "data": {
            "text/plain": [
              "0.9965756925278545"
            ]
          },
          "metadata": {
            "tags": []
          },
          "execution_count": 169
        }
      ]
    },
    {
      "cell_type": "markdown",
      "metadata": {
        "id": "oNXChJm0Pgbq",
        "colab_type": "text"
      },
      "source": [
        "# 27 Fitur"
      ]
    },
    {
      "cell_type": "code",
      "metadata": {
        "id": "VUygjYWoP3FL",
        "colab_type": "code",
        "colab": {}
      },
      "source": [
        "pca = PCA(n_components=27)\n",
        "dataset = pca.fit_transform(data_rescaled)\n",
        "\n",
        "df=pd.DataFrame(data=dataset[0:,0:], index=[i for i in range(dataset.shape[0])], columns=['column '+str(i) for i in range(dataset.shape[1])])\n",
        "df.head()\n",
        "\n",
        "data_all2 = pd.concat([df, data_attack], axis=1)\n",
        "data_normaldos = data_all2.loc[data_all2['type_attack'].isin(['normal','dos'])]\n",
        "\n",
        "X = data_normaldos.loc[:, :'column 26']\n",
        "y = data_normaldos.loc[:, 'type_attack']\n",
        "\n",
        "y = y.astype(str)\n",
        "\n",
        "temp = set(y)\n",
        "\n",
        "X_train, X_test, y_train, y_test = train_test_split(X, y, test_size=0.3, train_size =0.7, random_state=5)\n",
        "\n",
        "clf = MLPClassifier(random_state = 5)"
      ],
      "execution_count": 0,
      "outputs": []
    },
    {
      "cell_type": "code",
      "metadata": {
        "id": "xJK7EcvoRyeT",
        "colab_type": "code",
        "colab": {}
      },
      "source": [
        "start = time.time()\n",
        "\n",
        "clf.fit(X_train, y_train)\n",
        "\n",
        "stop = time.time()"
      ],
      "execution_count": 0,
      "outputs": []
    },
    {
      "cell_type": "code",
      "metadata": {
        "id": "Z_N1l0lRRynF",
        "colab_type": "code",
        "outputId": "f156c553-9438-4216-d65a-45ee4a2bc285",
        "colab": {
          "base_uri": "https://localhost:8080/",
          "height": 34
        }
      },
      "source": [
        "print(f\"training time : {stop - start}s\")"
      ],
      "execution_count": 0,
      "outputs": [
        {
          "output_type": "stream",
          "text": [
            "training time : 50.628225326538086s\n"
          ],
          "name": "stdout"
        }
      ]
    },
    {
      "cell_type": "code",
      "metadata": {
        "id": "D07YT2S2RykB",
        "colab_type": "code",
        "outputId": "9c3000bc-da31-45f6-827d-d6d95c89608c",
        "colab": {
          "base_uri": "https://localhost:8080/",
          "height": 34
        }
      },
      "source": [
        "pred = clf.predict(X_test)\n",
        "accuracy_score(y_test,pred)"
      ],
      "execution_count": 0,
      "outputs": [
        {
          "output_type": "execute_result",
          "data": {
            "text/plain": [
              "0.9970867831953388"
            ]
          },
          "metadata": {
            "tags": []
          },
          "execution_count": 173
        }
      ]
    },
    {
      "cell_type": "markdown",
      "metadata": {
        "id": "FwjzTH-gPgqG",
        "colab_type": "text"
      },
      "source": [
        "# 28 Fitur"
      ]
    },
    {
      "cell_type": "code",
      "metadata": {
        "id": "bkbn8cVtP7bo",
        "colab_type": "code",
        "colab": {}
      },
      "source": [
        "pca = PCA(n_components=28)\n",
        "dataset = pca.fit_transform(data_rescaled)\n",
        "\n",
        "df=pd.DataFrame(data=dataset[0:,0:], index=[i for i in range(dataset.shape[0])], columns=['column '+str(i) for i in range(dataset.shape[1])])\n",
        "df.head()\n",
        "\n",
        "data_all2 = pd.concat([df, data_attack], axis=1)\n",
        "data_normaldos = data_all2.loc[data_all2['type_attack'].isin(['normal','dos'])]\n",
        "\n",
        "X = data_normaldos.loc[:, :'column 27']\n",
        "y = data_normaldos.loc[:, 'type_attack']\n",
        "\n",
        "y = y.astype(str)\n",
        "\n",
        "temp = set(y)\n",
        "\n",
        "X_train, X_test, y_train, y_test = train_test_split(X, y, test_size=0.3, train_size =0.7, random_state=5)\n",
        "\n",
        "clf = MLPClassifier(random_state = 5)"
      ],
      "execution_count": 0,
      "outputs": []
    },
    {
      "cell_type": "code",
      "metadata": {
        "id": "uoaWMFEUR0d2",
        "colab_type": "code",
        "colab": {}
      },
      "source": [
        "start = time.time()\n",
        "\n",
        "clf.fit(X_train, y_train)\n",
        "\n",
        "stop = time.time()"
      ],
      "execution_count": 0,
      "outputs": []
    },
    {
      "cell_type": "code",
      "metadata": {
        "id": "sTBgKfSCR0Zm",
        "colab_type": "code",
        "outputId": "028149bd-5e25-4bdf-e333-46bcaea62b55",
        "colab": {
          "base_uri": "https://localhost:8080/",
          "height": 34
        }
      },
      "source": [
        "print(f\"training time : {stop - start}s\")"
      ],
      "execution_count": 0,
      "outputs": [
        {
          "output_type": "stream",
          "text": [
            "training time : 62.24335980415344s\n"
          ],
          "name": "stdout"
        }
      ]
    },
    {
      "cell_type": "code",
      "metadata": {
        "id": "5cNbjbJUR0Vw",
        "colab_type": "code",
        "outputId": "f62eccc2-818a-4e23-cf6e-fe6d0b1c2f29",
        "colab": {
          "base_uri": "https://localhost:8080/",
          "height": 34
        }
      },
      "source": [
        "pred = clf.predict(X_test)\n",
        "accuracy_score(y_test,pred)"
      ],
      "execution_count": 0,
      "outputs": [
        {
          "output_type": "execute_result",
          "data": {
            "text/plain": [
              "0.9974956557293264"
            ]
          },
          "metadata": {
            "tags": []
          },
          "execution_count": 177
        }
      ]
    },
    {
      "cell_type": "markdown",
      "metadata": {
        "id": "jwfhzBVBPhGJ",
        "colab_type": "text"
      },
      "source": [
        "# 29 Fitur"
      ]
    },
    {
      "cell_type": "code",
      "metadata": {
        "id": "l_KcLBttQAaV",
        "colab_type": "code",
        "colab": {}
      },
      "source": [
        "pca = PCA(n_components=29)\n",
        "dataset = pca.fit_transform(data_rescaled)\n",
        "\n",
        "df=pd.DataFrame(data=dataset[0:,0:], index=[i for i in range(dataset.shape[0])], columns=['column '+str(i) for i in range(dataset.shape[1])])\n",
        "df.head()\n",
        "\n",
        "data_all2 = pd.concat([df, data_attack], axis=1)\n",
        "data_normaldos = data_all2.loc[data_all2['type_attack'].isin(['normal','dos'])]\n",
        "\n",
        "X = data_normaldos.loc[:, :'column 28']\n",
        "y = data_normaldos.loc[:, 'type_attack']\n",
        "\n",
        "y = y.astype(str)\n",
        "\n",
        "temp = set(y)\n",
        "\n",
        "X_train, X_test, y_train, y_test = train_test_split(X, y, test_size=0.3, train_size =0.7, random_state=5)\n",
        "\n",
        "clf = MLPClassifier(random_state = 5)"
      ],
      "execution_count": 0,
      "outputs": []
    },
    {
      "cell_type": "code",
      "metadata": {
        "id": "BdPgmjiAR1Of",
        "colab_type": "code",
        "colab": {}
      },
      "source": [
        "start = time.time()\n",
        "\n",
        "clf.fit(X_train, y_train)\n",
        "\n",
        "stop = time.time()"
      ],
      "execution_count": 0,
      "outputs": []
    },
    {
      "cell_type": "code",
      "metadata": {
        "id": "Y8u_Qf1uR1ab",
        "colab_type": "code",
        "outputId": "c7cc7ca3-f318-4a21-a0d3-09b334014e6e",
        "colab": {
          "base_uri": "https://localhost:8080/",
          "height": 34
        }
      },
      "source": [
        "print(f\"training time : {stop - start}s\")"
      ],
      "execution_count": 0,
      "outputs": [
        {
          "output_type": "stream",
          "text": [
            "training time : 68.7303466796875s\n"
          ],
          "name": "stdout"
        }
      ]
    },
    {
      "cell_type": "code",
      "metadata": {
        "id": "19HlCZusR1WY",
        "colab_type": "code",
        "outputId": "1e26693d-6e94-4551-cf5c-0cf7079bcf33",
        "colab": {
          "base_uri": "https://localhost:8080/",
          "height": 34
        }
      },
      "source": [
        "pred = clf.predict(X_test)\n",
        "accuracy_score(y_test,pred)"
      ],
      "execution_count": 0,
      "outputs": [
        {
          "output_type": "execute_result",
          "data": {
            "text/plain": [
              "0.9978789737299397"
            ]
          },
          "metadata": {
            "tags": []
          },
          "execution_count": 181
        }
      ]
    },
    {
      "cell_type": "markdown",
      "metadata": {
        "id": "0iNI3fMlPhQ4",
        "colab_type": "text"
      },
      "source": [
        "# 30 Fitur"
      ]
    },
    {
      "cell_type": "code",
      "metadata": {
        "id": "t_p36Q2_QEKb",
        "colab_type": "code",
        "colab": {}
      },
      "source": [
        "pca = PCA(n_components=30)\n",
        "dataset = pca.fit_transform(data_rescaled)\n",
        "\n",
        "df=pd.DataFrame(data=dataset[0:,0:], index=[i for i in range(dataset.shape[0])], columns=['column '+str(i) for i in range(dataset.shape[1])])\n",
        "df.head()\n",
        "\n",
        "data_all2 = pd.concat([df, data_attack], axis=1)\n",
        "data_normaldos = data_all2.loc[data_all2['type_attack'].isin(['normal','dos'])]\n",
        "\n",
        "X = data_normaldos.loc[:, :'column 29']\n",
        "y = data_normaldos.loc[:, 'type_attack']\n",
        "\n",
        "y = y.astype(str)\n",
        "\n",
        "temp = set(y)\n",
        "\n",
        "X_train, X_test, y_train, y_test = train_test_split(X, y, test_size=0.3, train_size =0.7, random_state=5)\n",
        "\n",
        "clf = MLPClassifier(random_state = 5)"
      ],
      "execution_count": 0,
      "outputs": []
    },
    {
      "cell_type": "code",
      "metadata": {
        "id": "sQjrJNFeR2Wt",
        "colab_type": "code",
        "colab": {}
      },
      "source": [
        "start = time.time()\n",
        "\n",
        "clf.fit(X_train, y_train)\n",
        "\n",
        "stop = time.time()"
      ],
      "execution_count": 0,
      "outputs": []
    },
    {
      "cell_type": "code",
      "metadata": {
        "id": "WWtdTkkHR2eB",
        "colab_type": "code",
        "outputId": "f9f2c0ef-e226-4486-d10b-e60149f5dd0f",
        "colab": {
          "base_uri": "https://localhost:8080/",
          "height": 34
        }
      },
      "source": [
        "print(f\"training time : {stop - start}s\")"
      ],
      "execution_count": 0,
      "outputs": [
        {
          "output_type": "stream",
          "text": [
            "training time : 53.4615204334259s\n"
          ],
          "name": "stdout"
        }
      ]
    },
    {
      "cell_type": "code",
      "metadata": {
        "id": "t4NE363PR2k4",
        "colab_type": "code",
        "outputId": "0938d10b-6f00-4ed2-8a91-b36e2e1da90b",
        "colab": {
          "base_uri": "https://localhost:8080/",
          "height": 34
        }
      },
      "source": [
        "pred = clf.predict(X_test)\n",
        "accuracy_score(y_test,pred)"
      ],
      "execution_count": 0,
      "outputs": [
        {
          "output_type": "execute_result",
          "data": {
            "text/plain": [
              "0.9986456097311663"
            ]
          },
          "metadata": {
            "tags": []
          },
          "execution_count": 185
        }
      ]
    },
    {
      "cell_type": "markdown",
      "metadata": {
        "id": "1xdABSwJPhbA",
        "colab_type": "text"
      },
      "source": [
        "# 31 Fitur"
      ]
    },
    {
      "cell_type": "code",
      "metadata": {
        "id": "uo3klIv8QH5C",
        "colab_type": "code",
        "colab": {}
      },
      "source": [
        "pca = PCA(n_components=31)\n",
        "dataset = pca.fit_transform(data_rescaled)\n",
        "\n",
        "df=pd.DataFrame(data=dataset[0:,0:], index=[i for i in range(dataset.shape[0])], columns=['column '+str(i) for i in range(dataset.shape[1])])\n",
        "df.head()\n",
        "\n",
        "data_all2 = pd.concat([df, data_attack], axis=1)\n",
        "data_normaldos = data_all2.loc[data_all2['type_attack'].isin(['normal','dos'])]\n",
        "\n",
        "X = data_normaldos.loc[:, :'column 30']\n",
        "y = data_normaldos.loc[:, 'type_attack']\n",
        "\n",
        "y = y.astype(str)\n",
        "\n",
        "temp = set(y)\n",
        "\n",
        "X_train, X_test, y_train, y_test = train_test_split(X, y, test_size=0.3, train_size =0.7, random_state=5)\n",
        "\n",
        "clf = MLPClassifier(random_state = 5)"
      ],
      "execution_count": 0,
      "outputs": []
    },
    {
      "cell_type": "code",
      "metadata": {
        "id": "ENDfYeC9R3dz",
        "colab_type": "code",
        "colab": {}
      },
      "source": [
        "start = time.time()\n",
        "\n",
        "clf.fit(X_train, y_train)\n",
        "\n",
        "stop = time.time()"
      ],
      "execution_count": 0,
      "outputs": []
    },
    {
      "cell_type": "code",
      "metadata": {
        "id": "ZSsgVYBQR3oE",
        "colab_type": "code",
        "outputId": "ac0493b1-52e6-495f-d225-42c93f93017b",
        "colab": {
          "base_uri": "https://localhost:8080/",
          "height": 34
        }
      },
      "source": [
        "print(f\"training time : {stop - start}s\")"
      ],
      "execution_count": 0,
      "outputs": [
        {
          "output_type": "stream",
          "text": [
            "training time : 31.831817626953125s\n"
          ],
          "name": "stdout"
        }
      ]
    },
    {
      "cell_type": "code",
      "metadata": {
        "id": "zet7prAUR3k7",
        "colab_type": "code",
        "outputId": "a4a93da6-c7fa-4812-8c26-71502f3b2c07",
        "colab": {
          "base_uri": "https://localhost:8080/",
          "height": 34
        }
      },
      "source": [
        "pred = clf.predict(X_test)\n",
        "accuracy_score(y_test,pred)"
      ],
      "execution_count": 0,
      "outputs": [
        {
          "output_type": "execute_result",
          "data": {
            "text/plain": [
              "0.9980834099969335"
            ]
          },
          "metadata": {
            "tags": []
          },
          "execution_count": 189
        }
      ]
    },
    {
      "cell_type": "markdown",
      "metadata": {
        "id": "rnPLMdo5Phyz",
        "colab_type": "text"
      },
      "source": [
        "# 32 Fitur"
      ]
    },
    {
      "cell_type": "code",
      "metadata": {
        "id": "hXvvgnLvQLwc",
        "colab_type": "code",
        "colab": {}
      },
      "source": [
        "pca = PCA(n_components=32)\n",
        "dataset = pca.fit_transform(data_rescaled)\n",
        "\n",
        "df=pd.DataFrame(data=dataset[0:,0:], index=[i for i in range(dataset.shape[0])], columns=['column '+str(i) for i in range(dataset.shape[1])])\n",
        "df.head()\n",
        "\n",
        "data_all2 = pd.concat([df, data_attack], axis=1)\n",
        "data_normaldos = data_all2.loc[data_all2['type_attack'].isin(['normal','dos'])]\n",
        "\n",
        "X = data_normaldos.loc[:, :'column 31']\n",
        "y = data_normaldos.loc[:, 'type_attack']\n",
        "\n",
        "y = y.astype(str)\n",
        "\n",
        "temp = set(y)\n",
        "\n",
        "X_train, X_test, y_train, y_test = train_test_split(X, y, test_size=0.3, train_size =0.7, random_state=5)\n",
        "\n",
        "clf = MLPClassifier(random_state = 5)"
      ],
      "execution_count": 0,
      "outputs": []
    },
    {
      "cell_type": "code",
      "metadata": {
        "id": "CCmDqdztR4uI",
        "colab_type": "code",
        "colab": {}
      },
      "source": [
        "start = time.time()\n",
        "\n",
        "clf.fit(X_train, y_train)\n",
        "\n",
        "stop = time.time()"
      ],
      "execution_count": 0,
      "outputs": []
    },
    {
      "cell_type": "code",
      "metadata": {
        "id": "8bC-P1sLR437",
        "colab_type": "code",
        "outputId": "1514396c-1890-4f82-ade6-149c22651335",
        "colab": {
          "base_uri": "https://localhost:8080/",
          "height": 34
        }
      },
      "source": [
        "print(f\"training time : {stop - start}s\")"
      ],
      "execution_count": 0,
      "outputs": [
        {
          "output_type": "stream",
          "text": [
            "training time : 35.04275846481323s\n"
          ],
          "name": "stdout"
        }
      ]
    },
    {
      "cell_type": "code",
      "metadata": {
        "id": "PnqrL3z-R40a",
        "colab_type": "code",
        "outputId": "a2dc1dd5-d6a0-4576-dbf3-fc7c26fea0d2",
        "colab": {
          "base_uri": "https://localhost:8080/",
          "height": 34
        }
      },
      "source": [
        "pred = clf.predict(X_test)\n",
        "accuracy_score(y_test,pred)"
      ],
      "execution_count": 0,
      "outputs": [
        {
          "output_type": "execute_result",
          "data": {
            "text/plain": [
              "0.9983134007973015"
            ]
          },
          "metadata": {
            "tags": []
          },
          "execution_count": 193
        }
      ]
    },
    {
      "cell_type": "markdown",
      "metadata": {
        "id": "WI8OWf0XPiGn",
        "colab_type": "text"
      },
      "source": [
        "# 33 Fitur"
      ]
    },
    {
      "cell_type": "code",
      "metadata": {
        "id": "1BLmpepxQQUb",
        "colab_type": "code",
        "colab": {}
      },
      "source": [
        "pca = PCA(n_components=33)\n",
        "dataset = pca.fit_transform(data_rescaled)\n",
        "\n",
        "df=pd.DataFrame(data=dataset[0:,0:], index=[i for i in range(dataset.shape[0])], columns=['column '+str(i) for i in range(dataset.shape[1])])\n",
        "df.head()\n",
        "\n",
        "data_all2 = pd.concat([df, data_attack], axis=1)\n",
        "data_normaldos = data_all2.loc[data_all2['type_attack'].isin(['normal','dos'])]\n",
        "\n",
        "X = data_normaldos.loc[:, :'column 32']\n",
        "y = data_normaldos.loc[:, 'type_attack']\n",
        "\n",
        "y = y.astype(str)\n",
        "\n",
        "temp = set(y)\n",
        "\n",
        "X_train, X_test, y_train, y_test = train_test_split(X, y, test_size=0.3, train_size =0.7, random_state=5)\n",
        "\n",
        "clf = MLPClassifier(random_state = 5)"
      ],
      "execution_count": 0,
      "outputs": []
    },
    {
      "cell_type": "code",
      "metadata": {
        "id": "o08IlgzGR52b",
        "colab_type": "code",
        "colab": {}
      },
      "source": [
        "start = time.time()\n",
        "\n",
        "clf.fit(X_train, y_train)\n",
        "\n",
        "stop = time.time()"
      ],
      "execution_count": 0,
      "outputs": []
    },
    {
      "cell_type": "code",
      "metadata": {
        "id": "SJFjNA_0R6AE",
        "colab_type": "code",
        "outputId": "38a130d1-4450-4f0c-c989-23c29ef0a0e2",
        "colab": {
          "base_uri": "https://localhost:8080/",
          "height": 34
        }
      },
      "source": [
        "print(f\"training time : {stop - start}s\")"
      ],
      "execution_count": 0,
      "outputs": [
        {
          "output_type": "stream",
          "text": [
            "training time : 38.754353046417236s\n"
          ],
          "name": "stdout"
        }
      ]
    },
    {
      "cell_type": "code",
      "metadata": {
        "id": "c5H4jDXmR59c",
        "colab_type": "code",
        "outputId": "9058fdd9-b78c-4f86-cb60-0c19f140f6cb",
        "colab": {
          "base_uri": "https://localhost:8080/",
          "height": 34
        }
      },
      "source": [
        "pred = clf.predict(X_test)\n",
        "accuracy_score(y_test,pred)"
      ],
      "execution_count": 0,
      "outputs": [
        {
          "output_type": "execute_result",
          "data": {
            "text/plain": [
              "0.998492282530921"
            ]
          },
          "metadata": {
            "tags": []
          },
          "execution_count": 197
        }
      ]
    },
    {
      "cell_type": "markdown",
      "metadata": {
        "id": "lE1vdfpAPiVY",
        "colab_type": "text"
      },
      "source": [
        "# 34 Fitur"
      ]
    },
    {
      "cell_type": "code",
      "metadata": {
        "id": "WvmWoFA-QTg4",
        "colab_type": "code",
        "colab": {}
      },
      "source": [
        "pca = PCA(n_components=34)\n",
        "dataset = pca.fit_transform(data_rescaled)\n",
        "\n",
        "df=pd.DataFrame(data=dataset[0:,0:], index=[i for i in range(dataset.shape[0])], columns=['column '+str(i) for i in range(dataset.shape[1])])\n",
        "df.head()\n",
        "\n",
        "data_all2 = pd.concat([df, data_attack], axis=1)\n",
        "data_normaldos = data_all2.loc[data_all2['type_attack'].isin(['normal','dos'])]\n",
        "\n",
        "X = data_normaldos.loc[:, :'column 33']\n",
        "y = data_normaldos.loc[:, 'type_attack']\n",
        "\n",
        "y = y.astype(str)\n",
        "\n",
        "temp = set(y)\n",
        "\n",
        "X_train, X_test, y_train, y_test = train_test_split(X, y, test_size=0.3, train_size =0.7, random_state=5)\n",
        "\n",
        "clf = MLPClassifier(random_state = 5)"
      ],
      "execution_count": 0,
      "outputs": []
    },
    {
      "cell_type": "code",
      "metadata": {
        "id": "ZnBRhc1cR6-y",
        "colab_type": "code",
        "colab": {}
      },
      "source": [
        "start = time.time()\n",
        "\n",
        "clf.fit(X_train, y_train)\n",
        "\n",
        "stop = time.time()"
      ],
      "execution_count": 0,
      "outputs": []
    },
    {
      "cell_type": "code",
      "metadata": {
        "id": "ex9II_9ZR7H6",
        "colab_type": "code",
        "outputId": "1dc6cc70-b132-40a0-d3bd-c47c4a0f3f42",
        "colab": {
          "base_uri": "https://localhost:8080/",
          "height": 34
        }
      },
      "source": [
        "print(f\"training time : {stop - start}s\")"
      ],
      "execution_count": 0,
      "outputs": [
        {
          "output_type": "stream",
          "text": [
            "training time : 44.21654748916626s\n"
          ],
          "name": "stdout"
        }
      ]
    },
    {
      "cell_type": "code",
      "metadata": {
        "id": "n2ydVjpvR7Ek",
        "colab_type": "code",
        "outputId": "ee85ed0b-665c-4476-fcaa-764412615627",
        "colab": {
          "base_uri": "https://localhost:8080/",
          "height": 34
        }
      },
      "source": [
        "pred = clf.predict(X_test)\n",
        "accuracy_score(y_test,pred)"
      ],
      "execution_count": 0,
      "outputs": [
        {
          "output_type": "execute_result",
          "data": {
            "text/plain": [
              "0.9982878462639272"
            ]
          },
          "metadata": {
            "tags": []
          },
          "execution_count": 201
        }
      ]
    },
    {
      "cell_type": "markdown",
      "metadata": {
        "id": "9LSBtX7APiCD",
        "colab_type": "text"
      },
      "source": [
        "# 35 Fitur"
      ]
    },
    {
      "cell_type": "code",
      "metadata": {
        "id": "-po_SaPzQZJS",
        "colab_type": "code",
        "colab": {}
      },
      "source": [
        "pca = PCA(n_components=35)\n",
        "dataset = pca.fit_transform(data_rescaled)\n",
        "\n",
        "df=pd.DataFrame(data=dataset[0:,0:], index=[i for i in range(dataset.shape[0])], columns=['column '+str(i) for i in range(dataset.shape[1])])\n",
        "df.head()\n",
        "\n",
        "data_all2 = pd.concat([df, data_attack], axis=1)\n",
        "data_normaldos = data_all2.loc[data_all2['type_attack'].isin(['normal','dos'])]\n",
        "\n",
        "X = data_normaldos.loc[:, :'column 34']\n",
        "y = data_normaldos.loc[:, 'type_attack']\n",
        "\n",
        "y = y.astype(str)\n",
        "\n",
        "temp = set(y)\n",
        "\n",
        "X_train, X_test, y_train, y_test = train_test_split(X, y, test_size=0.3, train_size =0.7, random_state=5)\n",
        "\n",
        "clf = MLPClassifier(random_state = 5)"
      ],
      "execution_count": 0,
      "outputs": []
    },
    {
      "cell_type": "code",
      "metadata": {
        "id": "OVrB1mMzR9Lh",
        "colab_type": "code",
        "colab": {}
      },
      "source": [
        "start = time.time()\n",
        "\n",
        "clf.fit(X_train, y_train)\n",
        "\n",
        "stop = time.time()"
      ],
      "execution_count": 0,
      "outputs": []
    },
    {
      "cell_type": "code",
      "metadata": {
        "id": "KKRMEzqrR9Hh",
        "colab_type": "code",
        "outputId": "04ce2afa-7215-412a-cc69-f91433cd13d6",
        "colab": {
          "base_uri": "https://localhost:8080/"
        }
      },
      "source": [
        "print(f\"training time : {stop - start}s\")"
      ],
      "execution_count": 0,
      "outputs": [
        {
          "output_type": "stream",
          "text": [
            "training time : 46.40112495422363s\n"
          ],
          "name": "stdout"
        }
      ]
    },
    {
      "cell_type": "code",
      "metadata": {
        "id": "-wjek5e7Qb-D",
        "colab_type": "code",
        "outputId": "276b9dc0-b133-432c-e826-f6a4c1dddb98",
        "colab": {
          "base_uri": "https://localhost:8080/"
        }
      },
      "source": [
        "pred = clf.predict(X_test)\n",
        "accuracy_score(y_test,pred)"
      ],
      "execution_count": 0,
      "outputs": [
        {
          "output_type": "execute_result",
          "data": {
            "text/plain": [
              "0.9984667279975468"
            ]
          },
          "metadata": {
            "tags": []
          },
          "execution_count": 205
        }
      ]
    },
    {
      "cell_type": "markdown",
      "metadata": {
        "id": "AdYqdr55Phrk",
        "colab_type": "text"
      },
      "source": [
        "# 36 Fitur"
      ]
    },
    {
      "cell_type": "code",
      "metadata": {
        "id": "UCEvEmFyQeTj",
        "colab_type": "code",
        "colab": {}
      },
      "source": [
        "pca = PCA(n_components=36)\n",
        "dataset = pca.fit_transform(data_rescaled)\n",
        "\n",
        "df=pd.DataFrame(data=dataset[0:,0:], index=[i for i in range(dataset.shape[0])], columns=['column '+str(i) for i in range(dataset.shape[1])])\n",
        "df.head()\n",
        "\n",
        "data_all2 = pd.concat([df, data_attack], axis=1)\n",
        "data_normaldos = data_all2.loc[data_all2['type_attack'].isin(['normal','dos'])]\n",
        "\n",
        "X = data_normaldos.loc[:, :'column 35']\n",
        "y = data_normaldos.loc[:, 'type_attack']\n",
        "\n",
        "y = y.astype(str)\n",
        "\n",
        "temp = set(y)\n",
        "\n",
        "X_train, X_test, y_train, y_test = train_test_split(X, y, test_size=0.3, train_size =0.7, random_state=5)\n",
        "\n",
        "clf = MLPClassifier(random_state = 5)"
      ],
      "execution_count": 0,
      "outputs": []
    },
    {
      "cell_type": "code",
      "metadata": {
        "id": "fk7dL8tiR-Jr",
        "colab_type": "code",
        "colab": {}
      },
      "source": [
        "start = time.time()\n",
        "\n",
        "clf.fit(X_train, y_train)\n",
        "\n",
        "stop = time.time()"
      ],
      "execution_count": 0,
      "outputs": []
    },
    {
      "cell_type": "code",
      "metadata": {
        "id": "4wBTLhP6R-mJ",
        "colab_type": "code",
        "outputId": "979c54bf-8195-4237-c073-9e3de18c84e3",
        "colab": {
          "base_uri": "https://localhost:8080/"
        }
      },
      "source": [
        "print(f\"training time : {stop - start}s\")"
      ],
      "execution_count": 0,
      "outputs": [
        {
          "output_type": "stream",
          "text": [
            "training time : 26.423269987106323s\n"
          ],
          "name": "stdout"
        }
      ]
    },
    {
      "cell_type": "code",
      "metadata": {
        "id": "KUcOY13IR-HG",
        "colab_type": "code",
        "outputId": "d1eefb2c-4f38-48ab-a1a9-9c9a09eb9218",
        "colab": {
          "base_uri": "https://localhost:8080/"
        }
      },
      "source": [
        "pred = clf.predict(X_test)\n",
        "accuracy_score(y_test,pred)"
      ],
      "execution_count": 0,
      "outputs": [
        {
          "output_type": "execute_result",
          "data": {
            "text/plain": [
              "0.9983134007973015"
            ]
          },
          "metadata": {
            "tags": []
          },
          "execution_count": 209
        }
      ]
    },
    {
      "cell_type": "markdown",
      "metadata": {
        "id": "6DUh6LsOPhm6",
        "colab_type": "text"
      },
      "source": [
        "# 37 Fitur"
      ]
    },
    {
      "cell_type": "code",
      "metadata": {
        "id": "kp5QlRq0QiM7",
        "colab_type": "code",
        "colab": {}
      },
      "source": [
        "pca = PCA(n_components=37)\n",
        "dataset = pca.fit_transform(data_rescaled)\n",
        "\n",
        "df=pd.DataFrame(data=dataset[0:,0:], index=[i for i in range(dataset.shape[0])], columns=['column '+str(i) for i in range(dataset.shape[1])])\n",
        "df.head()\n",
        "\n",
        "data_all2 = pd.concat([df, data_attack], axis=1)\n",
        "data_normaldos = data_all2.loc[data_all2['type_attack'].isin(['normal','dos'])]\n",
        "\n",
        "X = data_normaldos.loc[:, :'column 36']\n",
        "y = data_normaldos.loc[:, 'type_attack']\n",
        "\n",
        "y = y.astype(str)\n",
        "\n",
        "temp = set(y)\n",
        "\n",
        "X_train, X_test, y_train, y_test = train_test_split(X, y, test_size=0.3, train_size =0.7, random_state=5)\n",
        "\n",
        "clf = MLPClassifier(random_state = 5)"
      ],
      "execution_count": 0,
      "outputs": []
    },
    {
      "cell_type": "code",
      "metadata": {
        "id": "d-Yq0vq_R_dX",
        "colab_type": "code",
        "colab": {}
      },
      "source": [
        "start = time.time()\n",
        "\n",
        "clf.fit(X_train, y_train)\n",
        "\n",
        "stop = time.time()"
      ],
      "execution_count": 0,
      "outputs": []
    },
    {
      "cell_type": "code",
      "metadata": {
        "id": "oXG6nmBuR_jv",
        "colab_type": "code",
        "outputId": "5fec65fc-d181-4e09-816b-05cfd702bec5",
        "colab": {
          "base_uri": "https://localhost:8080/"
        }
      },
      "source": [
        "print(f\"training time : {stop - start}s\")"
      ],
      "execution_count": 0,
      "outputs": [
        {
          "output_type": "stream",
          "text": [
            "training time : 46.93728303909302s\n"
          ],
          "name": "stdout"
        }
      ]
    },
    {
      "cell_type": "code",
      "metadata": {
        "id": "d1hgggWtR_q4",
        "colab_type": "code",
        "outputId": "14c81188-9355-4f0a-d1e2-5da971ee3e31",
        "colab": {
          "base_uri": "https://localhost:8080/"
        }
      },
      "source": [
        "pred = clf.predict(X_test)\n",
        "accuracy_score(y_test,pred)"
      ],
      "execution_count": 0,
      "outputs": [
        {
          "output_type": "execute_result",
          "data": {
            "text/plain": [
              "0.9985433915976695"
            ]
          },
          "metadata": {
            "tags": []
          },
          "execution_count": 213
        }
      ]
    },
    {
      "cell_type": "markdown",
      "metadata": {
        "id": "JsgBrUMfPgk5",
        "colab_type": "text"
      },
      "source": [
        "# 38 Fitur"
      ]
    },
    {
      "cell_type": "code",
      "metadata": {
        "id": "QJpTS8XMQmYK",
        "colab_type": "code",
        "colab": {}
      },
      "source": [
        "pca = PCA(n_components=38)\n",
        "dataset = pca.fit_transform(data_rescaled)\n",
        "\n",
        "df=pd.DataFrame(data=dataset[0:,0:], index=[i for i in range(dataset.shape[0])], columns=['column '+str(i) for i in range(dataset.shape[1])])\n",
        "df.head()\n",
        "\n",
        "data_all2 = pd.concat([df, data_attack], axis=1)\n",
        "data_normaldos = data_all2.loc[data_all2['type_attack'].isin(['normal','dos'])]\n",
        "\n",
        "X = data_normaldos.loc[:, :'column 37']\n",
        "y = data_normaldos.loc[:, 'type_attack']\n",
        "\n",
        "y = y.astype(str)\n",
        "\n",
        "temp = set(y)\n",
        "\n",
        "X_train, X_test, y_train, y_test = train_test_split(X, y, test_size=0.3, train_size =0.7, random_state=5)\n",
        "\n",
        "clf = MLPClassifier(random_state = 5)"
      ],
      "execution_count": 0,
      "outputs": []
    },
    {
      "cell_type": "code",
      "metadata": {
        "id": "ivsTqb4-SAvL",
        "colab_type": "code",
        "colab": {}
      },
      "source": [
        "start = time.time()\n",
        "\n",
        "clf.fit(X_train, y_train)\n",
        "\n",
        "stop = time.time()"
      ],
      "execution_count": 0,
      "outputs": []
    },
    {
      "cell_type": "code",
      "metadata": {
        "id": "CSZlQ_-VSA84",
        "colab_type": "code",
        "outputId": "1b39f544-4f78-40d0-c180-4c40ee0f7d15",
        "colab": {
          "base_uri": "https://localhost:8080/"
        }
      },
      "source": [
        "print(f\"training time : {stop - start}s\")"
      ],
      "execution_count": 0,
      "outputs": [
        {
          "output_type": "stream",
          "text": [
            "training time : 36.9508011341095s\n"
          ],
          "name": "stdout"
        }
      ]
    },
    {
      "cell_type": "code",
      "metadata": {
        "id": "1A68TZa_SA3i",
        "colab_type": "code",
        "outputId": "e2bf796c-6ae3-4c60-c9a1-7acdad9b9a86",
        "colab": {
          "base_uri": "https://localhost:8080/"
        }
      },
      "source": [
        "pred = clf.predict(X_test)\n",
        "accuracy_score(y_test,pred)"
      ],
      "execution_count": 0,
      "outputs": [
        {
          "output_type": "execute_result",
          "data": {
            "text/plain": [
              "0.9982111826638046"
            ]
          },
          "metadata": {
            "tags": []
          },
          "execution_count": 217
        }
      ]
    },
    {
      "cell_type": "markdown",
      "metadata": {
        "id": "fe4lZz-EPfJs",
        "colab_type": "text"
      },
      "source": [
        "# 39 Fitur"
      ]
    },
    {
      "cell_type": "code",
      "metadata": {
        "id": "p5kCIkEGQsP9",
        "colab_type": "code",
        "colab": {}
      },
      "source": [
        "pca = PCA(n_components=39)\n",
        "dataset = pca.fit_transform(data_rescaled)\n",
        "\n",
        "df=pd.DataFrame(data=dataset[0:,0:], index=[i for i in range(dataset.shape[0])], columns=['column '+str(i) for i in range(dataset.shape[1])])\n",
        "df.head()\n",
        "\n",
        "data_all2 = pd.concat([df, data_attack], axis=1)\n",
        "data_normaldos = data_all2.loc[data_all2['type_attack'].isin(['normal','dos'])]\n",
        "\n",
        "X = data_normaldos.loc[:, :'column 38']\n",
        "y = data_normaldos.loc[:, 'type_attack']\n",
        "\n",
        "y = y.astype(str)\n",
        "\n",
        "temp = set(y)\n",
        "\n",
        "X_train, X_test, y_train, y_test = train_test_split(X, y, test_size=0.3, train_size =0.7, random_state=5)\n",
        "\n",
        "clf = MLPClassifier(random_state = 5)"
      ],
      "execution_count": 0,
      "outputs": []
    },
    {
      "cell_type": "code",
      "metadata": {
        "id": "-v02dyFNSCn-",
        "colab_type": "code",
        "colab": {}
      },
      "source": [
        "start = time.time()\n",
        "\n",
        "clf.fit(X_train, y_train)\n",
        "\n",
        "stop = time.time()"
      ],
      "execution_count": 0,
      "outputs": []
    },
    {
      "cell_type": "code",
      "metadata": {
        "id": "7r-aWdbnSCw7",
        "colab_type": "code",
        "outputId": "c173536f-6a5f-43cd-c8bc-f39849f0dbd3",
        "colab": {
          "base_uri": "https://localhost:8080/"
        }
      },
      "source": [
        "print(f\"training time : {stop - start}s\")"
      ],
      "execution_count": 0,
      "outputs": [
        {
          "output_type": "stream",
          "text": [
            "training time : 37.975849628448486s\n"
          ],
          "name": "stdout"
        }
      ]
    },
    {
      "cell_type": "code",
      "metadata": {
        "id": "kl8gUL2oSC5S",
        "colab_type": "code",
        "outputId": "5c2ef25b-f5a7-4c3a-f04f-556d4151f412",
        "colab": {
          "base_uri": "https://localhost:8080/"
        }
      },
      "source": [
        "pred = clf.predict(X_test)\n",
        "accuracy_score(y_test,pred)"
      ],
      "execution_count": 0,
      "outputs": [
        {
          "output_type": "execute_result",
          "data": {
            "text/plain": [
              "0.9985433915976695"
            ]
          },
          "metadata": {
            "tags": []
          },
          "execution_count": 221
        }
      ]
    },
    {
      "cell_type": "markdown",
      "metadata": {
        "id": "dyrF4uXzQub7",
        "colab_type": "text"
      },
      "source": [
        "# 40 Fitur"
      ]
    },
    {
      "cell_type": "code",
      "metadata": {
        "id": "0idPBK37QwBy",
        "colab_type": "code",
        "colab": {}
      },
      "source": [
        "pca = PCA(n_components=40)\n",
        "dataset = pca.fit_transform(data_rescaled)\n",
        "\n",
        "df=pd.DataFrame(data=dataset[0:,0:], index=[i for i in range(dataset.shape[0])], columns=['column '+str(i) for i in range(dataset.shape[1])])\n",
        "df.head()\n",
        "\n",
        "data_all2 = pd.concat([df, data_attack], axis=1)\n",
        "data_normaldos = data_all2.loc[data_all2['type_attack'].isin(['normal','dos'])]\n",
        "\n",
        "X = data_normaldos.loc[:, :'column 39']\n",
        "y = data_normaldos.loc[:, 'type_attack']\n",
        "\n",
        "y = y.astype(str)\n",
        "\n",
        "temp = set(y)\n",
        "\n",
        "X_train, X_test, y_train, y_test = train_test_split(X, y, test_size=0.3, train_size =0.7, random_state=5)\n",
        "\n",
        "clf = MLPClassifier(random_state = 5)"
      ],
      "execution_count": 0,
      "outputs": []
    },
    {
      "cell_type": "code",
      "metadata": {
        "id": "6Z3uHthASENZ",
        "colab_type": "code",
        "colab": {}
      },
      "source": [
        "start = time.time()\n",
        "\n",
        "clf.fit(X_train, y_train)\n",
        "\n",
        "stop = time.time()"
      ],
      "execution_count": 0,
      "outputs": []
    },
    {
      "cell_type": "code",
      "metadata": {
        "id": "PplE72esSEVC",
        "colab_type": "code",
        "outputId": "ebacad0b-176b-4068-9e1c-508d1b46a8db",
        "colab": {
          "base_uri": "https://localhost:8080/"
        }
      },
      "source": [
        "print(f\"training time : {stop - start}s\")"
      ],
      "execution_count": 0,
      "outputs": [
        {
          "output_type": "stream",
          "text": [
            "training time : 43.47029113769531s\n"
          ],
          "name": "stdout"
        }
      ]
    },
    {
      "cell_type": "code",
      "metadata": {
        "id": "VnuzAFzqSEdJ",
        "colab_type": "code",
        "outputId": "d71fdcc5-fb4d-420a-aad4-1f3167705be6",
        "colab": {
          "base_uri": "https://localhost:8080/"
        }
      },
      "source": [
        "pred = clf.predict(X_test)\n",
        "accuracy_score(y_test,pred)"
      ],
      "execution_count": 0,
      "outputs": [
        {
          "output_type": "execute_result",
          "data": {
            "text/plain": [
              "0.9981600735970562"
            ]
          },
          "metadata": {
            "tags": []
          },
          "execution_count": 225
        }
      ]
    },
    {
      "cell_type": "markdown",
      "metadata": {
        "id": "92B6vKaodg9b",
        "colab_type": "text"
      },
      "source": [
        "# CEK OVERFIT"
      ]
    },
    {
      "cell_type": "code",
      "metadata": {
        "id": "072W8ueRdjO6",
        "colab_type": "code",
        "colab": {}
      },
      "source": [
        "start = time.time()\n",
        "\n",
        "cv = ShuffleSplit(n_splits=3, test_size=0.3, train_size = 0.7, random_state=5)\n",
        "scores = cross_validate(clf, X, y, cv=cv, scoring=scoring, return_train_score=True)\n",
        "\n",
        "stop = time.time()"
      ],
      "execution_count": 0,
      "outputs": []
    },
    {
      "cell_type": "code",
      "metadata": {
        "id": "ERZa4YIAd_n9",
        "colab_type": "code",
        "outputId": "4b3759c4-fc92-4154-ea72-91a35d657598",
        "colab": {
          "base_uri": "https://localhost:8080/"
        }
      },
      "source": [
        "print(f\"Cross Validation time : {stop - start}s\")"
      ],
      "execution_count": 0,
      "outputs": [
        {
          "output_type": "stream",
          "text": [
            "Cross Validation time : 124.11892533302307s\n"
          ],
          "name": "stdout"
        }
      ]
    },
    {
      "cell_type": "code",
      "metadata": {
        "id": "qkXeQQ8heCiL",
        "colab_type": "code",
        "outputId": "16c50531-eb7c-453e-f05c-151756bcec0a",
        "colab": {
          "base_uri": "https://localhost:8080/"
        }
      },
      "source": [
        "print(scores)"
      ],
      "execution_count": 0,
      "outputs": [
        {
          "output_type": "stream",
          "text": [
            "{'fit_time': array([43.42600989, 44.22683239, 34.4327836 ]), 'score_time': array([0.21903634, 0.21851707, 0.21831203]), 'test_accuracy': array([0.99816007, 0.99867116, 0.99864561]), 'train_accuracy': array([0.99893766, 0.99916765, 0.99928812])}\n"
          ],
          "name": "stdout"
        }
      ]
    },
    {
      "cell_type": "code",
      "metadata": {
        "id": "ufIv4wrQfNkd",
        "colab_type": "code",
        "colab": {}
      },
      "source": [
        "from matplotlib import pyplot as plt\n",
        "from matplotlib.colors import ListedColormap\n",
        "from sklearn.model_selection import train_test_split\n",
        "from sklearn.preprocessing import StandardScaler\n",
        "from sklearn.datasets import make_moons, make_circles, make_classification\n",
        "from sklearn.neural_network import MLPClassifier"
      ],
      "execution_count": 0,
      "outputs": []
    },
    {
      "cell_type": "code",
      "metadata": {
        "id": "3RR_DIECfo9M",
        "colab_type": "code",
        "outputId": "e82dded6-deff-4216-8d7b-8811ff24e803",
        "colab": {
          "base_uri": "https://localhost:8080/",
          "height": 540
        }
      },
      "source": [
        "h = .02  # step size in the mesh\n",
        "\n",
        "alphas = np.logspace(-5, 3, 5)\n",
        "names = ['alpha ' + str(i) for i in alphas]\n",
        "\n",
        "classifiers = []\n",
        "for i in alphas:\n",
        "    classifiers.append(MLPClassifier(solver='lbfgs', alpha=i, random_state=1,\n",
        "                                     hidden_layer_sizes=[100, 100]))\n",
        "\n",
        "X, y = make_classification(n_features=2, n_redundant=0, n_informative=2,\n",
        "                           random_state=0, n_clusters_per_class=1)\n",
        "rng = np.random.RandomState(2)\n",
        "X += 2 * rng.uniform(size=X.shape)\n",
        "linearly_separable = (X, y)\n",
        "\n",
        "datasets = [make_moons(noise=0.3, random_state=0),\n",
        "            make_circles(noise=0.2, factor=0.5, random_state=1),\n",
        "            linearly_separable]\n",
        "\n",
        "figure = plt.figure(figsize=(17, 9))\n",
        "i = 1\n",
        "# iterate over datasets\n",
        "for X, y in datasets:\n",
        "    # preprocess dataset, split into training and test part\n",
        "    X = StandardScaler().fit_transform(X)\n",
        "    X_train, X_test, y_train, y_test = train_test_split(X, y, test_size=.3, train_size=0.7, random_state=5)\n",
        "\n",
        "    x_min, x_max = X[:, 0].min() - .5, X[:, 0].max() + .5\n",
        "    y_min, y_max = X[:, 1].min() - .5, X[:, 1].max() + .5\n",
        "    xx, yy = np.meshgrid(np.arange(x_min, x_max, h),\n",
        "                         np.arange(y_min, y_max, h))\n",
        "\n",
        "    # just plot the dataset first\n",
        "    cm = plt.cm.RdBu\n",
        "    cm_bright = ListedColormap(['#FF0000', '#0000FF'])\n",
        "    ax = plt.subplot(len(datasets), len(classifiers) + 1, i)\n",
        "    # Plot the training points\n",
        "    ax.scatter(X_train[:, 0], X_train[:, 1], c=y_train, cmap=cm_bright)\n",
        "    # and testing points\n",
        "    ax.scatter(X_test[:, 0], X_test[:, 1], c=y_test, cmap=cm_bright, alpha=0.6)\n",
        "    ax.set_xlim(xx.min(), xx.max())\n",
        "    ax.set_ylim(yy.min(), yy.max())\n",
        "    ax.set_xticks(())\n",
        "    ax.set_yticks(())\n",
        "    i += 1\n",
        "\n",
        "    # iterate over classifiers\n",
        "    for name, clf in zip(names, classifiers):\n",
        "        ax = plt.subplot(len(datasets), len(classifiers) + 1, i)\n",
        "        clf.fit(X_train, y_train)\n",
        "        score = clf.score(X_test, y_test)\n",
        "\n",
        "        # Plot the decision boundary. For that, we will assign a color to each\n",
        "        # point in the mesh [x_min, x_max]x[y_min, y_max].\n",
        "        if hasattr(clf, \"decision_function\"):\n",
        "            Z = clf.decision_function(np.c_[xx.ravel(), yy.ravel()])\n",
        "        else:\n",
        "            Z = clf.predict_proba(np.c_[xx.ravel(), yy.ravel()])[:, 1]\n",
        "\n",
        "        # Put the result into a color plot\n",
        "        Z = Z.reshape(xx.shape)\n",
        "        ax.contourf(xx, yy, Z, cmap=cm, alpha=.8)\n",
        "\n",
        "        # Plot also the training points\n",
        "        ax.scatter(X_train[:, 0], X_train[:, 1], c=y_train, cmap=cm_bright,\n",
        "                   edgecolors='black', s=25)\n",
        "        # and testing points\n",
        "        ax.scatter(X_test[:, 0], X_test[:, 1], c=y_test, cmap=cm_bright,\n",
        "                   alpha=0.6, edgecolors='black', s=25)\n",
        "\n",
        "        ax.set_xlim(xx.min(), xx.max())\n",
        "        ax.set_ylim(yy.min(), yy.max())\n",
        "        ax.set_xticks(())\n",
        "        ax.set_yticks(())\n",
        "        ax.set_title(name)\n",
        "        ax.text(xx.max() - .3, yy.min() + .3, ('%.2f' % score).lstrip('0'),\n",
        "                size=15, horizontalalignment='right')\n",
        "        i += 1\n",
        "\n",
        "figure.subplots_adjust(left=.02, right=.98)\n",
        "plt.show()"
      ],
      "execution_count": 0,
      "outputs": [
        {
          "output_type": "display_data",
          "data": {
            "image/png": "[encoded data removed]",
            "text/plain": [
              "<Figure size 1224x648 with 18 Axes>"
            ]
          },
          "metadata": {
            "tags": []
          }
        }
      ]
    }
  ]
}